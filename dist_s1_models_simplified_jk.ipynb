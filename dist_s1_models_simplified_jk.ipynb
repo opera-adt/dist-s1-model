{
 "cells": [
  {
   "cell_type": "code",
   "execution_count": 1,
   "id": "c87e9c03-c3a3-4773-ad88-1bf58961a772",
   "metadata": {},
   "outputs": [],
   "source": [
    "import numpy as np\n",
    "# from rtc_seq_dataset import SeqDistDataset, open_rtc_table\n",
    "from torch.utils.data import DataLoader\n",
    "from tqdm import tqdm\n",
    "import torch\n",
    "import pandas as pd\n",
    "import geopandas as gpd\n",
    "import importlib"
   ]
  },
  {
   "cell_type": "code",
   "execution_count": null,
   "id": "b65408e3",
   "metadata": {},
   "outputs": [],
   "source": []
  },
  {
   "cell_type": "markdown",
   "id": "c0e7a1df-855e-4303-8cff-e5def756c6b8",
   "metadata": {
    "jp-MarkdownHeadingCollapsed": true
   },
   "source": [
    "# Data Stuff"
   ]
  },
  {
   "cell_type": "code",
   "execution_count": 2,
   "id": "72db0b95-64dd-4c76-8398-ae4bee2b0d66",
   "metadata": {},
   "outputs": [
    {
     "data": {
      "text/plain": [
       "(105, 4)"
      ]
     },
     "execution_count": 2,
     "metadata": {},
     "output_type": "execute_result"
    }
   ],
   "source": [
    "df_burst = gpd.read_parquet('validation_bursts_v1_coverage_updated.parquet')\n",
    "df_burst = df_burst.drop_duplicates(subset='jpl_burst_id').reset_index(drop=True)\n",
    "df_burst.shape"
   ]
  },
  {
   "cell_type": "code",
   "execution_count": 3,
   "id": "63e36afc-6a55-4448-bfd4-9c5e94ef1419",
   "metadata": {},
   "outputs": [
    {
     "data": {
      "text/html": [
       "<div>\n",
       "<style scoped>\n",
       "    .dataframe tbody tr th:only-of-type {\n",
       "        vertical-align: middle;\n",
       "    }\n",
       "\n",
       "    .dataframe tbody tr th {\n",
       "        vertical-align: top;\n",
       "    }\n",
       "\n",
       "    .dataframe thead th {\n",
       "        text-align: right;\n",
       "    }\n",
       "</style>\n",
       "<table border=\"1\" class=\"dataframe\">\n",
       "  <thead>\n",
       "    <tr style=\"text-align: right;\">\n",
       "      <th></th>\n",
       "      <th>jpl_burst_id</th>\n",
       "      <th>geometry</th>\n",
       "      <th>n_acquisitions</th>\n",
       "      <th>site_id</th>\n",
       "    </tr>\n",
       "  </thead>\n",
       "  <tbody>\n",
       "    <tr>\n",
       "      <th>0</th>\n",
       "      <td>T005-008692-IW2</td>\n",
       "      <td>POLYGON ((-97.21446 17.86505, -97.21446 17.864...</td>\n",
       "      <td>104</td>\n",
       "      <td>72</td>\n",
       "    </tr>\n",
       "    <tr>\n",
       "      <th>1</th>\n",
       "      <td>T008-015865-IW2</td>\n",
       "      <td>POLYGON ((-1.50129 41.44183, -1.50130 41.44156...</td>\n",
       "      <td>101</td>\n",
       "      <td>150</td>\n",
       "    </tr>\n",
       "    <tr>\n",
       "      <th>2</th>\n",
       "      <td>T012-024584-IW1</td>\n",
       "      <td>POLYGON ((-103.78409 20.20832, -103.78409 20.2...</td>\n",
       "      <td>101</td>\n",
       "      <td>34</td>\n",
       "    </tr>\n",
       "    <tr>\n",
       "      <th>3</th>\n",
       "      <td>T014-028130-IW2</td>\n",
       "      <td>POLYGON ((37.01648 35.59545, 37.01649 35.59518...</td>\n",
       "      <td>100</td>\n",
       "      <td>22</td>\n",
       "    </tr>\n",
       "    <tr>\n",
       "      <th>4</th>\n",
       "      <td>T014-028131-IW2</td>\n",
       "      <td>POLYGON ((36.98085 35.76145, 36.98085 35.76118...</td>\n",
       "      <td>38</td>\n",
       "      <td>22</td>\n",
       "    </tr>\n",
       "  </tbody>\n",
       "</table>\n",
       "</div>"
      ],
      "text/plain": [
       "      jpl_burst_id                                           geometry  \\\n",
       "0  T005-008692-IW2  POLYGON ((-97.21446 17.86505, -97.21446 17.864...   \n",
       "1  T008-015865-IW2  POLYGON ((-1.50129 41.44183, -1.50130 41.44156...   \n",
       "2  T012-024584-IW1  POLYGON ((-103.78409 20.20832, -103.78409 20.2...   \n",
       "3  T014-028130-IW2  POLYGON ((37.01648 35.59545, 37.01649 35.59518...   \n",
       "4  T014-028131-IW2  POLYGON ((36.98085 35.76145, 36.98085 35.76118...   \n",
       "\n",
       "   n_acquisitions  site_id  \n",
       "0             104       72  \n",
       "1             101      150  \n",
       "2             101       34  \n",
       "3             100       22  \n",
       "4              38       22  "
      ]
     },
     "execution_count": 3,
     "metadata": {},
     "output_type": "execute_result"
    }
   ],
   "source": [
    "df_burst.head()"
   ]
  },
  {
   "cell_type": "code",
   "execution_count": 4,
   "id": "64549b40-2742-4d7e-9bf9-454e571c7b8e",
   "metadata": {},
   "outputs": [],
   "source": [
    "START_INDEX = 0\n",
    "TOTAL_BURSTS = 105"
   ]
  },
  {
   "cell_type": "code",
   "execution_count": 5,
   "id": "f6619dd3-cc43-4e94-bad9-c49806423a29",
   "metadata": {},
   "outputs": [
    {
     "data": {
      "text/html": [
       "<div>\n",
       "<style scoped>\n",
       "    .dataframe tbody tr th:only-of-type {\n",
       "        vertical-align: middle;\n",
       "    }\n",
       "\n",
       "    .dataframe tbody tr th {\n",
       "        vertical-align: top;\n",
       "    }\n",
       "\n",
       "    .dataframe thead th {\n",
       "        text-align: right;\n",
       "    }\n",
       "</style>\n",
       "<table border=\"1\" class=\"dataframe\">\n",
       "  <thead>\n",
       "    <tr style=\"text-align: right;\">\n",
       "      <th></th>\n",
       "      <th>jpl_burst_id</th>\n",
       "      <th>geometry</th>\n",
       "      <th>n_acquisitions</th>\n",
       "      <th>site_id</th>\n",
       "    </tr>\n",
       "  </thead>\n",
       "  <tbody>\n",
       "    <tr>\n",
       "      <th>0</th>\n",
       "      <td>T005-008692-IW2</td>\n",
       "      <td>POLYGON ((-97.21446 17.86505, -97.21446 17.864...</td>\n",
       "      <td>104</td>\n",
       "      <td>72</td>\n",
       "    </tr>\n",
       "    <tr>\n",
       "      <th>1</th>\n",
       "      <td>T008-015865-IW2</td>\n",
       "      <td>POLYGON ((-1.50129 41.44183, -1.50130 41.44156...</td>\n",
       "      <td>101</td>\n",
       "      <td>150</td>\n",
       "    </tr>\n",
       "    <tr>\n",
       "      <th>2</th>\n",
       "      <td>T012-024584-IW1</td>\n",
       "      <td>POLYGON ((-103.78409 20.20832, -103.78409 20.2...</td>\n",
       "      <td>101</td>\n",
       "      <td>34</td>\n",
       "    </tr>\n",
       "    <tr>\n",
       "      <th>3</th>\n",
       "      <td>T014-028130-IW2</td>\n",
       "      <td>POLYGON ((37.01648 35.59545, 37.01649 35.59518...</td>\n",
       "      <td>100</td>\n",
       "      <td>22</td>\n",
       "    </tr>\n",
       "    <tr>\n",
       "      <th>4</th>\n",
       "      <td>T014-028131-IW2</td>\n",
       "      <td>POLYGON ((36.98085 35.76145, 36.98085 35.76118...</td>\n",
       "      <td>38</td>\n",
       "      <td>22</td>\n",
       "    </tr>\n",
       "  </tbody>\n",
       "</table>\n",
       "</div>"
      ],
      "text/plain": [
       "      jpl_burst_id                                           geometry  \\\n",
       "0  T005-008692-IW2  POLYGON ((-97.21446 17.86505, -97.21446 17.864...   \n",
       "1  T008-015865-IW2  POLYGON ((-1.50129 41.44183, -1.50130 41.44156...   \n",
       "2  T012-024584-IW1  POLYGON ((-103.78409 20.20832, -103.78409 20.2...   \n",
       "3  T014-028130-IW2  POLYGON ((37.01648 35.59545, 37.01649 35.59518...   \n",
       "4  T014-028131-IW2  POLYGON ((36.98085 35.76145, 36.98085 35.76118...   \n",
       "\n",
       "   n_acquisitions  site_id  \n",
       "0             104       72  \n",
       "1             101      150  \n",
       "2             101       34  \n",
       "3             100       22  \n",
       "4              38       22  "
      ]
     },
     "execution_count": 5,
     "metadata": {},
     "output_type": "execute_result"
    }
   ],
   "source": [
    "df_burst_subset = df_burst.iloc[START_INDEX:START_INDEX + TOTAL_BURSTS].reset_index(drop=True)\n",
    "df_burst_subset.head()"
   ]
  },
  {
   "cell_type": "code",
   "execution_count": 6,
   "id": "11c17fd9-b30d-4af5-9b34-6359e8a460a2",
   "metadata": {},
   "outputs": [
    {
     "data": {
      "text/plain": [
       "(105, 4)"
      ]
     },
     "execution_count": 6,
     "metadata": {},
     "output_type": "execute_result"
    }
   ],
   "source": [
    "df_burst_subset.shape"
   ]
  },
  {
   "cell_type": "code",
   "execution_count": 7,
   "id": "61b41b54-9695-410a-894c-5186e007494b",
   "metadata": {},
   "outputs": [
    {
     "data": {
      "text/plain": [
       "'Approx files will be 294.45 GB (total_files: 9815)'"
      ]
     },
     "execution_count": 7,
     "metadata": {},
     "output_type": "execute_result"
    }
   ],
   "source": [
    "total_files = df_burst_subset.n_acquisitions.sum()\n",
    "f'Approx files will be {total_files * 30 / 1e3} GB (total_files: {total_files})'"
   ]
  },
  {
   "cell_type": "code",
   "execution_count": 8,
   "id": "1874b3c9-22b9-42e8-be3b-21e51d835c4d",
   "metadata": {},
   "outputs": [
    {
     "data": {
      "text/html": [
       "<div>\n",
       "<style scoped>\n",
       "    .dataframe tbody tr th:only-of-type {\n",
       "        vertical-align: middle;\n",
       "    }\n",
       "\n",
       "    .dataframe tbody tr th {\n",
       "        vertical-align: top;\n",
       "    }\n",
       "\n",
       "    .dataframe thead th {\n",
       "        text-align: right;\n",
       "    }\n",
       "</style>\n",
       "<table border=\"1\" class=\"dataframe\">\n",
       "  <thead>\n",
       "    <tr style=\"text-align: right;\">\n",
       "      <th></th>\n",
       "      <th>rtc_s1_id</th>\n",
       "      <th>input_slc_id</th>\n",
       "      <th>jpl_burst_id</th>\n",
       "      <th>bursts_per_slc_input</th>\n",
       "      <th>rtc_s1_vv_url</th>\n",
       "      <th>rtc_s1_vh_url</th>\n",
       "      <th>rtc_s1_h5_url</th>\n",
       "      <th>acq_datetime</th>\n",
       "    </tr>\n",
       "  </thead>\n",
       "  <tbody>\n",
       "    <tr>\n",
       "      <th>0</th>\n",
       "      <td>OPERA_L2_RTC-S1_T005-008688-IW2_20201010T00400...</td>\n",
       "      <td>S1A_IW_SLC__1SDV_20201010T004001_20201010T0040...</td>\n",
       "      <td>T005-008688-IW2</td>\n",
       "      <td>27</td>\n",
       "      <td>https://opera-pst-rs-pop1.s3.us-west-2.amazona...</td>\n",
       "      <td>https://opera-pst-rs-pop1.s3.us-west-2.amazona...</td>\n",
       "      <td>https://opera-pst-rs-pop1.s3.us-west-2.amazona...</td>\n",
       "      <td>2020-10-10 00:40:01</td>\n",
       "    </tr>\n",
       "    <tr>\n",
       "      <th>1</th>\n",
       "      <td>OPERA_L2_RTC-S1_T005-008688-IW2_20201022T00400...</td>\n",
       "      <td>S1A_IW_SLC__1SDV_20201022T004000_20201022T0040...</td>\n",
       "      <td>T005-008688-IW2</td>\n",
       "      <td>27</td>\n",
       "      <td>https://opera-pst-rs-pop1.s3.us-west-2.amazona...</td>\n",
       "      <td>https://opera-pst-rs-pop1.s3.us-west-2.amazona...</td>\n",
       "      <td>https://opera-pst-rs-pop1.s3.us-west-2.amazona...</td>\n",
       "      <td>2020-10-22 00:40:00</td>\n",
       "    </tr>\n",
       "    <tr>\n",
       "      <th>2</th>\n",
       "      <td>OPERA_L2_RTC-S1_T005-008688-IW2_20201103T00400...</td>\n",
       "      <td>S1A_IW_SLC__1SDV_20201103T004000_20201103T0040...</td>\n",
       "      <td>T005-008688-IW2</td>\n",
       "      <td>27</td>\n",
       "      <td>https://opera-pst-rs-pop1.s3.us-west-2.amazona...</td>\n",
       "      <td>https://opera-pst-rs-pop1.s3.us-west-2.amazona...</td>\n",
       "      <td>https://opera-pst-rs-pop1.s3.us-west-2.amazona...</td>\n",
       "      <td>2020-11-03 00:40:00</td>\n",
       "    </tr>\n",
       "    <tr>\n",
       "      <th>3</th>\n",
       "      <td>OPERA_L2_RTC-S1_T005-008688-IW2_20201115T00400...</td>\n",
       "      <td>S1A_IW_SLC__1SDV_20201115T004000_20201115T0040...</td>\n",
       "      <td>T005-008688-IW2</td>\n",
       "      <td>27</td>\n",
       "      <td>https://opera-pst-rs-pop1.s3.us-west-2.amazona...</td>\n",
       "      <td>https://opera-pst-rs-pop1.s3.us-west-2.amazona...</td>\n",
       "      <td>https://opera-pst-rs-pop1.s3.us-west-2.amazona...</td>\n",
       "      <td>2020-11-15 00:40:00</td>\n",
       "    </tr>\n",
       "    <tr>\n",
       "      <th>4</th>\n",
       "      <td>OPERA_L2_RTC-S1_T005-008688-IW2_20201127T00400...</td>\n",
       "      <td>S1A_IW_SLC__1SDV_20201127T004000_20201127T0040...</td>\n",
       "      <td>T005-008688-IW2</td>\n",
       "      <td>27</td>\n",
       "      <td>https://opera-pst-rs-pop1.s3.us-west-2.amazona...</td>\n",
       "      <td>https://opera-pst-rs-pop1.s3.us-west-2.amazona...</td>\n",
       "      <td>https://opera-pst-rs-pop1.s3.us-west-2.amazona...</td>\n",
       "      <td>2020-11-27 00:40:00</td>\n",
       "    </tr>\n",
       "  </tbody>\n",
       "</table>\n",
       "</div>"
      ],
      "text/plain": [
       "                                           rtc_s1_id  \\\n",
       "0  OPERA_L2_RTC-S1_T005-008688-IW2_20201010T00400...   \n",
       "1  OPERA_L2_RTC-S1_T005-008688-IW2_20201022T00400...   \n",
       "2  OPERA_L2_RTC-S1_T005-008688-IW2_20201103T00400...   \n",
       "3  OPERA_L2_RTC-S1_T005-008688-IW2_20201115T00400...   \n",
       "4  OPERA_L2_RTC-S1_T005-008688-IW2_20201127T00400...   \n",
       "\n",
       "                                        input_slc_id     jpl_burst_id  \\\n",
       "0  S1A_IW_SLC__1SDV_20201010T004001_20201010T0040...  T005-008688-IW2   \n",
       "1  S1A_IW_SLC__1SDV_20201022T004000_20201022T0040...  T005-008688-IW2   \n",
       "2  S1A_IW_SLC__1SDV_20201103T004000_20201103T0040...  T005-008688-IW2   \n",
       "3  S1A_IW_SLC__1SDV_20201115T004000_20201115T0040...  T005-008688-IW2   \n",
       "4  S1A_IW_SLC__1SDV_20201127T004000_20201127T0040...  T005-008688-IW2   \n",
       "\n",
       "   bursts_per_slc_input                                      rtc_s1_vv_url  \\\n",
       "0                    27  https://opera-pst-rs-pop1.s3.us-west-2.amazona...   \n",
       "1                    27  https://opera-pst-rs-pop1.s3.us-west-2.amazona...   \n",
       "2                    27  https://opera-pst-rs-pop1.s3.us-west-2.amazona...   \n",
       "3                    27  https://opera-pst-rs-pop1.s3.us-west-2.amazona...   \n",
       "4                    27  https://opera-pst-rs-pop1.s3.us-west-2.amazona...   \n",
       "\n",
       "                                       rtc_s1_vh_url  \\\n",
       "0  https://opera-pst-rs-pop1.s3.us-west-2.amazona...   \n",
       "1  https://opera-pst-rs-pop1.s3.us-west-2.amazona...   \n",
       "2  https://opera-pst-rs-pop1.s3.us-west-2.amazona...   \n",
       "3  https://opera-pst-rs-pop1.s3.us-west-2.amazona...   \n",
       "4  https://opera-pst-rs-pop1.s3.us-west-2.amazona...   \n",
       "\n",
       "                                       rtc_s1_h5_url         acq_datetime  \n",
       "0  https://opera-pst-rs-pop1.s3.us-west-2.amazona...  2020-10-10 00:40:01  \n",
       "1  https://opera-pst-rs-pop1.s3.us-west-2.amazona...  2020-10-22 00:40:00  \n",
       "2  https://opera-pst-rs-pop1.s3.us-west-2.amazona...  2020-11-03 00:40:00  \n",
       "3  https://opera-pst-rs-pop1.s3.us-west-2.amazona...  2020-11-15 00:40:00  \n",
       "4  https://opera-pst-rs-pop1.s3.us-west-2.amazona...  2020-11-27 00:40:00  "
      ]
     },
     "execution_count": 8,
     "metadata": {},
     "output_type": "execute_result"
    }
   ],
   "source": [
    "df_rtc = pd.read_json('rtc_s1_table.json.zip')\n",
    "df_rtc.head()"
   ]
  },
  {
   "cell_type": "code",
   "execution_count": 9,
   "id": "e932e887-9629-46a1-9867-25e0381abb61",
   "metadata": {},
   "outputs": [
    {
     "data": {
      "text/html": [
       "<div>\n",
       "<style scoped>\n",
       "    .dataframe tbody tr th:only-of-type {\n",
       "        vertical-align: middle;\n",
       "    }\n",
       "\n",
       "    .dataframe tbody tr th {\n",
       "        vertical-align: top;\n",
       "    }\n",
       "\n",
       "    .dataframe thead th {\n",
       "        text-align: right;\n",
       "    }\n",
       "</style>\n",
       "<table border=\"1\" class=\"dataframe\">\n",
       "  <thead>\n",
       "    <tr style=\"text-align: right;\">\n",
       "      <th></th>\n",
       "      <th>rtc_s1_id</th>\n",
       "      <th>input_slc_id</th>\n",
       "      <th>jpl_burst_id</th>\n",
       "      <th>bursts_per_slc_input</th>\n",
       "      <th>rtc_s1_vv_url</th>\n",
       "      <th>rtc_s1_vh_url</th>\n",
       "      <th>rtc_s1_h5_url</th>\n",
       "      <th>acq_datetime</th>\n",
       "    </tr>\n",
       "  </thead>\n",
       "  <tbody>\n",
       "    <tr>\n",
       "      <th>0</th>\n",
       "      <td>OPERA_L2_RTC-S1_T005-008692-IW2_20201004T00392...</td>\n",
       "      <td>S1B_IW_SLC__1SDV_20201004T003926_20201004T0039...</td>\n",
       "      <td>T005-008692-IW2</td>\n",
       "      <td>28</td>\n",
       "      <td>https://opera-pst-rs-pop1.s3.us-west-2.amazona...</td>\n",
       "      <td>https://opera-pst-rs-pop1.s3.us-west-2.amazona...</td>\n",
       "      <td>https://opera-pst-rs-pop1.s3.us-west-2.amazona...</td>\n",
       "      <td>2020-10-04 00:39:26</td>\n",
       "    </tr>\n",
       "    <tr>\n",
       "      <th>1</th>\n",
       "      <td>OPERA_L2_RTC-S1_T005-008692-IW2_20201010T00401...</td>\n",
       "      <td>S1A_IW_SLC__1SDV_20201010T004001_20201010T0040...</td>\n",
       "      <td>T005-008692-IW2</td>\n",
       "      <td>27</td>\n",
       "      <td>https://opera-pst-rs-pop1.s3.us-west-2.amazona...</td>\n",
       "      <td>https://opera-pst-rs-pop1.s3.us-west-2.amazona...</td>\n",
       "      <td>https://opera-pst-rs-pop1.s3.us-west-2.amazona...</td>\n",
       "      <td>2020-10-10 00:40:01</td>\n",
       "    </tr>\n",
       "    <tr>\n",
       "      <th>2</th>\n",
       "      <td>OPERA_L2_RTC-S1_T005-008692-IW2_20201016T00393...</td>\n",
       "      <td>S1B_IW_SLC__1SDV_20201016T003926_20201016T0039...</td>\n",
       "      <td>T005-008692-IW2</td>\n",
       "      <td>28</td>\n",
       "      <td>https://opera-pst-rs-pop1.s3.us-west-2.amazona...</td>\n",
       "      <td>https://opera-pst-rs-pop1.s3.us-west-2.amazona...</td>\n",
       "      <td>https://opera-pst-rs-pop1.s3.us-west-2.amazona...</td>\n",
       "      <td>2020-10-16 00:39:26</td>\n",
       "    </tr>\n",
       "    <tr>\n",
       "      <th>3</th>\n",
       "      <td>OPERA_L2_RTC-S1_T005-008692-IW2_20201022T00401...</td>\n",
       "      <td>S1A_IW_SLC__1SDV_20201022T004000_20201022T0040...</td>\n",
       "      <td>T005-008692-IW2</td>\n",
       "      <td>27</td>\n",
       "      <td>https://opera-pst-rs-pop1.s3.us-west-2.amazona...</td>\n",
       "      <td>https://opera-pst-rs-pop1.s3.us-west-2.amazona...</td>\n",
       "      <td>https://opera-pst-rs-pop1.s3.us-west-2.amazona...</td>\n",
       "      <td>2020-10-22 00:40:00</td>\n",
       "    </tr>\n",
       "    <tr>\n",
       "      <th>4</th>\n",
       "      <td>OPERA_L2_RTC-S1_T005-008692-IW2_20201028T00393...</td>\n",
       "      <td>S1B_IW_SLC__1SDV_20201028T003926_20201028T0039...</td>\n",
       "      <td>T005-008692-IW2</td>\n",
       "      <td>28</td>\n",
       "      <td>https://opera-pst-rs-pop1.s3.us-west-2.amazona...</td>\n",
       "      <td>https://opera-pst-rs-pop1.s3.us-west-2.amazona...</td>\n",
       "      <td>https://opera-pst-rs-pop1.s3.us-west-2.amazona...</td>\n",
       "      <td>2020-10-28 00:39:26</td>\n",
       "    </tr>\n",
       "  </tbody>\n",
       "</table>\n",
       "</div>"
      ],
      "text/plain": [
       "                                           rtc_s1_id  \\\n",
       "0  OPERA_L2_RTC-S1_T005-008692-IW2_20201004T00392...   \n",
       "1  OPERA_L2_RTC-S1_T005-008692-IW2_20201010T00401...   \n",
       "2  OPERA_L2_RTC-S1_T005-008692-IW2_20201016T00393...   \n",
       "3  OPERA_L2_RTC-S1_T005-008692-IW2_20201022T00401...   \n",
       "4  OPERA_L2_RTC-S1_T005-008692-IW2_20201028T00393...   \n",
       "\n",
       "                                        input_slc_id     jpl_burst_id  \\\n",
       "0  S1B_IW_SLC__1SDV_20201004T003926_20201004T0039...  T005-008692-IW2   \n",
       "1  S1A_IW_SLC__1SDV_20201010T004001_20201010T0040...  T005-008692-IW2   \n",
       "2  S1B_IW_SLC__1SDV_20201016T003926_20201016T0039...  T005-008692-IW2   \n",
       "3  S1A_IW_SLC__1SDV_20201022T004000_20201022T0040...  T005-008692-IW2   \n",
       "4  S1B_IW_SLC__1SDV_20201028T003926_20201028T0039...  T005-008692-IW2   \n",
       "\n",
       "   bursts_per_slc_input                                      rtc_s1_vv_url  \\\n",
       "0                    28  https://opera-pst-rs-pop1.s3.us-west-2.amazona...   \n",
       "1                    27  https://opera-pst-rs-pop1.s3.us-west-2.amazona...   \n",
       "2                    28  https://opera-pst-rs-pop1.s3.us-west-2.amazona...   \n",
       "3                    27  https://opera-pst-rs-pop1.s3.us-west-2.amazona...   \n",
       "4                    28  https://opera-pst-rs-pop1.s3.us-west-2.amazona...   \n",
       "\n",
       "                                       rtc_s1_vh_url  \\\n",
       "0  https://opera-pst-rs-pop1.s3.us-west-2.amazona...   \n",
       "1  https://opera-pst-rs-pop1.s3.us-west-2.amazona...   \n",
       "2  https://opera-pst-rs-pop1.s3.us-west-2.amazona...   \n",
       "3  https://opera-pst-rs-pop1.s3.us-west-2.amazona...   \n",
       "4  https://opera-pst-rs-pop1.s3.us-west-2.amazona...   \n",
       "\n",
       "                                       rtc_s1_h5_url         acq_datetime  \n",
       "0  https://opera-pst-rs-pop1.s3.us-west-2.amazona...  2020-10-04 00:39:26  \n",
       "1  https://opera-pst-rs-pop1.s3.us-west-2.amazona...  2020-10-10 00:40:01  \n",
       "2  https://opera-pst-rs-pop1.s3.us-west-2.amazona...  2020-10-16 00:39:26  \n",
       "3  https://opera-pst-rs-pop1.s3.us-west-2.amazona...  2020-10-22 00:40:00  \n",
       "4  https://opera-pst-rs-pop1.s3.us-west-2.amazona...  2020-10-28 00:39:26  "
      ]
     },
     "execution_count": 9,
     "metadata": {},
     "output_type": "execute_result"
    }
   ],
   "source": [
    "df_rtc_subset = pd.merge(df_rtc, df_burst_subset[['jpl_burst_id']], how='inner', on='jpl_burst_id').reset_index(drop=True)\n",
    "df_rtc_subset.sort_values(by=['jpl_burst_id', 'rtc_s1_id'], inplace=True, ascending=True)\n",
    "df_rtc_subset.head()"
   ]
  },
  {
   "cell_type": "code",
   "execution_count": 10,
   "id": "867fe15a-6781-4eee-8521-b0533d9240ef",
   "metadata": {},
   "outputs": [
    {
     "data": {
      "text/plain": [
       "(9815, 8)"
      ]
     },
     "execution_count": 10,
     "metadata": {},
     "output_type": "execute_result"
    }
   ],
   "source": [
    "df_rtc_subset.shape\n"
   ]
  },
  {
   "cell_type": "code",
   "execution_count": 11,
   "id": "c44d7df0-9ea1-474e-90b2-77058b06c5a6",
   "metadata": {},
   "outputs": [],
   "source": [
    "df_rtc_subset.to_parquet('rtc_data_subset.parquet')"
   ]
  },
  {
   "cell_type": "code",
   "execution_count": 12,
   "id": "556c3a1d-a11b-4f82-b6cd-8b85a8fc11c1",
   "metadata": {},
   "outputs": [],
   "source": [
    "num_pre_imgs = 10"
   ]
  },
  {
   "cell_type": "code",
   "execution_count": 13,
   "id": "af4a9598-e990-4441-82f0-522f73e95957",
   "metadata": {},
   "outputs": [],
   "source": [
    "from rtc_seq_dataset_stream import SeqDistDatasetStreamPatches, open_rtc_table\n",
    "\n",
    "df_rtc = open_rtc_table()"
   ]
  },
  {
   "cell_type": "code",
   "execution_count": 14,
   "id": "412f9f4f-e4e6-4f52-8df5-9e0b2f675105",
   "metadata": {},
   "outputs": [
    {
     "data": {
      "text/plain": [
       "<module 'rtc_seq_dataset' from '/mnt/aurora-r0/jungkyo/OPERA/DIST-S1/algorithms/dist-s1-model/rtc_seq_dataset.py'>"
      ]
     },
     "execution_count": 14,
     "metadata": {},
     "output_type": "execute_result"
    }
   ],
   "source": [
    "\n",
    "import rtc_seq_dataset\n",
    "\n",
    "importlib.reload(rtc_seq_dataset)"
   ]
  },
  {
   "cell_type": "code",
   "execution_count": 15,
   "id": "cadbb856-ee31-48ae-bce5-bc5df040db2f",
   "metadata": {},
   "outputs": [],
   "source": [
    "from rtc_seq_dataset import SeqDistDataset, open_rtc_table"
   ]
  },
  {
   "cell_type": "code",
   "execution_count": 16,
   "id": "7f1e0d35-20f5-49c2-86ef-0807d576cd71",
   "metadata": {},
   "outputs": [
    {
     "name": "stderr",
     "output_type": "stream",
     "text": [
      "100%|█████████████████████████████████████████████████████████| 9815/9815 [00:04<00:00, 2368.42it/s]\n",
      "localize patch tables: 100%|███████████████████████████████████| 105/105 [00:00<00:00, 31410.16it/s]\n"
     ]
    }
   ],
   "source": [
    "seq_dataset = SeqDistDataset(n_pre_imgs=10,\n",
    "                             root='test_data/',\n",
    "                             n_workers_for_download = 4,\n",
    "                             patch_size= 224,\n",
    "                             rtc_s1_parquet_table_path='rtc_data_subset.parquet', #have to update this for given burst range\n",
    "                            )"
   ]
  },
  {
   "cell_type": "markdown",
   "id": "972b3a9c-8d2f-4bf9-9a43-40314bfe2236",
   "metadata": {},
   "source": [
    "Test"
   ]
  },
  {
   "cell_type": "code",
   "execution_count": 17,
   "id": "e2697190-c448-4f43-87d5-6fc13fd6f914",
   "metadata": {},
   "outputs": [
    {
     "data": {
      "text/plain": [
       "1281287"
      ]
     },
     "execution_count": 17,
     "metadata": {},
     "output_type": "execute_result"
    }
   ],
   "source": [
    "seq_dataset.__len__()"
   ]
  },
  {
   "cell_type": "code",
   "execution_count": 18,
   "id": "6f6297fb-da9c-4583-84e5-f57ac53ad370",
   "metadata": {},
   "outputs": [
    {
     "name": "stdout",
     "output_type": "stream",
     "text": [
      "1119452\n"
     ]
    },
    {
     "data": {
      "text/plain": [
       "<matplotlib.image.AxesImage at 0x7f8d2a7d1b80>"
      ]
     },
     "execution_count": 18,
     "metadata": {},
     "output_type": "execute_result"
    },
    {
     "data": {
      "image/png": "[encoded data removed]",
      "text/plain": [
       "<Figure size 640x480 with 1 Axes>"
      ]
     },
     "metadata": {},
     "output_type": "display_data"
    }
   ],
   "source": [
    "import matplotlib.pyplot as plt\n",
    "index = np.random.randint(len(seq_dataset))\n",
    "print(index)\n",
    "\n",
    "plt.imshow(seq_dataset[index][\"post_img\"][0,:,:])\n",
    "# plt.imshow(seq_dataset[index][\"post_img\"][1,:,:])"
   ]
  },
  {
   "cell_type": "code",
   "execution_count": 19,
   "id": "b2568c9b-12c1-4132-bea8-0cd192b29bea",
   "metadata": {},
   "outputs": [
    {
     "name": "stdout",
     "output_type": "stream",
     "text": [
      "40041\n"
     ]
    }
   ],
   "source": [
    "dataloader = DataLoader(seq_dataset, batch_size=32, shuffle=True)\n",
    "print(len(dataloader))"
   ]
  },
  {
   "cell_type": "markdown",
   "id": "24dd1ad8-8473-4838-ab54-f750e76208ca",
   "metadata": {
    "jp-MarkdownHeadingCollapsed": true
   },
   "source": [
    "### Various storage experiments"
   ]
  },
  {
   "cell_type": "code",
   "execution_count": 20,
   "id": "4df4b918-cb66-4934-8b41-b17e9844873a",
   "metadata": {},
   "outputs": [
    {
     "name": "stdout",
     "output_type": "stream",
     "text": [
      "torch.Size([32, 10, 2, 224, 224])\n",
      "torch.Size([32, 2, 224, 224])\n"
     ]
    }
   ],
   "source": [
    "for i, data in enumerate(dataloader):\n",
    "    train_data = data[\"pre_imgs\"]\n",
    "    target = data[\"post_img\"]\n",
    "    print(train_data.shape)\n",
    "    print(target.shape)\n",
    "    break"
   ]
  },
  {
   "cell_type": "code",
   "execution_count": 21,
   "id": "7bc2f979-1b73-4923-b393-a0bc138d9fcd",
   "metadata": {},
   "outputs": [],
   "source": [
    "dataset_of_128 = torch.utils.data.TensorDataset(train_data, target)"
   ]
  },
  {
   "cell_type": "code",
   "execution_count": 22,
   "id": "787b7101-ed00-4227-b7f9-6e7c633fa51e",
   "metadata": {},
   "outputs": [],
   "source": [
    "import os\n",
    "os.makedirs('PytorchData', exist_ok=True)\n",
    "torch.save(dataset_of_128, \"PytorchData/how_much_space_is_this_128.pt\")"
   ]
  },
  {
   "cell_type": "code",
   "execution_count": null,
   "id": "f6505d12-22c5-4947-b3dd-f0f403cdbd1c",
   "metadata": {},
   "outputs": [],
   "source": []
  },
  {
   "cell_type": "code",
   "execution_count": 23,
   "id": "8fb3faca-6873-4051-8207-cfa2bc0c1b37",
   "metadata": {},
   "outputs": [],
   "source": [
    "\n",
    "hmm = torch.load(\"PytorchData/how_much_space_is_this_128.pt\")"
   ]
  },
  {
   "cell_type": "code",
   "execution_count": null,
   "id": "73083e43-9397-46d3-9d76-f992b52526d4",
   "metadata": {},
   "outputs": [],
   "source": []
  },
  {
   "cell_type": "markdown",
   "id": "f93fb179-5138-4868-8626-8448064849a5",
   "metadata": {},
   "source": [
    "# Transformer"
   ]
  },
  {
   "cell_type": "code",
   "execution_count": 24,
   "id": "7905d82f-648f-4556-90c2-1b87a0d4e9af",
   "metadata": {},
   "outputs": [],
   "source": [
    "import numpy as np\n",
    "from torch.utils.data import DataLoader, random_split, RandomSampler, SequentialSampler\n",
    "import matplotlib.pyplot as plt\n",
    "import torch\n",
    "from tqdm import tqdm\n",
    "import torch.nn.functional as F\n",
    "import torch.nn as nn\n",
    "import torch.optim as optim\n",
    "from torchvision import datasets, transforms\n",
    "from torch.optim.lr_scheduler import StepLR\n",
    "from torch.utils.data import DataLoader, Subset, ConcatDataset\n",
    "import time\n",
    "import random\n",
    "from IPython.display import HTML\n",
    "from utils import log_ratio, visualize_reconstruction, animate_data, nll_gaussian, nll_gaussian_stable\n",
    "import einops\n"
   ]
  },
  {
   "cell_type": "markdown",
   "id": "3ecf1e27-22e5-4017-8401-2c8910409935",
   "metadata": {
    "jp-MarkdownHeadingCollapsed": true
   },
   "source": [
    "### New stuff"
   ]
  },
  {
   "cell_type": "code",
   "execution_count": 25,
   "id": "01aeda11-1abf-436d-8925-25610ac2e51e",
   "metadata": {
    "editable": true,
    "slideshow": {
     "slide_type": ""
    },
    "tags": []
   },
   "outputs": [],
   "source": [
    "class SpatioTemporalTransformer(nn.Module):\n",
    "    def __init__(self, model_config):\n",
    "        super(SpatioTemporalTransformer, self).__init__()\n",
    "\n",
    "        # self.data_dim = model_config['data_dim'] # dim of patches\n",
    "        self.d_model = model_config['d_model']\n",
    "        self.nhead = model_config['nhead']\n",
    "        self.num_encoder_layers = model_config['num_encoder_layers']\n",
    "        self.dim_feedforward = model_config['dim_feedforward']\n",
    "        self.max_seq_len = model_config['max_seq_len']\n",
    "        self.dropout = model_config['dropout']\n",
    "        self.activation = model_config['activation']\n",
    "\n",
    "        self.num_patches = model_config['num_patches']\n",
    "        self.patch_size = model_config['patch_size']\n",
    "        self.data_dim = model_config['data_dim']\n",
    "\n",
    "        self.embedding = nn.Linear(self.data_dim, self.d_model)\n",
    "\n",
    "        self.spatial_pos_embed = nn.Parameter(torch.zeros(1, 1, self.num_patches, self.d_model))\n",
    "        self.temporal_pos_embed = nn.Parameter(torch.zeros(1, self.max_seq_len, 1, self.d_model))\n",
    "\n",
    "        #we use 'encoder' for simplicity - but equivalent to the \"Decoder only\" framework\n",
    "        encoder_layer = nn.TransformerEncoderLayer(\n",
    "            self.d_model, self.nhead, self.dim_feedforward, dropout=self.dropout, activation=self.activation, batch_first=True\n",
    "            )\n",
    "\n",
    "        self.transformer_encoder = nn.TransformerEncoder(encoder_layer, self.num_encoder_layers)\n",
    "\n",
    "        self.mean_out = nn.Sequential(\n",
    "            nn.Linear(self.d_model, self.dim_feedforward), #reuse dim feedforward here\n",
    "            nn.ReLU(),\n",
    "            nn.Linear(self.dim_feedforward, self.data_dim)\n",
    "        )\n",
    "\n",
    "        self.logvar_out = nn.Sequential(\n",
    "            nn.Linear(self.d_model, self.dim_feedforward), #reuse dim feedforward here\n",
    "            nn.ReLU(),\n",
    "            nn.Linear(self.dim_feedforward, self.data_dim)\n",
    "        )\n",
    "\n",
    "    def num_parameters(self):\n",
    "        \"\"\"Count the number of trainable parameters in the model.\"\"\"\n",
    "        if not hasattr(self, '_num_parameters'):\n",
    "            self._num_parameters = 0\n",
    "            for p in self.parameters():\n",
    "                count = 1\n",
    "                for s in p.size():\n",
    "                    count *= s\n",
    "                self._num_parameters += count\n",
    "\n",
    "        return self._num_parameters\n",
    "\n",
    "    def forward(self, src):\n",
    "\n",
    "        batch_size, seq_len, channels, height, width = src.shape\n",
    "\n",
    "        assert num_patches == (height*width) / (self.patch_size**2)\n",
    "        assert seq_len <= self.max_seq_len\n",
    "\n",
    "        src = einops.rearrange(src, 'b t c (h ph) (w pw) -> b t (h w) (c ph pw)', ph=self.patch_size, pw=self.patch_size) # batch, seq_len, num_patches, data_dim\n",
    "\n",
    "        # after this line, the shape will be batch, seq_len, num_patches, d_model\n",
    "        # the indexing on temporal_pos_embed is in case the input is less than max_seq_len\n",
    "        src = self.embedding(src) + self.spatial_pos_embed + self.temporal_pos_embed[:, (self.max_seq_len-seq_len):, :, :] \n",
    "\n",
    "        src = src.view(batch_size, seq_len * self.num_patches, self.d_model) # transformer expects (batch_size, sequence, dmodel)\n",
    "\n",
    "        # Pass through the transformer encoder with causal masking\n",
    "        mask = nn.Transformer.generate_square_subsequent_mask(seq_len).to(src.device)\n",
    "        # mask = mask.repeat(self.num_patches, self.num_patches)\n",
    "        mask = mask.repeat_interleave(num_patches, dim=0).repeat_interleave(num_patches, dim=1)\n",
    "\n",
    "        output = self.transformer_encoder(src, mask=mask)\n",
    "\n",
    "        mean = self.mean_out(output) # batchsize, seq_len*num_patches, data_dim\n",
    "        logvar = self.logvar_out(output) # batchsize, seq_len*num_patches, data_dim\n",
    "\n",
    "        mean = mean.view(batch_size, seq_len, self.num_patches, self.data_dim) #undo previous operation\n",
    "        logvar = logvar.view(batch_size, seq_len, self.num_patches, self.data_dim)\n",
    "\n",
    "        # reshape to be the same shape as input batch_size, seq len, channels, height, width\n",
    "        mean = einops.rearrange(mean, 'b t (h w) (c ph pw) -> b t c (h ph) (w pw)',\n",
    "                                ph=self.patch_size, pw=self.patch_size,c=channels, h=height//patch_size, w=width//patch_size)\n",
    "\n",
    "        logvar = einops.rearrange(logvar, 'b t (h w) (c ph pw) -> b t c (h ph) (w pw)',\n",
    "                                ph=self.patch_size, pw=self.patch_size,c=channels, h=height//patch_size, w=width//patch_size)\n",
    "\n",
    "        return mean, logvar"
   ]
  },
  {
   "cell_type": "code",
   "execution_count": null,
   "id": "8cd85d3c-148b-4cd2-9b65-b1521becf31d",
   "metadata": {},
   "outputs": [],
   "source": []
  },
  {
   "cell_type": "code",
   "execution_count": 26,
   "id": "e7a0aad7-5f7c-4a3d-a546-fe5aa1869d64",
   "metadata": {},
   "outputs": [
    {
     "name": "stdout",
     "output_type": "stream",
     "text": [
      "cuda\n"
     ]
    }
   ],
   "source": [
    "device = 'cuda' if torch.cuda.is_available() else 'cpu'\n",
    "print(device)"
   ]
  },
  {
   "cell_type": "code",
   "execution_count": 27,
   "id": "898ff33d-6c53-4cfb-801a-7188613723b9",
   "metadata": {
    "editable": true,
    "slideshow": {
     "slide_type": ""
    },
    "tags": []
   },
   "outputs": [],
   "source": [
    "import time\n",
    "\n",
    "# this line is slow for some reason and we need it every loss so we construct it once to start\n",
    "pi = torch.FloatTensor([np.pi]).to(device)\n",
    "\n",
    "def run_epoch(dataloader, model, optimizer, device, train=True):\n",
    "    \"\"\"Perform one epoch of training by looping through the dataset once.\"\"\"\n",
    "\n",
    "    '''\n",
    "    dataloader should have:\n",
    "    pre_imgs: (batch_size, max_seq_len, channels, height, width)\n",
    "    target: (batch_size, channels, height, width)\n",
    "    '''\n",
    "\n",
    "    # Setting models and datasets into train/test mode\n",
    "    if train:\n",
    "        model.train()\n",
    "    else:\n",
    "        model.eval()\n",
    "\n",
    "    nll_total = 0\n",
    "    mse_total = 0\n",
    "\n",
    "    naive_nll = 0\n",
    "    naive_mse = 0\n",
    "\n",
    "    for batch_idx, (batch,target) in enumerate(dataloader):\n",
    "\n",
    "        input_size = 16\n",
    "        \n",
    "        batch = batch.unfold(3, input_size, input_size).unfold(4, input_size, input_size)\n",
    "        target = target.unfold(2, input_size, input_size).unfold(3, input_size, input_size)\n",
    "\n",
    "        batch = batch.permute(0, 3, 4, 1, 2, 5, 6).reshape(-1, 10, 2, input_size, input_size)\n",
    "        target = target.permute(0, 2, 3, 1, 4, 5).reshape(-1, 2, input_size, input_size)\n",
    "\n",
    "        target = torch.special.logit(target) #make sure you're doing this once and not 0 or 2 times...\n",
    "        batch = torch.special.logit(batch)\n",
    "\n",
    "        ### \n",
    "        # mask_out_idx = torch.randint(0,9,(1,))\n",
    "        # batch = batch[:, mask_out_idx:, ...] \n",
    "        ###\n",
    "        \n",
    "        target = target.to(device) #might have to change this depending on dataloading approach\n",
    "        batch = batch.to(device)\n",
    "\n",
    "        if train:\n",
    "          \n",
    "          pred_means, pred_logvars = model(batch)\n",
    "          \n",
    "          # dataset was originally set up to take pre_imgs and predict target, now we train autoregressively so every part of\n",
    "          # the sequence is the target\n",
    "          actual_target = torch.cat((batch[:,1:,...],target.unsqueeze(dim=1)), 1)\n",
    "\n",
    "          # new style\n",
    "          # need to input pi as constructed above because for some reason constructing it each time was slow\n",
    "          loss = nll_gaussian(pred_means, pred_logvars, actual_target, pi) \n",
    "          mse_total += F.mse_loss(pred_means, actual_target).item()\n",
    "\n",
    "          optimizer.zero_grad()\n",
    "          loss.backward()\n",
    "          torch.nn.utils.clip_grad_norm_(model.parameters(), 10) \n",
    "          optimizer.step()\n",
    "\n",
    "        else:\n",
    "          with torch.no_grad():\n",
    "\n",
    "            # compute baseline based on pre image mean and var\n",
    "            pre_image_mean = torch.mean(batch, dim=1)\n",
    "            pre_image_var = torch.var(batch, dim=1)\n",
    "            pre_image_var += 1e-8 # for numerical stability\n",
    "\n",
    "            naive_nll += nll_gaussian_stable(pre_image_mean, pre_image_var, target)\n",
    "            naive_mse += F.mse_loss(pre_image_mean, target).item()\n",
    "\n",
    "            # get prediction\n",
    "            pred_means, pred_logvars = model(batch)\n",
    "\n",
    "            actual_target = torch.cat((batch[:,1:,...],target.unsqueeze(dim=1)), 1)\n",
    "            loss = nll_gaussian(pred_means, pred_logvars, actual_target, pi)\n",
    "              \n",
    "            mse_total += F.mse_loss(pred_means, actual_target).item()\n",
    "\n",
    "        nll_total += loss.item()\n",
    "\n",
    "    nll_average = nll_total / len(dataloader) # average NLL per sequence (sample)\n",
    "    mse_average = mse_total / len(dataloader)\n",
    "\n",
    "    naive_nll_average = naive_nll / len(dataloader)\n",
    "    naive_mse_average = naive_mse / len(dataloader)\n",
    "\n",
    "    if epoch % 10 == 0:\n",
    "      print('Train \\n' if train else 'Test \\n')\n",
    "      print('NLL: {:.6f}'.format(nll_average))\n",
    "      if not train:\n",
    "        print('Naive NLL: {:.6f}\\n'.format(naive_nll_average))\n",
    "\n",
    "      print('MSE: {:.6f}'.format(mse_average))\n",
    "      if not train:\n",
    "        print('Naive MSE: {:.6f}'.format(naive_mse_average))\n",
    "      print(\" \")\n",
    "\n",
    "    return nll_average, mse_average "
   ]
  },
  {
   "cell_type": "markdown",
   "id": "eff47c78-2614-41cb-a7d5-3fb36f5998ec",
   "metadata": {},
   "source": [
    "### end of summer code"
   ]
  },
  {
   "cell_type": "code",
   "execution_count": 28,
   "id": "9aa0f344-3e7c-408b-bd16-4956f679d47a",
   "metadata": {},
   "outputs": [],
   "source": [
    "class SpatioTemporalTransformer(nn.Module):\n",
    "    def __init__(self, model_config):\n",
    "        super(SpatioTemporalTransformer, self).__init__()\n",
    "\n",
    "        # self.data_dim = model_config['data_dim'] # dim of patches\n",
    "        self.d_model = model_config['d_model']\n",
    "        self.nhead = model_config['nhead']\n",
    "        self.num_encoder_layers = model_config['num_encoder_layers']\n",
    "        self.dim_feedforward = model_config['dim_feedforward']\n",
    "        self.max_seq_len = model_config['max_seq_len']\n",
    "        self.dropout = model_config['dropout']\n",
    "        self.activation = model_config['activation']\n",
    "\n",
    "        self.num_patches = model_config['num_patches']\n",
    "        self.patch_size = model_config['patch_size']\n",
    "        self.data_dim = model_config['data_dim']\n",
    "\n",
    "        self.embedding = nn.Linear(self.data_dim, self.d_model)\n",
    "\n",
    "        self.spatial_pos_embed = nn.Parameter(torch.zeros(1, 1, self.num_patches, self.d_model))\n",
    "        self.temporal_pos_embed = nn.Parameter(torch.zeros(1, self.max_seq_len, 1, self.d_model))\n",
    "\n",
    "        #we use 'encoder' for simplicity - but equivalent to the \"Decoder only\" framework\n",
    "        encoder_layer = nn.TransformerEncoderLayer(\n",
    "            self.d_model, self.nhead, self.dim_feedforward, dropout=self.dropout, activation=self.activation, batch_first=True\n",
    "            )\n",
    "\n",
    "        self.transformer_encoder = nn.TransformerEncoder(encoder_layer, self.num_encoder_layers)\n",
    "\n",
    "        self.mean_out = nn.Sequential(\n",
    "            nn.Linear(self.d_model, self.dim_feedforward), #reuse dim feedforward here\n",
    "            nn.ReLU(),\n",
    "            nn.Linear(self.dim_feedforward, self.data_dim)\n",
    "        )\n",
    "\n",
    "        self.logvar_out = nn.Sequential(\n",
    "            nn.Linear(self.d_model, self.dim_feedforward), #reuse dim feedforward here\n",
    "            nn.ReLU(),\n",
    "            nn.Linear(self.dim_feedforward, self.data_dim)\n",
    "        )\n",
    "\n",
    "    def num_parameters(self):\n",
    "        \"\"\"Count the number of trainable parameters in the model.\"\"\"\n",
    "        if not hasattr(self, '_num_parameters'):\n",
    "            self._num_parameters = 0\n",
    "            for p in self.parameters():\n",
    "                count = 1\n",
    "                for s in p.size():\n",
    "                    count *= s\n",
    "                self._num_parameters += count\n",
    "\n",
    "        return self._num_parameters\n",
    "\n",
    "    def forward(self, src):\n",
    "\n",
    "        batch_size, seq_len, channels, height, width = src.shape\n",
    "\n",
    "        assert num_patches == (height*width) / (self.patch_size**2)\n",
    "\n",
    "        src = einops.rearrange(src, 'b t c (h ph) (w pw) -> b t (h w) (c ph pw)', ph=self.patch_size, pw=self.patch_size) # batch, seq_len, num_patches, data_dim\n",
    "\n",
    "        src = self.embedding(src) + self.spatial_pos_embed + self.temporal_pos_embed[:, (self.max_seq_len-seq_len):, :, :] # batch, seq_len, num_patches, d_model\n",
    "\n",
    "        src = src.view(batch_size, seq_len * self.num_patches, self.d_model) # transformer expects (batch_size, sequence, dmodel)\n",
    "\n",
    "        # Pass through the transformer encoder with causal masking\n",
    "        # mask = nn.Transformer.generate_square_subsequent_mask(seq_len).to(src.device)\n",
    "        # mask = mask.repeat(self.num_patches, self.num_patches)\n",
    "\n",
    "        output = self.transformer_encoder(src) #, mask=mask, is_causal=True) # is_causal makes this masked attention\n",
    "\n",
    "        mean = self.mean_out(output) # batchsize, seq_len*num_patches, data_dim\n",
    "        logvar = self.logvar_out(output) # batchsize, seq_len*num_patches, 2*data_dim\n",
    "\n",
    "        mean = mean.view(batch_size, seq_len, self.num_patches, self.data_dim) #undo previous operation\n",
    "        logvar = logvar.view(batch_size, seq_len, self.num_patches, self.data_dim)\n",
    "\n",
    "        # reshape to be the same shape as input batch_size, seq len, channels, height, width\n",
    "        mean = einops.rearrange(mean, 'b t (h w) (c ph pw) -> b t c (h ph) (w pw)',\n",
    "                                ph=self.patch_size, pw=self.patch_size,c=channels, h=height//patch_size, w=width//patch_size)\n",
    "\n",
    "        # reshape so for each pixel we output 4 numbers (ie each entry of cov matrix)\n",
    "        logvar = einops.rearrange(logvar, 'b t (h w) (c ph pw) -> b t c (h ph) (w pw)',\n",
    "                                ph=self.patch_size, pw=self.patch_size,c=channels, h=height//patch_size, w=width//patch_size)\n",
    "\n",
    "        # logvar = einops.rearrange(logvar, 'b t (h w) (c ph pw) -> b t (h ph) (w pw) c',\n",
    "        #                         ph=self.patch_size, pw=self.patch_size, h=height//patch_size, w=width//patch_size, c=3)\n",
    "\n",
    "        # sigma1 = F.softplus(logvar[:,:,:,:,0])\n",
    "        # sigma2 = F.softplus(logvar[:,:,:,:,1])\n",
    "        # corr = F.tanh(logvar[:,:,:,:,2])\n",
    "\n",
    "        return mean[:,-1,...], logvar[:,-1,...] # output just the last one\n",
    "\n",
    "device = 'cuda'\n",
    "pi = torch.FloatTensor([np.pi]).to(device)\n",
    "\n",
    "def run_epoch_tf(dataloader, model, optimizer, device, train=True):\n",
    "    \"\"\"Perform one epoch of training by looping through the dataset once.\"\"\"\n",
    "\n",
    "    '''\n",
    "    dataloader should have:\n",
    "    pre_imgs: (batch_size, max_seq_len, channels, height, width)\n",
    "    target: (batch_size, channels, height, width)\n",
    "    '''\n",
    "\n",
    "    # Setting models and datasets into train/test mode\n",
    "    if train:\n",
    "        model.train()\n",
    "    else:\n",
    "        model.eval()\n",
    "\n",
    "    nll_total = 0\n",
    "    mse_total = 0\n",
    "\n",
    "    naive_nll = 0\n",
    "    naive_mse = 0\n",
    "\n",
    "    for batch_idx, (batch, target) in enumerate(dataloader):\n",
    "\n",
    "        input_size = 16\n",
    "        \n",
    "        batch = batch.unfold(3, input_size, input_size).unfold(4, input_size, input_size)\n",
    "        target = target.unfold(2, input_size, input_size).unfold(3, input_size, input_size)\n",
    "\n",
    "        batch = batch.permute(0, 3, 4, 1, 2, 5, 6).reshape(-1, 10, 2, input_size, input_size)\n",
    "        target = target.permute(0, 2, 3, 1, 4, 5).reshape(-1, 2, input_size, input_size)\n",
    "\n",
    "        target = torch.special.logit(target) #make sure you're doing this once and not 0 or 2 times...\n",
    "        batch = torch.special.logit(batch)\n",
    "\n",
    "        ###\n",
    "\n",
    "        mask_out_idx = torch.randint(0,9,(1,)) #vary the time window the model sees\n",
    "\n",
    "        # target = target.flatten(start_dim=1)\n",
    "        target = target.to(device)\n",
    "\n",
    "        batch = batch[:, mask_out_idx:, ...] # \"batch\" is the pre images\n",
    "        # batch = batch.flatten(start_dim = 2)\n",
    "        batch = batch.to(device)\n",
    "\n",
    "        if train:\n",
    "\n",
    "          pred_means, pred_logvars = model(batch)\n",
    "\n",
    "          # new style\n",
    "          loss = nll_gaussian(pred_means, pred_logvars, target) #, pi=pi)\n",
    "          mse_total += F.mse_loss(pred_means, target).item()\n",
    "\n",
    "          # both\n",
    "          # loss = nll_gaussian(pred_means[:,:-1,:], pred_logvars[:,:-1,:], batch)\n",
    "          # mse_total += F.mse_loss(pred_means[:,:-1,:], batch).item()\n",
    "          # loss += nll_gaussian(pred_means[:,-1,:], pred_logvars[:,-1,:], target)\n",
    "          # mse_total += F.mse_loss(pred_means[:,-1,:], target).item()\n",
    "\n",
    "          # og\n",
    "          # loss = nll_gaussian(pred_means, pred_logvars, batch)\n",
    "          # mse_total += F.mse_loss(pred_means, batch).item()\n",
    "\n",
    "          optimizer.zero_grad()\n",
    "          loss.backward()\n",
    "          torch.nn.utils.clip_grad_norm_(model.parameters(), 10) # likely not necessary for transformer\n",
    "          optimizer.step()\n",
    "\n",
    "        else:\n",
    "          with torch.no_grad():\n",
    "\n",
    "            # compute baseline based on pre image mean and var\n",
    "            pre_image_mean = torch.mean(batch, dim=1)\n",
    "            pre_image_var = torch.var(batch, dim=1)\n",
    "            pre_image_var += 1e-8 # for numerical stability\n",
    "\n",
    "            naive_nll += nll_gaussian_stable(pre_image_mean, pre_image_var, target)\n",
    "            naive_mse += F.mse_loss(pre_image_mean, target).item()\n",
    "\n",
    "            # get prediction\n",
    "            pred_means, pred_logvars = model(batch)\n",
    "\n",
    "            loss = nll_gaussian(pred_means, pred_logvars, target) #, pi=pi)\n",
    "            mse_total += F.mse_loss(pred_means, target).item()\n",
    "\n",
    "        nll_total += loss.item()\n",
    "\n",
    "    nll_average = nll_total / len(dataloader) # average NLL per sequence (sample)\n",
    "    mse_average = mse_total / len(dataloader)\n",
    "\n",
    "    naive_nll_average = naive_nll / len(dataloader)\n",
    "    naive_mse_average = naive_mse / len(dataloader)\n",
    "\n",
    "    if epoch % 10 == 0:\n",
    "      print('Train \\n' if train else 'Test \\n')\n",
    "      print('NLL: {:.6f}'.format(nll_average))\n",
    "      if not train:\n",
    "        print('Naive NLL: {:.6f}\\n'.format(naive_nll_average))\n",
    "\n",
    "      print('MSE: {:.6f}'.format(mse_average))\n",
    "      if not train:\n",
    "        print('Naive MSE: {:.6f}'.format(naive_mse_average))\n",
    "      print(\" \")\n",
    "\n",
    "    return nll_average, mse_average #had nll average first"
   ]
  },
  {
   "cell_type": "markdown",
   "id": "ad9a28aa-a558-436e-ba5a-4ef6a508695a",
   "metadata": {},
   "source": [
    "## Train"
   ]
  },
  {
   "cell_type": "markdown",
   "id": "4612d225-da22-49f5-b57f-985b4a9bb08f",
   "metadata": {},
   "source": [
    "### Data"
   ]
  },
  {
   "cell_type": "code",
   "execution_count": 29,
   "id": "57d1aaeb-0628-46f6-b45d-40716e37dbc9",
   "metadata": {},
   "outputs": [],
   "source": [
    "gen = torch.Generator().manual_seed(42)\n",
    "train_dataset, test_dataset, _ = random_split(seq_dataset, [.01, .0025, .9875], generator=gen)"
   ]
  },
  {
   "cell_type": "code",
   "execution_count": 30,
   "id": "7135a29a-fa59-47a1-85f3-22277189569e",
   "metadata": {},
   "outputs": [
    {
     "name": "stdout",
     "output_type": "stream",
     "text": [
      "12813\n",
      "3204\n"
     ]
    }
   ],
   "source": [
    "print(len(train_dataset))\n",
    "print(len(test_dataset))"
   ]
  },
  {
   "cell_type": "code",
   "execution_count": 31,
   "id": "81d2145a-c2b4-4bd6-81cb-f17c15573177",
   "metadata": {},
   "outputs": [
    {
     "name": "stdout",
     "output_type": "stream",
     "text": [
      "401\n",
      "101\n"
     ]
    }
   ],
   "source": [
    "train_loader = DataLoader(train_dataset, batch_size=32, shuffle=True)\n",
    "print(len(train_loader))\n",
    "test_loader = DataLoader(test_dataset, batch_size=32, shuffle=True)\n",
    "print(len(test_loader))"
   ]
  },
  {
   "cell_type": "code",
   "execution_count": 32,
   "id": "cef05c94-9c37-4053-97e3-ba11d9d0360b",
   "metadata": {},
   "outputs": [
    {
     "ename": "RuntimeError",
     "evalue": "[enforce fail at alloc_cpu.cpp:117] err == 0. DefaultCPUAllocator: can't allocate memory: you tried to allocate 51432407040 bytes. Error code 12 (Cannot allocate memory)",
     "output_type": "error",
     "traceback": [
      "\u001b[0;31m---------------------------------------------------------------------------\u001b[0m",
      "\u001b[0;31mRuntimeError\u001b[0m                              Traceback (most recent call last)",
      "Cell \u001b[0;32mIn[32], line 1\u001b[0m\n\u001b[0;32m----> 1\u001b[0m training_data \u001b[38;5;241m=\u001b[39m \u001b[38;5;28mfloat\u001b[39m(\u001b[38;5;124m'\u001b[39m\u001b[38;5;124minf\u001b[39m\u001b[38;5;124m'\u001b[39m)\u001b[38;5;241m*\u001b[39m\u001b[43mtorch\u001b[49m\u001b[38;5;241;43m.\u001b[39;49m\u001b[43mones\u001b[49m\u001b[43m(\u001b[49m\u001b[43m(\u001b[49m\u001b[38;5;28;43mlen\u001b[39;49m\u001b[43m(\u001b[49m\u001b[43mtrain_dataset\u001b[49m\u001b[43m)\u001b[49m\u001b[43m,\u001b[49m\u001b[43m \u001b[49m\u001b[38;5;241;43m10\u001b[39;49m\u001b[43m,\u001b[49m\u001b[43m \u001b[49m\u001b[38;5;241;43m2\u001b[39;49m\u001b[43m,\u001b[49m\u001b[43m \u001b[49m\u001b[38;5;241;43m224\u001b[39;49m\u001b[43m,\u001b[49m\u001b[43m \u001b[49m\u001b[38;5;241;43m224\u001b[39;49m\u001b[43m)\u001b[49m\u001b[43m)\u001b[49m\n\u001b[1;32m      2\u001b[0m \u001b[38;5;28mprint\u001b[39m(training_data\u001b[38;5;241m.\u001b[39mshape)\n\u001b[1;32m      3\u001b[0m training_target \u001b[38;5;241m=\u001b[39m \u001b[38;5;28mfloat\u001b[39m(\u001b[38;5;124m'\u001b[39m\u001b[38;5;124minf\u001b[39m\u001b[38;5;124m'\u001b[39m)\u001b[38;5;241m*\u001b[39mtorch\u001b[38;5;241m.\u001b[39mones((\u001b[38;5;28mlen\u001b[39m(train_dataset), \u001b[38;5;241m2\u001b[39m, \u001b[38;5;241m224\u001b[39m, \u001b[38;5;241m224\u001b[39m))\n",
      "\u001b[0;31mRuntimeError\u001b[0m: [enforce fail at alloc_cpu.cpp:117] err == 0. DefaultCPUAllocator: can't allocate memory: you tried to allocate 51432407040 bytes. Error code 12 (Cannot allocate memory)"
     ]
    }
   ],
   "source": [
    "training_data = float('inf')*torch.ones((len(train_dataset), 10, 2, 224, 224))\n",
    "print(training_data.shape)\n",
    "training_target = float('inf')*torch.ones((len(train_dataset), 2, 224, 224))\n",
    "print(training_target.shape)\n",
    "\n",
    "testing_data = float('inf')*torch.ones((len(test_dataset), 10, 2, 224, 224))\n",
    "print(testing_data.shape)\n",
    "test_target = float('inf')*torch.ones((len(test_dataset), 2, 224, 224))\n",
    "print(test_target.shape)"
   ]
  },
  {
   "cell_type": "code",
   "execution_count": null,
   "id": "1937c6ce-f372-4fdd-b390-e2dbccdd898e",
   "metadata": {},
   "outputs": [],
   "source": [
    "for batch_idx, data in tqdm(enumerate(train_loader),position=0, leave=True):\n",
    "\n",
    "  training_data[batch_idx*32:(batch_idx+1)*32] = data['pre_imgs']\n",
    "  training_target[batch_idx*32:(batch_idx+1)*32] = data['post_img']\n",
    "\n",
    "train_dataset = torch.utils.data.TensorDataset(training_data, training_target)\n",
    "torch.save(train_dataset, f'PytorchData/train_{len(train_dataset)}.pt')\n"
   ]
  },
  {
   "cell_type": "code",
   "execution_count": null,
   "id": "f3b2e901",
   "metadata": {},
   "outputs": [],
   "source": [
    "print(f'PytorchData/train_{len(train_dataset)}.pt')"
   ]
  },
  {
   "cell_type": "code",
   "execution_count": null,
   "id": "ddfd8b22-b65a-4b72-b456-814a21371258",
   "metadata": {},
   "outputs": [],
   "source": [
    "\n",
    "for batch_idx, data in tqdm(enumerate(test_loader),position=0, leave=True):\n",
    "\n",
    "  testing_data[batch_idx*32:(batch_idx+1)*32] = data['pre_imgs']\n",
    "  test_target[batch_idx*32:(batch_idx+1)*32] = data['post_img']\n",
    "\n",
    "test_dataset = torch.utils.data.TensorDataset(testing_data, test_target)\n",
    "torch.save(test_dataset, f'PytorchData/test_{len(test_dataset)}.pt')"
   ]
  },
  {
   "cell_type": "code",
   "execution_count": null,
   "id": "0d36561d",
   "metadata": {},
   "outputs": [],
   "source": [
    "train_dataset = torch.load( f'PytorchData/train_{len(train_dataset)}.pt')\n"
   ]
  },
  {
   "cell_type": "code",
   "execution_count": null,
   "id": "1b94e123-d08f-4321-bd11-8b2a0263183c",
   "metadata": {},
   "outputs": [],
   "source": [
    "print(len(train_dataset))\n",
    "print(len(test_dataset))\n",
    "\n",
    "test_dataset = torch.load( f'PytorchData/test_{len(test_dataset)}.pt')\n",
    "# print(torch.sum(torch.isinf(training_data)))\n",
    "# print(torch.sum(torch.isinf(training_target)))\n",
    "# print(torch.sum(torch.isinf(testing_data)))\n",
    "# print(torch.sum(torch.isinf(test_target)))"
   ]
  },
  {
   "cell_type": "code",
   "execution_count": null,
   "id": "e1655fb4-b728-4941-9366-28eadaf02c10",
   "metadata": {},
   "outputs": [],
   "source": [
    "train_loader = DataLoader(train_dataset, batch_size=32, shuffle=True)\n",
    "print(len(train_loader))\n",
    "test_loader = DataLoader(test_dataset, batch_size=32, shuffle=True)\n",
    "print(len(test_loader))"
   ]
  },
  {
   "cell_type": "markdown",
   "id": "e93e9f6f-95e4-4742-8442-5a2f1308949f",
   "metadata": {},
   "source": [
    "### Loop"
   ]
  },
  {
   "cell_type": "code",
   "execution_count": null,
   "id": "dbd2160a-68a9-444b-b05b-b4db24620e66",
   "metadata": {},
   "outputs": [],
   "source": [
    "# train_dataset = torch.load('PytorchData/train_12813.pt') "
   ]
  },
  {
   "cell_type": "code",
   "execution_count": null,
   "id": "adcc5204-a6f4-4e63-b7c5-4ef398f1f361",
   "metadata": {},
   "outputs": [],
   "source": [
    "%%time\n",
    "# test_dataset = torch.load('PytorchData/test_3204.pt')"
   ]
  },
  {
   "cell_type": "code",
   "execution_count": null,
   "id": "5809710d-106c-478a-b47b-cd5292444738",
   "metadata": {},
   "outputs": [],
   "source": [
    "num_pre_imgs = 10\n",
    "patch_size = 8\n",
    "input_size_rnn = 8\n",
    "input_size_tf = 16\n",
    "num_patches = int((input_size_tf / patch_size) ** 2)\n",
    "\n",
    "train_config = {\n",
    "    \"batch_size\": 1,\n",
    "    \"num_epochs\": 50, # ideally 100+\n",
    "    \"learning_rate\": 1e-4,\n",
    "    \"seed\": 177\n",
    "}\n",
    "\n",
    "tf_config = {\n",
    "    'type': 'transformer',\n",
    "    'patch_size': patch_size,\n",
    "    'num_patches': num_patches,\n",
    "    'data_dim': int(2*patch_size*patch_size),\n",
    "    \"d_model\": 256, # embedding dimension\n",
    "    \"nhead\" : 4,\n",
    "    \"num_encoder_layers\": 4,\n",
    "    \"dim_feedforward\": 768,\n",
    "    \"max_seq_len\": num_pre_imgs,\n",
    "    \"dropout\": 0.2, # can be .1 - .3\n",
    "    \"activation\": \"relu\"\n",
    "}\n",
    "\n"
   ]
  },
  {
   "cell_type": "code",
   "execution_count": null,
   "id": "48f2868f-6eed-46db-a8c4-f19351e7a400",
   "metadata": {},
   "outputs": [],
   "source": []
  },
  {
   "cell_type": "code",
   "execution_count": null,
   "id": "a5e5d631-49b0-4639-b558-bff3e555f458",
   "metadata": {},
   "outputs": [],
   "source": [
    "model = SpatioTemporalTransformer(tf_config)\n",
    "print(\"Number of parameters: \", model.num_parameters())"
   ]
  },
  {
   "cell_type": "code",
   "execution_count": null,
   "id": "85a0bf3b-b9cf-436e-8556-a7b1391d40e4",
   "metadata": {},
   "outputs": [],
   "source": [
    "print(len(train_dataset))\n",
    "print(len(test_dataset))\n",
    "\n",
    "train_loader = DataLoader(train_dataset, batch_size=train_config['batch_size'], shuffle=True)\n",
    "test_loader = DataLoader(test_dataset, batch_size=train_config['batch_size'], shuffle=True)\n",
    "\n",
    "print(len(train_loader))\n",
    "print(len(test_loader))"
   ]
  },
  {
   "cell_type": "code",
   "execution_count": null,
   "id": "ae1d3005-bf99-4987-ba5a-f57e00c517f2",
   "metadata": {},
   "outputs": [],
   "source": [
    "# if you need to reset\n",
    "train_loss_vec = []\n",
    "train_mse_vec = []\n",
    "test_loss_vec = []\n",
    "test_mse_vec = []"
   ]
  },
  {
   "cell_type": "code",
   "execution_count": null,
   "id": "c54a1f28-127f-4813-a329-0ea7c877ec2a",
   "metadata": {},
   "outputs": [],
   "source": [
    "print(train_config['learning_rate'])\n",
    "step_size = 25\n",
    "gamma = 0.1"
   ]
  },
  {
   "cell_type": "code",
   "execution_count": null,
   "id": "da4b7334-9d28-427d-bfda-25b44c23a95d",
   "metadata": {},
   "outputs": [],
   "source": [
    "training_notes = {\n",
    "    'trainsetsize': len(train_dataset),\n",
    "    'bursts': 'all',\n",
    "    'total_params': model.num_parameters(),\n",
    "    'step size': step_size,\n",
    "    'gamma': gamma,\n",
    "    'other': \"summer model, aurora data\", \n",
    "}"
   ]
  },
  {
   "cell_type": "markdown",
   "id": "b750ede5",
   "metadata": {},
   "source": [
    "## original"
   ]
  },
  {
   "cell_type": "code",
   "execution_count": null,
   "id": "cd9cfac0-de98-475b-ae70-e3791b28e559",
   "metadata": {
    "editable": true,
    "scrolled": true,
    "slideshow": {
     "slide_type": ""
    },
    "tags": []
   },
   "outputs": [],
   "source": []
  },
  {
   "cell_type": "markdown",
   "id": "19697584",
   "metadata": {},
   "source": [
    "## modified"
   ]
  },
  {
   "cell_type": "code",
   "execution_count": null,
   "id": "fe36e3fc",
   "metadata": {},
   "outputs": [],
   "source": [
    "%%time\n",
    "import time\n",
    "from torch.optim.lr_scheduler import LambdaLR\n",
    "from datetime import datetime\n",
    "\n",
    "now = datetime.now()\n",
    "now = now.strftime(\"%m-%d-%Y %H:%M\")\n",
    "\n",
    "device = 'cuda' if torch.cuda.is_available() else 'cpu'\n",
    "print(device)\n",
    "\n",
    "model = SpatioTemporalTransformer(tf_config).to(device)\n",
    "print(\"Number of parameters: \", model.num_parameters())\n",
    "model_type = 'tf'\n",
    "\n",
    "\n",
    "# Initialize optimizer (default using ADAM optimizer)\n",
    "optimizer = torch.optim.Adam(model.parameters(), lr=train_config['learning_rate'])\n",
    "\n",
    "step_size = 25\n",
    "gamma = 0.1\n",
    "scheduler = StepLR(optimizer, step_size=step_size, gamma=gamma)\n",
    "\n",
    "\n",
    "for epoch in range(1,train_config['num_epochs']+1):\n",
    "    # if epoch % 10 == 0:\n",
    "    print('--- EPOCH [{}/{}] --- \\n'.format(epoch, train_config['num_epochs']))\n",
    "\n",
    "    epoch_start_time = time.time()\n",
    "\n",
    "    if model_type == 'rnn':\n",
    "        train_loss, train_mse_loss = run_epoch_rnn(train_loader, model, optimizer, device, train=True)\n",
    "        test_loss, test_mse_loss = run_epoch_rnn(test_loader, model, optimizer, device, train=False)\n",
    "    elif model_type == 'tf':\n",
    "        train_loss, train_mse_loss = run_epoch_tf(train_loader, model, optimizer, device, train=True)\n",
    "        test_loss, test_mse_loss = run_epoch_tf(test_loader, model, optimizer, device, train=False)\n",
    "\n",
    "    print(\"train loss: \", train_loss)\n",
    "    print(\"test loss: \", test_loss)\n",
    "    print(\"train MSE: \", train_mse_loss)\n",
    "    print(\"test MSE: \", test_mse_loss)\n",
    "    print(\"time: \", (time.time() - epoch_start_time)/60, \" minutes\")\n",
    "    print('\\n')\n",
    "\n",
    "    train_loss_vec.append(train_loss)\n",
    "    train_mse_vec.append(train_mse_loss)\n",
    "    test_loss_vec.append(test_loss)\n",
    "    test_mse_vec.append(test_mse_loss)\n",
    "\n",
    "    if epoch%5 == 0 and epoch != 0:\n",
    "        # Save model\n",
    "        \n",
    "        folder_path = 'models'\n",
    "        file_name = f'{tf_config[\"type\"]}_{now}.pth'\n",
    "        full_path = f'{folder_path}/{file_name}'\n",
    "        \n",
    "        torch.save(model.state_dict(), full_path)\n",
    "        \n",
    "        dicts = [train_config, tf_config, training_notes] \n",
    "        \n",
    "        # File path to save the output\n",
    "        file_path = f'models/{tf_config[\"type\"]}_{now}.txt'\n",
    "        \n",
    "        # Open the file in write mode\n",
    "        with open(file_path, 'w') as file:\n",
    "            for dictionary in dicts:\n",
    "                for key, value in dictionary.items():\n",
    "                    file.write(f\"  {key}: {value}\\n\")\n",
    "                file.write(\"\\n\")  # Add a blank line between dictionaries\n",
    "        \n",
    "        print(f'Dictionaries have been saved to {file_path}')\n",
    "        \n",
    "        torch.save(train_loss_vec, 'models/train_loss_1122.pt')\n",
    "        torch.save(test_loss_vec, 'models/test_loss_1122.pt')\n",
    "        torch.save(train_mse_vec, 'models/train_mse_loss_1122.pt')\n",
    "        torch.save(test_mse_vec, 'models/test_mse_loss_1122.pt')\n",
    "\n",
    "    scheduler.step()"
   ]
  },
  {
   "cell_type": "code",
   "execution_count": null,
   "id": "c862bceb-1e49-4ac4-ad14-1fff4b91a63c",
   "metadata": {},
   "outputs": [],
   "source": [
    "for name, param in model.named_parameters():\n",
    "    if param.grad.norm().item() < 1e-5:\n",
    "        print(\"Vanishing Grad?\\n\")\n",
    "        print(name, param.grad.norm().item())\n",
    "    if param.grad.norm().item() > 10:\n",
    "        print(\"Exploding Grad?\\n\")\n",
    "        print(name, param.grad.norm().item())"
   ]
  },
  {
   "cell_type": "code",
   "execution_count": null,
   "id": "2f763c91-9b96-4073-bcb0-172f87c2c9e8",
   "metadata": {},
   "outputs": [],
   "source": [
    "plt.plot(np.arange(1,len(train_loss_vec)+1), train_loss_vec)\n",
    "plt.plot(np.arange(1,len(test_loss_vec)+1), test_loss_vec)\n",
    "# plt.ylim([-1,5])\n",
    "# plt.xlim([90,100])\n",
    "plt.legend(['Train', 'Test'])\n",
    "plt.title('Negative Log Likelihood Loss')\n",
    "plt.xlabel('Epoch')\n",
    "plt.ylabel('Loss')"
   ]
  },
  {
   "cell_type": "code",
   "execution_count": null,
   "id": "1948f1da-7f4d-4e82-8881-f982af6e59aa",
   "metadata": {},
   "outputs": [],
   "source": [
    "plt.plot(np.arange(1,len(train_mse_vec)+1), train_mse_vec)\n",
    "plt.plot(np.arange(1,len(test_mse_vec)+1), test_mse_vec)\n",
    "# plt.ylim([0,1])\n",
    "plt.title('Mean Squared Error Loss')\n",
    "plt.legend(['Train', 'Test'])\n",
    "plt.xlabel('Epoch')\n",
    "plt.ylabel('Loss')"
   ]
  },
  {
   "cell_type": "code",
   "execution_count": null,
   "id": "3364a838-8dea-4371-ad49-72063160de2f",
   "metadata": {},
   "outputs": [],
   "source": [
    "training_notes = {\n",
    "    'trainsetsize': len(train_dataset),\n",
    "    'bursts': 'all',\n",
    "    'total_params': model.num_parameters(),\n",
    "    'step size': step_size,\n",
    "    'gamma': gamma,\n",
    "    'other': \"summer model, aurora data\", \n",
    "}"
   ]
  },
  {
   "cell_type": "code",
   "execution_count": null,
   "id": "18464ce3-f101-4076-b529-71d123ab4281",
   "metadata": {},
   "outputs": [],
   "source": [
    "# Save model\n",
    "from datetime import datetime\n",
    "\n",
    "now = datetime.now()\n",
    "now = now.strftime(\"%m-%d-%Y %H:%M\")\n",
    "\n",
    "folder_path = 'models'\n",
    "file_name = f'{tf_config[\"type\"]}_{now}.pth'\n",
    "full_path = f'{folder_path}/{file_name}'\n",
    "\n",
    "torch.save(model.state_dict(), full_path)\n",
    "\n",
    "dicts = [train_config, tf_config, training_notes] \n",
    "\n",
    "# File path to save the output\n",
    "file_path = f'models/{tf_config[\"type\"]}_{now}.txt'\n",
    "\n",
    "# Open the file in write mode\n",
    "with open(file_path, 'w') as file:\n",
    "    for dictionary in dicts:\n",
    "        for key, value in dictionary.items():\n",
    "            file.write(f\"  {key}: {value}\\n\")\n",
    "        file.write(\"\\n\")  # Add a blank line between dictionaries\n",
    "\n",
    "print(f'Dictionaries have been saved to {file_path}')\n",
    "\n",
    "torch.save(train_loss_vec, 'models/train_loss_1122.pt')\n",
    "torch.save(test_loss_vec, 'models/test_loss_1122.pt')\n",
    "torch.save(train_mse_vec, 'models/train_mse_loss_1122.pt')\n",
    "torch.save(test_mse_vec, 'models/test_mse_loss_1122.pt')"
   ]
  },
  {
   "cell_type": "code",
   "execution_count": null,
   "id": "28eef000-533d-4de3-8422-60c2f559bbdd",
   "metadata": {},
   "outputs": [],
   "source": [
    "import IPython\n",
    "app = IPython.get_ipython()\n",
    "app.kernel.do_shutdown(restart=False)"
   ]
  },
  {
   "cell_type": "markdown",
   "id": "6b61d187-ee00-446b-83da-f48a8f3b4dbc",
   "metadata": {},
   "source": [
    "## Save loss curves figures"
   ]
  },
  {
   "cell_type": "code",
   "execution_count": null,
   "id": "74e9d757-a011-4664-90ee-9bc92c8a286f",
   "metadata": {},
   "outputs": [],
   "source": [
    "train_loss = torch.load('models/train_loss_1031.pt', weights_only=True) #train_loss_1122.pt\n",
    "print(train_loss[-1])\n",
    "test_loss = torch.load('models/test_loss_1031.pt',weights_only=True)\n",
    "print(test_loss[-1])"
   ]
  },
  {
   "cell_type": "code",
   "execution_count": null,
   "id": "b842af4c",
   "metadata": {},
   "outputs": [],
   "source": [
    "train_loss = torch.load('models/train_loss_1122.pt', weights_only=True) #train_loss_1122.pt\n",
    "print(train_loss[-1])\n",
    "test_loss = torch.load('models/test_loss_1122.pt',weights_only=True)\n",
    "print(test_loss[-1])"
   ]
  },
  {
   "cell_type": "code",
   "execution_count": null,
   "id": "e37d9c73-6999-45c5-b567-e960d0995ae2",
   "metadata": {},
   "outputs": [],
   "source": [
    "plt.plot(train_loss, linewidth=2)\n",
    "plt.plot(test_loss, linewidth=2)\n",
    "plt.xlabel('Epoch', fontsize=20)\n",
    "plt.ylabel('Loss', fontsize=20)\n",
    "plt.tick_params(labelsize=18)\n",
    "plt.ylim([0,1])\n",
    "plt.legend([\"Train\",\"Test\"], fontsize=18)\n",
    "\n",
    "# plt.savefig('figs/tf_loss_curve.png', dpi=200, bbox_inches='tight', pad_inches=0)"
   ]
  },
  {
   "cell_type": "code",
   "execution_count": null,
   "id": "71d8b85c-5b51-4139-b34c-a6c4f48435d9",
   "metadata": {},
   "outputs": [],
   "source": [
    "def rolling_average_1d(data: list, window_size: int) -> list:\n",
    "    \"\"\"\n",
    "    Compute the rolling average of a 1D Python list.\n",
    "    \n",
    "    Args:\n",
    "        data (list): Input 1D list of numerical values.\n",
    "        window_size (int): The size of the moving window for the rolling average.\n",
    "\n",
    "    Returns:\n",
    "        list: The rolling average as a list.\n",
    "    \"\"\"\n",
    "    if not isinstance(data, list):\n",
    "        raise ValueError(\"Input must be a list.\")\n",
    "    if window_size < 1:\n",
    "        raise ValueError(\"Window size must be at least 1.\")\n",
    "    if len(data) < window_size:\n",
    "        raise ValueError(\"Window size must be smaller than or equal to the length of the list.\")\n",
    "\n",
    "    # Compute the rolling average\n",
    "    rolling_avg = [\n",
    "        sum(data[i:i + window_size]) / window_size\n",
    "        for i in range(len(data) - window_size + 1)\n",
    "    ]\n",
    "    \n",
    "    return rolling_avg"
   ]
  },
  {
   "cell_type": "code",
   "execution_count": null,
   "id": "93eccd2b-2989-4013-80fa-a38cb1b5e5b4",
   "metadata": {},
   "outputs": [],
   "source": [
    "vec = rolling_average_1d(test_loss, window_size = 15)\n",
    "plt.plot(vec)\n",
    "plt.ylim([0,1])"
   ]
  },
  {
   "cell_type": "code",
   "execution_count": null,
   "id": "67e2a1d6-bca3-41da-ad4f-7120899fccca",
   "metadata": {
    "editable": true,
    "slideshow": {
     "slide_type": ""
    },
    "tags": []
   },
   "outputs": [],
   "source": [
    "train_loss = torch.load('models/train_loss_1120_2.pt')\n",
    "print(train_loss[-1])\n",
    "test_loss = torch.load('models/test_loss_1120_2.pt')\n",
    "print(test_loss[-1])"
   ]
  },
  {
   "cell_type": "code",
   "execution_count": null,
   "id": "e0709259-c3d9-4973-aeca-acdcd4c57e96",
   "metadata": {},
   "outputs": [],
   "source": [
    "plt.plot(train_loss)\n",
    "plt.plot(test_loss)"
   ]
  },
  {
   "cell_type": "markdown",
   "id": "8e5b544f-559e-40ca-931b-51a6030c9d02",
   "metadata": {},
   "source": [
    "# Validation"
   ]
  },
  {
   "cell_type": "code",
   "execution_count": null,
   "id": "761715fc-8e43-4cae-b8b3-00ff6e80d479",
   "metadata": {},
   "outputs": [],
   "source": [
    "device = 'cuda'"
   ]
  },
  {
   "cell_type": "markdown",
   "id": "11667075-923b-41ee-a0c4-ee5f3cac2c94",
   "metadata": {
    "editable": true,
    "slideshow": {
     "slide_type": ""
    },
    "tags": []
   },
   "source": [
    "### Landslide"
   ]
  },
  {
   "cell_type": "code",
   "execution_count": null,
   "id": "4f93dcf2-4eef-4833-b9fc-0e06b7b52b3e",
   "metadata": {},
   "outputs": [],
   "source": [
    "from PIL import Image\n",
    "from torchvision.transforms import ToTensor\n",
    "\n",
    "# load mask\n",
    "\n",
    "target = Image.open('ValidationData/PNG_Landslide_Mask.tif')\n",
    "target = ToTensor()(target)\n",
    "\n",
    "print(torch.unique(target))\n",
    "target[target<-1] = -1\n",
    "print(torch.unique(target))\n",
    "\n",
    "print(target.shape)\n",
    "\n",
    "target_landslide = target[0,1248:1440,448:640] # smaller scene with landslide\n",
    "print(target_landslide.shape)\n",
    "print(torch.unique(target_landslide))\n",
    "\n",
    "plt.imshow(target_landslide, interpolation='None')\n",
    "plt.axis('off')"
   ]
  },
  {
   "cell_type": "code",
   "execution_count": null,
   "id": "75ecdbc7-b21d-497b-bb61-26f5078b62e4",
   "metadata": {},
   "outputs": [],
   "source": [
    "landslide = torch.load('ValidationData/landslide_chip.pt')\n",
    "print(landslide.shape)\n",
    "landslide = landslide[9:20,:,:,:] # get 10 pre images + 1 post event image\n",
    "print(landslide.shape)\n",
    "landslide_logit = torch.special.logit(landslide).float()\n",
    "\n",
    "pre_landslide = landslide_logit[:-1, :, : , :].unsqueeze(dim=0)\n",
    "post_landslide = landslide_logit[-1, :, : , :].unsqueeze(dim=0)\n",
    "\n",
    "print(pre_landslide.shape)\n",
    "print(post_landslide.shape)\n",
    "\n",
    "pre_landslide = pre_landslide.to(device)"
   ]
  },
  {
   "cell_type": "code",
   "execution_count": null,
   "id": "d8703c12-189f-4a77-a4eb-e05f64d0cbb6",
   "metadata": {
    "editable": true,
    "slideshow": {
     "slide_type": ""
    },
    "tags": []
   },
   "outputs": [],
   "source": [
    "plt.imshow(landslide[-2, 0, ...], interpolation='None', cmap='gray', vmax=.4)\n",
    "plt.xticks([])\n",
    "plt.yticks([])\n",
    "# plt.savefig(\"figs/pre_landslide_diagram_4.png\", dpi=200, bbox_inches='tight', pad_inches=0)"
   ]
  },
  {
   "cell_type": "markdown",
   "id": "daad3f5c-4dab-4ec4-b657-4e586c40bbea",
   "metadata": {
    "jp-MarkdownHeadingCollapsed": true
   },
   "source": [
    "### Chile Fire"
   ]
  },
  {
   "cell_type": "code",
   "execution_count": null,
   "id": "9b63000f-f8bf-44fd-bee0-02c397178239",
   "metadata": {},
   "outputs": [],
   "source": [
    "# row_min = 1700\n",
    "# row_max = row_min+224*5\n",
    "# col_min = 800\n",
    "# col_max = col_min+224*5\n",
    "\n",
    "row_min = 1500\n",
    "row_max = row_min+224*7\n",
    "col_min = 1000\n",
    "col_max = col_min+224*5"
   ]
  },
  {
   "cell_type": "code",
   "execution_count": null,
   "id": "b59805bc-7e2a-4342-a9fa-8a7c32266cab",
   "metadata": {},
   "outputs": [],
   "source": [
    "target_fire = torch.load('ValidationData/fire_mask.pt',weights_only=True)\n",
    "# target_mask = target_mask[1504:,1000:]\n",
    "target_fire = target_fire[row_min:row_max,col_min:col_max]\n",
    "print(target_fire.shape)\n",
    "plt.imshow(target_fire, interpolation='none')\n",
    "plt.axis('off')"
   ]
  },
  {
   "cell_type": "code",
   "execution_count": null,
   "id": "53fc324a-985d-48c1-a70c-b742263ceb9a",
   "metadata": {},
   "outputs": [],
   "source": [
    "fire_data = torch.load('ValidationData/fire_val_data.pt', weights_only=True)\n",
    "print(fire_data.shape)\n",
    "fire_data = fire_data[:,:,row_min:row_max,col_min:col_max]\n",
    "print(fire_data.shape)\n",
    "plt.imshow(fire_data[-1,1,...], interpolation='none',vmax=.1)\n",
    "plt.colorbar()"
   ]
  },
  {
   "cell_type": "code",
   "execution_count": null,
   "id": "cb1191d9-bda3-406c-9b1a-bfc49f5143ed",
   "metadata": {},
   "outputs": [],
   "source": [
    "fire_data_logit = torch.special.logit(fire_data).float()\n",
    "print(fire_data_logit.dtype)\n",
    "\n",
    "plt.imshow(fire_data_logit[-1,1,...], interpolation='none')\n",
    "plt.colorbar()"
   ]
  },
  {
   "cell_type": "code",
   "execution_count": null,
   "id": "58ddd57e-034f-4de0-b95c-ccd5077c8074",
   "metadata": {},
   "outputs": [],
   "source": [
    "device = 'cuda'\n",
    "pre_fire = fire_data_logit[:7, :, : , :].unsqueeze(dim=0).to(device) # we have 7 pre fire images\n",
    "post_fire = fire_data_logit[-1, :, : , :].unsqueeze(dim=0)\n",
    "\n",
    "print(pre_fire.shape)\n",
    "print(post_fire.shape)"
   ]
  },
  {
   "cell_type": "code",
   "execution_count": null,
   "id": "de099326-d394-4b6b-9347-b57ca02cf3c0",
   "metadata": {},
   "outputs": [],
   "source": [
    "from IPython.display import HTML\n",
    "\n",
    "ani = animate_data(pre_fire[0,...].cpu(), post_fire[0,...], interval=500, vmax=.15)\n",
    "\n",
    "HTML(ani.to_jshtml())"
   ]
  },
  {
   "cell_type": "markdown",
   "id": "cbd9d227-6793-4bd1-8782-9cbb416276b7",
   "metadata": {
    "jp-MarkdownHeadingCollapsed": true
   },
   "source": [
    "### Flood"
   ]
  },
  {
   "cell_type": "code",
   "execution_count": null,
   "id": "a5eb1b9d-94d1-49c5-bec4-dc5d4c345616",
   "metadata": {},
   "outputs": [],
   "source": [
    "target_bangladesh = torch.load('ValidationData/bangladesh_map.pt')\n",
    "print(target_bangladesh.shape)\n",
    "target_bangladesh = target_bangladesh[1248:,1248:]\n",
    "print(target_bangladesh.shape)\n",
    "plt.imshow(target_bangladesh, interpolation='none')\n",
    "# plt.colorbar()\n",
    "plt.axis('off')"
   ]
  },
  {
   "cell_type": "code",
   "execution_count": null,
   "id": "8f5d62d6-6d38-42ff-9068-eaea1c779c55",
   "metadata": {},
   "outputs": [],
   "source": [
    "bangladesh_data = torch.load('ValidationData/bangladesh_val_data.pt')\n",
    "bangladesh_data = bangladesh_data[:,:,1248:,1248:]\n",
    "print(bangladesh_data.shape)"
   ]
  },
  {
   "cell_type": "code",
   "execution_count": null,
   "id": "de7d28e5-39f3-4ec6-abc2-5f1fd4f5573e",
   "metadata": {},
   "outputs": [],
   "source": [
    "bangladesh_logit = torch.special.logit(bangladesh_data).float()\n",
    "print(bangladesh_logit.dtype)\n",
    "\n",
    "pre_bangladesh = bangladesh_logit[:4, :, : , :].unsqueeze(dim=0).to(device) # we only have 4 images before flooding began\n",
    "post_bangladesh = bangladesh_logit[-1, :, : , :].unsqueeze(dim=0) # july 5\n",
    "\n",
    "print(pre_bangladesh.shape)\n",
    "print(post_bangladesh.shape)"
   ]
  },
  {
   "cell_type": "markdown",
   "id": "b8a7f774-644c-48ea-8162-f1f2e0fbfcfe",
   "metadata": {},
   "source": [
    "## Inference"
   ]
  },
  {
   "cell_type": "markdown",
   "id": "2ef1b021-7848-4893-93b4-f2be9a13d52f",
   "metadata": {},
   "source": [
    "### Non-autoregressive"
   ]
  },
  {
   "cell_type": "code",
   "execution_count": null,
   "id": "d84132cf-4b02-4b52-86f3-2296812dd099",
   "metadata": {},
   "outputs": [],
   "source": [
    "def make_preds_sliding(model, pre_imgs, chip_size=8, stride=1, flatten = True):\n",
    "  '''\n",
    "  pre_imgs: (Batch, Time, Channels, Height, Width) (Batch == 1)\n",
    "  '''\n",
    "\n",
    "  assert stride <= chip_size\n",
    "  assert stride > 0\n",
    "\n",
    "  data_dim_row = pre_imgs.shape[-2]\n",
    "  data_dim_col = pre_imgs.shape[-1]\n",
    "\n",
    "  assert data_dim_row % chip_size == 0\n",
    "  assert data_dim_col % chip_size == 0\n",
    "\n",
    "  pred_means = torch.zeros((1,2,data_dim_row,data_dim_col), device=pre_imgs.device)\n",
    "  pred_logvars = torch.zeros_like(pred_means)\n",
    "  div_mat = torch.zeros_like(pred_means)\n",
    "\n",
    "  index_range_row = int(data_dim_row - chip_size + 1)\n",
    "  index_range_col = int(data_dim_col - chip_size + 1)\n",
    "\n",
    "  model.eval() # account for dropout, etc\n",
    "  with torch.no_grad(): # tells torch it doesn't need to keep track of gradients\n",
    "\n",
    "    for i in tqdm(range(0,index_range_row,stride)):\n",
    "      for j in range(0,index_range_col,stride):\n",
    "\n",
    "        if flatten:\n",
    "          chip_mean, chip_logvar = model(pre_imgs[:,:,:,i:(i+chip_size),j:(j+chip_size)].flatten(start_dim=2))\n",
    "        else:\n",
    "          chip_mean, chip_logvar = model(pre_imgs[:,:,:,i:(i+chip_size),j:(j+chip_size)])\n",
    "\n",
    "        pred_means[:,:,i:(i+chip_size),j:(j+chip_size)] += chip_mean.reshape((1,2,chip_size,chip_size))\n",
    "        pred_logvars[:,:,i:(i+chip_size),j:(j+chip_size)] += chip_logvar.reshape((1,2,chip_size,chip_size))\n",
    "        div_mat[:,:,i:(i+chip_size),j:(j+chip_size)] += 1 #count how many times we hit a certain pixel\n",
    "\n",
    "  pred_means = pred_means / div_mat\n",
    "  pred_logvars = pred_logvars / div_mat\n",
    "\n",
    "  return pred_means, pred_logvars"
   ]
  },
  {
   "cell_type": "markdown",
   "id": "917d2399-69a1-4104-bd99-75b080aafda0",
   "metadata": {
    "jp-MarkdownHeadingCollapsed": true
   },
   "source": [
    "### Autoregressive"
   ]
  },
  {
   "cell_type": "code",
   "execution_count": null,
   "id": "1cd0cc43-af0c-4d04-bd1f-ccaba5ffd5e7",
   "metadata": {},
   "outputs": [],
   "source": [
    "def make_preds_sliding(model, pre_imgs, chip_size=8, stride=1, flatten = True):\n",
    "  '''\n",
    "  pre_imgs: (Batch, Time, Channels, Height, Width) (Batch == 1)\n",
    "  '''\n",
    "\n",
    "  assert stride <= chip_size\n",
    "  assert stride > 0\n",
    "\n",
    "  data_dim_row = pre_imgs.shape[-2]\n",
    "  data_dim_col = pre_imgs.shape[-1]\n",
    "\n",
    "  assert data_dim_row % chip_size == 0\n",
    "  assert data_dim_col % chip_size == 0\n",
    "\n",
    "  pred_means = torch.zeros((1,2,data_dim_row,data_dim_col), device=pre_imgs.device)\n",
    "  pred_logvars = torch.zeros_like(pred_means)\n",
    "  div_mat = torch.zeros_like(pred_means)\n",
    "\n",
    "  index_range_row = int(data_dim_row - chip_size + 1)\n",
    "  index_range_col = int(data_dim_col - chip_size + 1)\n",
    "\n",
    "  model.eval() # account for dropout, etc\n",
    "  with torch.no_grad(): # tells torch it doesn't need to keep track of gradients\n",
    "\n",
    "    for i in tqdm(range(0,index_range_row,stride)):\n",
    "      for j in range(0,index_range_col,stride):\n",
    "\n",
    "        if flatten:\n",
    "          chip_mean, chip_logvar = model(pre_imgs[:,:,:,i:(i+chip_size),j:(j+chip_size)].flatten(start_dim=2))\n",
    "        else:\n",
    "          chip_mean, chip_logvar = model(pre_imgs[:,:,:,i:(i+chip_size),j:(j+chip_size)])\n",
    "\n",
    "          # get just the last one, since the model outputs predictions at each timesteps\n",
    "          chip_mean = chip_mean[:,-1,...]\n",
    "          chip_logvar = chip_logvar[:,-1,...]\n",
    "        print(np.shape(chip_mean))\n",
    "        pred_means[:,:,i:(i+chip_size),j:(j+chip_size)] += chip_mean.reshape((1,2,chip_size,chip_size))\n",
    "        pred_logvars[:,:,i:(i+chip_size),j:(j+chip_size)] += chip_logvar.reshape((1,2,chip_size,chip_size))\n",
    "        div_mat[:,:,i:(i+chip_size),j:(j+chip_size)] += 1 #count how many times we hit a certain pixel\n",
    "\n",
    "  pred_means = pred_means / div_mat\n",
    "  pred_logvars = pred_logvars / div_mat\n",
    "\n",
    "  return pred_means, pred_logvars"
   ]
  },
  {
   "cell_type": "markdown",
   "id": "02c4d419-2d74-4cea-9ee7-848bec7c95e9",
   "metadata": {},
   "source": [
    "### Eval"
   ]
  },
  {
   "cell_type": "code",
   "execution_count": null,
   "id": "2397ee03-9839-4e43-8fe5-21fe74c709da",
   "metadata": {},
   "outputs": [],
   "source": [
    "transformer = SpatioTemporalTransformer(tf_config).to(device)\n",
    "# transformer.load_state_dict(torch.load(f\"models/transformer_10-31-2024 18:20.pth\"))\n",
    "transformer.load_state_dict(torch.load(f\"models/transformer_04-21-2025 23:33.pth\"))\n",
    "print(\"Number of parameters: \", transformer.num_parameters())\n",
    "\n",
    "# rnn = RNN(rnn_config).to(device)\n",
    "# rnn.load_state_dict(torch.load(f\"models/RNN_11-22-2024 20:23.pth\"))\n",
    "# print(\"Number of parameters: \", rnn.num_parameters())\n",
    "\n",
    "#RNN_11-22-2024 20:23\n",
    "#rnn_11-21-2024 23:54"
   ]
  },
  {
   "cell_type": "code",
   "execution_count": null,
   "id": "8f7e15fe",
   "metadata": {},
   "outputs": [],
   "source": [
    "transformer"
   ]
  },
  {
   "cell_type": "code",
   "execution_count": null,
   "id": "2914528d-245f-4086-972c-d35b57d1b6d8",
   "metadata": {},
   "outputs": [],
   "source": [
    "event = 'New Guinea Landslide'\n",
    "\n",
    "if event == 'New Guinea Landslide':\n",
    "  pre_imgs = pre_landslide\n",
    "  post_img = post_landslide\n",
    "  target_mask = target_landslide\n",
    "  stride=1\n",
    "  name_event = 'landslide' # for saving figs\n",
    "elif event == 'Chile Fire':\n",
    "  pre_imgs = pre_fire\n",
    "  post_img = post_fire\n",
    "  target_mask = target_fire\n",
    "  stride=4\n",
    "  name_event = 'fire'\n",
    "elif event == 'Bangladesh Flood':\n",
    "  pre_imgs = pre_bangladesh\n",
    "  post_img = post_bangladesh\n",
    "  target_mask = target_bangladesh\n",
    "  stride=4\n",
    "  name_event = 'flood'\n",
    "else:\n",
    "  raise NotImplementedError\n",
    "\n",
    "# rnn_means, rnn_logvars = make_preds_sliding(rnn, pre_imgs[:, :-1, ...], chip_size=8, stride=stride)\n",
    "tf_means, tf_logvars = make_preds_sliding(transformer, pre_imgs[:, :-1, ...], chip_size=16, flatten=False, stride=stride)"
   ]
  },
  {
   "cell_type": "code",
   "execution_count": null,
   "id": "3ed4328b-221c-45fc-828f-bdc6ab94f022",
   "metadata": {},
   "outputs": [],
   "source": [
    "tf_means.shape"
   ]
  },
  {
   "cell_type": "code",
   "execution_count": null,
   "id": "deee4ac2-8b04-4dff-a571-fce2c5ffb7fe",
   "metadata": {},
   "outputs": [],
   "source": [
    "plt.imshow(np.sqrt(np.exp(tf_logvars[0,0,...].detach().cpu().numpy())), interpolation='none', cmap='gray', vmax=.3)\n",
    "plt.xticks([])\n",
    "plt.yticks([])\n",
    "plt.savefig(\"figs/tf_std_diagram.png\", dpi=200, bbox_inches='tight', pad_inches=0)"
   ]
  },
  {
   "cell_type": "code",
   "execution_count": null,
   "id": "efa189a6-e10b-4ea5-9609-335f4a655e45",
   "metadata": {},
   "outputs": [],
   "source": [
    "dam = compute_damage_map(tf_means[0,0,...], tf_logvars[0,0,...], post_landslide[0,0,...])"
   ]
  },
  {
   "cell_type": "code",
   "execution_count": null,
   "id": "662d0e35-2c3a-4d27-90dd-ef5b0357de35",
   "metadata": {},
   "outputs": [],
   "source": [
    "plt.imshow(dam, interpolation='none', cmap='Reds', vmax=8)\n",
    "plt.xticks([])\n",
    "plt.yticks([])\n",
    "plt.savefig(\"figs/dam_map_diagram.png\", dpi=200, bbox_inches='tight', pad_inches=0)"
   ]
  },
  {
   "cell_type": "markdown",
   "id": "a6159bc5-5c17-4c25-b796-154967c95283",
   "metadata": {
    "jp-MarkdownHeadingCollapsed": true
   },
   "source": [
    "### Viz"
   ]
  },
  {
   "cell_type": "code",
   "execution_count": null,
   "id": "e048225d-2e2a-455f-b63c-89c2bc671a12",
   "metadata": {
    "editable": true,
    "slideshow": {
     "slide_type": ""
    },
    "tags": []
   },
   "outputs": [],
   "source": [
    "tf_damage_map, log_ratio_im = visualize_reconstruction(pre_imgs[0,...], post_img[0,...], tf_means[0,...], tf_logvars[0,...], 'Transformer', is_logit=True, vmax_vv=.3, vmax_vh=.1)"
   ]
  },
  {
   "cell_type": "code",
   "execution_count": null,
   "id": "8cddbfdd-c738-42ed-b013-12cfa7179d7b",
   "metadata": {},
   "outputs": [],
   "source": [
    "# non damaged scene:\n",
    "tf_damage_map, log_ratio_im = visualize_reconstruction(pre_imgs[0, :-1, ...], pre_imgs[0, -1, ...], tf_means[0,...], tf_logvars[0,...], 'Transformer', is_logit=True, vmax_vv=.3, vmax_vh=.1)"
   ]
  },
  {
   "cell_type": "markdown",
   "id": "530ac83a-504e-4877-9fba-f9ab1e609f9d",
   "metadata": {
    "jp-MarkdownHeadingCollapsed": true
   },
   "source": [
    "### Helpers"
   ]
  },
  {
   "cell_type": "code",
   "execution_count": null,
   "id": "deafccfa-bb53-41b4-9e7c-0186bfd0d15d",
   "metadata": {
    "editable": true,
    "slideshow": {
     "slide_type": ""
    },
    "tags": []
   },
   "outputs": [],
   "source": [
    "from sklearn.metrics import precision_recall_curve, roc_curve, roc_auc_score, auc, average_precision_score\n",
    "\n",
    "def compute_roc(pred_map, target_map):\n",
    "  '''\n",
    "  Computes num_maps of binary damage maps based on input\n",
    "  pred_map (ie log ratio, z-score, etc)\n",
    "  '''\n",
    "  assert pred_map.shape == target_map.shape\n",
    "\n",
    "  target_map = target_map.flatten().cpu().numpy()\n",
    "  pred_map = pred_map.flatten().cpu().numpy()\n",
    "\n",
    "  precisions, recalls, thresholds = precision_recall_curve(target_map, pred_map)\n",
    "  fprs, tprs, _ = roc_curve(target_map, pred_map)\n",
    "\n",
    "  f1_scores = 2*recalls*precisions/(recalls+precisions)\n",
    "  f1_scores[np.isnan(f1_scores)] = 0\n",
    "\n",
    "  roc_auc = roc_auc_score(target_map, pred_map)\n",
    "\n",
    "  pr_auc = average_precision_score(target_map, pred_map)\n",
    "\n",
    "  # put metrics into a dictionary\n",
    "\n",
    "  metrics = {'precisions': precisions,\n",
    "             'recalls': recalls,\n",
    "             'fprs': fprs,\n",
    "             'tprs': tprs,\n",
    "             'f1_scores': f1_scores,\n",
    "             'thresholds': thresholds,\n",
    "             'roc_auc': roc_auc,\n",
    "             'pr_auc' : pr_auc}\n",
    "\n",
    "  return metrics\n",
    "\n",
    "def synthesize_damage_map(damage_map, num_scenes=2, method='max'):\n",
    "  assert damage_map.shape[num_scenes-1] == 2\n",
    "  assert num_scenes == 1 or num_scenes==2\n",
    "\n",
    "  if method not in ['max','sum']:\n",
    "    raise NotImplementedError('Method must be either max or sum')\n",
    "\n",
    "  if method == 'max':\n",
    "    return torch.max(damage_map, dim=num_scenes-1)[0]\n",
    "  elif method == 'sum':\n",
    "    # this is mahalanobis distance where we assume correlation (off diagonal terms) are close to 0\n",
    "    if num_scenes==2:\n",
    "      return torch.sqrt(damage_map[:, 0, ...]**2 + damage_map[:, 1, ...]**2)\n",
    "    else:\n",
    "      return torch.sqrt(damage_map[0, ...]**2 + damage_map[1, ...]**2)\n",
    "\n",
    "def compute_damage_map(pred_mean, pred_logvar, post_img):\n",
    "  assert pred_mean.shape == pred_logvar.shape\n",
    "  assert pred_mean.shape == post_img.shape\n",
    "\n",
    "  post_img = post_img.cpu()\n",
    "  pred_mean = pred_mean.cpu()\n",
    "  pred_logvar = pred_logvar.cpu()\n",
    "\n",
    "  pred_std_image = torch.sqrt(torch.exp(pred_logvar))\n",
    "  damage_map = torch.absolute((post_img - pred_mean) / pred_std_image)\n",
    "\n",
    "  return damage_map"
   ]
  },
  {
   "cell_type": "markdown",
   "id": "23f241f3-0166-4f63-ad59-5bbec6fce545",
   "metadata": {},
   "source": [
    "### PR Curves etc"
   ]
  },
  {
   "cell_type": "code",
   "execution_count": null,
   "id": "34940b41-e520-4034-bb56-caf4787a7dfc",
   "metadata": {},
   "outputs": [],
   "source": [
    "# experiment with non damaged scene + damage scene, per Charlie rec\n",
    "\n",
    "tf_damage_map1 = compute_damage_map(tf_means[0,...], tf_logvars[0,...], pre_imgs[0, -1, ...]) # no damage\n",
    "tf_damage_map2 = compute_damage_map(tf_means[0,...], tf_logvars[0,...], post_img[0, ...]) #damage\n",
    "\n",
    "rnn_damage_map1 = compute_damage_map(rnn_means[0,...], rnn_logvars[0,...], pre_imgs[0, -1, ...])\n",
    "rnn_damage_map2 = compute_damage_map(rnn_means[0,...], rnn_logvars[0,...], post_img[0, ...])\n",
    "\n",
    "log_ratio_im1 = log_ratio(pre_imgs[0, :-1, ...].cpu(), pre_imgs[0, -1, ...].cpu(), is_logit=True, method='mean')\n",
    "log_ratio_im2 = log_ratio(pre_imgs[0, :-1, ...].cpu(), post_img[0,...], is_logit=True, method='mean')\n",
    "\n",
    "log_ratio_median1 = log_ratio(pre_imgs[0, :-1, ...].cpu(), pre_imgs[0, -1, ...].cpu(), is_logit=True, method='median')\n",
    "log_ratio_median2 = log_ratio(pre_imgs[0,...].cpu(), post_img[0,...], is_logit=True, method='median')\n",
    "\n",
    "tf_damage_map = torch.stack((tf_damage_map1, tf_damage_map2))\n",
    "rnn_damage_map = torch.stack((rnn_damage_map1, rnn_damage_map2))\n",
    "log_ratio_im = torch.stack((log_ratio_im1, log_ratio_im2))\n",
    "log_ratio_median = torch.stack((log_ratio_median1, log_ratio_median2))"
   ]
  },
  {
   "cell_type": "code",
   "execution_count": null,
   "id": "fbefff93-e3cc-408c-b6c2-c2e6ddbb67f4",
   "metadata": {
    "editable": true,
    "slideshow": {
     "slide_type": ""
    },
    "tags": []
   },
   "outputs": [],
   "source": [
    "max_tf_map = torch.load(f\"results/{name_event}_tf_damage_maps.pt\", weights_only=True)\n",
    "max_rnn_map = torch.load(f\"results/{name_event}_rnn_damage_maps.pt\", weights_only=True)\n",
    "max_med_map = torch.load(f\"results/{name_event}_med_damage_maps.pt\", weights_only=True)"
   ]
  },
  {
   "cell_type": "code",
   "execution_count": null,
   "id": "55c8b5c9-aa39-4500-9be8-001b7a25ffee",
   "metadata": {},
   "outputs": [],
   "source": [
    "# method = 'max' # can be max or sum\n",
    "\n",
    "# max_tf_map = synthesize_damage_map(tf_damage_map, method=method)\n",
    "# max_rnn_map = synthesize_damage_map(rnn_damage_map, method=method)\n",
    "# max_mean_map = synthesize_damage_map(log_ratio_im, method='max')\n",
    "# max_med_map = synthesize_damage_map(log_ratio_median, method='max')\n",
    "\n",
    "two_scene_target = torch.stack((torch.zeros_like(target_mask),target_mask))\n",
    "\n",
    "model_metrics = compute_roc(max_tf_map, two_scene_target)\n",
    "rnn_metrics = compute_roc(max_rnn_map, two_scene_target)\n",
    "# mean_metrics = compute_roc(max_mean_map, two_scene_target)\n",
    "med_metrics = compute_roc(max_med_map, two_scene_target)\n",
    "\n",
    "baseline_pr = torch.sum(two_scene_target)/(two_scene_target.shape[0]*two_scene_target.shape[1]*two_scene_target.shape[2])\n",
    "print(baseline_pr)"
   ]
  },
  {
   "cell_type": "code",
   "execution_count": null,
   "id": "d866cfa9-2194-4803-b6a5-935a3a6efff7",
   "metadata": {},
   "outputs": [],
   "source": [
    "# torch.save(max_tf_map, f\"results/{name_event}_tf_damage_maps.pt\")\n",
    "# torch.save(max_rnn_map, f\"results/{name_event}_rnn_damage_maps.pt\")\n",
    "# torch.save(max_mean_map, f\"results/{name_event}_mean_damage_maps.pt\")\n",
    "# torch.save(max_med_map, f\"results/{name_event}_med_damage_maps.pt\")"
   ]
  },
  {
   "cell_type": "code",
   "execution_count": null,
   "id": "eae36df6-abbb-4d57-b90d-3652d66aca55",
   "metadata": {},
   "outputs": [],
   "source": [
    "# def plot_best_map(model_metrics, damage_map):\n",
    "\n",
    "#   best_threshold = model_metrics['thresholds'][np.argmax(model_metrics['f1_scores'])]\n",
    "#   best_damage_map = damage_map.cpu() > best_threshold\n",
    "\n",
    "#   return best_damage_map\n",
    "\n",
    "# tf_best_damage_map = plot_best_map(model_metrics, max_tf_map)\n",
    "# rnn_best_damage_map = plot_best_map(rnn_metrics, max_rnn_map)\n",
    "# mean_best_damage_map = plot_best_map(mean_metrics, max_mean_map)\n",
    "# med_best_damage_map = plot_best_map(med_metrics, max_med_map)"
   ]
  },
  {
   "cell_type": "code",
   "execution_count": null,
   "id": "21414cd3-6975-4fbe-a55e-a2840c384bdf",
   "metadata": {},
   "outputs": [],
   "source": [
    "# torch.save(tf_best_damage_map, f\"results/{name_event}_tf_best.pt\")\n",
    "# torch.save(rnn_best_damage_map, f\"results/{name_event}_rnn_best.pt\")\n",
    "# torch.save(mean_best_damage_map, f\"results/{name_event}_mean_best.pt\")\n",
    "# torch.save(med_best_damage_map, f\"results/{name_event}_med_best.pt\")"
   ]
  },
  {
   "cell_type": "code",
   "execution_count": null,
   "id": "0073003a-79f0-4df1-b057-e310a5edf244",
   "metadata": {},
   "outputs": [],
   "source": [
    "print(\"TF AUC: \", model_metrics['pr_auc'])\n",
    "print(\"TF F1: \", np.max(model_metrics['f1_scores']))\n",
    "\n",
    "print(\"RNN AUC: \", rnn_metrics['pr_auc'])\n",
    "print(\"RNN F1: \", np.max(rnn_metrics['f1_scores']))\n",
    "\n",
    "# print(mean_metrics['pr_auc'])\n",
    "# print(np.max(mean_metrics['f1_scores']))\n",
    "\n",
    "print(med_metrics['pr_auc'])\n",
    "print(np.max(med_metrics['f1_scores']))"
   ]
  },
  {
   "cell_type": "code",
   "execution_count": null,
   "id": "1b163759-0f81-476f-9c1a-ddaed98d5c9d",
   "metadata": {},
   "outputs": [],
   "source": [
    "plt.figure(figsize=(8,6))\n",
    "\n",
    "plt.plot(model_metrics['recalls'],model_metrics['precisions'],'b')\n",
    "plt.plot(rnn_metrics['recalls'][:-1],rnn_metrics['precisions'][:-1],'r')\n",
    "# plt.plot(mean_metrics['recalls'][:-1],mean_metrics['precisions'][:-1],'r')\n",
    "plt.plot(med_metrics['recalls'][:-1],med_metrics['precisions'][:-1],'g')\n",
    "plt.plot(np.arange(0,1,.01),torch.ones(100)*baseline_pr,linestyle='dashed',color='tab:grey')\n",
    "plt.scatter(1,1,c='k',s=50)\n",
    "\n",
    "plt.plot(model_metrics['recalls'][np.argmax(model_metrics['f1_scores'])],model_metrics['precisions'][np.argmax(model_metrics['f1_scores'])],'b*',markersize=15)\n",
    "plt.annotate('F1 = {:.3f}'.format(np.max(model_metrics['f1_scores'])),\n",
    " (model_metrics['recalls'][np.argmax(model_metrics['f1_scores'])]+.02,model_metrics['precisions'][np.argmax(model_metrics['f1_scores'])]-.02), \n",
    "             fontsize=14\n",
    " )\n",
    "\n",
    "plt.plot(rnn_metrics['recalls'][np.argmax(rnn_metrics['f1_scores'])],rnn_metrics['precisions'][np.argmax(rnn_metrics['f1_scores'])],'r*',markersize=15)\n",
    "plt.annotate('F1 = {:.3f}'.format(np.max(rnn_metrics['f1_scores'])),\n",
    "(rnn_metrics['recalls'][np.argmax(rnn_metrics['f1_scores'])]-.2,rnn_metrics['precisions'][np.argmax(rnn_metrics['f1_scores'])]-.04),\n",
    "             fontsize=14\n",
    ")\n",
    "\n",
    "# plt.plot(mean_metrics['recalls'][np.argmax(mean_metrics['f1_scores'])],mean_metrics['precisions'][np.argmax(mean_metrics['f1_scores'])],'r*',markersize=15)\n",
    "# plt.annotate('F1 = {:.3f}'.format(np.max(mean_metrics['f1_scores'])),\n",
    "#  (mean_metrics['recalls'][np.argmax(mean_metrics['f1_scores'])]+.02,mean_metrics['precisions'][np.argmax(mean_metrics['f1_scores'])]-.01),\n",
    "#              fontsize=14\n",
    "#  )\n",
    "\n",
    "plt.plot(med_metrics['recalls'][np.argmax(med_metrics['f1_scores'])],med_metrics['precisions'][np.argmax(med_metrics['f1_scores'])],'g*',markersize=15)\n",
    "plt.annotate('F1 = {:.3f}'.format(np.max(med_metrics['f1_scores'])),\n",
    " (med_metrics['recalls'][np.argmax(med_metrics['f1_scores'])]-.2,med_metrics['precisions'][np.argmax(med_metrics['f1_scores'])]-.02),\n",
    "             fontsize=14\n",
    " )\n",
    "\n",
    "plt.annotate(\"Random Classifier\",(0.55,baseline_pr+.02), c='tab:grey', fontsize=14)\n",
    "plt.annotate(\"Perfect\",(.86,.97),fontsize=14)\n",
    "plt.annotate(\"Classifier\",(.86,.92),fontsize=14)\n",
    "\n",
    "plt.legend(['Transformer AUC={:.3f}'.format(model_metrics['pr_auc']),\n",
    "            'RNN AUC={:.3f}'.format(rnn_metrics['pr_auc']),\n",
    "            'Log Ratio AUC={:.3f}'.format(med_metrics['pr_auc']), #'Log Ratio (Mean) AUC={:.3f}'.format(mean_metrics['pr_auc']),\n",
    "  ], fontsize=14,loc='lower left', bbox_to_anchor=(0, 0.05))\n",
    "plt.xlabel(\"Recall\", fontsize=16)\n",
    "plt.ylabel(\"Precision\",fontsize=16)\n",
    "\n",
    "plt.tick_params(axis='both', which='major', labelsize=14) \n",
    "plt.ylim(bottom=0, top=1.01)\n",
    "plt.xlim(left=0, right=1.01)\n",
    "\n",
    "# channel_name = 'VV' if channel==0 else 'VH'\n",
    "# channel_name = 'Both'\n",
    "# plt.title(f\"Precision-Recall Curve for {event}\") #, Method={method}\")\n",
    "\n",
    "plt.savefig(f\"figs/{name_event}_PR.png\", dpi=200, bbox_inches='tight', pad_inches=0)"
   ]
  },
  {
   "cell_type": "code",
   "execution_count": null,
   "id": "eec6cb38-eebe-45b4-9e24-d02242561df4",
   "metadata": {},
   "outputs": [],
   "source": [
    "fig, ax = plt.subplots()\n",
    "\n",
    "fig.set_figheight(4.8)\n",
    "fig.set_figwidth(6.4)\n",
    "\n",
    "ax.plot(100*model_metrics['thresholds']/model_metrics['thresholds'][-1],model_metrics['f1_scores'][:-1],'b')\n",
    "ax.plot(100*rnn_metrics['thresholds']/rnn_metrics['thresholds'][-1],rnn_metrics['f1_scores'][:-1],'r')\n",
    "# ax.plot(100*mean_metrics['thresholds']/mean_metrics['thresholds'][-1],mean_metrics['f1_scores'][:-1],'r')\n",
    "ax.plot(100*med_metrics['thresholds']/med_metrics['thresholds'][-1],med_metrics['f1_scores'][:-1],'g')\n",
    "\n",
    "ax.set_xlabel('Threshold (%)', fontsize=16)\n",
    "ax.set_ylabel('F1 Score',fontsize=16)\n",
    "ax.set_ylim(0,model_metrics['f1_scores'][np.argmax(model_metrics['f1_scores'])]+.05)\n",
    "ax.set_xlim(0,100)\n",
    "ax.tick_params(axis='both', which='major', labelsize=14) \n",
    "\n",
    "ax.plot(100*model_metrics['thresholds'][np.argmax(model_metrics['f1_scores'])]/model_metrics['thresholds'][-1],\n",
    "           model_metrics['f1_scores'][np.argmax(model_metrics['f1_scores'])],'b*',markersize=15)\n",
    "ax.annotate('F1 = {:.3f}'.format(np.max(model_metrics['f1_scores'])),\n",
    " (100*model_metrics['thresholds'][np.argmax(model_metrics['f1_scores'])]/model_metrics['thresholds'][-1] + 2,\n",
    "  model_metrics['f1_scores'][np.argmax(model_metrics['f1_scores'])]), fontsize = 14\n",
    " ) \n",
    "\n",
    "ax.plot(100*rnn_metrics['thresholds'][np.argmax(rnn_metrics['f1_scores'])]/rnn_metrics['thresholds'][-1],\n",
    "           rnn_metrics['f1_scores'][np.argmax(rnn_metrics['f1_scores'])],'r*',markersize=15)\n",
    "ax.annotate('F1 = {:.3f}'.format(np.max(rnn_metrics['f1_scores'])),\n",
    " (100*rnn_metrics['thresholds'][np.argmax(rnn_metrics['f1_scores'])]/rnn_metrics['thresholds'][-1] + 2,\n",
    "  rnn_metrics['f1_scores'][np.argmax(rnn_metrics['f1_scores'])]), fontsize = 14\n",
    " )\n",
    "\n",
    "# ax.plot(100*mean_metrics['thresholds'][np.argmax(mean_metrics['f1_scores'])]/mean_metrics['thresholds'][-1],\n",
    "#            mean_metrics['f1_scores'][np.argmax(mean_metrics['f1_scores'])],'r*',markersize=15)\n",
    "# ax.annotate('F1 = {:.3f}'.format(np.max(mean_metrics['f1_scores'])),\n",
    "#  (100*mean_metrics['thresholds'][np.argmax(mean_metrics['f1_scores'])]/mean_metrics['thresholds'][-1] + 2,\n",
    "#   mean_metrics['f1_scores'][np.argmax(mean_metrics['f1_scores'])]), fontsize = 14\n",
    "#  )\n",
    "\n",
    "ax.plot(100*med_metrics['thresholds'][np.argmax(med_metrics['f1_scores'])]/med_metrics['thresholds'][-1],\n",
    "           med_metrics['f1_scores'][np.argmax(med_metrics['f1_scores'])],'g*',markersize=15)\n",
    "ax.annotate('F1 = {:.3f}'.format(np.max(med_metrics['f1_scores'])),\n",
    " (100*med_metrics['thresholds'][np.argmax(med_metrics['f1_scores'])]/med_metrics['thresholds'][-1] + 2,\n",
    "  med_metrics['f1_scores'][np.argmax(med_metrics['f1_scores'])]), fontsize = 14\n",
    " )\n",
    "\n",
    "plt.legend(['Transformer',\n",
    "            'RNN',\n",
    "            'Log Ratio',\n",
    "  ], fontsize=14,loc='upper right')\n",
    "\n",
    "plt.savefig(f\"figs/{name_event}_threshold.png\", dpi=200, bbox_inches='tight', pad_inches=0.1)"
   ]
  },
  {
   "cell_type": "markdown",
   "id": "af875199-1f8f-4d80-9622-226603e41e44",
   "metadata": {},
   "source": [
    "### TF Threshold comparison"
   ]
  },
  {
   "cell_type": "code",
   "execution_count": null,
   "id": "fb90fd41-e16c-4e7a-8a75-2d996f80ccb8",
   "metadata": {},
   "outputs": [],
   "source": [
    "landslide_map = torch.load(f\"results/landslide_tf_damage_maps.pt\", weights_only=True)\n",
    "fire_map = torch.load(f\"results/fire_tf_damage_maps.pt\", weights_only=True)\n",
    "flood_map = torch.load(f\"results/flood_tf_damage_maps.pt\", weights_only=True)"
   ]
  },
  {
   "cell_type": "code",
   "execution_count": null,
   "id": "cc910ba7-35fd-44b9-8c3f-5d7df6d6cdf2",
   "metadata": {},
   "outputs": [],
   "source": [
    "two_scene_target_landslide = torch.stack((torch.zeros_like(target_landslide),target_landslide))\n",
    "two_scene_target_fire = torch.stack((torch.zeros_like(target_fire),target_fire))\n",
    "two_scene_target_flood = torch.stack((torch.zeros_like(target_bangladesh),target_bangladesh))\n",
    "\n",
    "landslide_metrics = compute_roc(landslide_map, two_scene_target_landslide)\n",
    "fire_metrics = compute_roc(fire_map, two_scene_target_fire)\n",
    "flood_metrics = compute_roc(flood_map, two_scene_target_flood)"
   ]
  },
  {
   "cell_type": "code",
   "execution_count": null,
   "id": "5fd08e73-d90c-4135-b766-e09b7916b7b7",
   "metadata": {},
   "outputs": [],
   "source": [
    "model_metrics = landslide_metrics\n",
    "rnn_metrics = fire_metrics\n",
    "med_metrics = flood_metrics\n",
    "\n",
    "fig, ax = plt.subplots()\n",
    "\n",
    "fig.set_figheight(4.8)\n",
    "fig.set_figwidth(6.4)\n",
    "\n",
    "ax.plot(model_metrics['thresholds'],model_metrics['f1_scores'][:-1],'b')\n",
    "ax.plot(rnn_metrics['thresholds'],rnn_metrics['f1_scores'][:-1],'r')\n",
    "ax.plot(med_metrics['thresholds'],med_metrics['f1_scores'][:-1],'g')\n",
    "\n",
    "ax.set_xlabel('Threshold (SD)', fontsize=16)\n",
    "ax.set_ylabel('F1 Score',fontsize=16)\n",
    "ax.set_ylim(0,model_metrics['f1_scores'][np.argmax(model_metrics['f1_scores'])]+.05)\n",
    "ax.set_xlim(0,25)\n",
    "ax.tick_params(axis='both', which='major', labelsize=14) \n",
    "\n",
    "ax.plot(model_metrics['thresholds'][np.argmax(model_metrics['f1_scores'])],\n",
    "           model_metrics['f1_scores'][np.argmax(model_metrics['f1_scores'])],'b*',markersize=15)\n",
    "ax.annotate('F1 = {:.3f}'.format(np.max(model_metrics['f1_scores'])),\n",
    " (model_metrics['thresholds'][np.argmax(model_metrics['f1_scores'])] + .5,\n",
    "  model_metrics['f1_scores'][np.argmax(model_metrics['f1_scores'])]), fontsize = 14\n",
    " ) \n",
    "\n",
    "ax.plot(rnn_metrics['thresholds'][np.argmax(rnn_metrics['f1_scores'])],\n",
    "           rnn_metrics['f1_scores'][np.argmax(rnn_metrics['f1_scores'])],'r*',markersize=15)\n",
    "ax.annotate('F1 = {:.3f}'.format(np.max(rnn_metrics['f1_scores'])),\n",
    " (rnn_metrics['thresholds'][np.argmax(rnn_metrics['f1_scores'])] - 3.3,\n",
    "  rnn_metrics['f1_scores'][np.argmax(rnn_metrics['f1_scores'])] + .02), fontsize = 14\n",
    " )\n",
    "\n",
    "ax.plot(med_metrics['thresholds'][np.argmax(med_metrics['f1_scores'])],\n",
    "           med_metrics['f1_scores'][np.argmax(med_metrics['f1_scores'])],'g*',markersize=15)\n",
    "ax.annotate('F1 = {:.3f}'.format(np.max(med_metrics['f1_scores'])),\n",
    " (med_metrics['thresholds'][np.argmax(med_metrics['f1_scores'])] + .5,\n",
    "  med_metrics['f1_scores'][np.argmax(med_metrics['f1_scores'])]), fontsize = 14\n",
    " )\n",
    "\n",
    "plt.legend(['Landslide',\n",
    "            'Fire',\n",
    "            'Flood',\n",
    "  ], fontsize=14,loc='upper right')\n",
    "\n",
    "plt.savefig(f\"figs/tf_all_threshold.png\", dpi=200, bbox_inches='tight', pad_inches=0.1)"
   ]
  },
  {
   "cell_type": "markdown",
   "id": "5f9b0910-728c-4870-b4ae-80501ffcc514",
   "metadata": {},
   "source": [
    "# Plotting with Contextily and Rasterio"
   ]
  },
  {
   "cell_type": "code",
   "execution_count": null,
   "id": "5116b8bf-3b1e-498f-924e-bae3e4499876",
   "metadata": {},
   "outputs": [],
   "source": [
    "import rasterio\n",
    "\n",
    "with rasterio.open('ValidationData/copernicus_fire_map.tif') as ds:\n",
    "    X0 = ds.read(1)"
   ]
  },
  {
   "cell_type": "code",
   "execution_count": null,
   "id": "82d4938b-aea6-43e3-8a51-10e3645f3300",
   "metadata": {},
   "outputs": [],
   "source": [
    "plt.imshow(X0, interpolation='none')"
   ]
  },
  {
   "cell_type": "code",
   "execution_count": null,
   "id": "51bae3b4-6e09-4a1c-81ed-ff59238587b9",
   "metadata": {},
   "outputs": [],
   "source": [
    "plt.imshow(max_tf_map[-1,...], cmap='plasma')\n",
    "plt.colorbar()"
   ]
  },
  {
   "cell_type": "code",
   "execution_count": null,
   "id": "26393134-a86a-4c47-9818-63843c2e207a",
   "metadata": {
    "editable": true,
    "slideshow": {
     "slide_type": ""
    },
    "tags": []
   },
   "outputs": [],
   "source": [
    "# image = max_tf_map[-1,...]\n",
    "image = X0\n",
    "# bounds = [88.96546265, 21.65505773, 91.33990759, 24.17825791] #bangladesh flood\n",
    "# bounds = [88.965442, 21.654429, 91.198689, 24.178055]\n",
    "# bounds = [88.96546265-.5, 21.65505773, 91.33990759-.5, 24.17825791]\n",
    "\n",
    "# bounds = [-71.53071089, -33.20143816, -71.2964628 , -32.98270579] #chile fire\n",
    "\n",
    "# bounds = [143.3,  -5.4, 143.4,  -5.3] #new guinea landslide\n",
    "\n",
    "# code here to account for how I chopped up the image, see notebook\n",
    "\n",
    "# Unpack the bounds\n",
    "min_lon, min_lat, max_lon, max_lat = bounds\n",
    "\n",
    "# Plot the image with the extent defined by the bounds\n",
    "plt.imshow(image, extent=[min_lon, max_lon, min_lat, max_lat], cmap='plasma', origin='upper')\n",
    "plt.colorbar(label='Likelihood of Damage')\n",
    "plt.xlabel('Longitude')\n",
    "plt.ylabel('Latitude')\n",
    "plt.title('Damage Likelihood with Geospatial Bounds')\n",
    "plt.show()"
   ]
  },
  {
   "cell_type": "code",
   "execution_count": null,
   "id": "1385f342-ae76-4f15-81d6-498d7c0563ac",
   "metadata": {},
   "outputs": [],
   "source": [
    "# Transform bounds from EPSG:4326 to EPSG:3857\n",
    "transformer = Transformer.from_crs(\"EPSG:4326\", \"EPSG:3857\", always_xy=True)\n",
    "min_lon_wm, min_lat_wm = transformer.transform(min_lon, min_lat)\n",
    "max_lon_wm, max_lat_wm = transformer.transform(max_lon, max_lat)\n",
    "\n",
    "# Update the extent for the basemap\n",
    "extent_wm = [min_lon_wm, max_lon_wm, min_lat_wm, max_lat_wm]"
   ]
  },
  {
   "cell_type": "code",
   "execution_count": null,
   "id": "ec29840f-9eea-4aa6-9bd7-2ea398933dd1",
   "metadata": {},
   "outputs": [],
   "source": [
    "import contextily as ctx\n",
    "from matplotlib_scalebar.scalebar import ScaleBar\n",
    "from pyproj import Geod\n",
    "\n",
    "fig, ax = plt.subplots(figsize=(7, 7))\n",
    "ax.imshow(image, extent=[min_lon, max_lon, min_lat, max_lat], cmap='plasma', alpha=1, origin='upper')\n",
    "\n",
    "# Add the basemap\n",
    "ctx.add_basemap(ax, crs=\"EPSG:4326\", source=ctx.providers.Esri.WorldImagery, alpha=.5)\n",
    "\n",
    "# have to do this so scalebar is correct\n",
    "center_lat = (bounds[1] + bounds[3]) / 2\n",
    "center_lon = (bounds[0] + bounds[2]) / 2\n",
    "geod = Geod(ellps=\"WGS84\")\n",
    "distance_meters, _, _ = geod.inv(center_lon, center_lat, center_lon + 1, center_lat)\n",
    "scale_factor = distance_meters\n",
    "\n",
    "scalebar = ScaleBar(scale_factor, units=\"km\", location=\"lower right\", scale_loc=\"bottom\", length_fraction=0.1)\n",
    "ax.add_artist(scalebar)\n",
    "\n",
    "# Add labels and title\n",
    "# plt.colorbar(ax.images[0], ax=ax, label='Likelihood of Damage')\n",
    "ax.set_xlabel('Longitude')\n",
    "ax.set_ylabel('Latitude')\n",
    "ax.set_title('Damage Likelihood Overlayed on ESRI')\n",
    "plt.tight_layout()\n",
    "plt.show()"
   ]
  },
  {
   "cell_type": "code",
   "execution_count": null,
   "id": "553e8648-a08c-40ca-b436-b166963301ec",
   "metadata": {},
   "outputs": [],
   "source": [
    "import contextily as ctx\n",
    "\n",
    "fig, ax = plt.subplots(figsize=(10, 10))\n",
    "ax.imshow(image, extent=extent_wm, cmap='plasma', alpha=0.9, origin='upper')\n",
    "\n",
    "# Add the basemap\n",
    "ctx.add_basemap(ax, crs=\"EPSG:3857\", source=ctx.providers.Esri.WorldImagery, alpha=.5)\n",
    "\n",
    "# Add labels and title\n",
    "plt.colorbar(ax.images[0], ax=ax, label='Likelihood of Damage')\n",
    "ax.set_xlabel('Longitude')\n",
    "ax.set_ylabel('Latitude')\n",
    "ax.set_title('Damage Likelihood Overlayed on Basemap')\n",
    "plt.show()"
   ]
  },
  {
   "cell_type": "code",
   "execution_count": null,
   "id": "3482dea9-2d8a-4f53-b183-7c2769faa611",
   "metadata": {},
   "outputs": [],
   "source": []
  }
 ],
 "metadata": {
  "kernelspec": {
   "display_name": "Python 3 (ipykernel)",
   "language": "python",
   "name": "python3"
  },
  "language_info": {
   "codemirror_mode": {
    "name": "ipython",
    "version": 3
   },
   "file_extension": ".py",
   "mimetype": "text/x-python",
   "name": "python",
   "nbconvert_exporter": "python",
   "pygments_lexer": "ipython3",
   "version": "3.12.3"
  }
 },
 "nbformat": 4,
 "nbformat_minor": 5
}
