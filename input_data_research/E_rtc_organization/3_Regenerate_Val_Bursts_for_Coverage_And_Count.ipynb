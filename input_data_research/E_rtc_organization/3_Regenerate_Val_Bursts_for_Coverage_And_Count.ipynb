{
 "cells": [
  {
   "cell_type": "markdown",
   "id": "fb52d9e5-11e1-4c22-baef-fc61c58ba61d",
   "metadata": {},
   "source": [
    "This notebook creates the table of RTC data covering a subset of the DIST-HLS validation sites over 2022-2023 (see the previous directory of notebooks for how this subset was generated)."
   ]
  },
  {
   "cell_type": "code",
   "execution_count": 19,
   "id": "d9464fbb-af4a-49d3-a73e-aea12e8a4fbd",
   "metadata": {},
   "outputs": [],
   "source": [
    "import concurrent.futures\n",
    "import urllib3\n",
    "from tqdm import tqdm\n",
    "import pandas as pd\n",
    "import geopandas as gpd\n",
    "from dem_stitcher.geojson_io import read_geojson_gzip, to_geojson_gzip\n",
    "from shapely.geometry import Polygon\n",
    "import rasterio\n",
    "import matplotlib.pyplot as plt\n",
    "import scipy.ndimage as nd\n",
    "import numpy as np\n",
    "from shapely.geometry import shape\n",
    "import rasterio.features as features\n",
    "from mpire import WorkerPool\n",
    "from rasterio.crs import CRS\n",
    "import pyproj\n",
    "from shapely.ops import transform\n"
   ]
  },
  {
   "cell_type": "markdown",
   "id": "dfb25793-dc7b-4c27-869b-e98cc3074143",
   "metadata": {},
   "source": [
    "# Read the tables"
   ]
  },
  {
   "cell_type": "code",
   "execution_count": 2,
   "id": "96086d90-e4f0-4570-877e-552c8de91131",
   "metadata": {},
   "outputs": [
    {
     "data": {
      "text/html": [
       "<div>\n",
       "<style scoped>\n",
       "    .dataframe tbody tr th:only-of-type {\n",
       "        vertical-align: middle;\n",
       "    }\n",
       "\n",
       "    .dataframe tbody tr th {\n",
       "        vertical-align: top;\n",
       "    }\n",
       "\n",
       "    .dataframe thead th {\n",
       "        text-align: right;\n",
       "    }\n",
       "</style>\n",
       "<table border=\"1\" class=\"dataframe\">\n",
       "  <thead>\n",
       "    <tr style=\"text-align: right;\">\n",
       "      <th></th>\n",
       "      <th>rtc_s1_id</th>\n",
       "      <th>input_slc_id</th>\n",
       "      <th>jpl_burst_id</th>\n",
       "      <th>bursts_per_slc_input</th>\n",
       "      <th>rtc_s1_vv_url</th>\n",
       "      <th>rtc_s1_vh_url</th>\n",
       "      <th>rtc_s1_h5_url</th>\n",
       "      <th>acq_datetime</th>\n",
       "    </tr>\n",
       "  </thead>\n",
       "  <tbody>\n",
       "    <tr>\n",
       "      <th>0</th>\n",
       "      <td>OPERA_L2_RTC-S1_T005-008688-IW2_20201010T00400...</td>\n",
       "      <td>S1A_IW_SLC__1SDV_20201010T004001_20201010T0040...</td>\n",
       "      <td>T005-008688-IW2</td>\n",
       "      <td>27</td>\n",
       "      <td>https://opera-pst-rs-pop1.s3.us-west-2.amazona...</td>\n",
       "      <td>https://opera-pst-rs-pop1.s3.us-west-2.amazona...</td>\n",
       "      <td>https://opera-pst-rs-pop1.s3.us-west-2.amazona...</td>\n",
       "      <td>2020-10-10 00:40:01</td>\n",
       "    </tr>\n",
       "    <tr>\n",
       "      <th>1</th>\n",
       "      <td>OPERA_L2_RTC-S1_T005-008688-IW2_20201022T00400...</td>\n",
       "      <td>S1A_IW_SLC__1SDV_20201022T004000_20201022T0040...</td>\n",
       "      <td>T005-008688-IW2</td>\n",
       "      <td>27</td>\n",
       "      <td>https://opera-pst-rs-pop1.s3.us-west-2.amazona...</td>\n",
       "      <td>https://opera-pst-rs-pop1.s3.us-west-2.amazona...</td>\n",
       "      <td>https://opera-pst-rs-pop1.s3.us-west-2.amazona...</td>\n",
       "      <td>2020-10-22 00:40:00</td>\n",
       "    </tr>\n",
       "    <tr>\n",
       "      <th>2</th>\n",
       "      <td>OPERA_L2_RTC-S1_T005-008688-IW2_20201103T00400...</td>\n",
       "      <td>S1A_IW_SLC__1SDV_20201103T004000_20201103T0040...</td>\n",
       "      <td>T005-008688-IW2</td>\n",
       "      <td>27</td>\n",
       "      <td>https://opera-pst-rs-pop1.s3.us-west-2.amazona...</td>\n",
       "      <td>https://opera-pst-rs-pop1.s3.us-west-2.amazona...</td>\n",
       "      <td>https://opera-pst-rs-pop1.s3.us-west-2.amazona...</td>\n",
       "      <td>2020-11-03 00:40:00</td>\n",
       "    </tr>\n",
       "    <tr>\n",
       "      <th>3</th>\n",
       "      <td>OPERA_L2_RTC-S1_T005-008688-IW2_20201115T00400...</td>\n",
       "      <td>S1A_IW_SLC__1SDV_20201115T004000_20201115T0040...</td>\n",
       "      <td>T005-008688-IW2</td>\n",
       "      <td>27</td>\n",
       "      <td>https://opera-pst-rs-pop1.s3.us-west-2.amazona...</td>\n",
       "      <td>https://opera-pst-rs-pop1.s3.us-west-2.amazona...</td>\n",
       "      <td>https://opera-pst-rs-pop1.s3.us-west-2.amazona...</td>\n",
       "      <td>2020-11-15 00:40:00</td>\n",
       "    </tr>\n",
       "    <tr>\n",
       "      <th>4</th>\n",
       "      <td>OPERA_L2_RTC-S1_T005-008688-IW2_20201127T00400...</td>\n",
       "      <td>S1A_IW_SLC__1SDV_20201127T004000_20201127T0040...</td>\n",
       "      <td>T005-008688-IW2</td>\n",
       "      <td>27</td>\n",
       "      <td>https://opera-pst-rs-pop1.s3.us-west-2.amazona...</td>\n",
       "      <td>https://opera-pst-rs-pop1.s3.us-west-2.amazona...</td>\n",
       "      <td>https://opera-pst-rs-pop1.s3.us-west-2.amazona...</td>\n",
       "      <td>2020-11-27 00:40:00</td>\n",
       "    </tr>\n",
       "  </tbody>\n",
       "</table>\n",
       "</div>"
      ],
      "text/plain": [
       "                                           rtc_s1_id  \\\n",
       "0  OPERA_L2_RTC-S1_T005-008688-IW2_20201010T00400...   \n",
       "1  OPERA_L2_RTC-S1_T005-008688-IW2_20201022T00400...   \n",
       "2  OPERA_L2_RTC-S1_T005-008688-IW2_20201103T00400...   \n",
       "3  OPERA_L2_RTC-S1_T005-008688-IW2_20201115T00400...   \n",
       "4  OPERA_L2_RTC-S1_T005-008688-IW2_20201127T00400...   \n",
       "\n",
       "                                        input_slc_id     jpl_burst_id  \\\n",
       "0  S1A_IW_SLC__1SDV_20201010T004001_20201010T0040...  T005-008688-IW2   \n",
       "1  S1A_IW_SLC__1SDV_20201022T004000_20201022T0040...  T005-008688-IW2   \n",
       "2  S1A_IW_SLC__1SDV_20201103T004000_20201103T0040...  T005-008688-IW2   \n",
       "3  S1A_IW_SLC__1SDV_20201115T004000_20201115T0040...  T005-008688-IW2   \n",
       "4  S1A_IW_SLC__1SDV_20201127T004000_20201127T0040...  T005-008688-IW2   \n",
       "\n",
       "   bursts_per_slc_input                                      rtc_s1_vv_url  \\\n",
       "0                    27  https://opera-pst-rs-pop1.s3.us-west-2.amazona...   \n",
       "1                    27  https://opera-pst-rs-pop1.s3.us-west-2.amazona...   \n",
       "2                    27  https://opera-pst-rs-pop1.s3.us-west-2.amazona...   \n",
       "3                    27  https://opera-pst-rs-pop1.s3.us-west-2.amazona...   \n",
       "4                    27  https://opera-pst-rs-pop1.s3.us-west-2.amazona...   \n",
       "\n",
       "                                       rtc_s1_vh_url  \\\n",
       "0  https://opera-pst-rs-pop1.s3.us-west-2.amazona...   \n",
       "1  https://opera-pst-rs-pop1.s3.us-west-2.amazona...   \n",
       "2  https://opera-pst-rs-pop1.s3.us-west-2.amazona...   \n",
       "3  https://opera-pst-rs-pop1.s3.us-west-2.amazona...   \n",
       "4  https://opera-pst-rs-pop1.s3.us-west-2.amazona...   \n",
       "\n",
       "                                       rtc_s1_h5_url         acq_datetime  \n",
       "0  https://opera-pst-rs-pop1.s3.us-west-2.amazona...  2020-10-10 00:40:01  \n",
       "1  https://opera-pst-rs-pop1.s3.us-west-2.amazona...  2020-10-22 00:40:00  \n",
       "2  https://opera-pst-rs-pop1.s3.us-west-2.amazona...  2020-11-03 00:40:00  \n",
       "3  https://opera-pst-rs-pop1.s3.us-west-2.amazona...  2020-11-15 00:40:00  \n",
       "4  https://opera-pst-rs-pop1.s3.us-west-2.amazona...  2020-11-27 00:40:00  "
      ]
     },
     "execution_count": 2,
     "metadata": {},
     "output_type": "execute_result"
    }
   ],
   "source": [
    "df_rtc = pd.read_json('rtc_s1_table.json.zip')\n",
    "df_rtc.head()"
   ]
  },
  {
   "cell_type": "code",
   "execution_count": 3,
   "id": "440c8572-9f56-4791-8b0f-21f9adede0dc",
   "metadata": {},
   "outputs": [
    {
     "data": {
      "text/html": [
       "<div>\n",
       "<style scoped>\n",
       "    .dataframe tbody tr th:only-of-type {\n",
       "        vertical-align: middle;\n",
       "    }\n",
       "\n",
       "    .dataframe tbody tr th {\n",
       "        vertical-align: top;\n",
       "    }\n",
       "\n",
       "    .dataframe thead th {\n",
       "        text-align: right;\n",
       "    }\n",
       "</style>\n",
       "<table border=\"1\" class=\"dataframe\">\n",
       "  <thead>\n",
       "    <tr style=\"text-align: right;\">\n",
       "      <th></th>\n",
       "      <th>jpl_burst_id</th>\n",
       "      <th>count</th>\n",
       "    </tr>\n",
       "  </thead>\n",
       "  <tbody>\n",
       "    <tr>\n",
       "      <th>0</th>\n",
       "      <td>T005-008688-IW2</td>\n",
       "      <td>66</td>\n",
       "    </tr>\n",
       "    <tr>\n",
       "      <th>1</th>\n",
       "      <td>T005-008688-IW3</td>\n",
       "      <td>66</td>\n",
       "    </tr>\n",
       "    <tr>\n",
       "      <th>2</th>\n",
       "      <td>T005-008689-IW1</td>\n",
       "      <td>66</td>\n",
       "    </tr>\n",
       "    <tr>\n",
       "      <th>3</th>\n",
       "      <td>T005-008689-IW2</td>\n",
       "      <td>66</td>\n",
       "    </tr>\n",
       "    <tr>\n",
       "      <th>4</th>\n",
       "      <td>T005-008689-IW3</td>\n",
       "      <td>66</td>\n",
       "    </tr>\n",
       "  </tbody>\n",
       "</table>\n",
       "</div>"
      ],
      "text/plain": [
       "      jpl_burst_id  count\n",
       "0  T005-008688-IW2     66\n",
       "1  T005-008688-IW3     66\n",
       "2  T005-008689-IW1     66\n",
       "3  T005-008689-IW2     66\n",
       "4  T005-008689-IW3     66"
      ]
     },
     "execution_count": 3,
     "metadata": {},
     "output_type": "execute_result"
    }
   ],
   "source": [
    "df_rtc_per_burst = df_rtc.groupby('jpl_burst_id').size().reset_index(name='count')\n",
    "df_rtc_per_burst.head()"
   ]
  },
  {
   "cell_type": "code",
   "execution_count": 4,
   "id": "383e1b7c-e3a9-4410-925e-a184b35e3ceb",
   "metadata": {},
   "outputs": [
    {
     "data": {
      "text/html": [
       "<div>\n",
       "<style scoped>\n",
       "    .dataframe tbody tr th:only-of-type {\n",
       "        vertical-align: middle;\n",
       "    }\n",
       "\n",
       "    .dataframe tbody tr th {\n",
       "        vertical-align: top;\n",
       "    }\n",
       "\n",
       "    .dataframe thead th {\n",
       "        text-align: right;\n",
       "    }\n",
       "</style>\n",
       "<table border=\"1\" class=\"dataframe\">\n",
       "  <thead>\n",
       "    <tr style=\"text-align: right;\">\n",
       "      <th></th>\n",
       "      <th>geometry</th>\n",
       "      <th>jpl_burst_id</th>\n",
       "      <th>orbit_pass</th>\n",
       "    </tr>\n",
       "  </thead>\n",
       "  <tbody>\n",
       "    <tr>\n",
       "      <th>0</th>\n",
       "      <td>POLYGON ((-97.90103 16.86358, -97.06559 17.014...</td>\n",
       "      <td>t005_008688_iw2</td>\n",
       "      <td>ASCENDING</td>\n",
       "    </tr>\n",
       "    <tr>\n",
       "      <th>1</th>\n",
       "      <td>POLYGON ((-97.09889 17.06678, -96.35902 17.196...</td>\n",
       "      <td>t005_008688_iw3</td>\n",
       "      <td>ASCENDING</td>\n",
       "    </tr>\n",
       "    <tr>\n",
       "      <th>2</th>\n",
       "      <td>POLYGON ((-98.69436 16.82087, -97.89903 16.966...</td>\n",
       "      <td>t005_008689_iw1</td>\n",
       "      <td>ASCENDING</td>\n",
       "    </tr>\n",
       "    <tr>\n",
       "      <th>3</th>\n",
       "      <td>POLYGON ((-97.93486 17.03023, -97.09864 17.180...</td>\n",
       "      <td>t005_008689_iw2</td>\n",
       "      <td>ASCENDING</td>\n",
       "    </tr>\n",
       "    <tr>\n",
       "      <th>4</th>\n",
       "      <td>POLYGON ((-97.13196 17.23328, -96.39139 17.362...</td>\n",
       "      <td>t005_008689_iw3</td>\n",
       "      <td>ASCENDING</td>\n",
       "    </tr>\n",
       "  </tbody>\n",
       "</table>\n",
       "</div>"
      ],
      "text/plain": [
       "                                            geometry     jpl_burst_id  \\\n",
       "0  POLYGON ((-97.90103 16.86358, -97.06559 17.014...  t005_008688_iw2   \n",
       "1  POLYGON ((-97.09889 17.06678, -96.35902 17.196...  t005_008688_iw3   \n",
       "2  POLYGON ((-98.69436 16.82087, -97.89903 16.966...  t005_008689_iw1   \n",
       "3  POLYGON ((-97.93486 17.03023, -97.09864 17.180...  t005_008689_iw2   \n",
       "4  POLYGON ((-97.13196 17.23328, -96.39139 17.362...  t005_008689_iw3   \n",
       "\n",
       "  orbit_pass  \n",
       "0  ASCENDING  \n",
       "1  ASCENDING  \n",
       "2  ASCENDING  \n",
       "3  ASCENDING  \n",
       "4  ASCENDING  "
      ]
     },
     "execution_count": 4,
     "metadata": {},
     "output_type": "execute_result"
    }
   ],
   "source": [
    "df_val_burst_old= read_geojson_gzip('../4_rtc_organization/burst_extent_subset.geojson.gzip')#validation_bursts_all_v2.parquet')\n",
    "df_val_burst_old.head()"
   ]
  },
  {
   "cell_type": "code",
   "execution_count": 7,
   "id": "93889c4b-8d97-4794-9f66-0adddf97e599",
   "metadata": {},
   "outputs": [
    {
     "data": {
      "text/html": [
       "<div>\n",
       "<style scoped>\n",
       "    .dataframe tbody tr th:only-of-type {\n",
       "        vertical-align: middle;\n",
       "    }\n",
       "\n",
       "    .dataframe tbody tr th {\n",
       "        vertical-align: top;\n",
       "    }\n",
       "\n",
       "    .dataframe thead th {\n",
       "        text-align: right;\n",
       "    }\n",
       "</style>\n",
       "<table border=\"1\" class=\"dataframe\">\n",
       "  <thead>\n",
       "    <tr style=\"text-align: right;\">\n",
       "      <th></th>\n",
       "      <th>jpl_burst_id</th>\n",
       "      <th>site_id</th>\n",
       "      <th>orbit_pass</th>\n",
       "      <th>track_number</th>\n",
       "      <th>geometry</th>\n",
       "    </tr>\n",
       "  </thead>\n",
       "  <tbody>\n",
       "    <tr>\n",
       "      <th>0</th>\n",
       "      <td>T090-193169-IW1</td>\n",
       "      <td>1</td>\n",
       "      <td>ASCENDING</td>\n",
       "      <td>90</td>\n",
       "      <td>POLYGON ((-52.73133 -23.43816, -51.90414 -23.2...</td>\n",
       "    </tr>\n",
       "    <tr>\n",
       "      <th>1</th>\n",
       "      <td>T097-207419-IW2</td>\n",
       "      <td>1</td>\n",
       "      <td>DESCENDING</td>\n",
       "      <td>97</td>\n",
       "      <td>POLYGON ((-51.66339 -23.30842, -52.52125 -23.1...</td>\n",
       "    </tr>\n",
       "    <tr>\n",
       "      <th>2</th>\n",
       "      <td>T039-083584-IW3</td>\n",
       "      <td>2</td>\n",
       "      <td>ASCENDING</td>\n",
       "      <td>39</td>\n",
       "      <td>POLYGON ((129.8254 -29.63759, 130.62076 -29.44...</td>\n",
       "    </tr>\n",
       "    <tr>\n",
       "      <th>3</th>\n",
       "      <td>T075-160202-IW1</td>\n",
       "      <td>2</td>\n",
       "      <td>DESCENDING</td>\n",
       "      <td>75</td>\n",
       "      <td>POLYGON ((130.4964 -29.60892, 129.63063 -29.40...</td>\n",
       "    </tr>\n",
       "    <tr>\n",
       "      <th>4</th>\n",
       "      <td>T107-227877-IW2</td>\n",
       "      <td>3</td>\n",
       "      <td>ASCENDING</td>\n",
       "      <td>107</td>\n",
       "      <td>POLYGON ((-99.31968 33.56634, -98.35539 33.705...</td>\n",
       "    </tr>\n",
       "  </tbody>\n",
       "</table>\n",
       "</div>"
      ],
      "text/plain": [
       "      jpl_burst_id  site_id  orbit_pass  track_number  \\\n",
       "0  T090-193169-IW1        1   ASCENDING            90   \n",
       "1  T097-207419-IW2        1  DESCENDING            97   \n",
       "2  T039-083584-IW3        2   ASCENDING            39   \n",
       "3  T075-160202-IW1        2  DESCENDING            75   \n",
       "4  T107-227877-IW2        3   ASCENDING           107   \n",
       "\n",
       "                                            geometry  \n",
       "0  POLYGON ((-52.73133 -23.43816, -51.90414 -23.2...  \n",
       "1  POLYGON ((-51.66339 -23.30842, -52.52125 -23.1...  \n",
       "2  POLYGON ((129.8254 -29.63759, 130.62076 -29.44...  \n",
       "3  POLYGON ((130.4964 -29.60892, 129.63063 -29.40...  \n",
       "4  POLYGON ((-99.31968 33.56634, -98.35539 33.705...  "
      ]
     },
     "execution_count": 7,
     "metadata": {},
     "output_type": "execute_result"
    }
   ],
   "source": [
    "df_val_burst=gpd.read_parquet('../3_dist_sites/validation_bursts_all_v1.parquet')\n",
    "df_val_burst.head()\n"
   ]
  },
  {
   "cell_type": "code",
   "execution_count": 8,
   "id": "dee494a5-b744-4f5b-95a2-b57d1ae92541",
   "metadata": {},
   "outputs": [
    {
     "data": {
      "text/html": [
       "<div>\n",
       "<style scoped>\n",
       "    .dataframe tbody tr th:only-of-type {\n",
       "        vertical-align: middle;\n",
       "    }\n",
       "\n",
       "    .dataframe tbody tr th {\n",
       "        vertical-align: top;\n",
       "    }\n",
       "\n",
       "    .dataframe thead th {\n",
       "        text-align: right;\n",
       "    }\n",
       "</style>\n",
       "<table border=\"1\" class=\"dataframe\">\n",
       "  <thead>\n",
       "    <tr style=\"text-align: right;\">\n",
       "      <th></th>\n",
       "      <th>site_id</th>\n",
       "      <th>change_label</th>\n",
       "      <th>change_type</th>\n",
       "      <th>change_time</th>\n",
       "      <th>last_observation_time</th>\n",
       "      <th>mgrs_tile_id</th>\n",
       "      <th>geometry</th>\n",
       "    </tr>\n",
       "  </thead>\n",
       "  <tbody>\n",
       "    <tr>\n",
       "      <th>0</th>\n",
       "      <td>1</td>\n",
       "      <td>VLmaj</td>\n",
       "      <td>Natural browning</td>\n",
       "      <td>2021-10-08</td>\n",
       "      <td>NaT</td>\n",
       "      <td>22KCV</td>\n",
       "      <td>POINT (-52.37979 -23.29715)</td>\n",
       "    </tr>\n",
       "    <tr>\n",
       "      <th>1</th>\n",
       "      <td>2</td>\n",
       "      <td>noChange</td>\n",
       "      <td>No Change</td>\n",
       "      <td>NaT</td>\n",
       "      <td>NaT</td>\n",
       "      <td>52JEN</td>\n",
       "      <td>POINT (129.85033 -29.57724)</td>\n",
       "    </tr>\n",
       "    <tr>\n",
       "      <th>2</th>\n",
       "      <td>3</td>\n",
       "      <td>VLmin</td>\n",
       "      <td>Natural browning</td>\n",
       "      <td>2022-01-28</td>\n",
       "      <td>2022-01-06</td>\n",
       "      <td>14SNC</td>\n",
       "      <td>POINT (-98.60056 33.771)</td>\n",
       "    </tr>\n",
       "    <tr>\n",
       "      <th>3</th>\n",
       "      <td>4</td>\n",
       "      <td>VLmaj</td>\n",
       "      <td>Fire</td>\n",
       "      <td>2021-11-07</td>\n",
       "      <td>2021-11-02</td>\n",
       "      <td>34NCL</td>\n",
       "      <td>POINT (19.33289 4.5749)</td>\n",
       "    </tr>\n",
       "    <tr>\n",
       "      <th>4</th>\n",
       "      <td>5</td>\n",
       "      <td>VLmaj</td>\n",
       "      <td>Fire</td>\n",
       "      <td>2022-05-18</td>\n",
       "      <td>2022-05-11</td>\n",
       "      <td>50VMR</td>\n",
       "      <td>POINT (115.61901 63.10809)</td>\n",
       "    </tr>\n",
       "  </tbody>\n",
       "</table>\n",
       "</div>"
      ],
      "text/plain": [
       "   site_id change_label       change_type change_time last_observation_time  \\\n",
       "0        1        VLmaj  Natural browning  2021-10-08                   NaT   \n",
       "1        2     noChange         No Change         NaT                   NaT   \n",
       "2        3        VLmin  Natural browning  2022-01-28            2022-01-06   \n",
       "3        4        VLmaj              Fire  2021-11-07            2021-11-02   \n",
       "4        5        VLmaj              Fire  2022-05-18            2022-05-11   \n",
       "\n",
       "  mgrs_tile_id                     geometry  \n",
       "0        22KCV  POINT (-52.37979 -23.29715)  \n",
       "1        52JEN  POINT (129.85033 -29.57724)  \n",
       "2        14SNC     POINT (-98.60056 33.771)  \n",
       "3        34NCL      POINT (19.33289 4.5749)  \n",
       "4        50VMR   POINT (115.61901 63.10809)  "
      ]
     },
     "execution_count": 8,
     "metadata": {},
     "output_type": "execute_result"
    }
   ],
   "source": [
    "df_site = gpd.read_file('../3_dist_sites/dist_hls_val_sites.geojson')\n",
    "df_site.head()"
   ]
  },
  {
   "cell_type": "markdown",
   "id": "7cffb7f3-52e9-4893-bb1d-f499dfd8302d",
   "metadata": {},
   "source": [
    "# Get Actual Coverage"
   ]
  },
  {
   "cell_type": "code",
   "execution_count": 9,
   "id": "be641347-1d0d-477f-8f36-5f31556319e1",
   "metadata": {},
   "outputs": [
    {
     "data": {
      "text/html": [
       "<div>\n",
       "<style scoped>\n",
       "    .dataframe tbody tr th:only-of-type {\n",
       "        vertical-align: middle;\n",
       "    }\n",
       "\n",
       "    .dataframe tbody tr th {\n",
       "        vertical-align: top;\n",
       "    }\n",
       "\n",
       "    .dataframe thead th {\n",
       "        text-align: right;\n",
       "    }\n",
       "</style>\n",
       "<table border=\"1\" class=\"dataframe\">\n",
       "  <thead>\n",
       "    <tr style=\"text-align: right;\">\n",
       "      <th></th>\n",
       "      <th>rtc_s1_id</th>\n",
       "      <th>input_slc_id</th>\n",
       "      <th>jpl_burst_id</th>\n",
       "      <th>bursts_per_slc_input</th>\n",
       "      <th>rtc_s1_vv_url</th>\n",
       "      <th>rtc_s1_vh_url</th>\n",
       "      <th>rtc_s1_h5_url</th>\n",
       "      <th>acq_datetime</th>\n",
       "    </tr>\n",
       "  </thead>\n",
       "  <tbody>\n",
       "    <tr>\n",
       "      <th>0</th>\n",
       "      <td>OPERA_L2_RTC-S1_T005-008688-IW2_20201010T00400...</td>\n",
       "      <td>S1A_IW_SLC__1SDV_20201010T004001_20201010T0040...</td>\n",
       "      <td>T005-008688-IW2</td>\n",
       "      <td>27</td>\n",
       "      <td>https://opera-pst-rs-pop1.s3.us-west-2.amazona...</td>\n",
       "      <td>https://opera-pst-rs-pop1.s3.us-west-2.amazona...</td>\n",
       "      <td>https://opera-pst-rs-pop1.s3.us-west-2.amazona...</td>\n",
       "      <td>2020-10-10 00:40:01</td>\n",
       "    </tr>\n",
       "    <tr>\n",
       "      <th>66</th>\n",
       "      <td>OPERA_L2_RTC-S1_T005-008688-IW3_20201010T00400...</td>\n",
       "      <td>S1A_IW_SLC__1SDV_20201010T004001_20201010T0040...</td>\n",
       "      <td>T005-008688-IW3</td>\n",
       "      <td>27</td>\n",
       "      <td>https://opera-pst-rs-pop1.s3.us-west-2.amazona...</td>\n",
       "      <td>https://opera-pst-rs-pop1.s3.us-west-2.amazona...</td>\n",
       "      <td>https://opera-pst-rs-pop1.s3.us-west-2.amazona...</td>\n",
       "      <td>2020-10-10 00:40:01</td>\n",
       "    </tr>\n",
       "    <tr>\n",
       "      <th>132</th>\n",
       "      <td>OPERA_L2_RTC-S1_T005-008689-IW1_20201010T00400...</td>\n",
       "      <td>S1A_IW_SLC__1SDV_20201010T004001_20201010T0040...</td>\n",
       "      <td>T005-008689-IW1</td>\n",
       "      <td>27</td>\n",
       "      <td>https://opera-pst-rs-pop1.s3.us-west-2.amazona...</td>\n",
       "      <td>https://opera-pst-rs-pop1.s3.us-west-2.amazona...</td>\n",
       "      <td>https://opera-pst-rs-pop1.s3.us-west-2.amazona...</td>\n",
       "      <td>2020-10-10 00:40:01</td>\n",
       "    </tr>\n",
       "    <tr>\n",
       "      <th>198</th>\n",
       "      <td>OPERA_L2_RTC-S1_T005-008689-IW2_20201010T00400...</td>\n",
       "      <td>S1A_IW_SLC__1SDV_20201010T004001_20201010T0040...</td>\n",
       "      <td>T005-008689-IW2</td>\n",
       "      <td>27</td>\n",
       "      <td>https://opera-pst-rs-pop1.s3.us-west-2.amazona...</td>\n",
       "      <td>https://opera-pst-rs-pop1.s3.us-west-2.amazona...</td>\n",
       "      <td>https://opera-pst-rs-pop1.s3.us-west-2.amazona...</td>\n",
       "      <td>2020-10-10 00:40:01</td>\n",
       "    </tr>\n",
       "    <tr>\n",
       "      <th>264</th>\n",
       "      <td>OPERA_L2_RTC-S1_T005-008689-IW3_20201010T00400...</td>\n",
       "      <td>S1A_IW_SLC__1SDV_20201010T004001_20201010T0040...</td>\n",
       "      <td>T005-008689-IW3</td>\n",
       "      <td>27</td>\n",
       "      <td>https://opera-pst-rs-pop1.s3.us-west-2.amazona...</td>\n",
       "      <td>https://opera-pst-rs-pop1.s3.us-west-2.amazona...</td>\n",
       "      <td>https://opera-pst-rs-pop1.s3.us-west-2.amazona...</td>\n",
       "      <td>2020-10-10 00:40:01</td>\n",
       "    </tr>\n",
       "  </tbody>\n",
       "</table>\n",
       "</div>"
      ],
      "text/plain": [
       "                                             rtc_s1_id  \\\n",
       "0    OPERA_L2_RTC-S1_T005-008688-IW2_20201010T00400...   \n",
       "66   OPERA_L2_RTC-S1_T005-008688-IW3_20201010T00400...   \n",
       "132  OPERA_L2_RTC-S1_T005-008689-IW1_20201010T00400...   \n",
       "198  OPERA_L2_RTC-S1_T005-008689-IW2_20201010T00400...   \n",
       "264  OPERA_L2_RTC-S1_T005-008689-IW3_20201010T00400...   \n",
       "\n",
       "                                          input_slc_id     jpl_burst_id  \\\n",
       "0    S1A_IW_SLC__1SDV_20201010T004001_20201010T0040...  T005-008688-IW2   \n",
       "66   S1A_IW_SLC__1SDV_20201010T004001_20201010T0040...  T005-008688-IW3   \n",
       "132  S1A_IW_SLC__1SDV_20201010T004001_20201010T0040...  T005-008689-IW1   \n",
       "198  S1A_IW_SLC__1SDV_20201010T004001_20201010T0040...  T005-008689-IW2   \n",
       "264  S1A_IW_SLC__1SDV_20201010T004001_20201010T0040...  T005-008689-IW3   \n",
       "\n",
       "     bursts_per_slc_input                                      rtc_s1_vv_url  \\\n",
       "0                      27  https://opera-pst-rs-pop1.s3.us-west-2.amazona...   \n",
       "66                     27  https://opera-pst-rs-pop1.s3.us-west-2.amazona...   \n",
       "132                    27  https://opera-pst-rs-pop1.s3.us-west-2.amazona...   \n",
       "198                    27  https://opera-pst-rs-pop1.s3.us-west-2.amazona...   \n",
       "264                    27  https://opera-pst-rs-pop1.s3.us-west-2.amazona...   \n",
       "\n",
       "                                         rtc_s1_vh_url  \\\n",
       "0    https://opera-pst-rs-pop1.s3.us-west-2.amazona...   \n",
       "66   https://opera-pst-rs-pop1.s3.us-west-2.amazona...   \n",
       "132  https://opera-pst-rs-pop1.s3.us-west-2.amazona...   \n",
       "198  https://opera-pst-rs-pop1.s3.us-west-2.amazona...   \n",
       "264  https://opera-pst-rs-pop1.s3.us-west-2.amazona...   \n",
       "\n",
       "                                         rtc_s1_h5_url         acq_datetime  \n",
       "0    https://opera-pst-rs-pop1.s3.us-west-2.amazona...  2020-10-10 00:40:01  \n",
       "66   https://opera-pst-rs-pop1.s3.us-west-2.amazona...  2020-10-10 00:40:01  \n",
       "132  https://opera-pst-rs-pop1.s3.us-west-2.amazona...  2020-10-10 00:40:01  \n",
       "198  https://opera-pst-rs-pop1.s3.us-west-2.amazona...  2020-10-10 00:40:01  \n",
       "264  https://opera-pst-rs-pop1.s3.us-west-2.amazona...  2020-10-10 00:40:01  "
      ]
     },
     "execution_count": 9,
     "metadata": {},
     "output_type": "execute_result"
    }
   ],
   "source": [
    "df_rtc_first = df_rtc.groupby(['jpl_burst_id']).head(1)\n",
    "df_rtc_first.head()"
   ]
  },
  {
   "cell_type": "code",
   "execution_count": 10,
   "id": "4621d389-c0a3-4686-8e47-b0200fddd90a",
   "metadata": {},
   "outputs": [
    {
     "data": {
      "text/plain": [
       "(<POLYGON ((612780 1916070, 612780 1916040, 612630 1916040, 612630 1916010, 6...>,\n",
       " CRS.from_epsg(32614))"
      ]
     },
     "execution_count": 10,
     "metadata": {},
     "output_type": "execute_result"
    }
   ],
   "source": [
    "def get_coverage_geo(url: str) -> Polygon:\n",
    "    with rasterio.open(url) as ds:\n",
    "        mask = ds.read_masks(1).astype(np.uint8)\n",
    "        transform = ds.transform\n",
    "        crs = ds.crs\n",
    "    t = nd.binary_dilation(mask, iterations=6)\n",
    "    mask = nd.binary_erosion(t, iterations=6).astype(np.uint8)\n",
    "    # fill in small nodata\n",
    "    mask = nd.binary_dilation(mask, iterations=6)\n",
    "    mask = nd.binary_erosion(mask, iterations=6).astype(np.uint8)\n",
    "\n",
    "    # Get features as geometric shape\n",
    "    polys = list(features.shapes(1-mask, mask=(mask.astype(bool)), transform=transform))\n",
    "    geo = shape(polys[0][0])\n",
    "    return geo, crs\n",
    "\n",
    "geo_cov, crs = get_coverage_geo(df_rtc_first.rtc_s1_vh_url.tolist()[5])\n",
    "geo_cov, crs"
   ]
  },
  {
   "cell_type": "code",
   "execution_count": 12,
   "id": "3de75238-1482-4f60-8040-fb44470f6883",
   "metadata": {},
   "outputs": [
    {
     "data": {
      "application/vnd.jupyter.widget-view+json": {
       "model_id": "7c0a6928389e4d2dac785ab666fdc571",
       "version_major": 2,
       "version_minor": 0
      },
      "text/plain": [
       "  0%|                                        | 0/3429 [00:00<?, ?it/s]"
      ]
     },
     "metadata": {},
     "output_type": "display_data"
    }
   ],
   "source": [
    "with WorkerPool(n_jobs=15, use_dill=True) as pool:\n",
    "    data = pool.map(\n",
    "        get_coverage_geo, df_rtc_first.rtc_s1_vh_url.tolist(), progress_bar=True, progress_bar_style='notebook'\n",
    "    )"
   ]
  },
  {
   "cell_type": "code",
   "execution_count": 13,
   "id": "d30d1fba-8e04-4b06-b232-d906992b92e6",
   "metadata": {},
   "outputs": [
    {
     "data": {
      "image/svg+xml": [
       "<svg xmlns=\"http://www.w3.org/2000/svg\" xmlns:xlink=\"http://www.w3.org/1999/xlink\" width=\"300\" height=\"300\" viewBox=\"610713.6 1861053.6 101152.80000000005 45352.799999999814\" preserveAspectRatio=\"xMinYMin meet\"><g transform=\"matrix(1,0,0,-1,0,3767460.0)\"><path fill-rule=\"evenodd\" fill=\"#66cc99\" stroke=\"#555555\" stroke-width=\"674.3520000000003\" opacity=\"0.6\" d=\"M 703980.0,1902660.0 L 703980.0,1902630.0 L 703830.0,1902630.0 L 703830.0,1902600.0 L 703680.0,1902600.0 L 703680.0,1902570.0 L 703530.0,1902570.0 L 703530.0,1902540.0 L 703380.0,1902540.0 L 703380.0,1902510.0 L 703230.0,1902510.0 L 703230.0,1902480.0 L 703080.0,1902480.0 L 703080.0,1902450.0 L 702930.0,1902450.0 L 702930.0,1902420.0 L 702780.0,1902420.0 L 702780.0,1902390.0 L 702630.0,1902390.0 L 702630.0,1902360.0 L 702480.0,1902360.0 L 702480.0,1902330.0 L 702330.0,1902330.0 L 702330.0,1902300.0 L 702210.0,1902300.0 L 702210.0,1902270.0 L 702030.0,1902270.0 L 702030.0,1902240.0 L 701910.0,1902240.0 L 701910.0,1902210.0 L 701730.0,1902210.0 L 701730.0,1902180.0 L 701610.0,1902180.0 L 701610.0,1902150.0 L 701460.0,1902150.0 L 701460.0,1902120.0 L 701310.0,1902120.0 L 701310.0,1902090.0 L 701160.0,1902090.0 L 701160.0,1902060.0 L 701010.0,1902060.0 L 701010.0,1902030.0 L 700860.0,1902030.0 L 700860.0,1902000.0 L 700710.0,1902000.0 L 700710.0,1901970.0 L 700560.0,1901970.0 L 700560.0,1901940.0 L 700410.0,1901940.0 L 700410.0,1901910.0 L 700260.0,1901910.0 L 700260.0,1901880.0 L 700110.0,1901880.0 L 700110.0,1901850.0 L 699960.0,1901850.0 L 699960.0,1901820.0 L 699810.0,1901820.0 L 699810.0,1901790.0 L 699660.0,1901790.0 L 699660.0,1901760.0 L 699510.0,1901760.0 L 699510.0,1901730.0 L 699360.0,1901730.0 L 699360.0,1901700.0 L 699210.0,1901700.0 L 699210.0,1901670.0 L 699060.0,1901670.0 L 699060.0,1901640.0 L 698910.0,1901640.0 L 698910.0,1901610.0 L 698760.0,1901610.0 L 698760.0,1901580.0 L 698610.0,1901580.0 L 698610.0,1901550.0 L 698460.0,1901550.0 L 698460.0,1901520.0 L 698310.0,1901520.0 L 698310.0,1901490.0 L 698160.0,1901490.0 L 698160.0,1901460.0 L 698010.0,1901460.0 L 698010.0,1901430.0 L 697860.0,1901430.0 L 697860.0,1901400.0 L 697710.0,1901400.0 L 697710.0,1901370.0 L 697560.0,1901370.0 L 697560.0,1901340.0 L 697410.0,1901340.0 L 697410.0,1901310.0 L 697260.0,1901310.0 L 697260.0,1901280.0 L 697110.0,1901280.0 L 697110.0,1901250.0 L 696960.0,1901250.0 L 696960.0,1901220.0 L 696810.0,1901220.0 L 696810.0,1901190.0 L 696660.0,1901190.0 L 696660.0,1901160.0 L 696510.0,1901160.0 L 696510.0,1901130.0 L 696360.0,1901130.0 L 696360.0,1901100.0 L 696210.0,1901100.0 L 696210.0,1901070.0 L 696060.0,1901070.0 L 696060.0,1901040.0 L 695910.0,1901040.0 L 695910.0,1901010.0 L 695760.0,1901010.0 L 695760.0,1900980.0 L 695610.0,1900980.0 L 695610.0,1900950.0 L 695460.0,1900950.0 L 695460.0,1900920.0 L 695310.0,1900920.0 L 695310.0,1900890.0 L 695160.0,1900890.0 L 695160.0,1900860.0 L 695010.0,1900860.0 L 695010.0,1900830.0 L 694860.0,1900830.0 L 694860.0,1900800.0 L 694710.0,1900800.0 L 694710.0,1900770.0 L 694560.0,1900770.0 L 694560.0,1900740.0 L 694410.0,1900740.0 L 694410.0,1900710.0 L 694260.0,1900710.0 L 694260.0,1900680.0 L 694110.0,1900680.0 L 694110.0,1900650.0 L 693960.0,1900650.0 L 693960.0,1900620.0 L 693810.0,1900620.0 L 693810.0,1900590.0 L 693660.0,1900590.0 L 693660.0,1900560.0 L 693510.0,1900560.0 L 693510.0,1900530.0 L 693360.0,1900530.0 L 693360.0,1900500.0 L 693210.0,1900500.0 L 693210.0,1900470.0 L 693060.0,1900470.0 L 693060.0,1900440.0 L 692910.0,1900440.0 L 692910.0,1900410.0 L 692790.0,1900410.0 L 692790.0,1900380.0 L 692760.0,1900380.0 L 692760.0,1900350.0 L 692730.0,1900350.0 L 692730.0,1900380.0 L 692610.0,1900380.0 L 692610.0,1900350.0 L 692460.0,1900350.0 L 692460.0,1900320.0 L 692310.0,1900320.0 L 692310.0,1900290.0 L 692160.0,1900290.0 L 692160.0,1900260.0 L 692010.0,1900260.0 L 692010.0,1900230.0 L 691860.0,1900230.0 L 691860.0,1900200.0 L 691710.0,1900200.0 L 691710.0,1900170.0 L 691560.0,1900170.0 L 691560.0,1900140.0 L 691410.0,1900140.0 L 691410.0,1900110.0 L 691260.0,1900110.0 L 691260.0,1900080.0 L 691110.0,1900080.0 L 691110.0,1900050.0 L 690960.0,1900050.0 L 690960.0,1900020.0 L 690810.0,1900020.0 L 690810.0,1899990.0 L 690690.0,1899990.0 L 690690.0,1899960.0 L 690540.0,1899960.0 L 690540.0,1899930.0 L 690360.0,1899930.0 L 690360.0,1899900.0 L 690240.0,1899900.0 L 690240.0,1899870.0 L 690090.0,1899870.0 L 690090.0,1899840.0 L 689910.0,1899840.0 L 689910.0,1899810.0 L 689790.0,1899810.0 L 689790.0,1899780.0 L 689640.0,1899780.0 L 689640.0,1899750.0 L 689490.0,1899750.0 L 689490.0,1899720.0 L 689340.0,1899720.0 L 689340.0,1899690.0 L 689190.0,1899690.0 L 689190.0,1899660.0 L 689040.0,1899660.0 L 689040.0,1899630.0 L 688890.0,1899630.0 L 688890.0,1899600.0 L 688740.0,1899600.0 L 688740.0,1899570.0 L 688590.0,1899570.0 L 688590.0,1899540.0 L 688440.0,1899540.0 L 688440.0,1899510.0 L 688290.0,1899510.0 L 688290.0,1899480.0 L 688140.0,1899480.0 L 688140.0,1899450.0 L 687990.0,1899450.0 L 687990.0,1899420.0 L 687840.0,1899420.0 L 687840.0,1899390.0 L 687690.0,1899390.0 L 687690.0,1899360.0 L 687540.0,1899360.0 L 687540.0,1899330.0 L 687390.0,1899330.0 L 687390.0,1899300.0 L 687240.0,1899300.0 L 687240.0,1899270.0 L 687090.0,1899270.0 L 687090.0,1899240.0 L 686940.0,1899240.0 L 686940.0,1899210.0 L 686790.0,1899210.0 L 686790.0,1899180.0 L 686640.0,1899180.0 L 686640.0,1899150.0 L 686490.0,1899150.0 L 686490.0,1899120.0 L 686340.0,1899120.0 L 686340.0,1899090.0 L 686190.0,1899090.0 L 686190.0,1899060.0 L 686040.0,1899060.0 L 686040.0,1899030.0 L 685890.0,1899030.0 L 685890.0,1899000.0 L 685860.0,1899000.0 L 685860.0,1898970.0 L 685830.0,1898970.0 L 685830.0,1898940.0 L 685800.0,1898940.0 L 685800.0,1898970.0 L 685770.0,1898970.0 L 685770.0,1899000.0 L 685740.0,1899000.0 L 685740.0,1898970.0 L 685590.0,1898970.0 L 685590.0,1898940.0 L 685440.0,1898940.0 L 685440.0,1898910.0 L 685290.0,1898910.0 L 685290.0,1898880.0 L 685140.0,1898880.0 L 685140.0,1898850.0 L 684990.0,1898850.0 L 684990.0,1898820.0 L 684840.0,1898820.0 L 684840.0,1898790.0 L 684690.0,1898790.0 L 684690.0,1898760.0 L 684540.0,1898760.0 L 684540.0,1898730.0 L 684390.0,1898730.0 L 684390.0,1898700.0 L 684240.0,1898700.0 L 684240.0,1898670.0 L 684090.0,1898670.0 L 684090.0,1898640.0 L 683970.0,1898640.0 L 683970.0,1898610.0 L 683790.0,1898610.0 L 683790.0,1898580.0 L 683640.0,1898580.0 L 683640.0,1898550.0 L 683490.0,1898550.0 L 683490.0,1898520.0 L 683340.0,1898520.0 L 683340.0,1898490.0 L 683190.0,1898490.0 L 683190.0,1898460.0 L 683040.0,1898460.0 L 683040.0,1898430.0 L 682890.0,1898430.0 L 682890.0,1898400.0 L 682740.0,1898400.0 L 682740.0,1898370.0 L 682590.0,1898370.0 L 682590.0,1898340.0 L 682440.0,1898340.0 L 682440.0,1898310.0 L 682290.0,1898310.0 L 682290.0,1898280.0 L 682140.0,1898280.0 L 682140.0,1898250.0 L 681990.0,1898250.0 L 681990.0,1898220.0 L 681840.0,1898220.0 L 681840.0,1898190.0 L 681690.0,1898190.0 L 681690.0,1898160.0 L 681540.0,1898160.0 L 681540.0,1898130.0 L 681390.0,1898130.0 L 681390.0,1898100.0 L 681240.0,1898100.0 L 681240.0,1898070.0 L 681090.0,1898070.0 L 681090.0,1898040.0 L 680940.0,1898040.0 L 680940.0,1898010.0 L 680790.0,1898010.0 L 680790.0,1897980.0 L 680640.0,1897980.0 L 680640.0,1897950.0 L 680490.0,1897950.0 L 680490.0,1897920.0 L 680340.0,1897920.0 L 680340.0,1897890.0 L 680190.0,1897890.0 L 680190.0,1897860.0 L 680040.0,1897860.0 L 680040.0,1897830.0 L 679920.0,1897830.0 L 679920.0,1897800.0 L 679740.0,1897800.0 L 679740.0,1897770.0 L 679590.0,1897770.0 L 679590.0,1897740.0 L 679440.0,1897740.0 L 679440.0,1897710.0 L 679290.0,1897710.0 L 679290.0,1897680.0 L 679140.0,1897680.0 L 679140.0,1897650.0 L 678990.0,1897650.0 L 678990.0,1897620.0 L 678870.0,1897620.0 L 678870.0,1897590.0 L 678690.0,1897590.0 L 678690.0,1897560.0 L 678570.0,1897560.0 L 678570.0,1897530.0 L 678420.0,1897530.0 L 678420.0,1897500.0 L 678270.0,1897500.0 L 678270.0,1897470.0 L 678120.0,1897470.0 L 678120.0,1897440.0 L 677970.0,1897440.0 L 677970.0,1897410.0 L 677820.0,1897410.0 L 677820.0,1897380.0 L 677670.0,1897380.0 L 677670.0,1897350.0 L 677520.0,1897350.0 L 677520.0,1897320.0 L 677370.0,1897320.0 L 677370.0,1897290.0 L 677190.0,1897290.0 L 677190.0,1897260.0 L 677070.0,1897260.0 L 677070.0,1897230.0 L 676920.0,1897230.0 L 676920.0,1897200.0 L 676770.0,1897200.0 L 676770.0,1897170.0 L 676620.0,1897170.0 L 676620.0,1897140.0 L 676470.0,1897140.0 L 676470.0,1897110.0 L 676320.0,1897110.0 L 676320.0,1897080.0 L 676170.0,1897080.0 L 676170.0,1897050.0 L 676020.0,1897050.0 L 676020.0,1897020.0 L 675870.0,1897020.0 L 675870.0,1896990.0 L 675720.0,1896990.0 L 675720.0,1896960.0 L 675570.0,1896960.0 L 675570.0,1896930.0 L 675420.0,1896930.0 L 675420.0,1896900.0 L 675270.0,1896900.0 L 675270.0,1896870.0 L 675120.0,1896870.0 L 675120.0,1896840.0 L 674970.0,1896840.0 L 674970.0,1896810.0 L 674820.0,1896810.0 L 674820.0,1896780.0 L 674670.0,1896780.0 L 674670.0,1896750.0 L 674520.0,1896750.0 L 674520.0,1896720.0 L 674370.0,1896720.0 L 674370.0,1896690.0 L 674220.0,1896690.0 L 674220.0,1896660.0 L 674070.0,1896660.0 L 674070.0,1896630.0 L 673920.0,1896630.0 L 673920.0,1896600.0 L 673770.0,1896600.0 L 673770.0,1896570.0 L 673620.0,1896570.0 L 673620.0,1896540.0 L 673470.0,1896540.0 L 673470.0,1896510.0 L 673320.0,1896510.0 L 673320.0,1896480.0 L 673170.0,1896480.0 L 673170.0,1896450.0 L 673020.0,1896450.0 L 673020.0,1896420.0 L 672870.0,1896420.0 L 672870.0,1896390.0 L 672720.0,1896390.0 L 672720.0,1896360.0 L 672570.0,1896360.0 L 672570.0,1896330.0 L 672420.0,1896330.0 L 672420.0,1896300.0 L 672270.0,1896300.0 L 672270.0,1896270.0 L 672120.0,1896270.0 L 672120.0,1896240.0 L 671970.0,1896240.0 L 671970.0,1896210.0 L 671820.0,1896210.0 L 671820.0,1896180.0 L 671670.0,1896180.0 L 671670.0,1896150.0 L 671520.0,1896150.0 L 671520.0,1896120.0 L 671370.0,1896120.0 L 671370.0,1896090.0 L 671220.0,1896090.0 L 671220.0,1896060.0 L 671070.0,1896060.0 L 671070.0,1896030.0 L 670920.0,1896030.0 L 670920.0,1896000.0 L 670770.0,1896000.0 L 670770.0,1895970.0 L 670620.0,1895970.0 L 670620.0,1895940.0 L 670470.0,1895940.0 L 670470.0,1895910.0 L 670320.0,1895910.0 L 670320.0,1895880.0 L 670170.0,1895880.0 L 670170.0,1895850.0 L 670020.0,1895850.0 L 670020.0,1895820.0 L 669870.0,1895820.0 L 669870.0,1895790.0 L 669720.0,1895790.0 L 669720.0,1895760.0 L 669570.0,1895760.0 L 669570.0,1895730.0 L 669420.0,1895730.0 L 669420.0,1895700.0 L 669270.0,1895700.0 L 669270.0,1895670.0 L 669120.0,1895670.0 L 669120.0,1895640.0 L 668970.0,1895640.0 L 668970.0,1895610.0 L 668820.0,1895610.0 L 668820.0,1895580.0 L 668670.0,1895580.0 L 668670.0,1895550.0 L 668520.0,1895550.0 L 668520.0,1895520.0 L 668370.0,1895520.0 L 668370.0,1895490.0 L 668220.0,1895490.0 L 668220.0,1895460.0 L 668070.0,1895460.0 L 668070.0,1895430.0 L 667920.0,1895430.0 L 667920.0,1895400.0 L 667770.0,1895400.0 L 667770.0,1895370.0 L 667620.0,1895370.0 L 667620.0,1895340.0 L 667470.0,1895340.0 L 667470.0,1895310.0 L 667320.0,1895310.0 L 667320.0,1895280.0 L 667200.0,1895280.0 L 667200.0,1895250.0 L 667050.0,1895250.0 L 667050.0,1895220.0 L 666900.0,1895220.0 L 666900.0,1895190.0 L 666750.0,1895190.0 L 666750.0,1895160.0 L 666600.0,1895160.0 L 666600.0,1895130.0 L 666450.0,1895130.0 L 666450.0,1895100.0 L 666300.0,1895100.0 L 666300.0,1895070.0 L 666150.0,1895070.0 L 666150.0,1895040.0 L 666000.0,1895040.0 L 666000.0,1895010.0 L 665850.0,1895010.0 L 665850.0,1894980.0 L 665700.0,1894980.0 L 665700.0,1894950.0 L 665550.0,1894950.0 L 665550.0,1894920.0 L 665400.0,1894920.0 L 665400.0,1894890.0 L 665250.0,1894890.0 L 665250.0,1894860.0 L 665100.0,1894860.0 L 665100.0,1894830.0 L 664950.0,1894830.0 L 664950.0,1894800.0 L 664800.0,1894800.0 L 664800.0,1894770.0 L 664650.0,1894770.0 L 664650.0,1894740.0 L 664500.0,1894740.0 L 664500.0,1894710.0 L 664350.0,1894710.0 L 664350.0,1894680.0 L 664200.0,1894680.0 L 664200.0,1894650.0 L 664050.0,1894650.0 L 664050.0,1894620.0 L 663900.0,1894620.0 L 663900.0,1894590.0 L 663750.0,1894590.0 L 663750.0,1894560.0 L 663600.0,1894560.0 L 663600.0,1894530.0 L 663450.0,1894530.0 L 663450.0,1894500.0 L 663300.0,1894500.0 L 663300.0,1894470.0 L 663150.0,1894470.0 L 663150.0,1894440.0 L 663000.0,1894440.0 L 663000.0,1894410.0 L 662850.0,1894410.0 L 662850.0,1894380.0 L 662700.0,1894380.0 L 662700.0,1894350.0 L 662550.0,1894350.0 L 662550.0,1894320.0 L 662400.0,1894320.0 L 662400.0,1894290.0 L 662250.0,1894290.0 L 662250.0,1894260.0 L 662100.0,1894260.0 L 662100.0,1894230.0 L 661950.0,1894230.0 L 661950.0,1894200.0 L 661800.0,1894200.0 L 661800.0,1894170.0 L 661650.0,1894170.0 L 661650.0,1894140.0 L 661500.0,1894140.0 L 661500.0,1894110.0 L 661350.0,1894110.0 L 661350.0,1894080.0 L 661200.0,1894080.0 L 661200.0,1894050.0 L 661050.0,1894050.0 L 661050.0,1894020.0 L 660900.0,1894020.0 L 660900.0,1893990.0 L 660750.0,1893990.0 L 660750.0,1893960.0 L 660600.0,1893960.0 L 660600.0,1893930.0 L 660450.0,1893930.0 L 660450.0,1893900.0 L 660300.0,1893900.0 L 660300.0,1893870.0 L 660150.0,1893870.0 L 660150.0,1893840.0 L 660000.0,1893840.0 L 660000.0,1893810.0 L 659850.0,1893810.0 L 659850.0,1893780.0 L 659700.0,1893780.0 L 659700.0,1893750.0 L 659550.0,1893750.0 L 659550.0,1893720.0 L 659400.0,1893720.0 L 659400.0,1893690.0 L 659250.0,1893690.0 L 659250.0,1893660.0 L 659100.0,1893660.0 L 659100.0,1893630.0 L 658950.0,1893630.0 L 658950.0,1893600.0 L 658800.0,1893600.0 L 658800.0,1893570.0 L 658650.0,1893570.0 L 658650.0,1893540.0 L 658500.0,1893540.0 L 658500.0,1893510.0 L 658350.0,1893510.0 L 658350.0,1893480.0 L 658200.0,1893480.0 L 658200.0,1893450.0 L 658050.0,1893450.0 L 658050.0,1893420.0 L 657900.0,1893420.0 L 657900.0,1893390.0 L 657750.0,1893390.0 L 657750.0,1893360.0 L 657600.0,1893360.0 L 657600.0,1893330.0 L 657450.0,1893330.0 L 657450.0,1893300.0 L 657300.0,1893300.0 L 657300.0,1893270.0 L 657150.0,1893270.0 L 657150.0,1893240.0 L 657000.0,1893240.0 L 657000.0,1893210.0 L 656850.0,1893210.0 L 656850.0,1893180.0 L 656700.0,1893180.0 L 656700.0,1893150.0 L 656550.0,1893150.0 L 656550.0,1893120.0 L 656400.0,1893120.0 L 656400.0,1893090.0 L 656250.0,1893090.0 L 656250.0,1893060.0 L 656100.0,1893060.0 L 656100.0,1893030.0 L 655980.0,1893030.0 L 655980.0,1893000.0 L 655800.0,1893000.0 L 655800.0,1892970.0 L 655650.0,1892970.0 L 655650.0,1892940.0 L 655500.0,1892940.0 L 655500.0,1892910.0 L 655380.0,1892910.0 L 655380.0,1892880.0 L 655230.0,1892880.0 L 655230.0,1892850.0 L 655050.0,1892850.0 L 655050.0,1892820.0 L 654900.0,1892820.0 L 654900.0,1892790.0 L 654780.0,1892790.0 L 654780.0,1892760.0 L 654630.0,1892760.0 L 654630.0,1892730.0 L 654450.0,1892730.0 L 654450.0,1892700.0 L 654300.0,1892700.0 L 654300.0,1892670.0 L 654180.0,1892670.0 L 654180.0,1892640.0 L 654030.0,1892640.0 L 654030.0,1892610.0 L 653880.0,1892610.0 L 653880.0,1892580.0 L 653730.0,1892580.0 L 653730.0,1892550.0 L 653580.0,1892550.0 L 653580.0,1892520.0 L 653430.0,1892520.0 L 653430.0,1892490.0 L 653280.0,1892490.0 L 653280.0,1892460.0 L 653130.0,1892460.0 L 653130.0,1892430.0 L 652980.0,1892430.0 L 652980.0,1892400.0 L 652830.0,1892400.0 L 652830.0,1892370.0 L 652680.0,1892370.0 L 652680.0,1892340.0 L 652530.0,1892340.0 L 652530.0,1892310.0 L 652380.0,1892310.0 L 652380.0,1892280.0 L 652230.0,1892280.0 L 652230.0,1892250.0 L 652080.0,1892250.0 L 652080.0,1892220.0 L 651930.0,1892220.0 L 651930.0,1892190.0 L 651780.0,1892190.0 L 651780.0,1892160.0 L 651630.0,1892160.0 L 651630.0,1892130.0 L 651480.0,1892130.0 L 651480.0,1892100.0 L 651330.0,1892100.0 L 651330.0,1892070.0 L 651180.0,1892070.0 L 651180.0,1892040.0 L 651030.0,1892040.0 L 651030.0,1892010.0 L 650880.0,1892010.0 L 650880.0,1891980.0 L 650730.0,1891980.0 L 650730.0,1891950.0 L 650580.0,1891950.0 L 650580.0,1891920.0 L 650430.0,1891920.0 L 650430.0,1891890.0 L 650280.0,1891890.0 L 650280.0,1891860.0 L 650130.0,1891860.0 L 650130.0,1891830.0 L 649980.0,1891830.0 L 649980.0,1891800.0 L 649830.0,1891800.0 L 649830.0,1891770.0 L 649680.0,1891770.0 L 649680.0,1891740.0 L 649530.0,1891740.0 L 649530.0,1891710.0 L 649380.0,1891710.0 L 649380.0,1891680.0 L 649230.0,1891680.0 L 649230.0,1891650.0 L 649080.0,1891650.0 L 649080.0,1891620.0 L 648930.0,1891620.0 L 648930.0,1891590.0 L 648780.0,1891590.0 L 648780.0,1891560.0 L 648630.0,1891560.0 L 648630.0,1891530.0 L 648480.0,1891530.0 L 648480.0,1891500.0 L 648330.0,1891500.0 L 648330.0,1891470.0 L 648180.0,1891470.0 L 648180.0,1891440.0 L 648030.0,1891440.0 L 648030.0,1891410.0 L 647880.0,1891410.0 L 647880.0,1891380.0 L 647730.0,1891380.0 L 647730.0,1891350.0 L 647580.0,1891350.0 L 647580.0,1891320.0 L 647430.0,1891320.0 L 647430.0,1891290.0 L 647280.0,1891290.0 L 647280.0,1891260.0 L 647130.0,1891260.0 L 647130.0,1891230.0 L 646980.0,1891230.0 L 646980.0,1891200.0 L 646830.0,1891200.0 L 646830.0,1891170.0 L 646680.0,1891170.0 L 646680.0,1891140.0 L 646530.0,1891140.0 L 646530.0,1891110.0 L 646380.0,1891110.0 L 646380.0,1891080.0 L 646230.0,1891080.0 L 646230.0,1891050.0 L 646080.0,1891050.0 L 646080.0,1891020.0 L 645930.0,1891020.0 L 645930.0,1890990.0 L 645780.0,1890990.0 L 645780.0,1890960.0 L 645630.0,1890960.0 L 645630.0,1890930.0 L 645480.0,1890930.0 L 645480.0,1890900.0 L 645330.0,1890900.0 L 645330.0,1890870.0 L 645180.0,1890870.0 L 645180.0,1890840.0 L 645030.0,1890840.0 L 645030.0,1890810.0 L 644880.0,1890810.0 L 644880.0,1890780.0 L 644760.0,1890780.0 L 644760.0,1890750.0 L 644580.0,1890750.0 L 644580.0,1890720.0 L 644430.0,1890720.0 L 644430.0,1890690.0 L 644280.0,1890690.0 L 644280.0,1890660.0 L 644160.0,1890660.0 L 644160.0,1890630.0 L 643980.0,1890630.0 L 643980.0,1890600.0 L 643830.0,1890600.0 L 643830.0,1890570.0 L 643680.0,1890570.0 L 643680.0,1890540.0 L 643560.0,1890540.0 L 643560.0,1890510.0 L 643380.0,1890510.0 L 643380.0,1890480.0 L 643260.0,1890480.0 L 643260.0,1890450.0 L 643110.0,1890450.0 L 643110.0,1890420.0 L 642930.0,1890420.0 L 642930.0,1890390.0 L 642780.0,1890390.0 L 642780.0,1890360.0 L 642660.0,1890360.0 L 642660.0,1890330.0 L 642510.0,1890330.0 L 642510.0,1890300.0 L 642360.0,1890300.0 L 642360.0,1890270.0 L 642210.0,1890270.0 L 642210.0,1890240.0 L 642060.0,1890240.0 L 642060.0,1890210.0 L 641910.0,1890210.0 L 641910.0,1890180.0 L 641730.0,1890180.0 L 641730.0,1890150.0 L 641610.0,1890150.0 L 641610.0,1890120.0 L 641460.0,1890120.0 L 641460.0,1890090.0 L 641310.0,1890090.0 L 641310.0,1890060.0 L 641160.0,1890060.0 L 641160.0,1890030.0 L 641010.0,1890030.0 L 641010.0,1890000.0 L 640860.0,1890000.0 L 640860.0,1889970.0 L 640710.0,1889970.0 L 640710.0,1889940.0 L 640560.0,1889940.0 L 640560.0,1889910.0 L 640410.0,1889910.0 L 640410.0,1889880.0 L 640260.0,1889880.0 L 640260.0,1889850.0 L 640110.0,1889850.0 L 640110.0,1889820.0 L 639960.0,1889820.0 L 639960.0,1889790.0 L 639810.0,1889790.0 L 639810.0,1889760.0 L 639660.0,1889760.0 L 639660.0,1889730.0 L 639510.0,1889730.0 L 639510.0,1889700.0 L 639360.0,1889700.0 L 639360.0,1889670.0 L 639210.0,1889670.0 L 639210.0,1889640.0 L 639060.0,1889640.0 L 639060.0,1889610.0 L 638910.0,1889610.0 L 638910.0,1889580.0 L 638760.0,1889580.0 L 638760.0,1889550.0 L 638610.0,1889550.0 L 638610.0,1889520.0 L 638460.0,1889520.0 L 638460.0,1889490.0 L 638310.0,1889490.0 L 638310.0,1889460.0 L 638160.0,1889460.0 L 638160.0,1889430.0 L 638010.0,1889430.0 L 638010.0,1889400.0 L 637860.0,1889400.0 L 637860.0,1889370.0 L 637710.0,1889370.0 L 637710.0,1889340.0 L 637560.0,1889340.0 L 637560.0,1889310.0 L 637410.0,1889310.0 L 637410.0,1889280.0 L 637260.0,1889280.0 L 637260.0,1889250.0 L 637110.0,1889250.0 L 637110.0,1889220.0 L 636960.0,1889220.0 L 636960.0,1889190.0 L 636810.0,1889190.0 L 636810.0,1889160.0 L 636660.0,1889160.0 L 636660.0,1889130.0 L 636510.0,1889130.0 L 636510.0,1889100.0 L 636360.0,1889100.0 L 636360.0,1889070.0 L 636210.0,1889070.0 L 636210.0,1889040.0 L 636060.0,1889040.0 L 636060.0,1889010.0 L 635910.0,1889010.0 L 635910.0,1888980.0 L 635760.0,1888980.0 L 635760.0,1888950.0 L 635610.0,1888950.0 L 635610.0,1888920.0 L 635460.0,1888920.0 L 635460.0,1888890.0 L 635310.0,1888890.0 L 635310.0,1888860.0 L 635160.0,1888860.0 L 635160.0,1888830.0 L 635010.0,1888830.0 L 635010.0,1888800.0 L 634860.0,1888800.0 L 634860.0,1888770.0 L 634710.0,1888770.0 L 634710.0,1888740.0 L 634560.0,1888740.0 L 634560.0,1888710.0 L 634410.0,1888710.0 L 634410.0,1888680.0 L 634260.0,1888680.0 L 634260.0,1888650.0 L 634110.0,1888650.0 L 634110.0,1888620.0 L 633960.0,1888620.0 L 633960.0,1888590.0 L 633810.0,1888590.0 L 633810.0,1888560.0 L 633660.0,1888560.0 L 633660.0,1888530.0 L 633540.0,1888530.0 L 633540.0,1888500.0 L 633360.0,1888500.0 L 633360.0,1888470.0 L 633210.0,1888470.0 L 633210.0,1888440.0 L 633060.0,1888440.0 L 633060.0,1888410.0 L 632910.0,1888410.0 L 632910.0,1888380.0 L 632760.0,1888380.0 L 632760.0,1888350.0 L 632640.0,1888350.0 L 632640.0,1888320.0 L 632460.0,1888320.0 L 632460.0,1888290.0 L 632310.0,1888290.0 L 632310.0,1888260.0 L 632160.0,1888260.0 L 632160.0,1888230.0 L 632010.0,1888230.0 L 632010.0,1888200.0 L 631860.0,1888200.0 L 631860.0,1888170.0 L 631710.0,1888170.0 L 631710.0,1888140.0 L 631560.0,1888140.0 L 631560.0,1888110.0 L 631410.0,1888110.0 L 631410.0,1888080.0 L 631260.0,1888080.0 L 631260.0,1888050.0 L 631110.0,1888050.0 L 631110.0,1888020.0 L 630990.0,1888020.0 L 630990.0,1887990.0 L 630810.0,1887990.0 L 630810.0,1887960.0 L 630660.0,1887960.0 L 630660.0,1887930.0 L 630540.0,1887930.0 L 630540.0,1887900.0 L 630390.0,1887900.0 L 630390.0,1887870.0 L 630240.0,1887870.0 L 630240.0,1887840.0 L 630060.0,1887840.0 L 630060.0,1887810.0 L 629940.0,1887810.0 L 629940.0,1887780.0 L 629790.0,1887780.0 L 629790.0,1887750.0 L 629640.0,1887750.0 L 629640.0,1887720.0 L 629490.0,1887720.0 L 629490.0,1887690.0 L 629340.0,1887690.0 L 629340.0,1887660.0 L 629190.0,1887660.0 L 629190.0,1887630.0 L 629040.0,1887630.0 L 629040.0,1887600.0 L 628890.0,1887600.0 L 628890.0,1887570.0 L 628740.0,1887570.0 L 628740.0,1887540.0 L 628590.0,1887540.0 L 628590.0,1887510.0 L 628440.0,1887510.0 L 628440.0,1887480.0 L 628290.0,1887480.0 L 628290.0,1887450.0 L 628140.0,1887450.0 L 628140.0,1887420.0 L 627990.0,1887420.0 L 627990.0,1887390.0 L 627840.0,1887390.0 L 627840.0,1887360.0 L 627690.0,1887360.0 L 627690.0,1887330.0 L 627540.0,1887330.0 L 627540.0,1887300.0 L 627390.0,1887300.0 L 627390.0,1887270.0 L 627240.0,1887270.0 L 627240.0,1887240.0 L 627090.0,1887240.0 L 627090.0,1887210.0 L 626940.0,1887210.0 L 626940.0,1887180.0 L 626790.0,1887180.0 L 626790.0,1887150.0 L 626640.0,1887150.0 L 626640.0,1887120.0 L 626490.0,1887120.0 L 626490.0,1887090.0 L 626340.0,1887090.0 L 626340.0,1887060.0 L 626190.0,1887060.0 L 626190.0,1887030.0 L 626040.0,1887030.0 L 626040.0,1887000.0 L 625890.0,1887000.0 L 625890.0,1886970.0 L 625740.0,1886970.0 L 625740.0,1886940.0 L 625590.0,1886940.0 L 625590.0,1886910.0 L 625410.0,1886910.0 L 625410.0,1886880.0 L 625260.0,1886880.0 L 625260.0,1886850.0 L 625140.0,1886850.0 L 625140.0,1886820.0 L 624990.0,1886820.0 L 624990.0,1886790.0 L 624840.0,1886790.0 L 624840.0,1886760.0 L 624660.0,1886760.0 L 624660.0,1886730.0 L 624540.0,1886730.0 L 624540.0,1886700.0 L 624390.0,1886700.0 L 624390.0,1886670.0 L 624240.0,1886670.0 L 624240.0,1886640.0 L 624090.0,1886640.0 L 624090.0,1886610.0 L 623940.0,1886610.0 L 623940.0,1886580.0 L 623790.0,1886580.0 L 623790.0,1886550.0 L 623640.0,1886550.0 L 623640.0,1886520.0 L 623490.0,1886520.0 L 623490.0,1886490.0 L 623340.0,1886490.0 L 623340.0,1886460.0 L 623190.0,1886460.0 L 623190.0,1886430.0 L 623040.0,1886430.0 L 623040.0,1886400.0 L 622890.0,1886400.0 L 622890.0,1886370.0 L 622740.0,1886370.0 L 622740.0,1886340.0 L 622590.0,1886340.0 L 622590.0,1886310.0 L 622440.0,1886310.0 L 622440.0,1886280.0 L 622290.0,1886280.0 L 622290.0,1886250.0 L 622140.0,1886250.0 L 622140.0,1886220.0 L 621990.0,1886220.0 L 621990.0,1886190.0 L 621840.0,1886190.0 L 621840.0,1886160.0 L 621690.0,1886160.0 L 621690.0,1886130.0 L 621540.0,1886130.0 L 621540.0,1886100.0 L 621390.0,1886100.0 L 621390.0,1886070.0 L 621240.0,1886070.0 L 621240.0,1886040.0 L 621090.0,1886040.0 L 621090.0,1886010.0 L 620940.0,1886010.0 L 620940.0,1885980.0 L 620790.0,1885980.0 L 620790.0,1885950.0 L 620640.0,1885950.0 L 620640.0,1885920.0 L 620490.0,1885920.0 L 620490.0,1885890.0 L 620340.0,1885890.0 L 620340.0,1885860.0 L 620190.0,1885860.0 L 620190.0,1885830.0 L 620040.0,1885830.0 L 620040.0,1885800.0 L 619890.0,1885800.0 L 619890.0,1885770.0 L 619740.0,1885770.0 L 619740.0,1885740.0 L 619590.0,1885740.0 L 619590.0,1885710.0 L 619440.0,1885710.0 L 619440.0,1885680.0 L 619290.0,1885680.0 L 619290.0,1885650.0 L 619140.0,1885650.0 L 619140.0,1885620.0 L 618990.0,1885620.0 L 618990.0,1885590.0 L 618840.0,1885590.0 L 618840.0,1885560.0 L 618690.0,1885560.0 L 618690.0,1885530.0 L 618540.0,1885530.0 L 618540.0,1885500.0 L 618390.0,1885500.0 L 618390.0,1885470.0 L 618240.0,1885470.0 L 618240.0,1885440.0 L 618090.0,1885440.0 L 618090.0,1885410.0 L 617940.0,1885410.0 L 617940.0,1885380.0 L 617790.0,1885380.0 L 617790.0,1885350.0 L 617640.0,1885350.0 L 617640.0,1885320.0 L 617490.0,1885320.0 L 617490.0,1885290.0 L 617340.0,1885290.0 L 617340.0,1885260.0 L 617220.0,1885260.0 L 617220.0,1885230.0 L 617040.0,1885230.0 L 617040.0,1885200.0 L 616890.0,1885200.0 L 616890.0,1885170.0 L 616740.0,1885170.0 L 616740.0,1885140.0 L 616620.0,1885140.0 L 616620.0,1885110.0 L 616440.0,1885110.0 L 616440.0,1885080.0 L 616320.0,1885080.0 L 616320.0,1885050.0 L 616170.0,1885050.0 L 616170.0,1885020.0 L 615990.0,1885020.0 L 615990.0,1884990.0 L 615870.0,1884990.0 L 615870.0,1884960.0 L 615720.0,1884960.0 L 615720.0,1884930.0 L 615570.0,1884930.0 L 615570.0,1884900.0 L 615420.0,1884900.0 L 615420.0,1884870.0 L 615270.0,1884870.0 L 615270.0,1884840.0 L 615090.0,1884840.0 L 615090.0,1884810.0 L 614970.0,1884810.0 L 614970.0,1884780.0 L 614820.0,1884780.0 L 614820.0,1884750.0 L 614670.0,1884750.0 L 614670.0,1884720.0 L 614520.0,1884720.0 L 614520.0,1884690.0 L 614460.0,1884690.0 L 614460.0,1884570.0 L 614490.0,1884570.0 L 614490.0,1884450.0 L 614460.0,1884450.0 L 614460.0,1884390.0 L 614490.0,1884390.0 L 614490.0,1884210.0 L 614520.0,1884210.0 L 614520.0,1884090.0 L 614550.0,1884090.0 L 614550.0,1883940.0 L 614580.0,1883940.0 L 614580.0,1883850.0 L 614610.0,1883850.0 L 614610.0,1883700.0 L 614640.0,1883700.0 L 614640.0,1883610.0 L 614670.0,1883610.0 L 614670.0,1883580.0 L 614700.0,1883580.0 L 614700.0,1883460.0 L 614730.0,1883460.0 L 614730.0,1883160.0 L 614760.0,1883160.0 L 614760.0,1883040.0 L 614790.0,1883040.0 L 614790.0,1882950.0 L 614820.0,1882950.0 L 614820.0,1882710.0 L 614850.0,1882710.0 L 614850.0,1882560.0 L 614880.0,1882560.0 L 614880.0,1882350.0 L 614910.0,1882350.0 L 614910.0,1882170.0 L 614940.0,1882170.0 L 614940.0,1881840.0 L 614970.0,1881840.0 L 614970.0,1881690.0 L 615000.0,1881690.0 L 615000.0,1881540.0 L 615030.0,1881540.0 L 615030.0,1881390.0 L 615060.0,1881390.0 L 615060.0,1881210.0 L 615090.0,1881210.0 L 615090.0,1881060.0 L 615120.0,1881060.0 L 615120.0,1880910.0 L 615150.0,1880910.0 L 615150.0,1880760.0 L 615180.0,1880760.0 L 615180.0,1880580.0 L 615210.0,1880580.0 L 615210.0,1880460.0 L 615240.0,1880460.0 L 615240.0,1880340.0 L 615270.0,1880340.0 L 615270.0,1880280.0 L 615300.0,1880280.0 L 615300.0,1880250.0 L 615330.0,1880250.0 L 615330.0,1880190.0 L 615360.0,1880190.0 L 615360.0,1880130.0 L 615390.0,1880130.0 L 615390.0,1880070.0 L 615420.0,1880070.0 L 615420.0,1879950.0 L 615450.0,1879950.0 L 615450.0,1879620.0 L 615480.0,1879620.0 L 615480.0,1879200.0 L 615510.0,1879200.0 L 615510.0,1879050.0 L 615540.0,1879050.0 L 615540.0,1878900.0 L 615570.0,1878900.0 L 615570.0,1878720.0 L 615600.0,1878720.0 L 615600.0,1878630.0 L 615630.0,1878630.0 L 615630.0,1878570.0 L 615660.0,1878570.0 L 615660.0,1878300.0 L 615690.0,1878300.0 L 615690.0,1878240.0 L 615720.0,1878240.0 L 615720.0,1878030.0 L 615750.0,1878030.0 L 615750.0,1877940.0 L 615780.0,1877940.0 L 615780.0,1877790.0 L 615810.0,1877790.0 L 615810.0,1877640.0 L 615840.0,1877640.0 L 615840.0,1877550.0 L 615870.0,1877550.0 L 615870.0,1877460.0 L 615900.0,1877460.0 L 615900.0,1877250.0 L 615930.0,1877250.0 L 615930.0,1877100.0 L 615960.0,1877100.0 L 615960.0,1876980.0 L 615990.0,1876980.0 L 615990.0,1876770.0 L 616020.0,1876770.0 L 616020.0,1876530.0 L 616050.0,1876530.0 L 616050.0,1876440.0 L 616080.0,1876440.0 L 616080.0,1876380.0 L 616110.0,1876380.0 L 616110.0,1876350.0 L 616140.0,1876350.0 L 616140.0,1876290.0 L 616170.0,1876290.0 L 616170.0,1876080.0 L 616200.0,1876080.0 L 616200.0,1876020.0 L 616230.0,1876020.0 L 616230.0,1875900.0 L 616260.0,1875900.0 L 616260.0,1875780.0 L 616230.0,1875780.0 L 616230.0,1875720.0 L 616260.0,1875720.0 L 616260.0,1875570.0 L 616290.0,1875570.0 L 616290.0,1875480.0 L 616320.0,1875480.0 L 616320.0,1875420.0 L 616350.0,1875420.0 L 616350.0,1875360.0 L 616380.0,1875360.0 L 616380.0,1875240.0 L 616410.0,1875240.0 L 616410.0,1875180.0 L 616440.0,1875180.0 L 616440.0,1875120.0 L 616410.0,1875120.0 L 616410.0,1874940.0 L 616440.0,1874940.0 L 616440.0,1874880.0 L 616470.0,1874880.0 L 616470.0,1874850.0 L 616500.0,1874850.0 L 616500.0,1874790.0 L 616530.0,1874790.0 L 616530.0,1874730.0 L 616560.0,1874730.0 L 616560.0,1874610.0 L 616590.0,1874610.0 L 616590.0,1874550.0 L 616620.0,1874550.0 L 616620.0,1874490.0 L 616590.0,1874490.0 L 616590.0,1874310.0 L 616620.0,1874310.0 L 616620.0,1874250.0 L 616650.0,1874250.0 L 616650.0,1874160.0 L 616620.0,1874160.0 L 616620.0,1874130.0 L 616650.0,1874130.0 L 616650.0,1874070.0 L 616680.0,1874070.0 L 616680.0,1874040.0 L 616710.0,1874040.0 L 616710.0,1874010.0 L 616740.0,1874010.0 L 616740.0,1873890.0 L 616710.0,1873890.0 L 616710.0,1873830.0 L 616740.0,1873830.0 L 616740.0,1873800.0 L 616770.0,1873800.0 L 616770.0,1873770.0 L 616800.0,1873770.0 L 616800.0,1873740.0 L 616830.0,1873740.0 L 616830.0,1873710.0 L 616800.0,1873710.0 L 616800.0,1873590.0 L 616770.0,1873590.0 L 616770.0,1873530.0 L 616800.0,1873530.0 L 616800.0,1873500.0 L 616830.0,1873500.0 L 616830.0,1873110.0 L 616860.0,1873110.0 L 616860.0,1872900.0 L 616890.0,1872900.0 L 616890.0,1872870.0 L 616860.0,1872870.0 L 616860.0,1872780.0 L 616890.0,1872780.0 L 616890.0,1872720.0 L 616920.0,1872720.0 L 616920.0,1872510.0 L 616950.0,1872510.0 L 616950.0,1872450.0 L 616980.0,1872450.0 L 616980.0,1872390.0 L 617010.0,1872390.0 L 617010.0,1872360.0 L 617040.0,1872360.0 L 617040.0,1872150.0 L 617070.0,1872150.0 L 617070.0,1872000.0 L 617100.0,1872000.0 L 617100.0,1871940.0 L 617130.0,1871940.0 L 617130.0,1871850.0 L 617100.0,1871850.0 L 617100.0,1871760.0 L 617130.0,1871760.0 L 617130.0,1871730.0 L 617160.0,1871730.0 L 617160.0,1871700.0 L 617190.0,1871700.0 L 617190.0,1871580.0 L 617160.0,1871580.0 L 617160.0,1871280.0 L 617190.0,1871280.0 L 617190.0,1871190.0 L 617220.0,1871190.0 L 617220.0,1870950.0 L 617250.0,1870950.0 L 617250.0,1870740.0 L 617280.0,1870740.0 L 617280.0,1870500.0 L 617310.0,1870500.0 L 617310.0,1870380.0 L 617340.0,1870380.0 L 617340.0,1870350.0 L 617370.0,1870350.0 L 617370.0,1870320.0 L 617400.0,1870320.0 L 617400.0,1870140.0 L 617430.0,1870140.0 L 617430.0,1870080.0 L 617460.0,1870080.0 L 617460.0,1870050.0 L 617430.0,1870050.0 L 617430.0,1869990.0 L 617460.0,1869990.0 L 617460.0,1869960.0 L 617490.0,1869960.0 L 617490.0,1869810.0 L 617520.0,1869810.0 L 617520.0,1869720.0 L 617550.0,1869720.0 L 617550.0,1869660.0 L 617520.0,1869660.0 L 617520.0,1869540.0 L 617550.0,1869540.0 L 617550.0,1869480.0 L 617580.0,1869480.0 L 617580.0,1869420.0 L 617550.0,1869420.0 L 617550.0,1869390.0 L 617580.0,1869390.0 L 617580.0,1869270.0 L 617610.0,1869270.0 L 617610.0,1869210.0 L 617640.0,1869210.0 L 617640.0,1869150.0 L 617670.0,1869150.0 L 617670.0,1869030.0 L 617700.0,1869030.0 L 617700.0,1868970.0 L 617730.0,1868970.0 L 617730.0,1868910.0 L 617760.0,1868910.0 L 617760.0,1868820.0 L 617790.0,1868820.0 L 617790.0,1868790.0 L 617820.0,1868790.0 L 617820.0,1868460.0 L 617850.0,1868460.0 L 617850.0,1868400.0 L 617880.0,1868400.0 L 617880.0,1868370.0 L 617910.0,1868370.0 L 617910.0,1868280.0 L 617940.0,1868280.0 L 617940.0,1868220.0 L 617910.0,1868220.0 L 617910.0,1868190.0 L 617940.0,1868190.0 L 617940.0,1868100.0 L 617970.0,1868100.0 L 617970.0,1868010.0 L 618000.0,1868010.0 L 618000.0,1867950.0 L 618030.0,1867950.0 L 618030.0,1867800.0 L 618000.0,1867800.0 L 618000.0,1867590.0 L 618030.0,1867590.0 L 618030.0,1867530.0 L 618060.0,1867530.0 L 618060.0,1867470.0 L 618090.0,1867470.0 L 618090.0,1867350.0 L 618120.0,1867350.0 L 618120.0,1867320.0 L 618150.0,1867320.0 L 618150.0,1867260.0 L 618180.0,1867260.0 L 618180.0,1867170.0 L 618210.0,1867170.0 L 618210.0,1867140.0 L 618240.0,1867140.0 L 618240.0,1867110.0 L 618270.0,1867110.0 L 618270.0,1866960.0 L 618240.0,1866960.0 L 618240.0,1866900.0 L 618210.0,1866900.0 L 618210.0,1866840.0 L 618180.0,1866840.0 L 618180.0,1866720.0 L 618210.0,1866720.0 L 618210.0,1866660.0 L 618180.0,1866660.0 L 618180.0,1866420.0 L 618210.0,1866420.0 L 618210.0,1866360.0 L 618240.0,1866360.0 L 618240.0,1866330.0 L 618270.0,1866330.0 L 618270.0,1866300.0 L 618300.0,1866300.0 L 618300.0,1866150.0 L 618330.0,1866150.0 L 618330.0,1866090.0 L 618360.0,1866090.0 L 618360.0,1865910.0 L 618330.0,1865910.0 L 618330.0,1865760.0 L 618300.0,1865760.0 L 618300.0,1865670.0 L 618330.0,1865670.0 L 618330.0,1865640.0 L 618360.0,1865640.0 L 618360.0,1865610.0 L 618390.0,1865610.0 L 618390.0,1865580.0 L 618420.0,1865580.0 L 618420.0,1865550.0 L 618450.0,1865550.0 L 618450.0,1865400.0 L 618480.0,1865400.0 L 618480.0,1865310.0 L 618510.0,1865310.0 L 618510.0,1865190.0 L 618540.0,1865190.0 L 618540.0,1865100.0 L 618570.0,1865100.0 L 618570.0,1865010.0 L 618600.0,1865010.0 L 618600.0,1864890.0 L 618630.0,1864890.0 L 618630.0,1864860.0 L 618660.0,1864860.0 L 618660.0,1864800.0 L 618780.0,1864800.0 L 618780.0,1864830.0 L 618930.0,1864830.0 L 618930.0,1864860.0 L 619080.0,1864860.0 L 619080.0,1864890.0 L 619230.0,1864890.0 L 619230.0,1864920.0 L 619380.0,1864920.0 L 619380.0,1864950.0 L 619530.0,1864950.0 L 619530.0,1864980.0 L 619680.0,1864980.0 L 619680.0,1865010.0 L 619830.0,1865010.0 L 619830.0,1865040.0 L 619980.0,1865040.0 L 619980.0,1865070.0 L 620130.0,1865070.0 L 620130.0,1865100.0 L 620280.0,1865100.0 L 620280.0,1865130.0 L 620430.0,1865130.0 L 620430.0,1865160.0 L 620580.0,1865160.0 L 620580.0,1865190.0 L 620730.0,1865190.0 L 620730.0,1865220.0 L 620880.0,1865220.0 L 620880.0,1865250.0 L 621030.0,1865250.0 L 621030.0,1865280.0 L 621180.0,1865280.0 L 621180.0,1865310.0 L 621330.0,1865310.0 L 621330.0,1865340.0 L 621480.0,1865340.0 L 621480.0,1865370.0 L 621630.0,1865370.0 L 621630.0,1865400.0 L 621780.0,1865400.0 L 621780.0,1865430.0 L 621900.0,1865430.0 L 621900.0,1865460.0 L 622080.0,1865460.0 L 622080.0,1865490.0 L 622200.0,1865490.0 L 622200.0,1865520.0 L 622350.0,1865520.0 L 622350.0,1865550.0 L 622530.0,1865550.0 L 622530.0,1865580.0 L 622650.0,1865580.0 L 622650.0,1865610.0 L 622830.0,1865610.0 L 622830.0,1865640.0 L 622950.0,1865640.0 L 622950.0,1865670.0 L 623100.0,1865670.0 L 623100.0,1865700.0 L 623250.0,1865700.0 L 623250.0,1865730.0 L 623400.0,1865730.0 L 623400.0,1865760.0 L 623550.0,1865760.0 L 623550.0,1865790.0 L 623700.0,1865790.0 L 623700.0,1865820.0 L 623850.0,1865820.0 L 623850.0,1865850.0 L 624000.0,1865850.0 L 624000.0,1865880.0 L 624150.0,1865880.0 L 624150.0,1865910.0 L 624300.0,1865910.0 L 624300.0,1865940.0 L 624450.0,1865940.0 L 624450.0,1865970.0 L 624600.0,1865970.0 L 624600.0,1866000.0 L 624750.0,1866000.0 L 624750.0,1866030.0 L 624900.0,1866030.0 L 624900.0,1866060.0 L 625050.0,1866060.0 L 625050.0,1866090.0 L 625200.0,1866090.0 L 625200.0,1866120.0 L 625350.0,1866120.0 L 625350.0,1866150.0 L 625500.0,1866150.0 L 625500.0,1866180.0 L 625650.0,1866180.0 L 625650.0,1866210.0 L 625800.0,1866210.0 L 625800.0,1866240.0 L 625950.0,1866240.0 L 625950.0,1866270.0 L 626100.0,1866270.0 L 626100.0,1866300.0 L 626250.0,1866300.0 L 626250.0,1866330.0 L 626400.0,1866330.0 L 626400.0,1866360.0 L 626550.0,1866360.0 L 626550.0,1866390.0 L 626700.0,1866390.0 L 626700.0,1866420.0 L 626850.0,1866420.0 L 626850.0,1866450.0 L 627000.0,1866450.0 L 627000.0,1866480.0 L 627150.0,1866480.0 L 627150.0,1866510.0 L 627300.0,1866510.0 L 627300.0,1866540.0 L 627450.0,1866540.0 L 627450.0,1866570.0 L 627600.0,1866570.0 L 627600.0,1866600.0 L 627750.0,1866600.0 L 627750.0,1866630.0 L 627900.0,1866630.0 L 627900.0,1866660.0 L 628050.0,1866660.0 L 628050.0,1866690.0 L 628200.0,1866690.0 L 628200.0,1866720.0 L 628350.0,1866720.0 L 628350.0,1866750.0 L 628500.0,1866750.0 L 628500.0,1866780.0 L 628650.0,1866780.0 L 628650.0,1866810.0 L 628800.0,1866810.0 L 628800.0,1866840.0 L 628950.0,1866840.0 L 628950.0,1866870.0 L 629100.0,1866870.0 L 629100.0,1866900.0 L 629220.0,1866900.0 L 629220.0,1866930.0 L 629400.0,1866930.0 L 629400.0,1866960.0 L 629550.0,1866960.0 L 629550.0,1866990.0 L 629700.0,1866990.0 L 629700.0,1867020.0 L 629820.0,1867020.0 L 629820.0,1867050.0 L 629970.0,1867050.0 L 629970.0,1867080.0 L 630120.0,1867080.0 L 630120.0,1867110.0 L 630270.0,1867110.0 L 630270.0,1867140.0 L 630420.0,1867140.0 L 630420.0,1867170.0 L 630600.0,1867170.0 L 630600.0,1867200.0 L 630720.0,1867200.0 L 630720.0,1867230.0 L 630870.0,1867230.0 L 630870.0,1867260.0 L 631020.0,1867260.0 L 631020.0,1867290.0 L 631200.0,1867290.0 L 631200.0,1867320.0 L 631320.0,1867320.0 L 631320.0,1867350.0 L 631470.0,1867350.0 L 631470.0,1867380.0 L 631620.0,1867380.0 L 631620.0,1867410.0 L 631770.0,1867410.0 L 631770.0,1867440.0 L 631920.0,1867440.0 L 631920.0,1867470.0 L 632070.0,1867470.0 L 632070.0,1867500.0 L 632220.0,1867500.0 L 632220.0,1867530.0 L 632370.0,1867530.0 L 632370.0,1867560.0 L 632520.0,1867560.0 L 632520.0,1867590.0 L 632670.0,1867590.0 L 632670.0,1867620.0 L 632820.0,1867620.0 L 632820.0,1867650.0 L 632970.0,1867650.0 L 632970.0,1867680.0 L 633120.0,1867680.0 L 633120.0,1867710.0 L 633270.0,1867710.0 L 633270.0,1867740.0 L 633420.0,1867740.0 L 633420.0,1867770.0 L 633570.0,1867770.0 L 633570.0,1867800.0 L 633720.0,1867800.0 L 633720.0,1867830.0 L 633870.0,1867830.0 L 633870.0,1867860.0 L 634020.0,1867860.0 L 634020.0,1867890.0 L 634170.0,1867890.0 L 634170.0,1867920.0 L 634320.0,1867920.0 L 634320.0,1867950.0 L 634470.0,1867950.0 L 634470.0,1867980.0 L 634620.0,1867980.0 L 634620.0,1868010.0 L 634770.0,1868010.0 L 634770.0,1868040.0 L 634920.0,1868040.0 L 634920.0,1868070.0 L 635070.0,1868070.0 L 635070.0,1868100.0 L 635220.0,1868100.0 L 635220.0,1868130.0 L 635370.0,1868130.0 L 635370.0,1868160.0 L 635490.0,1868160.0 L 635490.0,1868190.0 L 635670.0,1868190.0 L 635670.0,1868220.0 L 635820.0,1868220.0 L 635820.0,1868250.0 L 635970.0,1868250.0 L 635970.0,1868280.0 L 636120.0,1868280.0 L 636120.0,1868310.0 L 636270.0,1868310.0 L 636270.0,1868340.0 L 636420.0,1868340.0 L 636420.0,1868370.0 L 636540.0,1868370.0 L 636540.0,1868400.0 L 636720.0,1868400.0 L 636720.0,1868430.0 L 636870.0,1868430.0 L 636870.0,1868460.0 L 637020.0,1868460.0 L 637020.0,1868490.0 L 637170.0,1868490.0 L 637170.0,1868520.0 L 637320.0,1868520.0 L 637320.0,1868550.0 L 637470.0,1868550.0 L 637470.0,1868580.0 L 637620.0,1868580.0 L 637620.0,1868610.0 L 637770.0,1868610.0 L 637770.0,1868640.0 L 637890.0,1868640.0 L 637890.0,1868670.0 L 638040.0,1868670.0 L 638040.0,1868700.0 L 638190.0,1868700.0 L 638190.0,1868730.0 L 638370.0,1868730.0 L 638370.0,1868760.0 L 638490.0,1868760.0 L 638490.0,1868790.0 L 638640.0,1868790.0 L 638640.0,1868820.0 L 638790.0,1868820.0 L 638790.0,1868850.0 L 638940.0,1868850.0 L 638940.0,1868880.0 L 639090.0,1868880.0 L 639090.0,1868910.0 L 639240.0,1868910.0 L 639240.0,1868940.0 L 639390.0,1868940.0 L 639390.0,1868970.0 L 639540.0,1868970.0 L 639540.0,1869000.0 L 639690.0,1869000.0 L 639690.0,1869030.0 L 639840.0,1869030.0 L 639840.0,1869060.0 L 639990.0,1869060.0 L 639990.0,1869090.0 L 640140.0,1869090.0 L 640140.0,1869120.0 L 640290.0,1869120.0 L 640290.0,1869150.0 L 640440.0,1869150.0 L 640440.0,1869180.0 L 640590.0,1869180.0 L 640590.0,1869210.0 L 640740.0,1869210.0 L 640740.0,1869240.0 L 640890.0,1869240.0 L 640890.0,1869270.0 L 641040.0,1869270.0 L 641040.0,1869300.0 L 641190.0,1869300.0 L 641190.0,1869330.0 L 641340.0,1869330.0 L 641340.0,1869360.0 L 641490.0,1869360.0 L 641490.0,1869390.0 L 641640.0,1869390.0 L 641640.0,1869420.0 L 641790.0,1869420.0 L 641790.0,1869450.0 L 641940.0,1869450.0 L 641940.0,1869480.0 L 642090.0,1869480.0 L 642090.0,1869510.0 L 642240.0,1869510.0 L 642240.0,1869540.0 L 642390.0,1869540.0 L 642390.0,1869570.0 L 642540.0,1869570.0 L 642540.0,1869600.0 L 642690.0,1869600.0 L 642690.0,1869630.0 L 642840.0,1869630.0 L 642840.0,1869660.0 L 642990.0,1869660.0 L 642990.0,1869690.0 L 643140.0,1869690.0 L 643140.0,1869720.0 L 643290.0,1869720.0 L 643290.0,1869750.0 L 643440.0,1869750.0 L 643440.0,1869780.0 L 643590.0,1869780.0 L 643590.0,1869810.0 L 643740.0,1869810.0 L 643740.0,1869840.0 L 643890.0,1869840.0 L 643890.0,1869870.0 L 644040.0,1869870.0 L 644040.0,1869900.0 L 644190.0,1869900.0 L 644190.0,1869930.0 L 644340.0,1869930.0 L 644340.0,1869960.0 L 644490.0,1869960.0 L 644490.0,1869990.0 L 644640.0,1869990.0 L 644640.0,1870020.0 L 644760.0,1870020.0 L 644760.0,1870050.0 L 644940.0,1870050.0 L 644940.0,1870080.0 L 645090.0,1870080.0 L 645090.0,1870110.0 L 645240.0,1870110.0 L 645240.0,1870140.0 L 645390.0,1870140.0 L 645390.0,1870170.0 L 645540.0,1870170.0 L 645540.0,1870200.0 L 645690.0,1870200.0 L 645690.0,1870230.0 L 645840.0,1870230.0 L 645840.0,1870260.0 L 645960.0,1870260.0 L 645960.0,1870290.0 L 646140.0,1870290.0 L 646140.0,1870320.0 L 646290.0,1870320.0 L 646290.0,1870350.0 L 646410.0,1870350.0 L 646410.0,1870380.0 L 646560.0,1870380.0 L 646560.0,1870410.0 L 646710.0,1870410.0 L 646710.0,1870440.0 L 646860.0,1870440.0 L 646860.0,1870470.0 L 647010.0,1870470.0 L 647010.0,1870500.0 L 647160.0,1870500.0 L 647160.0,1870530.0 L 647310.0,1870530.0 L 647310.0,1870560.0 L 647460.0,1870560.0 L 647460.0,1870590.0 L 647610.0,1870590.0 L 647610.0,1870620.0 L 647760.0,1870620.0 L 647760.0,1870650.0 L 647910.0,1870650.0 L 647910.0,1870680.0 L 648060.0,1870680.0 L 648060.0,1870710.0 L 648210.0,1870710.0 L 648210.0,1870740.0 L 648360.0,1870740.0 L 648360.0,1870770.0 L 648510.0,1870770.0 L 648510.0,1870800.0 L 648660.0,1870800.0 L 648660.0,1870830.0 L 648810.0,1870830.0 L 648810.0,1870860.0 L 648960.0,1870860.0 L 648960.0,1870890.0 L 649110.0,1870890.0 L 649110.0,1870920.0 L 649260.0,1870920.0 L 649260.0,1870950.0 L 649410.0,1870950.0 L 649410.0,1870980.0 L 649560.0,1870980.0 L 649560.0,1871010.0 L 649710.0,1871010.0 L 649710.0,1871040.0 L 649860.0,1871040.0 L 649860.0,1871070.0 L 650010.0,1871070.0 L 650010.0,1871100.0 L 650160.0,1871100.0 L 650160.0,1871130.0 L 650310.0,1871130.0 L 650310.0,1871160.0 L 650460.0,1871160.0 L 650460.0,1871190.0 L 650610.0,1871190.0 L 650610.0,1871220.0 L 650760.0,1871220.0 L 650760.0,1871250.0 L 650910.0,1871250.0 L 650910.0,1871280.0 L 651060.0,1871280.0 L 651060.0,1871310.0 L 651210.0,1871310.0 L 651210.0,1871340.0 L 651360.0,1871340.0 L 651360.0,1871370.0 L 651510.0,1871370.0 L 651510.0,1871400.0 L 651660.0,1871400.0 L 651660.0,1871430.0 L 651810.0,1871430.0 L 651810.0,1871460.0 L 651960.0,1871460.0 L 651960.0,1871490.0 L 652110.0,1871490.0 L 652110.0,1871520.0 L 652260.0,1871520.0 L 652260.0,1871550.0 L 652410.0,1871550.0 L 652410.0,1871580.0 L 652560.0,1871580.0 L 652560.0,1871610.0 L 652710.0,1871610.0 L 652710.0,1871640.0 L 652860.0,1871640.0 L 652860.0,1871670.0 L 653010.0,1871670.0 L 653010.0,1871700.0 L 653160.0,1871700.0 L 653160.0,1871730.0 L 653310.0,1871730.0 L 653310.0,1871760.0 L 653460.0,1871760.0 L 653460.0,1871790.0 L 653610.0,1871790.0 L 653610.0,1871820.0 L 653760.0,1871820.0 L 653760.0,1871850.0 L 653910.0,1871850.0 L 653910.0,1871880.0 L 654030.0,1871880.0 L 654030.0,1871910.0 L 654180.0,1871910.0 L 654180.0,1871940.0 L 654330.0,1871940.0 L 654330.0,1871970.0 L 654480.0,1871970.0 L 654480.0,1872000.0 L 654630.0,1872000.0 L 654630.0,1872030.0 L 654780.0,1872030.0 L 654780.0,1872060.0 L 654930.0,1872060.0 L 654930.0,1872090.0 L 655080.0,1872090.0 L 655080.0,1872120.0 L 655230.0,1872120.0 L 655230.0,1872150.0 L 655380.0,1872150.0 L 655380.0,1872180.0 L 655530.0,1872180.0 L 655530.0,1872210.0 L 655680.0,1872210.0 L 655680.0,1872240.0 L 655830.0,1872240.0 L 655830.0,1872270.0 L 655980.0,1872270.0 L 655980.0,1872300.0 L 656130.0,1872300.0 L 656130.0,1872330.0 L 656280.0,1872330.0 L 656280.0,1872360.0 L 656430.0,1872360.0 L 656430.0,1872390.0 L 656580.0,1872390.0 L 656580.0,1872420.0 L 656730.0,1872420.0 L 656730.0,1872450.0 L 656880.0,1872450.0 L 656880.0,1872480.0 L 657030.0,1872480.0 L 657030.0,1872510.0 L 657180.0,1872510.0 L 657180.0,1872540.0 L 657330.0,1872540.0 L 657330.0,1872570.0 L 657480.0,1872570.0 L 657480.0,1872600.0 L 657630.0,1872600.0 L 657630.0,1872630.0 L 657780.0,1872630.0 L 657780.0,1872660.0 L 657930.0,1872660.0 L 657930.0,1872690.0 L 658080.0,1872690.0 L 658080.0,1872720.0 L 658230.0,1872720.0 L 658230.0,1872750.0 L 658380.0,1872750.0 L 658380.0,1872780.0 L 658530.0,1872780.0 L 658530.0,1872810.0 L 658680.0,1872810.0 L 658680.0,1872840.0 L 658830.0,1872840.0 L 658830.0,1872870.0 L 658980.0,1872870.0 L 658980.0,1872900.0 L 659130.0,1872900.0 L 659130.0,1872930.0 L 659280.0,1872930.0 L 659280.0,1872960.0 L 659430.0,1872960.0 L 659430.0,1872990.0 L 659580.0,1872990.0 L 659580.0,1873020.0 L 659730.0,1873020.0 L 659730.0,1873050.0 L 659880.0,1873050.0 L 659880.0,1873080.0 L 660030.0,1873080.0 L 660030.0,1873110.0 L 660180.0,1873110.0 L 660180.0,1873140.0 L 660240.0,1873140.0 L 660240.0,1873170.0 L 660270.0,1873170.0 L 660270.0,1873200.0 L 660360.0,1873200.0 L 660360.0,1873170.0 L 660480.0,1873170.0 L 660480.0,1873200.0 L 660630.0,1873200.0 L 660630.0,1873230.0 L 660780.0,1873230.0 L 660780.0,1873260.0 L 660900.0,1873260.0 L 660900.0,1873290.0 L 661080.0,1873290.0 L 661080.0,1873320.0 L 661200.0,1873320.0 L 661200.0,1873350.0 L 661350.0,1873350.0 L 661350.0,1873380.0 L 661530.0,1873380.0 L 661530.0,1873410.0 L 661650.0,1873410.0 L 661650.0,1873440.0 L 661800.0,1873440.0 L 661800.0,1873470.0 L 661950.0,1873470.0 L 661950.0,1873500.0 L 662100.0,1873500.0 L 662100.0,1873530.0 L 662250.0,1873530.0 L 662250.0,1873560.0 L 662400.0,1873560.0 L 662400.0,1873590.0 L 662550.0,1873590.0 L 662550.0,1873620.0 L 662700.0,1873620.0 L 662700.0,1873650.0 L 662850.0,1873650.0 L 662850.0,1873680.0 L 663000.0,1873680.0 L 663000.0,1873710.0 L 663150.0,1873710.0 L 663150.0,1873740.0 L 663300.0,1873740.0 L 663300.0,1873770.0 L 663450.0,1873770.0 L 663450.0,1873800.0 L 663600.0,1873800.0 L 663600.0,1873830.0 L 663750.0,1873830.0 L 663750.0,1873860.0 L 663900.0,1873860.0 L 663900.0,1873890.0 L 664050.0,1873890.0 L 664050.0,1873920.0 L 664200.0,1873920.0 L 664200.0,1873950.0 L 664350.0,1873950.0 L 664350.0,1873980.0 L 664500.0,1873980.0 L 664500.0,1874010.0 L 664650.0,1874010.0 L 664650.0,1874040.0 L 664800.0,1874040.0 L 664800.0,1874070.0 L 664950.0,1874070.0 L 664950.0,1874100.0 L 665100.0,1874100.0 L 665100.0,1874130.0 L 665250.0,1874130.0 L 665250.0,1874160.0 L 665400.0,1874160.0 L 665400.0,1874190.0 L 665550.0,1874190.0 L 665550.0,1874220.0 L 665700.0,1874220.0 L 665700.0,1874250.0 L 665850.0,1874250.0 L 665850.0,1874280.0 L 666000.0,1874280.0 L 666000.0,1874310.0 L 666150.0,1874310.0 L 666150.0,1874340.0 L 666300.0,1874340.0 L 666300.0,1874370.0 L 666450.0,1874370.0 L 666450.0,1874400.0 L 666600.0,1874400.0 L 666600.0,1874430.0 L 666750.0,1874430.0 L 666750.0,1874460.0 L 666900.0,1874460.0 L 666900.0,1874490.0 L 667050.0,1874490.0 L 667050.0,1874520.0 L 667200.0,1874520.0 L 667200.0,1874550.0 L 667350.0,1874550.0 L 667350.0,1874580.0 L 667500.0,1874580.0 L 667500.0,1874610.0 L 667650.0,1874610.0 L 667650.0,1874640.0 L 667800.0,1874640.0 L 667800.0,1874670.0 L 667950.0,1874670.0 L 667950.0,1874700.0 L 668070.0,1874700.0 L 668070.0,1874730.0 L 668250.0,1874730.0 L 668250.0,1874760.0 L 668400.0,1874760.0 L 668400.0,1874790.0 L 668550.0,1874790.0 L 668550.0,1874820.0 L 668670.0,1874820.0 L 668670.0,1874850.0 L 668820.0,1874850.0 L 668820.0,1874880.0 L 668970.0,1874880.0 L 668970.0,1874910.0 L 669150.0,1874910.0 L 669150.0,1874940.0 L 669270.0,1874940.0 L 669270.0,1874970.0 L 669420.0,1874970.0 L 669420.0,1875000.0 L 669570.0,1875000.0 L 669570.0,1875030.0 L 669720.0,1875030.0 L 669720.0,1875060.0 L 669870.0,1875060.0 L 669870.0,1875090.0 L 670020.0,1875090.0 L 670020.0,1875120.0 L 670170.0,1875120.0 L 670170.0,1875150.0 L 670320.0,1875150.0 L 670320.0,1875180.0 L 670470.0,1875180.0 L 670470.0,1875210.0 L 670620.0,1875210.0 L 670620.0,1875240.0 L 670770.0,1875240.0 L 670770.0,1875270.0 L 670920.0,1875270.0 L 670920.0,1875300.0 L 671070.0,1875300.0 L 671070.0,1875330.0 L 671220.0,1875330.0 L 671220.0,1875360.0 L 671370.0,1875360.0 L 671370.0,1875390.0 L 671520.0,1875390.0 L 671520.0,1875420.0 L 671670.0,1875420.0 L 671670.0,1875450.0 L 671820.0,1875450.0 L 671820.0,1875480.0 L 671970.0,1875480.0 L 671970.0,1875510.0 L 672120.0,1875510.0 L 672120.0,1875540.0 L 672270.0,1875540.0 L 672270.0,1875570.0 L 672420.0,1875570.0 L 672420.0,1875600.0 L 672570.0,1875600.0 L 672570.0,1875630.0 L 672720.0,1875630.0 L 672720.0,1875660.0 L 672870.0,1875660.0 L 672870.0,1875690.0 L 673020.0,1875690.0 L 673020.0,1875720.0 L 673170.0,1875720.0 L 673170.0,1875750.0 L 673320.0,1875750.0 L 673320.0,1875780.0 L 673470.0,1875780.0 L 673470.0,1875810.0 L 673620.0,1875810.0 L 673620.0,1875840.0 L 673770.0,1875840.0 L 673770.0,1875870.0 L 673920.0,1875870.0 L 673920.0,1875900.0 L 674070.0,1875900.0 L 674070.0,1875930.0 L 674220.0,1875930.0 L 674220.0,1875960.0 L 674370.0,1875960.0 L 674370.0,1875990.0 L 674520.0,1875990.0 L 674520.0,1876020.0 L 674670.0,1876020.0 L 674670.0,1876050.0 L 674820.0,1876050.0 L 674820.0,1876080.0 L 674970.0,1876080.0 L 674970.0,1876110.0 L 675120.0,1876110.0 L 675120.0,1876140.0 L 675270.0,1876140.0 L 675270.0,1876170.0 L 675420.0,1876170.0 L 675420.0,1876200.0 L 675540.0,1876200.0 L 675540.0,1876230.0 L 675720.0,1876230.0 L 675720.0,1876260.0 L 675870.0,1876260.0 L 675870.0,1876290.0 L 675990.0,1876290.0 L 675990.0,1876320.0 L 676140.0,1876320.0 L 676140.0,1876350.0 L 676290.0,1876350.0 L 676290.0,1876380.0 L 676470.0,1876380.0 L 676470.0,1876410.0 L 676590.0,1876410.0 L 676590.0,1876440.0 L 676740.0,1876440.0 L 676740.0,1876470.0 L 676890.0,1876470.0 L 676890.0,1876500.0 L 677040.0,1876500.0 L 677040.0,1876530.0 L 677190.0,1876530.0 L 677190.0,1876560.0 L 677340.0,1876560.0 L 677340.0,1876590.0 L 677490.0,1876590.0 L 677490.0,1876620.0 L 677640.0,1876620.0 L 677640.0,1876650.0 L 677790.0,1876650.0 L 677790.0,1876680.0 L 677940.0,1876680.0 L 677940.0,1876710.0 L 678090.0,1876710.0 L 678090.0,1876740.0 L 678240.0,1876740.0 L 678240.0,1876770.0 L 678390.0,1876770.0 L 678390.0,1876800.0 L 678540.0,1876800.0 L 678540.0,1876830.0 L 678690.0,1876830.0 L 678690.0,1876860.0 L 678840.0,1876860.0 L 678840.0,1876890.0 L 678990.0,1876890.0 L 678990.0,1876920.0 L 679140.0,1876920.0 L 679140.0,1876950.0 L 679290.0,1876950.0 L 679290.0,1876980.0 L 679440.0,1876980.0 L 679440.0,1877010.0 L 679590.0,1877010.0 L 679590.0,1877040.0 L 679740.0,1877040.0 L 679740.0,1877070.0 L 679890.0,1877070.0 L 679890.0,1877100.0 L 680040.0,1877100.0 L 680040.0,1877130.0 L 680190.0,1877130.0 L 680190.0,1877160.0 L 680340.0,1877160.0 L 680340.0,1877190.0 L 680490.0,1877190.0 L 680490.0,1877220.0 L 680640.0,1877220.0 L 680640.0,1877250.0 L 680790.0,1877250.0 L 680790.0,1877280.0 L 680940.0,1877280.0 L 680940.0,1877310.0 L 681090.0,1877310.0 L 681090.0,1877340.0 L 681240.0,1877340.0 L 681240.0,1877370.0 L 681390.0,1877370.0 L 681390.0,1877400.0 L 681540.0,1877400.0 L 681540.0,1877430.0 L 681690.0,1877430.0 L 681690.0,1877460.0 L 681840.0,1877460.0 L 681840.0,1877490.0 L 681990.0,1877490.0 L 681990.0,1877520.0 L 682140.0,1877520.0 L 682140.0,1877550.0 L 682290.0,1877550.0 L 682290.0,1877580.0 L 682440.0,1877580.0 L 682440.0,1877610.0 L 682590.0,1877610.0 L 682590.0,1877640.0 L 682740.0,1877640.0 L 682740.0,1877670.0 L 682890.0,1877670.0 L 682890.0,1877700.0 L 683040.0,1877700.0 L 683040.0,1877730.0 L 683190.0,1877730.0 L 683190.0,1877760.0 L 683310.0,1877760.0 L 683310.0,1877790.0 L 683490.0,1877790.0 L 683490.0,1877820.0 L 683610.0,1877820.0 L 683610.0,1877850.0 L 683760.0,1877850.0 L 683760.0,1877880.0 L 683910.0,1877880.0 L 683910.0,1877910.0 L 684060.0,1877910.0 L 684060.0,1877940.0 L 684210.0,1877940.0 L 684210.0,1877970.0 L 684360.0,1877970.0 L 684360.0,1878000.0 L 684510.0,1878000.0 L 684510.0,1878030.0 L 684660.0,1878030.0 L 684660.0,1878060.0 L 684810.0,1878060.0 L 684810.0,1878090.0 L 684960.0,1878090.0 L 684960.0,1878120.0 L 685110.0,1878120.0 L 685110.0,1878150.0 L 685260.0,1878150.0 L 685260.0,1878180.0 L 685410.0,1878180.0 L 685410.0,1878210.0 L 685560.0,1878210.0 L 685560.0,1878240.0 L 685710.0,1878240.0 L 685710.0,1878270.0 L 685860.0,1878270.0 L 685860.0,1878300.0 L 686010.0,1878300.0 L 686010.0,1878330.0 L 686160.0,1878330.0 L 686160.0,1878360.0 L 686310.0,1878360.0 L 686310.0,1878390.0 L 686460.0,1878390.0 L 686460.0,1878420.0 L 686610.0,1878420.0 L 686610.0,1878450.0 L 686760.0,1878450.0 L 686760.0,1878480.0 L 686910.0,1878480.0 L 686910.0,1878510.0 L 687060.0,1878510.0 L 687060.0,1878540.0 L 687210.0,1878540.0 L 687210.0,1878570.0 L 687360.0,1878570.0 L 687360.0,1878600.0 L 687510.0,1878600.0 L 687510.0,1878630.0 L 687660.0,1878630.0 L 687660.0,1878660.0 L 687810.0,1878660.0 L 687810.0,1878690.0 L 687960.0,1878690.0 L 687960.0,1878720.0 L 688110.0,1878720.0 L 688110.0,1878750.0 L 688260.0,1878750.0 L 688260.0,1878780.0 L 688410.0,1878780.0 L 688410.0,1878810.0 L 688560.0,1878810.0 L 688560.0,1878840.0 L 688710.0,1878840.0 L 688710.0,1878870.0 L 688860.0,1878870.0 L 688860.0,1878900.0 L 689010.0,1878900.0 L 689010.0,1878930.0 L 689160.0,1878930.0 L 689160.0,1878960.0 L 689310.0,1878960.0 L 689310.0,1878990.0 L 689460.0,1878990.0 L 689460.0,1879020.0 L 689610.0,1879020.0 L 689610.0,1879050.0 L 689760.0,1879050.0 L 689760.0,1879080.0 L 689910.0,1879080.0 L 689910.0,1879110.0 L 690060.0,1879110.0 L 690060.0,1879140.0 L 690210.0,1879140.0 L 690210.0,1879170.0 L 690360.0,1879170.0 L 690360.0,1879200.0 L 690510.0,1879200.0 L 690510.0,1879230.0 L 690660.0,1879230.0 L 690660.0,1879260.0 L 690720.0,1879260.0 L 690720.0,1879290.0 L 690750.0,1879290.0 L 690750.0,1879320.0 L 690780.0,1879320.0 L 690780.0,1879350.0 L 690810.0,1879350.0 L 690810.0,1879380.0 L 690840.0,1879380.0 L 690840.0,1879410.0 L 690870.0,1879410.0 L 690870.0,1879440.0 L 690900.0,1879440.0 L 690900.0,1879470.0 L 690930.0,1879470.0 L 690930.0,1879440.0 L 690960.0,1879440.0 L 690960.0,1879410.0 L 690990.0,1879410.0 L 690990.0,1879380.0 L 691020.0,1879380.0 L 691020.0,1879350.0 L 691050.0,1879350.0 L 691050.0,1879320.0 L 691080.0,1879320.0 L 691080.0,1879350.0 L 691230.0,1879350.0 L 691230.0,1879380.0 L 691380.0,1879380.0 L 691380.0,1879410.0 L 691530.0,1879410.0 L 691530.0,1879440.0 L 691680.0,1879440.0 L 691680.0,1879470.0 L 691830.0,1879470.0 L 691830.0,1879500.0 L 691980.0,1879500.0 L 691980.0,1879530.0 L 692130.0,1879530.0 L 692130.0,1879560.0 L 692280.0,1879560.0 L 692280.0,1879590.0 L 692430.0,1879590.0 L 692430.0,1879620.0 L 692580.0,1879620.0 L 692580.0,1879650.0 L 692730.0,1879650.0 L 692730.0,1879680.0 L 692880.0,1879680.0 L 692880.0,1879710.0 L 693030.0,1879710.0 L 693030.0,1879740.0 L 693180.0,1879740.0 L 693180.0,1879770.0 L 693330.0,1879770.0 L 693330.0,1879800.0 L 693480.0,1879800.0 L 693480.0,1879830.0 L 693630.0,1879830.0 L 693630.0,1879860.0 L 693780.0,1879860.0 L 693780.0,1879890.0 L 693930.0,1879890.0 L 693930.0,1879920.0 L 694080.0,1879920.0 L 694080.0,1879950.0 L 694230.0,1879950.0 L 694230.0,1879980.0 L 694380.0,1879980.0 L 694380.0,1880010.0 L 694530.0,1880010.0 L 694530.0,1880040.0 L 694680.0,1880040.0 L 694680.0,1880070.0 L 694830.0,1880070.0 L 694830.0,1880100.0 L 694980.0,1880100.0 L 694980.0,1880130.0 L 695130.0,1880130.0 L 695130.0,1880160.0 L 695280.0,1880160.0 L 695280.0,1880190.0 L 695370.0,1880190.0 L 695370.0,1880220.0 L 695400.0,1880220.0 L 695400.0,1880250.0 L 695460.0,1880250.0 L 695460.0,1880220.0 L 695580.0,1880220.0 L 695580.0,1880250.0 L 695730.0,1880250.0 L 695730.0,1880280.0 L 695880.0,1880280.0 L 695880.0,1880310.0 L 696030.0,1880310.0 L 696030.0,1880340.0 L 696180.0,1880340.0 L 696180.0,1880370.0 L 696330.0,1880370.0 L 696330.0,1880400.0 L 696480.0,1880400.0 L 696480.0,1880430.0 L 696630.0,1880430.0 L 696630.0,1880460.0 L 696780.0,1880460.0 L 696780.0,1880490.0 L 696930.0,1880490.0 L 696930.0,1880520.0 L 697080.0,1880520.0 L 697080.0,1880550.0 L 697230.0,1880550.0 L 697230.0,1880580.0 L 697350.0,1880580.0 L 697350.0,1880610.0 L 697530.0,1880610.0 L 697530.0,1880640.0 L 697680.0,1880640.0 L 697680.0,1880670.0 L 697830.0,1880670.0 L 697830.0,1880700.0 L 697980.0,1880700.0 L 697980.0,1880730.0 L 698100.0,1880730.0 L 698100.0,1880760.0 L 698250.0,1880760.0 L 698250.0,1880790.0 L 698400.0,1880790.0 L 698400.0,1880820.0 L 698550.0,1880820.0 L 698550.0,1880850.0 L 698700.0,1880850.0 L 698700.0,1880880.0 L 698850.0,1880880.0 L 698850.0,1880910.0 L 699000.0,1880910.0 L 699000.0,1880940.0 L 699150.0,1880940.0 L 699150.0,1880970.0 L 699300.0,1880970.0 L 699300.0,1881000.0 L 699450.0,1881000.0 L 699450.0,1881030.0 L 699600.0,1881030.0 L 699600.0,1881060.0 L 699750.0,1881060.0 L 699750.0,1881090.0 L 699900.0,1881090.0 L 699900.0,1881120.0 L 700050.0,1881120.0 L 700050.0,1881150.0 L 700200.0,1881150.0 L 700200.0,1881180.0 L 700350.0,1881180.0 L 700350.0,1881210.0 L 700500.0,1881210.0 L 700500.0,1881240.0 L 700650.0,1881240.0 L 700650.0,1881270.0 L 700800.0,1881270.0 L 700800.0,1881300.0 L 700950.0,1881300.0 L 700950.0,1881330.0 L 701100.0,1881330.0 L 701100.0,1881360.0 L 701250.0,1881360.0 L 701250.0,1881390.0 L 701400.0,1881390.0 L 701400.0,1881420.0 L 701550.0,1881420.0 L 701550.0,1881450.0 L 701700.0,1881450.0 L 701700.0,1881480.0 L 701850.0,1881480.0 L 701850.0,1881510.0 L 702000.0,1881510.0 L 702000.0,1881540.0 L 702150.0,1881540.0 L 702150.0,1881570.0 L 702300.0,1881570.0 L 702300.0,1881600.0 L 702450.0,1881600.0 L 702450.0,1881630.0 L 702600.0,1881630.0 L 702600.0,1881660.0 L 702750.0,1881660.0 L 702750.0,1881690.0 L 702900.0,1881690.0 L 702900.0,1881720.0 L 703050.0,1881720.0 L 703050.0,1881750.0 L 703200.0,1881750.0 L 703200.0,1881780.0 L 703350.0,1881780.0 L 703350.0,1881810.0 L 703500.0,1881810.0 L 703500.0,1881840.0 L 703650.0,1881840.0 L 703650.0,1881870.0 L 703800.0,1881870.0 L 703800.0,1881900.0 L 703950.0,1881900.0 L 703950.0,1881930.0 L 704100.0,1881930.0 L 704100.0,1881960.0 L 704250.0,1881960.0 L 704250.0,1881990.0 L 704400.0,1881990.0 L 704400.0,1882020.0 L 704550.0,1882020.0 L 704550.0,1882050.0 L 704700.0,1882050.0 L 704700.0,1882080.0 L 704850.0,1882080.0 L 704850.0,1882110.0 L 705000.0,1882110.0 L 705000.0,1882140.0 L 705150.0,1882140.0 L 705150.0,1882170.0 L 705300.0,1882170.0 L 705300.0,1882200.0 L 705450.0,1882200.0 L 705450.0,1882230.0 L 705570.0,1882230.0 L 705570.0,1882260.0 L 705720.0,1882260.0 L 705720.0,1882290.0 L 705870.0,1882290.0 L 705870.0,1882320.0 L 706020.0,1882320.0 L 706020.0,1882350.0 L 706170.0,1882350.0 L 706170.0,1882380.0 L 706320.0,1882380.0 L 706320.0,1882410.0 L 706470.0,1882410.0 L 706470.0,1882440.0 L 706620.0,1882440.0 L 706620.0,1882470.0 L 706770.0,1882470.0 L 706770.0,1882500.0 L 706920.0,1882500.0 L 706920.0,1882530.0 L 707070.0,1882530.0 L 707070.0,1882560.0 L 707220.0,1882560.0 L 707220.0,1882590.0 L 707370.0,1882590.0 L 707370.0,1882620.0 L 707520.0,1882620.0 L 707520.0,1882650.0 L 707670.0,1882650.0 L 707670.0,1882680.0 L 707820.0,1882680.0 L 707820.0,1882710.0 L 707970.0,1882710.0 L 707970.0,1882740.0 L 708120.0,1882740.0 L 708120.0,1882800.0 L 708090.0,1882800.0 L 708090.0,1882830.0 L 708060.0,1882830.0 L 708060.0,1882890.0 L 708030.0,1882890.0 L 708030.0,1882920.0 L 708000.0,1882920.0 L 708000.0,1882950.0 L 707970.0,1882950.0 L 707970.0,1882980.0 L 707940.0,1882980.0 L 707940.0,1883010.0 L 707910.0,1883010.0 L 707910.0,1883070.0 L 707880.0,1883070.0 L 707880.0,1883100.0 L 707850.0,1883100.0 L 707850.0,1883130.0 L 707820.0,1883130.0 L 707820.0,1883160.0 L 707790.0,1883160.0 L 707790.0,1883190.0 L 707760.0,1883190.0 L 707760.0,1883220.0 L 707730.0,1883220.0 L 707730.0,1883430.0 L 707760.0,1883430.0 L 707760.0,1883610.0 L 707790.0,1883610.0 L 707790.0,1883700.0 L 707820.0,1883700.0 L 707820.0,1883880.0 L 707790.0,1883880.0 L 707790.0,1883910.0 L 707760.0,1883910.0 L 707760.0,1883940.0 L 707730.0,1883940.0 L 707730.0,1884060.0 L 707760.0,1884060.0 L 707760.0,1884120.0 L 707790.0,1884120.0 L 707790.0,1884180.0 L 707820.0,1884180.0 L 707820.0,1884240.0 L 707850.0,1884240.0 L 707850.0,1884330.0 L 707880.0,1884330.0 L 707880.0,1884390.0 L 707910.0,1884390.0 L 707910.0,1884480.0 L 707940.0,1884480.0 L 707940.0,1884540.0 L 707970.0,1884540.0 L 707970.0,1884570.0 L 708000.0,1884570.0 L 708000.0,1884630.0 L 708030.0,1884630.0 L 708030.0,1884840.0 L 708000.0,1884840.0 L 708000.0,1884900.0 L 707970.0,1884900.0 L 707970.0,1884960.0 L 707940.0,1884960.0 L 707940.0,1884990.0 L 707910.0,1884990.0 L 707910.0,1885020.0 L 707880.0,1885020.0 L 707880.0,1885140.0 L 707850.0,1885140.0 L 707850.0,1885200.0 L 707820.0,1885200.0 L 707820.0,1885230.0 L 707790.0,1885230.0 L 707790.0,1885260.0 L 707760.0,1885260.0 L 707760.0,1885290.0 L 707730.0,1885290.0 L 707730.0,1885320.0 L 707700.0,1885320.0 L 707700.0,1885350.0 L 707670.0,1885350.0 L 707670.0,1885380.0 L 707640.0,1885380.0 L 707640.0,1885410.0 L 707670.0,1885410.0 L 707670.0,1885470.0 L 707700.0,1885470.0 L 707700.0,1885590.0 L 707670.0,1885590.0 L 707670.0,1885620.0 L 707640.0,1885620.0 L 707640.0,1885650.0 L 707610.0,1885650.0 L 707610.0,1885680.0 L 707580.0,1885680.0 L 707580.0,1885710.0 L 707520.0,1885710.0 L 707520.0,1885740.0 L 707490.0,1885740.0 L 707490.0,1885770.0 L 707460.0,1885770.0 L 707460.0,1885800.0 L 707430.0,1885800.0 L 707430.0,1885830.0 L 707400.0,1885830.0 L 707400.0,1885860.0 L 707370.0,1885860.0 L 707370.0,1885890.0 L 707340.0,1885890.0 L 707340.0,1885920.0 L 707310.0,1885920.0 L 707310.0,1885950.0 L 707280.0,1885950.0 L 707280.0,1885980.0 L 707250.0,1885980.0 L 707250.0,1886010.0 L 707220.0,1886010.0 L 707220.0,1886100.0 L 707190.0,1886100.0 L 707190.0,1886160.0 L 707160.0,1886160.0 L 707160.0,1886340.0 L 707190.0,1886340.0 L 707190.0,1886370.0 L 707160.0,1886370.0 L 707160.0,1886400.0 L 707130.0,1886400.0 L 707130.0,1886430.0 L 707100.0,1886430.0 L 707100.0,1886460.0 L 707070.0,1886460.0 L 707070.0,1886490.0 L 707040.0,1886490.0 L 707040.0,1886580.0 L 707070.0,1886580.0 L 707070.0,1886670.0 L 707100.0,1886670.0 L 707100.0,1886760.0 L 707130.0,1886760.0 L 707130.0,1886940.0 L 707100.0,1886940.0 L 707100.0,1887000.0 L 707070.0,1887000.0 L 707070.0,1887030.0 L 707040.0,1887030.0 L 707040.0,1887060.0 L 707010.0,1887060.0 L 707010.0,1887090.0 L 706980.0,1887090.0 L 706980.0,1887120.0 L 706950.0,1887120.0 L 706950.0,1887150.0 L 706920.0,1887150.0 L 706920.0,1887180.0 L 706890.0,1887180.0 L 706890.0,1887240.0 L 706860.0,1887240.0 L 706860.0,1887300.0 L 706830.0,1887300.0 L 706830.0,1887360.0 L 706800.0,1887360.0 L 706800.0,1887420.0 L 706770.0,1887420.0 L 706770.0,1887510.0 L 706740.0,1887510.0 L 706740.0,1887570.0 L 706710.0,1887570.0 L 706710.0,1887660.0 L 706680.0,1887660.0 L 706680.0,1887750.0 L 706650.0,1887750.0 L 706650.0,1887810.0 L 706680.0,1887810.0 L 706680.0,1887870.0 L 706650.0,1887870.0 L 706650.0,1887990.0 L 706680.0,1887990.0 L 706680.0,1888470.0 L 706650.0,1888470.0 L 706650.0,1888830.0 L 706620.0,1888830.0 L 706620.0,1888920.0 L 706590.0,1888920.0 L 706590.0,1889130.0 L 706560.0,1889130.0 L 706560.0,1889190.0 L 706530.0,1889190.0 L 706530.0,1889250.0 L 706500.0,1889250.0 L 706500.0,1889280.0 L 706530.0,1889280.0 L 706530.0,1889490.0 L 706500.0,1889490.0 L 706500.0,1889520.0 L 706470.0,1889520.0 L 706470.0,1889760.0 L 706500.0,1889760.0 L 706500.0,1890180.0 L 706470.0,1890180.0 L 706470.0,1890210.0 L 706440.0,1890210.0 L 706440.0,1890270.0 L 706410.0,1890270.0 L 706410.0,1890360.0 L 706380.0,1890360.0 L 706380.0,1890420.0 L 706350.0,1890420.0 L 706350.0,1890510.0 L 706320.0,1890510.0 L 706320.0,1890570.0 L 706290.0,1890570.0 L 706290.0,1890630.0 L 706260.0,1890630.0 L 706260.0,1890720.0 L 706230.0,1890720.0 L 706230.0,1890840.0 L 706260.0,1890840.0 L 706260.0,1890900.0 L 706290.0,1890900.0 L 706290.0,1891080.0 L 706260.0,1891080.0 L 706260.0,1891200.0 L 706230.0,1891200.0 L 706230.0,1891380.0 L 706200.0,1891380.0 L 706200.0,1891620.0 L 706170.0,1891620.0 L 706170.0,1891830.0 L 706140.0,1891830.0 L 706140.0,1891920.0 L 706110.0,1891920.0 L 706110.0,1892010.0 L 706080.0,1892010.0 L 706080.0,1892100.0 L 706110.0,1892100.0 L 706110.0,1892160.0 L 706080.0,1892160.0 L 706080.0,1892490.0 L 706110.0,1892490.0 L 706110.0,1892580.0 L 706140.0,1892580.0 L 706140.0,1892670.0 L 706170.0,1892670.0 L 706170.0,1892820.0 L 706140.0,1892820.0 L 706140.0,1892850.0 L 706110.0,1892850.0 L 706110.0,1892910.0 L 706080.0,1892910.0 L 706080.0,1892970.0 L 706050.0,1892970.0 L 706050.0,1893030.0 L 706020.0,1893030.0 L 706020.0,1893120.0 L 705990.0,1893120.0 L 705990.0,1893150.0 L 705960.0,1893150.0 L 705960.0,1893300.0 L 705930.0,1893300.0 L 705930.0,1893420.0 L 705900.0,1893420.0 L 705900.0,1893450.0 L 705870.0,1893450.0 L 705870.0,1893480.0 L 705840.0,1893480.0 L 705840.0,1893720.0 L 705810.0,1893720.0 L 705810.0,1893930.0 L 705780.0,1893930.0 L 705780.0,1894140.0 L 705750.0,1894140.0 L 705750.0,1894200.0 L 705720.0,1894200.0 L 705720.0,1894290.0 L 705750.0,1894290.0 L 705750.0,1894410.0 L 705720.0,1894410.0 L 705720.0,1894650.0 L 705690.0,1894650.0 L 705690.0,1894890.0 L 705660.0,1894890.0 L 705660.0,1895220.0 L 705630.0,1895220.0 L 705630.0,1895700.0 L 705600.0,1895700.0 L 705600.0,1895790.0 L 705570.0,1895790.0 L 705570.0,1895940.0 L 705540.0,1895940.0 L 705540.0,1896060.0 L 705510.0,1896060.0 L 705510.0,1896300.0 L 705540.0,1896300.0 L 705540.0,1896420.0 L 705570.0,1896420.0 L 705570.0,1896450.0 L 705540.0,1896450.0 L 705540.0,1896510.0 L 705570.0,1896510.0 L 705570.0,1897110.0 L 705540.0,1897110.0 L 705540.0,1897140.0 L 705510.0,1897140.0 L 705510.0,1897200.0 L 705480.0,1897200.0 L 705480.0,1897230.0 L 705450.0,1897230.0 L 705450.0,1897260.0 L 705420.0,1897260.0 L 705420.0,1897320.0 L 705390.0,1897320.0 L 705390.0,1897560.0 L 705360.0,1897560.0 L 705360.0,1897620.0 L 705330.0,1897620.0 L 705330.0,1897650.0 L 705300.0,1897650.0 L 705300.0,1897680.0 L 705270.0,1897680.0 L 705270.0,1897710.0 L 705240.0,1897710.0 L 705240.0,1897770.0 L 705210.0,1897770.0 L 705210.0,1897830.0 L 705180.0,1897830.0 L 705180.0,1897890.0 L 705150.0,1897890.0 L 705150.0,1897950.0 L 705120.0,1897950.0 L 705120.0,1898010.0 L 705090.0,1898010.0 L 705090.0,1898070.0 L 705120.0,1898070.0 L 705120.0,1898160.0 L 705150.0,1898160.0 L 705150.0,1898490.0 L 705120.0,1898490.0 L 705120.0,1898520.0 L 705090.0,1898520.0 L 705090.0,1898580.0 L 705060.0,1898580.0 L 705060.0,1898610.0 L 705030.0,1898610.0 L 705030.0,1898670.0 L 705000.0,1898670.0 L 705000.0,1898820.0 L 704970.0,1898820.0 L 704970.0,1898880.0 L 704940.0,1898880.0 L 704940.0,1898970.0 L 704910.0,1898970.0 L 704910.0,1899030.0 L 704880.0,1899030.0 L 704880.0,1899150.0 L 704850.0,1899150.0 L 704850.0,1899210.0 L 704820.0,1899210.0 L 704820.0,1899300.0 L 704790.0,1899300.0 L 704790.0,1899360.0 L 704760.0,1899360.0 L 704760.0,1899570.0 L 704790.0,1899570.0 L 704790.0,1899750.0 L 704760.0,1899750.0 L 704760.0,1899810.0 L 704730.0,1899810.0 L 704730.0,1899840.0 L 704760.0,1899840.0 L 704760.0,1899930.0 L 704790.0,1899930.0 L 704790.0,1900050.0 L 704760.0,1900050.0 L 704760.0,1900110.0 L 704730.0,1900110.0 L 704730.0,1900140.0 L 704700.0,1900140.0 L 704700.0,1900350.0 L 704670.0,1900350.0 L 704670.0,1900530.0 L 704640.0,1900530.0 L 704640.0,1901040.0 L 704610.0,1901040.0 L 704610.0,1901160.0 L 704580.0,1901160.0 L 704580.0,1901250.0 L 704550.0,1901250.0 L 704550.0,1901400.0 L 704520.0,1901400.0 L 704520.0,1901550.0 L 704490.0,1901550.0 L 704490.0,1901610.0 L 704460.0,1901610.0 L 704460.0,1901640.0 L 704430.0,1901640.0 L 704430.0,1901670.0 L 704400.0,1901670.0 L 704400.0,1901700.0 L 704370.0,1901700.0 L 704370.0,1901910.0 L 704340.0,1901910.0 L 704340.0,1902300.0 L 704310.0,1902300.0 L 704310.0,1902360.0 L 704280.0,1902360.0 L 704280.0,1902390.0 L 704250.0,1902390.0 L 704250.0,1902420.0 L 704220.0,1902420.0 L 704220.0,1902450.0 L 704190.0,1902450.0 L 704190.0,1902480.0 L 704160.0,1902480.0 L 704160.0,1902510.0 L 704130.0,1902510.0 L 704130.0,1902540.0 L 704100.0,1902540.0 L 704100.0,1902570.0 L 704070.0,1902570.0 L 704070.0,1902630.0 L 704040.0,1902630.0 L 704040.0,1902660.0 L 703980.0,1902660.0 z\" /></g></svg>"
      ],
      "text/plain": [
       "<POLYGON ((703980 1902660, 703980 1902630, 703830 1902630, 703830 1902600, 7...>"
      ]
     },
     "execution_count": 13,
     "metadata": {},
     "output_type": "execute_result"
    }
   ],
   "source": [
    "data[0][0]"
   ]
  },
  {
   "cell_type": "code",
   "execution_count": 20,
   "id": "7d7a40de-ea96-4fc6-9497-47c4120b878f",
   "metadata": {},
   "outputs": [
    {
     "data": {
      "image/svg+xml": [
       "<svg xmlns=\"http://www.w3.org/2000/svg\" xmlns:xlink=\"http://www.w3.org/1999/xlink\" width=\"100.0\" height=\"100.0\" viewBox=\"-97.95968902309842 16.828404481986873 0.9499843959575713 0.40650769746093474\" preserveAspectRatio=\"xMinYMin meet\"><g transform=\"matrix(1,0,0,-1,0,34.06331666143468)\"><path fill-rule=\"evenodd\" fill=\"#66cc99\" stroke=\"#555555\" stroke-width=\"0.018999687919151426\" opacity=\"0.6\" d=\"M -97.08192754916358,17.19972757219012 L -97.08193034158673,17.199456543851202 L -97.08334024990147,17.199469958579936 L -97.08334304022429,17.199198930009135 L -97.08475294775857,17.19921233466327 L -97.08475573598115,17.198941305860753 L -97.08616564273407,17.19895470044056 L -97.08616842885647,17.1986836714065 L -97.08757833482713,17.198697055912287 L -97.0875811188494,17.198426026646846 L -97.08899102403687,17.19843940107889 L -97.0889938059591,17.198168371582227 L -97.09040371036247,17.19818173594083 L -97.09040649018472,17.19791070621312 L -97.09181639380309,17.19792406049857 L -97.09181917152542,17.19765303053997 L -97.09322907435785,17.19766637475255 L -97.09323184998033,17.19739534456324 L -97.09464175202595,17.197408678703244 L -97.09464452554865,17.197137648283388 L -97.09605442680652,17.197150972351107 L -97.09605719822949,17.19687994170086 L -97.09746709869871,17.196893255696587 L -97.09746986802205,17.196622224816124 L -97.09859778766504,17.19663286874328 L -97.09860055529862,17.196361837677212 L -97.10029243381462,17.196377791482238 L -97.10029519893884,17.196106760141834 L -97.10142311731649,17.196117387954942 L -97.1014258807511,17.195846356429197 L -97.10311775736687,17.19586228606386 L -97.10312051829226,17.195591254264173 L -97.10424843540166,17.19560186596417 L -97.10425119463754,17.195330833979412 L -97.10566109010476,17.19534408951902 L -97.10566384724139,17.195073057305002 L -97.10707374191378,17.195086302774623 L -97.10707649695122,17.194815270331514 L -97.10848639082784,17.194828505731447 L -97.10848914376615,17.19455747305941 L -97.1098990368461,17.194570698389946 L -97.10990178768535,17.194299665489147 L -97.11131167996773,17.194312880750577 L -97.11131442870798,17.19404184762119 L -97.11272432019186,17.194055052813802 L -97.11272706683319,17.193784019455983 L -97.11413695751766,17.193797214580066 L -97.11413970206013,17.19352618099399 L -97.11554959194429,17.19353936604984 L -97.11555233438796,17.193268332235665 L -97.11696222347089,17.193281507223578 L -97.11696496381583,17.193010473181467 L -97.11837485209664,17.19302363810172 L -97.11837759034292,17.192752603831853 L -97.11978747782065,17.192765758684747 L -97.11979021396834,17.192494724187284 L -97.12120010064214,17.192507868973113 L -97.12120283469129,17.19223683424821 L -97.12261272056021,17.19224996896726 L -97.1226154525109,17.1919789340151 L -97.12402533757403,17.191992058667665 L -97.12402806742634,17.191721023488398 L -97.12543795168276,17.191734138074768 L -97.12544067943674,17.19146310266856 L -97.12685056288556,17.191476207189027 L -97.12685328854127,17.19120517155606 L -97.12826317118157,17.191218266010917 L -97.12826589473909,17.190947230151338 L -97.12967577656997,17.19096031454088 L -97.12967849802935,17.190689278454865 L -97.1310883790499,17.190702352779375 L -97.13109109841122,17.19043131646709 L -97.13250097862051,17.190444380726863 L -97.13250369588383,17.190173344188477 L -97.13391357528094,17.190186398383798 L -97.13391629044635,17.189915361619473 L -97.13532616903039,17.189928405750646 L -97.13532888209792,17.189657368760546 L -97.136738759868,17.189670402827854 L -97.13674147083772,17.18939936561215 L -97.13815134779288,17.189412389615892 L -97.13815405666489,17.18914135217474 L -97.13956393280425,17.189154366115204 L -97.13956663957859,17.18888332844878 L -97.14097651490123,17.188896332326255 L -97.14097921957797,17.188625294434722 L -97.14238909408297,17.188638288249503 L -97.14239179666218,17.188367250133023 L -97.14380167034867,17.1883802338854 L -97.14380437083041,17.188109195544143 L -97.14521424369741,17.18812216923441 L -97.14521694208176,17.18785113066854 L -97.14662681412842,17.187864094296987 L -97.14662951041544,17.187593055506674 L -97.14803938164081,17.187606009073594 L -97.14804207583056,17.187334970059 L -97.14945194623377,17.18734791356468 L -97.1494546383263,17.187076874325978 L -97.1508645079064,17.187089807770715 L -97.15086719790183,17.18681876830806 L -97.1522770666579,17.186831691692145 L -97.15227975455628,17.186560652005703 L -97.15368962248745,17.186573565329436 L -97.1536923082888,17.186302525419382 L -97.15510217539413,17.18631542868304 L -97.15510485909856,17.186044388549533 L -97.15651472537715,17.18605728175342 L -97.15651740698472,17.185786241396627 L -97.15792727243566,17.18579912454103 L -97.15792995194641,17.18552808396112 L -97.1593398165688,17.185540957046335 L -97.15934249398285,17.18526991624347 L -97.16075235777575,17.185282779269784 L -97.16075503309311,17.18501173824413 L -97.16216489605564,17.185024591211835 L -97.16216756927639,17.184753549963563 L -97.16357743140763,17.184766392872955 L -97.16358010253187,17.18449535140223 L -97.16498996383088,17.184508184253595 L -97.16499263285864,17.184237142560587 L -97.16640249332455,17.18424996535422 L -97.16640516025592,17.18397892343908 L -97.1678150198878,17.183991736175287 L -97.16781768472283,17.183720694038186 L -97.16922754351977,17.183733496717238 L -97.16923020625855,17.183462454358352 L -97.17064006421964,17.183475246980553 L -97.17064272486219,17.183204204400035 L -97.17205258198653,17.183216986965682 L -97.17205524053297,17.182945944163706 L -97.17346509681961,17.18295871667308 L -97.17346775326999,17.18268767364981 L -97.17487760871806,17.18270043610321 L -97.17488026307244,17.18242939285881 L -97.17629011768102,17.18244214525653 L -97.17629276993947,17.18217110179117 L -97.17770262370763,17.182183844133494 L -97.1777052738702,17.181912800447336 L -97.17911512679706,17.181925532734564 L -97.17911777486384,17.18165448882778 L -97.18052762694846,17.1816672110602 L -97.18053027291951,17.181396166932952 L -97.18194012416102,17.181408879110858 L -97.1819427680364,17.181137834763312 L -97.18335261843384,17.181150536887 L -97.18335526021362,17.180879492319317 L -97.1847651097661,17.180892184389073 L -97.18476774945034,17.180621139601428 L -97.18617759815697,17.180633821617548 L -97.18618023574577,17.1803627766101 L -97.18730811393763,17.180372914967627 L -97.18731074984048,17.180101869782924 L -97.18759271909899,17.180104403345798 L -97.18759535454438,17.179833358111054 L -97.1878773234414,17.179835891237914 L -97.18787468840547,17.180106936515035 L -97.18900256611114,17.18011706525553 L -97.1890051995092,17.179846019808984 L -97.19041504567275,17.179858671665958 L -97.19041767697553,17.1795876260001 L -97.19182752228957,17.17960026780461 L -97.19183015149716,17.17932922191962 L -97.19323999596078,17.179341853671957 L -97.19324262307323,17.179070807567992 L -97.19465246668553,17.179083429268456 L -97.1946550917029,17.17881238294569 L -97.19606493446295,17.178824994594564 L -97.19606755738535,17.178553948053157 L -97.19747739929224,17.178566549650736 L -97.1974800201197,17.178295502890858 L -97.19888986117253,17.178308094437437 L -97.19889247990513,17.178037047459245 L -97.20030232010298,17.178049628955126 L -97.20030493674078,17.177778581758794 L -97.20171477608274,17.177791153204257 L -97.2017173906258,17.17752010578994 L -97.20312722911098,17.177532667185286 L -97.20312984155937,17.177261619553168 L -97.20453967918684,17.177274170898688 L -97.20454228954064,17.177003123048923 L -97.20595212630948,17.177015664344907 L -97.20595473456876,17.17674461627766 L -97.20708260320126,17.17675464206221 L -97.20708520977549,17.176483593819572 L -97.20849504458712,17.176496116985227 L -97.20849764906693,17.17622506852541 L -97.21018944994974,17.17624008308508 L -97.2101920519258,17.175969034366396 L -97.2113199184913,17.175979036034146 L -97.2113225187825,17.175707987140463 L -97.21273235100793,17.175720480160958 L -97.21273494920493,17.17544943105059 L -97.21442674698066,17.175464409437172 L -97.21442934267415,17.175193360068537 L -97.21555720716607,17.175203337621596 L -97.21555980117488,17.17493228807837 L -97.2169696308059,17.17494475095634 L -97.21697222272068,17.174673701196927 L -97.2183820514851,17.174686154027977 L -97.21838464130596,17.17441510405255 L -97.21979446920282,17.174427546836966 L -97.2197970569298,17.174156496645683 L -97.22120688395825,17.17416892938377 L -97.22120946959143,17.17389787897681 L -97.22261929575052,17.173910301668855 L -97.22262187928996,17.173639251046367 L -97.22403170457878,17.17365166369267 L -97.22403428602455,17.173380612854825 L -97.2254441104422,17.173393015455673 L -97.22544668979438,17.173121964402636 L -97.22685651333994,17.173134356958325 L -97.2268590905986,17.17286330569026 L -97.22826891327114,17.172875688201085 L -97.22827148843632,17.17260463671817 L -97.22968131023498,17.172617009184425 L -97.22968388330676,17.17234595748681 L -97.23109370423062,17.17235831990878 L -97.23109627520905,17.172087267996652 L -97.23250609525718,17.17209962037463 L -97.23250866414234,17.171828568248138 L -97.23391848331384,17.171840910582436 L -97.2339210501058,17.171569858241742 L -97.23533086839974,17.171582190532643 L -97.2353334330986,17.171311137977924 L -97.23674325051408,17.171323460225718 L -97.23674581311985,17.171052407457136 L -97.23815562965598,17.171064719662127 L -97.23815819016876,17.170793666679845 L -97.23956800582461,17.17080596884231 L -97.23957056424446,17.1705349156465 L -97.2409803790191,17.170547207766745 L -97.2409829353461,17.170276154357577 L -97.24239274923865,17.170288436435893 L -97.24239530347285,17.17001738281352 L -97.24380511648239,17.170029654850197 L -97.24380766862384,17.169758601014795 L -97.24521748074947,17.16977086301013 L -97.24522003079828,17.16949980896186 L -97.24662984203908,17.169512060916148 L -97.24663238999528,17.169241006655177 L -97.24804220035035,17.169253248568715 L -97.24804474621402,17.168982194095207 L -97.24945455568245,17.168994425968286 L -97.24945709945366,17.168723371282407 L -97.25086690803452,17.168735593115322 L -97.25086944971333,17.168464538217243 L -97.25227925740573,17.16847675001029 L -97.25228179699221,17.168205694900163 L -97.25256375826032,17.16820813603767 L -97.25256629739134,17.167937080879057 L -97.25284825829651,17.167939521582305 L -97.25285079697207,17.167668466375204 L -97.2531327575143,17.1676709066442 L -97.25313021924792,17.167941961892147 L -97.25341218024558,17.167944401808594 L -97.25340964234215,17.168215457089754 L -97.25369160379523,17.168217896653633 L -97.25369414128947,17.16794684133163 L -97.2551039472022,17.16795903304582 L -97.25510648260423,17.167687977512117 L -97.25651628762576,17.167700159187316 L -97.25651882093567,17.16742910344207 L -97.2579286250651,17.167441275078577 L -97.25793115628295,17.167170219121964 L -97.25934095951936,17.16718238072006 L -97.2593434886452,17.166911324552235 L -97.2607532909877,17.16692347611223 L -97.26075581802161,17.166652419733367 L -97.26216561946926,17.166664561255548 L -97.26216814441132,17.166393504665802 L -97.26357794496323,17.166405636150465 L -97.2635804678135,17.166134579350018 L -97.26499026746875,17.16614670079746 L -97.2649927882273,17.165875643786457 L -97.26640258698498,17.165887755196977 L -97.26640510565186,17.165616697975594 L -97.26781490351107,17.165628799349474 L -97.26781742008636,17.165357741917884 L -97.26922721704618,17.16536983325542 L -97.26922973152995,17.165098775613778 L -97.27035756828599,17.165108441441664 L -97.27036008108743,17.16483738363058 L -97.27205183514012,17.164851870329485 L -97.27205434544105,17.16458081226825 L -97.27346413969725,17.164592873498535 L -97.27346664790684,17.164321815227748 L -97.27487644126003,17.164333866422872 L -97.27487894737838,17.164062807942695 L -97.27628873982762,17.164074849102956 L -97.27629124385477,17.16380379041357 L -97.27770103539918,17.16381582153925 L -97.27770353733521,17.163544762640807 L -97.27911332797387,17.16355678373221 L -97.27911582781884,17.16328572462488 L -97.28052561755084,17.1632977356823 L -97.28052811530483,17.163026676366247 L -97.28193790412924,17.163038677389977 L -97.28194039979232,17.16276761786537 L -97.28335018770824,17.162779608855715 L -97.28335268128046,17.16250854912271 L -97.284762468287,17.162520530079952 L -97.28476495976842,17.162249470138732 L -97.28617474586467,17.162261441063166 L -97.28617723525538,17.16199038091389 L -97.2875870204404,17.162002341805817 L -97.28758950774046,17.161731281448642 L -97.28899929201337,17.16174323230835 L -97.28900177722285,17.16147217174345 L -97.29041156058271,17.161484112571245 L -97.29041404370169,17.161213051798793 L -97.29182382614762,17.16122498259496 L -97.29182630717612,17.160953921615103 L -97.2932360887072,17.160965842379937 L -97.29323856764533,17.16069478119286 L -97.29464834826065,17.160706691926656 L -97.29465082510846,17.160435630532515 L -97.29606060480711,17.160447531235572 L -97.29606307956468,17.160176469634532 L -97.29747285834576,17.160188360307142 L -97.29747533101313,17.159917298499373 L -97.29888510887571,17.159929179141837 L -97.29888757945298,17.1596581171275 L -97.30029735639617,17.159669987740106 L -97.3002998248834,17.159398925519373 L -97.30170960090628,17.159410786102423 L -97.30171206730351,17.159139723675448 L -97.30312184240518,17.159151574229234 L -97.3031243067125,17.158880511596195 L -97.30453408089203,17.158892352121004 L -97.30453654310952,17.158621289282067 L -97.30594631636602,17.158633119778205 L -97.30594877649374,17.158362056733537 L -97.30735854882629,17.15837387720129 L -97.30736100686428,17.158102813951043 L -97.30848882390089,17.158112263089198 L -97.30849128025821,17.157841199673094 L -97.31018300470227,17.15785536134695 L -97.31018545856105,17.157584297686064 L -97.3115952281163,17.15759608807046 L -97.31159767988558,17.157325024204496 L -97.31300744851326,17.157336804561684 L -97.31300989819309,17.15706574049081 L -97.31441966589227,17.157077510821107 L -97.31442211348272,17.15680644654549 L -97.3158318802525,17.156818206849177 L -97.31583432575366,17.156547142368993 L -97.31724409159312,17.15655889264636 L -97.31724653500503,17.156287827961766 L -97.3183743468426,17.156297220949185 L -97.31837678857427,17.156026156099664 L -97.32006850521215,17.15604023354991 L -97.32007094444577,17.155769168457 L -97.32119875479135,17.155778545403482 L -97.32120119234486,17.155507480145893 L -97.32261095423195,17.155519192286736 L -97.32261338969649,17.155248126825377 L -97.3240231506489,17.155259828941357 L -97.32402558402453,17.154988763276386 L -97.32543534404135,17.155000455367798 L -97.32543777532814,17.15472938949938 L -97.32684753440849,17.154741071566527 L -97.32684996360649,17.154470005494826 L -97.32825972174945,17.154481677537994 L -97.32826214885876,17.154210611263178 L -97.32967190606338,17.15422227328267 L -97.32967433108405,17.153951206804894 L -97.33108408734948,17.153962858801005 L -97.33108651028158,17.15369179212046 L -97.33249626560688,17.153703434093476 L -97.33249868645046,17.153432367210307 L -97.33419039184389,17.153446324371252 L -97.33419281019017,17.15317525724668 L -97.33532061303221,17.15318455400266 L -97.33532302969897,17.15291348671474 L -97.33673278219845,17.152925098620283 L -97.33673519677693,17.152654031130247 L -97.33814494833264,17.152665633013882 L -97.33814736082287,17.152394565321888 L -97.33955711143392,17.15240615718391 L -97.33955952183598,17.15213508929014 L -97.34096927150146,17.15214667113085 L -97.34097167981542,17.151875603035453 L -97.34238142853441,17.151887174855144 L -97.34238383476034,17.151616106558286 L -97.34379358253192,17.15162766835726 L -97.34379598666989,17.151356599859113 L -97.34520573349316,17.15136815163767 L -97.34520813554323,17.151097082938385 L -97.34661788141729,17.15110862469681 L -97.34662028137951,17.150837555796574 L -97.34803002630346,17.150849087535164 L -97.34803242417793,17.150578018434135 L -97.34944216815083,17.150589540153195 L -97.34944456393761,17.15031847085153 L -97.35085430695857,17.150329982551344 L -97.35085670065772,17.15005891304922 L -97.35226644272583,17.15007041473009 L -97.35226883433741,17.149799345027667 L -97.35367857545177,17.1498108366899 L -97.35368096497587,17.149539766787342 L -97.35509070513554,17.149551248431216 L -97.35509309257219,17.14928017832869 L -97.35650283177631,17.14929164995451 L -97.35650521712562,17.14902057965219 L -97.35791495537323,17.149032041260252 L -97.35791733863525,17.148760970758296 L -97.35932707592546,17.148772422348895 L -97.35932945710026,17.148501351647475 L -97.36073919343217,17.148512793220902 L -97.3607415725198,17.14824172232018 L -97.3621513078925,17.14825315387674 L -97.36215368489304,17.147982082776885 L -97.36356341930563,17.147993504316865 L -97.36356579421914,17.147722433018032 L -97.36497552767071,17.147733844541737 L -97.36497790049727,17.147462773044104 L -97.36638763298689,17.147474174551824 L -97.36639000372655,17.147203102855556 L -97.36779973525331,17.1472144943476 L -97.36780210390617,17.146943422452846 L -97.36921183446918,17.146954803929503 L -97.36921420103529,17.146683731836447 L -97.37062393063364,17.14669510329801 L -97.37062629511306,17.14642403100681 L -97.37203602374582,17.146435392453583 L -97.37203838613863,17.146164319964402 L -97.37344811380491,17.146175671396673 L -97.37345047411117,17.145904598709684 L -97.37486020081006,17.145915940127757 L -97.37486255902982,17.14564486724313 L -97.37627228476042,17.14565619864729 L -97.37627464089378,17.145385125565184 L -97.37768436565517,17.145396446955736 L -97.37768671970217,17.14512537367631 L -97.37909644349344,17.145136685053554 L -97.37909879545417,17.144865611576986 L -97.38050851827441,17.144876912941214 L -97.38051086814892,17.144605839267665 L -97.38192058999722,17.144617130619174 L -97.3819229377856,17.144346056748805 L -97.38333265866106,17.14435733808789 L -97.38333500436336,17.14408626402088 L -97.38474472426508,17.14409753534784 L -97.38474706788136,17.14382646108434 L -97.3861567868084,17.143837722399475 L -97.38615912833875,17.143566647939654 L -97.38756884629024,17.143577899243258 L -97.3875711857347,17.143306824587288 L -97.3889809027097,17.143318065879658 L -97.38898324006837,17.143046991027703 L -97.39039295606598,17.14305822230914 L -97.3903952913389,17.142787147261355 L -97.39180500635823,17.14279836853215 L -97.3918073395455,17.142527293288715 L -97.3932170535856,17.142538504549165 L -97.39321938468726,17.14226742911024 L -97.39462909774726,17.142278630360643 L -97.39463142676337,17.142007554726398 L -97.39604113884236,17.142018745967054 L -97.39604346577299,17.141747670137644 L -97.39745317687006,17.14175885136885 L -97.3974555017153,17.141487775344444 L -97.39886521182952,17.141498946566493 L -97.39886753458943,17.141227870347265 L -97.40027724371991,17.14123903156046 L -97.40027956439455,17.14096795514657 L -97.40168927254037,17.140979106351207 L -97.40169159112982,17.140708029742825 L -97.40310129829007,17.14071917093919 L -97.40310361479439,17.14044809413648 L -97.40451332096818,17.140459225324882 L -97.40451563538744,17.140188148328008 L -97.40592534057383,17.14019926950874 L -97.40592765290809,17.139928192317864 L -97.40733735710621,17.139939303491225 L -97.40733966735554,17.139668226106515 L -97.40874937056446,17.139679327272805 L -97.40875167872893,17.139408249694437 L -97.41016138094777,17.139419340853944 L -97.41016368702745,17.139148263082074 L -97.41157338825525,17.139159344235107 L -97.41157569225021,17.138888266269902 L -97.41298539248609,17.138899337416742 L -97.41298769439639,17.138628259258372 L -97.41439739363945,17.13863932039933 L -97.41439969346516,17.138368242047953 L -97.41580939171448,17.138379293183323 L -97.41581168945567,17.138108214639114 L -97.41722138671034,17.13811925576919 L -97.41722368236708,17.137848177032314 L -97.4186333786262,17.137859208157405 L -97.41863567219855,17.137588129228018 L -97.4200453674612,17.13759915034841 L -97.42004765894923,17.13732807122668 L -97.42145735321452,17.137339082342674 L -97.4214596426183,17.137068003028773 L -97.42286933588531,17.13707900414067 L -97.42287162320491,17.136807924634756 L -97.42428131547274,17.136818915742847 L -97.42428360070822,17.136547836045093 L -97.42569329197593,17.136558817149684 L -97.42569557512738,17.136287737260254 L -97.4271052653941,17.136298708361636 L -97.42710754646157,17.136027628280686 L -97.42823529779022,17.136036397944984 L -97.42823757718223,17.135765317709446 L -97.4296472652364,17.13577627076907 L -97.42964954254455,17.13550519034232 L -97.43105922959519,17.1355161333996 L -97.43106150481957,17.13524505278181 L -97.43247119086574,17.135255985837052 L -97.4324734640064,17.134984905028364 L -97.43388314904723,17.134995828081866 L -97.43388542010425,17.134724747082466 L -97.43529510413882,17.134735660134517 L -97.43529737311225,17.13446457894457 L -97.43670705613964,17.134475481995473 L -97.43670932302958,17.134204400615143 L -97.43811900504889,17.1342152936652 L -97.43812126985537,17.133944212094647 L -97.43953095086569,17.133955095144145 L -97.43953321358879,17.13368401338354 L -97.44094289358922,17.133694886432785 L -97.44094515422901,17.13342380448229 L -97.44235483321866,17.133434667531585 L -97.44235709177521,17.133163585391372 L -97.44376676975313,17.133174438441007 L -97.4437690262265,17.13290335611124 L -97.44517870319181,17.1329141991615 L -97.44518095758208,17.132643116642353 L -97.44659063353386,17.132653949693555 L -97.4465928858411,17.132382866985175 L -97.44800256077842,17.132393690037617 L -97.4480048110027,17.132122607140182 L -97.4494144849247,17.13213342019415 L -97.44941673306607,17.131862337107815 L -97.45082640597181,17.131873140163624 L -97.45082865203037,17.13160205688857 L -97.45223832391893,17.1316128499465 L -97.45224056789472,17.13134176648289 L -97.45365023876522,17.131352549543248 L -97.4536524806583,17.131081465891235 L -97.45506215050983,17.13109223895432 L -97.4550643903203,17.130821155114084 L -97.45647405915196,17.130831918180192 L -97.45647629687983,17.13056083415189 L -97.4578859646907,17.130571587221326 L -97.4578882003361,17.13030050300512 L -97.45929786712526,17.130311246078172 L -97.45930010068824,17.130040161674245 L -97.4607097664548,17.13005089475122 L -97.4607119979354,17.129779810159718 L -97.46212166267846,17.12979053324091 L -97.46212389207678,17.129519448462013 L -97.46353355579541,17.12953016154772 L -97.46353578311151,17.129259076581587 L -97.4649454458048,17.129269779672107 L -97.46494767103876,17.128998694518906 L -97.46635733270581,17.129009387614538 L -97.46635955585768,17.12873830227443 L -97.46776921649759,17.128748985375474 L -97.46777143756744,17.12847789984863 L -97.46918109717929,17.128488572955384 L -97.46918331616719,17.128217487241972 L -97.47059297475008,17.128228150354737 L -97.4705951916561,17.127957064454908 L -97.47200484920913,17.127967717573984 L -97.47200706403333,17.127696631487918 L -97.47341672055559,17.1277072746136 L -97.47341893329805,17.127436188341466 L -97.47482858878863,17.127446821474052 L -97.47483079944939,17.127175735016003 L -97.47624045390738,17.127186358155786 L -97.47624266248654,17.126915271511994 L -97.47765231591103,17.12692588465928 L -97.47765452240866,17.12665479782992 L -97.47906417479872,17.126665400985004 L -97.47906637921487,17.126394313970227 L -97.48047603056963,17.126404907133416 L -97.48047823290439,17.12613381993339 L -97.48188788322294,17.12614440310498 L -97.48189008347634,17.125873315719872 L -97.48329973275774,17.125883888900148 L -97.48330193092988,17.12561280133013 L -97.48471157917326,17.12562336451941 L -97.4847137752642,17.12535227676464 L -97.48612342246864,17.125362829963215 L -97.48612561647843,17.125091742023866 L -97.48753526264302,17.125102285232032 L -97.48753745457174,17.12483119710827 L -97.48894709969557,17.124841730326327 L -97.4889492895433,17.12457064201831 L -97.49035893362547,17.12458116524656 L -97.49036112139227,17.12431007675446 L -97.49177076443186,17.124320589993193 L -97.4917729501178,17.124049501317167 L -97.49318259211391,17.1240600045667 L -97.49318477571906,17.123788915706914 L -97.49459441667076,17.123799408967535 L -97.49459659819519,17.123528319924166 L -97.49600623810161,17.123538803196176 L -97.49600841754538,17.123267713969383 L -97.49741805640559,17.123278187253078 L -97.49742023376876,17.123007097843033 L -97.49882987158188,17.12301756113871 L -97.49883204686452,17.12274647154557 L -97.50024168362962,17.122756924853533 L -97.50024385683182,17.122485835077466 L -97.50165349254799,17.122496278398017 L -97.5016556636698,17.12222518843919 L -97.50306529833613,17.122235621772624 L -97.50306746737762,17.121964531631207 L -97.50447710099321,17.121974954977823 L -97.50447926795447,17.121703864653973 L -97.50588890051841,17.121714278014068 L -97.50589106539945,17.121443187507957 L -97.50730069691086,17.121453590881842 L -97.5073028597118,17.12118250019363 L -97.50871249016974,17.12119289358159 L -97.50871465089064,17.120921802711443 L -97.51012428029422,17.120932186113787 L -97.51012643893513,17.120661095061877 L -97.51153606728342,17.1206714684789 L -97.51153822384443,17.120400377245392 L -97.51294785113654,17.120410740677396 L -97.51295000561771,17.12013964926245 L -97.51435963185273,17.120150002709728 L -97.51436178425413,17.119878911113517 L -97.51577140943115,17.11988925457637 L -97.51577355975284,17.11961816279906 L -97.51718318387097,17.119628496277794 L -97.51718533211302,17.11935740431954 L -97.51859495517132,17.119367727814456 L -97.51859710133381,17.119096635675426 L -97.5200067233314,17.11910694918682 L -97.52000886741438,17.118835856867186 L -97.52141848835033,17.118846160395353 L -97.5214206303539,17.118575067895282 L -97.52283025022733,17.11858536144052 L -97.5228323901515,17.11831426876018 L -97.52424200896151,17.118324552322793 L -97.5242441468064,17.118053459462345 L -97.52565376455205,17.118063733042636 L -97.5256559003177,17.117792640002232 L -97.52706551699809,17.117802903600502 L -97.52706765068459,17.117531810380328 L -97.52847726629882,17.11754206399687 L -97.52847939790624,17.117270970597083 L -97.5298890124534,17.1172812142322 L -97.52989114198178,17.11701012065297 L -97.53130075546098,17.117020354306963 L -97.5313028829104,17.11674926054845 L -97.53271249532071,17.116759484221614 L -97.53271462069125,17.11648839028399 L -97.53384230968608,17.116496562022814 L -97.53384443338581,17.116225467940513 L -97.53553596559331,17.116237713572463 L -97.53553808680628,17.115966619277103 L -97.5369476960045,17.115976813009592 L -97.5369498151388,17.11570571853561 L -97.53835942326451,17.115715902288475 L -97.53836154032018,17.115444807636045 L -97.53948922588474,17.115452947439543 L -97.53949134126984,17.115181852642976 L -97.54090094705477,17.115192018399135 L -97.54090306036139,17.114920923424414 L -97.54259458612896,17.114933109180324 L -97.54259669694919,17.114662013993527 L -97.54400630077579,17.11467215783089 L -97.5440084095177,17.114401062466314 L -97.54513609164037,17.114409170338323 L -97.54513819871195,17.11413807483013 L -97.54654780019128,17.114148200673082 L -97.54654990518463,17.1138771049874 L -97.54824142578066,17.113889242848966 L -97.54824352828794,17.11361814695201 L -97.54965312780094,17.11362825087866 L -97.54965522823015,17.113357154804582 L -97.55078290689931,17.113365230748954 L -97.55078500565847,17.11309413453179 L -97.55219460281766,17.11310422046633 L -97.55219669949886,17.11283312407234 L -97.55360629557578,17.11284320003053 L -97.55360839017911,17.112572103459875 L -97.55501798517281,17.112582169442014 L -97.55502007769833,17.112311072694865 L -97.55642967160793,17.112321128701247 L -97.55643176205572,17.112050031777766 L -97.55784135488028,17.1120600778087 L -97.55784344325043,17.111788980709065 L -97.55925303498907,17.111799016764845 L -97.55925512128162,17.1115279194892 L -97.56066471193343,17.11153794557013 L -97.56066679614844,17.111266848118657 L -97.56207638571252,17.11127686422504 L -97.56207846785006,17.111005766597895 L -97.5634880563255,17.11101577273003 L -97.56349013638565,17.110744674927382 L -97.56489972377153,17.11075467108557 L -97.56490180175436,17.11048357310758 L -97.5663113880498,17.11049355929212 L -97.56631346395537,17.11022246113896 L -97.56772304915943,17.110232437350152 L -97.56772512298782,17.10996133902199 L -97.56913470709962,17.109971305260135 L -97.56913677885089,17.109700206757132 L -97.57054636186952,17.109710163022534 L -97.57054843154373,17.109439064344855 L -97.57195801346826,17.109449010637807 L -97.57196008106551,17.109177911785626 L -97.57336966189504,17.109187848106437 L -97.57337172741536,17.108916749079906 L -97.57478130714901,17.108926675428872 L -97.5747833705925,17.10865557622816 L -97.57619294922934,17.108665492605585 L -97.57619501059605,17.108394393230864 L -97.57760458813517,17.10840429963704 L -97.57760664742518,17.108133200088478 L -97.5790162238657,17.108143096523715 L -97.57901828107904,17.107871996801467 L -97.58042785642004,17.107881883266067 L -97.58042991155683,17.10761078337031 L -97.58183948579739,17.107620659864565 L -97.58184153885767,17.107349559795455 L -97.5832511119969,17.107359426319668 L -97.58325316298075,17.10708832607738 L -97.58466273501774,17.10709818263186 L -97.58466478392522,17.106827082216544 L -97.58607435485906,17.106836928801584 L -97.58607640169026,17.106565828213427 L -97.58748597152004,17.106575664829332 L -97.58748801627499,17.106304564068488 L -97.5888975849998,17.106314390715553 L -97.58889962767861,17.106043289782185 L -97.59030919529755,17.10605310646072 L -97.59031123590027,17.105782005354996 L -97.59172080241244,17.105791812065302 L -97.59172284093913,17.105520710787385 L -97.59313240634363,17.105530507529753 L -97.59313444279435,17.105259406079814 L -97.59454400709026,17.10526919285455 L -97.59454604146511,17.10499809123276 L -97.59595560465152,17.105007868040158 L -97.59595763695054,17.104736766246678 L -97.59736719902656,17.104746533087052 L -97.59736922924982,17.104475431122044 L -97.59877879021455,17.104485187995692 L -97.59878081836213,17.104214085859315 L -97.60019037821463,17.104223832766536 L -97.6001924042866,17.103952730458975 L -97.601601963026,17.10396246740007 L -97.60160398702243,17.10369136492147 L -97.6030135446478,17.103701091896745 L -97.60301556656874,17.10342998924728 L -97.60442512307917,17.10343970625703 L -97.60442714292472,17.10316860343687 L -97.60583669831931,17.103178310481397 L -97.60583871608952,17.102907207490702 L -97.60724827036736,17.10291690457031 L -97.60725028606231,17.102645801409253 L -97.60865983922253,17.102655488524242 L -97.60866185284225,17.10238438519298 L -97.6100714048839,17.102394062343652 L -97.6100734164285,17.102122958842347 L -97.61148296735068,17.102132626029004 L -97.61148497682022,17.10186152235784 L -97.61289452662204,17.101871179580783 L -97.61289653401658,17.10160007573991 L -97.61430608269713,17.101609722999438 L -97.61430808801674,17.10133861898903 L -97.61571763557511,17.101348256285448 L -97.61571963881987,17.101077152105667 L -97.61712918525515,17.10108677943927 L -97.61713118642511,17.10081567509028 L -97.6185407317364,17.10082529246138 L -97.61854273083163,17.100554187943345 L -97.61995227501804,17.100563795352237 L -97.61995427203863,17.100292690665327 L -97.62136381509922,17.10030228811231 L -97.62136581004522,17.10003118325669 L -97.62277535197909,17.10004077074208 L -97.62277734485058,17.099769665717915 L -97.62418688565684,17.099779243242 L -97.62418887645389,17.099508138049455 L -97.62559841613162,17.099517705612534 L -97.62560040485428,17.099246600251774 L -97.6270099434026,17.09925615785416 L -97.62701193005094,17.098985052325357 L -97.62842146746893,17.098994599967348 L -97.62842345204304,17.098723494270654 L -97.62983298832978,17.098733031952552 L -97.6298349708297,17.09846192608815 L -97.63124450598431,17.098471453810248 L -97.63124648641012,17.09820034777829 L -97.63265602043168,17.098209865540902 L -97.63265799878346,17.09793875934156 L -97.63406753167106,17.097948267144982 L -97.63406950794888,17.097677160778417 L -97.63547903970161,17.097686658622955 L -97.63548101390553,17.097415552089334 L -97.63689054452249,17.097425039975292 L -97.63689251665258,17.097153933274782 L -97.63830204613286,17.097163411202455 L -97.6383040161892,17.09689230433522 L -97.6394316387914,17.096899879494867 L -97.63943360718157,17.09662877249289 L -97.64112503971876,17.096640123283134 L -97.64112700562778,17.096369016082953 L -97.6425365316926,17.09637846413759 L -97.64253849552806,17.09610735677118 L -97.64394802045258,17.096116794868745 L -97.64394998221455,17.09584568733628 L -97.64507760116955,17.095853230632766 L -97.64507956126562,17.095582122966075 L -97.64677098832765,17.09559342596302 L -97.64677294594284,17.095322318098926 L -97.64818246744105,17.09533172632708 L -97.64818442298298,17.095060618297424 L -97.64959394333725,17.095070016569707 L -97.64959589680596,17.094798908374656 L -97.65072351210218,17.094806419811842 L -97.6507254639052,17.094535311483103 L -97.65241688547471,17.09454656669255 L -97.6524188347972,17.094275458167196 L -97.65354644825965,17.09428295367619 L -97.6535483959166,17.09401184501741 L -97.65495791150826,17.094021205428696 L -97.65495985709228,17.09375009660515 L -97.65665127453094,17.093761315977783 L -97.65665321763463,17.09349020695823 L -97.65806273110637,17.09349954550167 L -97.65806467213724,17.093228436317712 L -97.65919228192351,17.0932358999732 L -97.6591942212891,17.092964790656342 L -97.66060373228228,17.092974111251923 L -97.6606056695752,17.092703001770957 L -97.6620151794165,17.09271231241336 L -97.66201711463681,17.092441202768452 L -97.66342662332532,17.09245050345799 L -97.66342855647312,17.09217939364931 L -97.66483806400792,17.092188684386272 L -97.66483999508326,17.091917574413994 L -97.66624950146345,17.09192685519869 L -97.66625143046639,17.091655745062955 L -97.66794283684175,17.09166686888673 L -97.66794476336493,17.091395758556576 L -97.66907236668999,17.09140316647777 L -97.66907429154836,17.091132056015656 L -97.67048379445933,17.09114130694538 L -97.67048571724548,17.090870196320306 L -97.67189521899824,17.090879437298977 L -97.67189713971229,17.090608326511123 L -97.67330664030591,17.090617557539048 L -97.6733085589479,17.090346446588583 L -97.6747180583815,17.090355667666056 L -97.67471997495151,17.09008455655314 L -97.67612947322418,17.090093767680468 L -97.67613138772226,17.089822656405264 L -97.67754088483308,17.089831857582755 L -97.67754279725933,17.08956074614543 L -97.6789522932074,17.089569937373376 L -97.67895420356187,17.0892988257741 L -97.68036369834628,17.08930800705281 L -97.68036560662907,17.08903689529174 L -97.68177510024893,17.08904606662152 L -97.68177700646005,17.08877495469884 L -97.68318649891444,17.08878411607998 L -97.683188403054,17.088513003995846 L -97.68459789434202,17.08852215542866 L -97.68459979641008,17.088251043183227 L -97.68600928653083,17.088260184668016 L -97.68601118652747,17.08798907226147 L -97.68742067548003,17.08799820379853 L -97.6874225734053,17.087727091231013 L -97.68883206118878,17.08773621282066 L -97.68883395704276,17.087465100092352 L -97.69024344365623,17.08747421173488 L -97.69024533743898,17.087203098845944 L -97.69165482288157,17.087212200541664 L -97.69165671459317,17.086941087492264 L -97.69306619886396,17.08695017924147 L -97.69306808850446,17.086679066031774 L -97.69447757160256,17.086688147834774 L -97.69447945917204,17.08641703446495 L -97.69588894109651,17.086426106322044 L -97.69589082659506,17.086154992792242 L -97.697300307345,17.08616405470374 L -97.69730219077267,17.085892941014144 L -97.6987116703472,17.085901992980347 L -97.69871355170406,17.085630879131116 L -97.70012303010225,17.085639921152325 L -97.70012490938836,17.085368807143624 L -97.70153438660934,17.08537783922014 L -97.70153626382476,17.085106725052135 L -97.7029457398676,17.08511574718426 L -97.70294761501243,17.08484463285712 L -97.70435708987623,17.08485364504516 L -97.70435896295052,17.084582530559047 L -97.70576843663436,17.08459153280331 L -97.70577030763819,17.084320418158388 L -97.70717978014117,17.084329410459173 L -97.70718164907461,17.084058295655613 L -97.70859112039584,17.08406727801322 L -97.70859298725894,17.083796163051183 L -97.71000245739751,17.08380513546592 L -97.71000432219034,17.083534020345574 L -97.71141379114535,17.083542982817747 L -97.711415653868,17.083271867539256 L -97.71282512163852,17.083280820069163 L -97.71282698229105,17.083009704632687 L -97.71423644887619,17.08301864722064 L -97.71423830745869,17.08274753162636 L -97.71564777285754,17.082756464272652 L -97.71564962937005,17.082485348520713 L -97.71705909358171,17.082494271225652 L -97.71706094802428,17.082223155316242 L -97.71847041104787,17.08223206808014 L -97.71847226342061,17.081960952013404 L -97.71988172525519,17.081969854836544 L -97.71988357555814,17.081698738612666 L -97.72129303620282,17.08170763149537 L -97.72129488443608,17.081436515114497 L -97.72270434388994,17.08144539805706 L -97.72270619005357,17.081174281519377 L -97.72411564831573,17.0811831545221 L -97.72411749240976,17.080912037827765 L -97.7255269494793,17.080920900890963 L -97.72552879150385,17.080649784040137 L -97.72693824737988,17.08065863716411 L -97.72694008733498,17.08038752015695 L -97.72834954201657,17.080396363342008 L -97.72835137990232,17.08012524617869 L -97.72976083338858,17.08013407942512 L -97.72976266920503,17.079862962105814 L -97.73117212149506,17.079871785413932 L -97.73117395524228,17.079600667938802 L -97.73258340633517,17.079609481308907 L -97.73258523801323,17.079338363678122 L -97.73399468790807,17.079347167110516 L -97.73399651751704,17.07907604932423 L -97.73540596621295,17.079084842819217 L -97.7354077937529,17.0788137248776 L -97.73681724124894,17.0788225084355 L -97.73681906671995,17.078551390338724 L -97.73822851301523,17.07856016395982 L -97.73823033641736,17.078289045708036 L -97.73963978151097,17.078297809392645 L -97.73964160284429,17.078026690986036 L -97.74105104673534,17.078035444734454 L -97.74105286599992,17.077764326173174 L -97.74246230868748,17.07777306998571 L -97.74246412588339,17.077501951269927 L -97.74387356736658,17.077510685146883 L -97.74387538249388,17.07723956627677 L -97.74500293464985,17.077246546213182 L -97.74500474811568,17.076975427218233 L -97.74669607490227,17.076985885200877 L -97.74669788589257,17.07671476602258 L -97.7481073237572,17.076723470094624 L -97.7481091326791,17.07645235076249 L -97.74951856933573,17.076461044900178 L -97.74952037618931,17.076189925414365 L -97.75092981163705,17.076198609617993 L -97.75093161642236,17.075927489978678 L -97.75234105066028,17.07593616424855 L -97.75234285337741,17.075665044455892 L -97.75347039973326,17.07567197670803 L -97.7534722007893,17.07540085679134 L -97.75516351886922,17.075411243249754 L -97.75516531745019,17.075140123150906 L -97.75657474805327,17.075148767621346 L -97.75657654456624,17.07487764736965 L -97.75798597395588,17.07488628190755 L -97.75798776840097,17.07461516150317 L -97.75939719657629,17.074623786108845 L -97.7593989889535,17.074352665551956 L -97.76080841591359,17.074361280225695 L -97.76081020622304,17.074090159516455 L -97.762219631967,17.074098764258576 L -97.76222142020875,17.073827643397152 L -97.76363084473564,17.073836238207953 L -97.76363263090975,17.073565117194505 L -97.76504205421872,17.07357370207429 L -97.76504383832527,17.073302580909 L -97.76645326041537,17.07331115585808 L -97.76645504245441,17.07304003454109 L -97.76786446332477,17.073048599559772 L -97.76786624329638,17.07277747809127 L -97.76899377895106,17.072784322945004 L -97.76899555726227,17.07251320135392 L -97.77068685927847,17.072523456718763 L -97.77068863511545,17.072252334947706 L -97.7720980523211,17.072260870177 L -97.77209982609085,17.071989748254918 L -97.77322735881182,17.07199656927785 L -97.77322913092135,17.071725447233586 L -97.77463854551736,17.0717339645619 L -97.77464031555981,17.071462842366913 L -97.77604972893081,17.07147134976662 L -97.77605149690625,17.07120022742107 L -97.77774279157734,17.07121042321254 L -97.77774455707889,17.070939300688018 L -97.77887208587813,17.070946089939948 L -97.77887384971973,17.07067496729377 L -97.78028325941034,17.070683444909502 L -97.78028502118512,17.070412322113253 L -97.78169442964712,17.0704207898016 L -97.78169618935515,17.070149666855457 L -97.78310559658763,17.070158124616718 L -97.783107354229,17.06988700152084 L -97.78451676023106,17.069895449355336 L -97.78451851580581,17.06962432610989 L -97.78592792057655,17.069632764017907 L -97.78592967408478,17.069361640623057 L -97.78733907762329,17.06937006860491 L -97.78734082906504,17.06909894506083 L -97.78875023137043,17.06910736311682 L -97.7887519807458,17.06883623942366 L -97.79016138181714,17.068844647554105 L -97.79016312912617,17.06857352371204 L -97.79157252896258,17.068581921917232 L -97.79157427420536,17.06831079792643 L -97.79298367280592,17.068319186206676 L -97.7929854159825,17.068048062067298 L -97.79439481334632,17.068056440422907 L -97.79439655445678,17.067785316135115 L -97.79580595058293,17.06779368456639 L -97.79580768962737,17.067522560130364 L -97.79721708451497,17.06753091863761 L -97.79721882149342,17.06725979405349 L -97.79862821514155,17.067268142637015 L -97.79862995005408,17.066997017904992 L -97.80003934246186,17.067005356565097 L -97.80004107530854,17.066734231685324 L -97.80145046647506,17.066742560422316 L -97.80145219725597,17.066471435394963 L -97.8028615871803,17.066479754209144 L -97.80286331589551,17.066208629034374 L -97.80427270457677,17.06621693792606 L -97.80427443122635,17.06594581260404 L -97.80568381866364,17.065954111573525 L -97.80568554324765,17.06568298610441 L -97.80709492944004,17.065691275152005 L -97.80709665195856,17.065420149535978 L -97.80850603690517,17.06542842866199 L -97.80850775735826,17.065157302899205 L -97.80991714105818,17.065165572103933 L -97.80991885944592,17.064894446194568 L -97.81132824189824,17.064902705478325 L -97.81132995822068,17.064631579422528 L -97.81273933942451,17.064639828785616 L -97.81274105368173,17.064368702583558 L -97.81415043363616,17.064376942026282 L -97.81415214582823,17.064105815678136 L -97.81556152453234,17.064114045200803 L -97.81556323465935,17.06384291870672 L -97.81697261211225,17.063851138309637 L -97.81697432017424,17.063580011669806 L -97.81838369637502,17.06358822135327 L -97.81838540237207,17.063317094567836 L -97.81979477731984,17.063325294332163 L -97.81979648125203,17.0630541674013 L -97.82148772977811,17.06306399404219 L -97.82148943123877,17.06279286693851 L -97.82289880383344,17.062801044909335 L -97.82290050322938,17.062529917660587 L -97.82402800023819,17.062536452885137 L -97.82402969797619,17.062265325518975 L -97.82543906790283,17.062273485609797 L -97.82544076357622,17.06200235809887 L -97.82685013224535,17.062010508272074 L -97.82685182585422,17.06173938061654 L -97.82854306683996,17.061749147750003 L -97.82854475797767,17.061478019922642 L -97.82967225096063,17.061484523411366 L -97.82967394044066,17.061213395467128 L -97.83108330533175,17.061221515889336 L -97.83108499274745,17.06095038780099 L -97.83249435637738,17.060958498306807 L -97.83249604172885,17.060687370074515 L -97.83390540409673,17.060695470664246 L -97.833907087384,17.060424342288186 L -97.83531644848894,17.06043243296214 L -97.8353181297121,17.06016130444247 L -97.83672748955317,17.06016938520095 L -97.83672916871231,17.059898256537835 L -97.8381385272886,17.05990632738116 L -97.83814020438378,17.059635198574767 L -97.83954956169438,17.059643259503225 L -97.83955123672565,17.059372130553722 L -97.8409605927697,17.059380181567626 L -97.84096226573716,17.05910905247517 L -97.84237162051372,17.059117093574834 L -97.8423732914174,17.058845964339593 L -97.8437826449256,17.058853995525322 L -97.8437843137656,17.05858286614746 L -97.84519366600449,17.05859088741955 L -97.84519533278086,17.058319757899245 L -97.84660468374959,17.058327769258007 L -97.8466063484624,17.05805663959541 L -97.84801569816003,17.058064641041152 L -97.84801736080938,17.05779351123644 L -97.849426709235,17.05780150276946 L -97.84942836982093,17.057530372822793 L -97.85083771697367,17.05753835444341 L -97.85083937549625,17.05726722435495 L -97.85224872137519,17.05727519606346 L -97.8522503778345,17.057004065833386 L -97.85365972243874,17.0570120276301 L -97.85366137683484,17.05674089725856 L -97.85507072016345,17.056748849143787 L -97.85507237249642,17.056477718630955 L -97.85648171454854,17.056485660605002 L -97.85648336481844,17.056214529951035 L -97.85789270559313,17.056222462014205 L -97.85789435380005,17.05595133121928 L -97.85930369329643,17.05595925337188 L -97.85930533944041,17.05568812243616 L -97.86071467765757,17.055696034678494 L -97.8607163217387,17.05542490360214 L -97.86212565867574,17.055432805934515 L -97.86212730069407,17.055161674717702 L -97.86353663635008,17.055169567140425 L -97.86353827630572,17.054898435783308 L -97.86494761067978,17.05490631829669 L -97.86494924857276,17.054635186799437 L -97.866358581664,17.05464305940378 L -97.8663602174944,17.05437192776656 L -97.86776954930191,17.054379790462168 L -97.86777118306979,17.05410865868515 L -97.86918051359265,17.05411651147234 L -97.86918214529811,17.053845379555675 L -97.87059147453543,17.053853222434746 L -97.87059310417852,17.053582090378608 L -97.87200243212938,17.05358992334987 L -97.87200405971018,17.053318791154425 L -97.87341338637368,17.053326614218182 L -97.87341501189225,17.0530554818836 L -97.8748243372675,17.053063295040157 L -97.87482596072391,17.052792162566597 L -97.87623528481001,17.052799965816256 L -97.87623690620433,17.052528833203887 L -97.87764622900036,17.05253662654697 L -97.87764784833264,17.052265493795957 L -97.87905716983775,17.052273277232764 L -97.87905878710806,17.05200214434327 L -97.88046810732129,17.052009917874102 L -97.88046972252974,17.0517387848463 L -97.88187904145019,17.05174654847147 L -97.88188065459684,17.051475415305514 L -97.88328997222362,17.05148316902533 L -97.8832915833085,17.051212035721385 L -97.8847008996407,17.051219779536154 L -97.88470250866393,17.050948646094394 L -97.88611182370066,17.05095638000442 L -97.88611343066229,17.050685246425008 L -97.88752274440263,17.0506929704306 L -97.88752434930271,17.0504218367137 L -97.88893366174577,17.050429550815167 L -97.88893526458439,17.05015841696094 L -97.89034457572927,17.050166121158583 L -97.89034617650651,17.049894987167207 L -97.8917554863523,17.049902681461337 L -97.89175708506819,17.049631547332968 L -97.893166393614,17.049639231723887 L -97.89316799026864,17.049368097458697 L -97.89457729751352,17.04937577194672 L -97.89457889210699,17.04910463754487 L -97.89598819805009,17.0491123021303 L -97.89598979058243,17.048841167591956 L -97.89739909522282,17.048848822275097 L -97.89740068569414,17.04857768760042 L -97.89852812830536,17.0485838042072 L -97.89852971712206,17.04831266942211 L -97.90022087947354,17.048321832450252 L -97.90022246582296,17.04805069750341 L -97.90163176654984,17.04805832248155 L -97.90163335083842,17.047787187398875 L -97.90304265025898,17.047794802475956 L -97.90304423248679,17.047523667257625 L -97.90417167091955,17.047529752180484 L -97.90417325149302,17.047258616852258 L -97.90586440757248,17.047267732356 L -97.90586598567899,17.046996596866833 L -97.90699342201818,17.04700266594921 L -97.90699499847045,17.046731530350414 L -97.90840429251244,17.046739107780756 L -97.90840586690423,17.04646797204692 L -97.9100970182683,17.046477051911243 L -97.91009859019334,17.04620591601705 L -97.91122602338677,17.046211961340553 L -97.91122759365777,17.045940825337134 L -97.91263688376515,17.045948373069756 L -97.91263845197585,17.045677236931798 L -97.91404774076989,17.045684774765796 L -97.91404930692038,17.045413638493457 L -97.91545859440016,17.04542116642914 L -97.91546015849052,17.04515003002259 L -97.91686944465513,17.045157548060267 L -97.91687100668541,17.04488641151967 L -97.91856214858946,17.04489542011511 L -97.91856370815344,17.044624283415356 L -97.91969113503586,17.044630281227747 L -97.9196926929462,17.04435914441956 L -97.92110197515994,17.044366632765048 L -97.92110353101042,17.044095495823317 L -97.92251281190539,17.04410297427203 L -97.92251436569607,17.04383183719691 L -97.92392364527139,17.043839305749152 L -97.92392519700233,17.04356816854082 L -97.924488908219,17.043571153175687 L -97.92449511160865,17.042486604067538 L -97.92421325761103,17.042485112046084 L -97.9242194621709,17.041400562920728 L -97.92450131454368,17.0414020548416 L -97.92450441584073,17.04085978018447 L -97.92422256428031,17.040858288313885 L -97.92423186992653,17.039231464316675 L -97.92395002083144,17.03922997220624 L -97.9239562256517,17.038145422828162 L -97.9236743782095,17.038143930427655 L -97.9236821356257,17.036788243665224 L -97.92340029024231,17.036786750999852 L -97.92340494556902,17.035973338929562 L -97.92312310143225,17.035971845949046 L -97.92313086177145,17.034616159143894 L -97.92284901969325,17.03461466589863 L -97.92285367677341,17.033801253802753 L -97.92257183594161,17.033799760242438 L -97.92257338865075,17.03352862288761 L -97.92229154825338,17.033527128961907 L -97.92229776042917,17.032442579569764 L -97.9220159216841,17.032441085354275 L -97.92203145419015,17.029729711610763 L -97.9217496195326,17.029728217256743 L -97.92175583336126,17.02864366765413 L -97.9214740003556,17.02864217301046 L -97.92147866164557,17.027828760806862 L -97.92119682988589,17.027827265848387 L -97.9212092619855,17.02565816651681 L -97.9209274335006,17.025656671369656 L -97.92093520466561,17.02430098417444 L -97.92065337823789,17.024299488763038 L -97.92066425951195,17.022401526557367 L -97.92038243595258,17.022400030932253 L -97.9203917640812,17.020773206049075 L -97.92010994298418,17.020771710185084 L -97.92012704634921,17.017789197489247 L -97.91984522974211,17.017787701512678 L -97.919853004886,17.016432013755736 L -97.919571190335,17.016430517515232 L -97.9195789667933,17.0150748297007 L -97.91929715429826,17.015073333196337 L -97.91930493207062,17.013717645324277 L -97.91902312163134,17.013716148556103 L -97.919032456449,17.01208932301858 L -97.91875064847069,17.01208782601193 L -97.91875842872741,17.01073213798817 L -97.91847662280448,17.010730640717856 L -97.91848440437417,17.009374952636684 L -97.91820260050642,17.009373455102757 L -97.91821038338874,17.008017766964233 L -97.91792858157599,17.008016269166756 L -97.91793792252385,17.006389443309686 L -97.91765612317116,17.006387945274028 L -97.91766235151927,17.005303394656835 L -97.91738055381597,17.00530189633247 L -97.91738678332766,17.004217345698876 L -97.91710498727367,17.004215847085856 L -97.91710810266837,17.003673571775572 L -97.91682630745329,17.00367207282332 L -97.9168278655129,17.003400935182473 L -97.91654607073157,17.003399435865703 L -97.91654918757528,17.00285716061259 L -97.91626739363281,17.00285566095664 L -97.91627051117237,17.00231338572478 L -97.91598871806875,17.002311885729668 L -97.9159918363041,17.001769610519087 L -97.9157100440393,17.001768110184845 L -97.91571628178696,17.000683559776846 L -97.91543449117111,17.000682059154187 L -97.9154516470713,16.99769954520479 L -97.91516986093939,16.997698044471225 L -97.91519169638103,16.993902116695725 L -97.91490991594682,16.993900615927448 L -97.91491771498318,16.992544927214052 L -97.91463593660191,16.992543426182987 L -97.91464373694647,16.991187737412766 L -97.914361960618,16.991186236118974 L -97.91437132251492,16.989559409504547 L -97.9140895486438,16.989557907973463 L -97.91409423041975,16.988744494643225 L -97.91381245779152,16.988742992798787 L -97.91381557964168,16.988200717259343 L -97.91353380785159,16.988199215076207 L -97.91354785840063,16.98575897501366 L -97.91326609028144,16.9857574726696 L -97.91326921311959,16.985215197070154 L -97.91298744583838,16.985213694387493 L -97.91299837770099,16.98331572973595 L -97.91271661328075,16.98331422684174 L -97.91272129914822,16.98250081338573 L -97.91243953597042,16.98249931017841 L -97.9124473471985,16.981143621065293 L -97.91216558607215,16.981142117595745 L -97.91217339860538,16.979786428426173 L -97.91189163953028,16.97978492469446 L -97.91189632791924,16.9789715111809 L -97.91161457008631,16.978970007136223 L -97.91161925943027,16.978156593632885 L -97.91133750283942,16.97815508927528 L -97.91134844646788,16.976257124355314 L -97.91106669273672,16.9762556197866 L -97.91107451077441,16.974899930465064 L -97.91079275909387,16.974898425634425 L -97.91079901462427,16.97381387414689 L -97.91051726458984,16.973812369028938 L -97.91052821349189,16.971914403821387 L -97.91024646631631,16.971912898492562 L -97.91025898085671,16.969743795161612 L -97.90997723694387,16.969742289647467 L -97.9099819306348,16.968928875853692 L -97.90970018796332,16.968927370026947 L -97.90970331775522,16.968385094178693 L -97.90942157592087,16.96838358801392 L -97.90942314117785,16.968112450104275 L -97.90914139977646,16.968110943576004 L -97.90914453101243,16.96756866778566 L -97.90886279044815,16.967567160919412 L -97.90887375169659,16.965669195600558 L -97.90859201399,16.96566768852385 L -97.90859514632443,16.965125412703433 L -97.90831340945482,16.965123905288824 L -97.90831967539451,16.964039353661978 L -97.90803794016999,16.96403784596052 L -97.90804420726515,16.96295329431835 L -97.90832594087348,16.962954801917757 L -97.9083290734402,16.96241252600164 L -97.90804734063991,16.962411018453256 L -97.9080551735728,16.96105532866214 L -97.9077734428213,16.961053820852516 L -97.90777814344732,16.96024040696638 L -97.90749641393651,16.96023889884453 L -97.90749954835105,16.95969662293482 L -97.90721781967696,16.959695114475245 L -97.90722095478411,16.959152838587258 L -97.9069392269467,16.959151329789997 L -97.9069454984308,16.958066778028154 L -97.90666377223786,16.958065268944317 L -97.90666690861472,16.95752299307048 L -97.9063851832584,16.95752148364901 L -97.90638832032765,16.956979207796945 L -97.90667004487622,16.956980717167315 L -97.90667945296873,16.955353889281795 L -97.90639773084321,16.955352380064728 L -97.906400867451,16.954810104095323 L -97.90611914616194,16.954808594540705 L -97.90612071482639,16.95453745657056 L -97.90583899397,16.954535946652857 L -97.9058421320199,16.95399367074169 L -97.90556041199994,16.953992160486482 L -97.90556355074197,16.953449884597124 L -97.90528183155843,16.953448374004445 L -97.90528811031119,16.952363822240038 L -97.90500639277153,16.952362311361068 L -97.90500953278215,16.95182003548604 L -97.90472781607882,16.951818524269655 L -97.90473095678138,16.95127624841647 L -97.90501267267727,16.951277759581675 L -97.90502209166965,16.949650931692627 L -97.90474037819587,16.949649420680952 L -97.90474351843632,16.949107144710464 L -97.90446180579873,16.949105633361455 L -97.90446651715371,16.948292219427522 L -97.90474822858039,16.948293730699746 L -97.90474979857063,16.948022592681514 L -97.90446808754758,16.948021081434877 L -97.9044712282487,16.9474788054276 L -97.90418951806174,16.947477293843683 L -97.90419108877256,16.94720615585465 L -97.90390937901812,16.94720464390787 L -97.90391095010364,16.946933505937114 L -97.90362924078168,16.946931993627484 L -97.90363552644902,16.945847441773612 L -97.90391723415668,16.945848953980786 L -97.90392037600981,16.945306677958644 L -97.90363866910926,16.94530516580269 L -97.903640240396,16.945034027806237 L -97.9033585339279,16.94503251528749 L -97.90336010558927,16.94476137730932 L -97.9030783995536,16.944759864427784 L -97.9030799715896,16.94448872646792 L -97.90279826598639,16.944487213223614 L -97.90279983839696,16.94421607528205 L -97.90308154359666,16.944217588500713 L -97.9030878313357,16.943133036558628 L -97.90336953495031,16.94313454928641 L -97.90337267783933,16.942592273220132 L -97.90309097503167,16.942590760543606 L -97.90309254683628,16.942319622525105 L -97.90281084446102,16.942318109485853 L -97.90283128053362,16.93879331491161 L -97.90254958343165,16.938791801817313 L -97.90256058826928,16.93689383517461 L -97.90227889401963,16.936892321871564 L -97.90228046642687,16.936621183776083 L -97.90256216027322,16.936622697053483 L -97.90256687611144,16.935809282646154 L -97.90228518347497,16.935807769445685 L -97.90228832802902,16.935265493188783 L -97.90200663622802,16.93526397965143 L -97.90201764407833,16.933366012701036 L -97.901735955129,16.933364498955097 L -97.901739100775,16.932822222668936 L -97.90145741266103,16.932820708586203 L -97.90146055899763,16.932278432322065 L -97.901178871719,16.93227691790254 L -97.90118044524704,16.93200577978516 L -97.90089875840056,16.93200426500322 L -97.90090977510789,16.93010629815611 L -97.90062809111245,16.930104783165845 L -97.9006359613355,16.92874909246943 L -97.90035427938459,16.92874757721956 L -97.90035742807711,16.928205300941094 L -97.90007574696135,16.9282037853546 L -97.90008047099197,16.927390370959056 L -97.90036215089854,16.92739188646847 L -97.9003668734591,16.926578471929922 L -97.90008519476164,16.92657695649759 L -97.90008676929357,16.926305818329123 L -97.89980509102811,16.92630430253453 L -97.89980666593405,16.92603316438444 L -97.89952498810064,16.926031648227603 L -97.89953128904641,16.924947095656822 L -97.89981296526784,16.92494861171084 L -97.89982871157247,16.922237229514224 L -97.89954703938052,16.922235713717267 L -97.89955176391518,16.921422298992614 L -97.89927009296095,16.92142078288494 L -97.89928269366685,16.91925167683607 L -97.89900102596447,16.91925016054631 L -97.89901205287882,16.917352192549203 L -97.89873038802507,16.917350676051726 L -97.89874299169401,16.91518156953589 L -97.89846133009127,16.91518005285652 L -97.89846763284005,16.91409549952585 L -97.89818597287714,16.91409398256175 L -97.89818754889446,16.913822844236517 L -97.89790588936327,16.913821326910497 L -97.89790746575422,16.913550188603683 L -97.89762580665474,16.91354867091577 L -97.8976352668065,16.91192184107571 L -97.89735361015198,16.911920323154682 L -97.89735676410875,16.911378046534296 L -97.89707510828853,16.91137652827719 L -97.89707668562593,16.911105389981778 L -97.89735834104357,16.911106908213124 L -97.89736149482601,16.91056463154882 L -97.89707984021359,16.910563113369 L -97.89708141746382,16.910291975051624 L -97.89679976328303,16.910290456510005 L -97.89680765111109,16.908934764942238 L -97.8965259989722,16.908933246141924 L -97.89653073252782,16.90811983119077 L -97.8962490816256,16.90811831208027 L -97.896252237989,16.90757603546114 L -97.8965338880862,16.907577554520078 L -97.89654019885405,16.90649300109089 L -97.89625855036684,16.90649148213507 L -97.89626170638128,16.905949205428144 L -97.89598005872807,16.90594768613642 L -97.8959832154311,16.905405409451795 L -97.89626486227938,16.905406928691935 L -97.89626644018482,16.90513579031286 L -97.89598479373898,16.905134271098504 L -97.89599110667965,16.904049717612182 L -97.89570946187257,16.90404819811356 L -97.8957126189732,16.90350592137808 L -97.89543097500004,16.903504401543646 L -97.89543413278906,16.902962124830516 L -97.89515248964979,16.902960604660294 L -97.89515880648808,16.901876051249445 L -97.89487716498736,16.901874530795087 L -97.89488032403656,16.901332254097397 L -97.89459868336967,16.90133073330731 L -97.89460184310707,16.900788456631997 L -97.89432020327394,16.90078693550622 L -97.89432494386855,16.899973520515854 L -97.89404330527147,16.899971999080243 L -97.89404488581371,16.899700860761325 L -97.89376324764808,16.899699338964233 L -97.89378063611461,16.896716817257555 L -97.89349900240286,16.896715295357446 L -97.8935021643678,16.896173018640106 L -97.89322053148962,16.896171496404463 L -97.89322211283056,16.895900358060672 L -97.8929404803837,16.895898835463665 L -97.89294522543811,16.895085420465985 L -97.89266359422696,16.89508389755935 L -97.89266675825507,16.894541620909386 L -97.89294838866192,16.894543143764288 L -97.89294997023009,16.894272005402478 L -97.89266834022538,16.894270482573436 L -97.89267308596129,16.893457067521695 L -97.89239145719215,16.893455544383084 L -97.89239620387187,16.892642129343137 L -97.89211457633822,16.892640605895007 L -97.89211774144967,16.892098329216896 L -97.89183611474938,16.892096805433397 L -97.89184402902765,16.89074111373955 L -97.89212565371761,16.890742637393643 L -97.89213672966719,16.88884466853399 L -97.89185510779136,16.88884314506107 L -97.89185827288972,16.888300868229987 L -97.89157665184703,16.888299344421792 L -97.89157981763262,16.887757067613236 L -97.89129819742307,16.887755543469805 L -97.89130453025167,16.88667098986854 L -97.89102291167913,16.886669465441695 L -97.8910244952152,16.886398327049 L -97.89074287707379,16.886396802261075 L -97.89074604486217,16.885854525505565 L -97.89046442755381,16.88585300038249 L -97.89046918022296,16.885039585272132 L -97.89018756414951,16.88503805983984 L -97.890189148716,16.88476692148103 L -97.88990753307368,16.88476539568772 L -97.88990911801282,16.884494257347512 L -97.8896275028016,16.88449273119319 L -97.88963542906806,16.88313703951219 L -97.88991704227001,16.88313856553685 L -97.88992021176823,16.88259628876142 L -97.89020182419576,16.882597814347328 L -97.89020499277342,16.8820555374908 L -97.89048660442654,16.882057062637983 L -97.890492939624,16.880972508733556 L -97.89021132957805,16.880970983690045 L -97.890214497805,16.880428706745814 L -97.89049610704741,16.88043023173749 L -97.89050877557239,16.878261123460884 L -97.89022716954383,16.878259598676564 L -97.8902303371863,16.877717321586168 L -97.88994873199034,16.877715796466905 L -97.88995031616943,16.877444657936664 L -97.8896687114044,16.877443132456563 L -97.88967029595592,16.87717199394495 L -97.88938869162182,16.87717046810402 L -97.88939661594917,16.875814775566035 L -97.88911501365257,16.875813249468067 L -97.88911818398205,16.875270972453613 L -97.88883658251797,16.87526944602082 L -97.88884609521399,16.873642614957777 L -97.8891276942685,16.873644141234877 L -97.88913561870282,16.87228844835168 L -97.88941721577879,16.872289974112388 L -97.88942196888381,16.87147655821697 L -97.88914037301242,16.871475032534086 L -97.8891419577238,16.871203893913613 L -97.88886036228318,16.871202367870055 L -97.8888619473668,16.870931229268223 L -97.88858035235695,16.87092970286401 L -97.88858193781282,16.87065856428083 L -97.88830034323372,16.870657037515976 L -97.88830192906181,16.87038589895145 L -97.88802033491346,16.870384371825963 L -97.88802826562227,16.869028679023593 L -97.88774667351053,16.86902715164139 L -97.8877514327888,16.868213735950242 L -97.88746984191067,16.86821220825942 L -97.88747618881071,16.867127654006204 L -97.88719459956752,16.867126126032794 L -97.88719936063917,16.866312710344147 L -97.88691777262945,16.86631118206221 L -97.88692253464151,16.865497766385808 L -97.88664094786516,16.865496237795373 L -97.8866472984097,16.864411683561915 L -97.886365713268,16.864410154689025 L -97.88636730123218,16.864139016138413 L -97.88608571652112,16.864137486905104 L -97.88608889316414,16.86359520983398 L -97.8849625578237,16.86358908924456 L -97.88496096791164,16.863860227679655 L -97.88355304739011,16.863852568118016 L -97.88355145544215,16.864123706415512 L -97.88214353364884,16.864116037062644 L -97.8821419396649,16.864387175222383 L -97.88073401660074,16.86437949607798 L -97.88073242058076,16.864650634099792 L -97.87932449624662,16.864642945163553 L -97.87932289819055,16.86491408304727 L -97.87791497258733,16.86490638431888 L -97.87791337249507,16.86517752206434 L -97.8765054456237,16.86516981354349 L -97.8765038434952,16.865440951150532 L -97.87509591535654,16.865433232836917 L -97.87509431119173,16.865704370305373 L -97.8736863817867,16.86569664219869 L -97.87368477558549,16.86596777952839 L -97.87227684491499,16.865960041628338 L -97.87227523667732,16.86623117881912 L -97.87086730474225,16.86622343112539 L -97.87086569446807,16.866494568177092 L -97.8694577612693,16.86648681068937 L -97.86945614895852,16.866757947601823 L -97.868048214497,16.866750180319805 L -97.86804660014955,16.86702131709285 L -97.86663866442615,16.86701354001623 L -97.86663704804197,16.86728467664969 L -97.86522911105759,16.867276889778168 L -97.86522749263659,16.867548026271887 L -97.86381955439214,16.867540229605147 L -97.86381793393427,16.867811365958968 L -97.86240999443062,16.867803559496707 L -97.86240837193583,16.86807469571045 L -97.8610004311739,16.868066879452364 L -97.8609988066421,16.86833801552586 L -97.85959086462279,16.868330189471646 L -97.85958923805389,16.868601325404743 L -97.8581812947781,16.86859348955409 L -97.85817966617208,16.86886462534662 L -97.8567717216407,16.868856779699225 L -97.85677009099743,16.869127915351022 L -97.85564373430834,16.86912163176855 L -97.85564210202924,16.86939276730618 L -97.85395256549097,16.869383330175665 L -97.85395093077307,16.869654465545498 L -97.85282457207849,16.86964816628704 L -97.8528229357246,16.869919301542435 L -97.85141498602876,16.869911418637813 L -97.85141334763739,16.87018255375185 L -97.84972380659164,16.870173081348696 L -97.84972216576125,16.870444216294345 L -97.84859580406383,16.87043789352006 L -97.84859416159728,16.870709028350877 L -97.84690461755191,16.870699532430805 L -97.84690297264619,16.870970667092838 L -97.84577660895049,16.870964328640113 L -97.84577496240846,16.871235463187052 L -97.84436700646522,16.87122753128813 L -97.84436535788537,16.871498665692886 L -97.84295740069534,16.871490723994192 L -97.84295575007759,16.87176185825659 L -97.84154779164169,16.871753906757814 L -97.84154613898595,16.872025040877695 L -97.84013817930507,16.872017079578534 L -97.8401365246113,16.872288213555734 L -97.83872856368635,16.872280242455876 L -97.83872690695445,16.87255137629023 L -97.8373189447863,16.87254339538937 L -97.83731728601623,16.872814529080713 L -97.83590932260581,16.87280653837855 L -97.83590766179748,16.87307767192671 L -97.83449969714567,16.873069671422936 L -97.83449803429903,16.873340804827752 L -97.83309006840673,16.873332794522064 L -97.83308840352171,16.87360392778337 L -97.83168043638982,16.873595907675462 L -97.83167876946634,16.873867040793098 L -97.83027080109576,16.873859010882665 L -97.83026913213375,16.87413014385645 L -97.8288611625254,16.874122104143186 L -97.82885949152478,16.87439323697297 L -97.82745152067955,16.874385187456568 L -97.82744984764027,16.874656320142186 L -97.82604187555904,16.874648260822333 L -97.82604020048102,16.87491939336362 L -97.8246322271647,16.874911324240013 L -97.82463055004789,16.8751824566368 L -97.82322257549738,16.87517437770914 L -97.82322089634168,16.875445509961263 L -97.82181292055789,16.875437421229243 L -97.82181123936324,16.875708553336537 L -97.82040326234706,16.87570045479985 L -97.82040157911342,16.87597158676214 L -97.81899360086574,16.875963478420488 L -97.818991915593,16.87623461023762 L -97.81758393611474,16.876226492090684 L -97.81758224880286,16.876497623762493 L -97.8161742680949,16.87648949580998 L -97.8161725787438,16.8767606273363 L -97.81476459680705,16.876752489577896 L -97.81476290541669,16.877023620958557 L -97.81335492225203,16.87701547339396 L -97.81335322882228,16.8772866046288 L -97.81194524443066,16.877278447257705 L -97.81194354896148,16.877549578346557 L -97.81053556334375,16.877541411168664 L -97.8105338658351,16.87781254211136 L -97.80912587899216,16.87780436512636 L -97.80912417944394,16.878075495922744 L -97.80771619137671,16.878067309130323 L -97.80771448978885,16.878338439780226 L -97.80630650049824,16.87833024318009 L -97.80630479687068,16.87860137368334 L -97.80489680635756,16.878593167275177 L -97.80489510069023,16.878864297631623 L -97.80348710895554,16.878856081415133 L -97.80348540124835,16.879127211624596 L -97.80207740829294,16.879118985599472 L -97.80207569854586,16.87939011566179 L -97.80066770437067,16.879381879827726 L -97.8006659925836,16.87965300974274 L -97.79925799718951,16.879644764099428 L -97.7992562833624,16.87991589386697 L -97.79784828675031,16.879907638414114 L -97.79784657088308,16.880178768034014 L -97.79643857305389,16.880170502771303 L -97.79643685514648,16.880441632243404 L -97.7950288561011,16.88043335717053 L -97.79502713615342,16.880704486494658 L -97.79361913589274,16.880696201611325 L -97.79361741390474,16.880967330787318 L -97.79220941242967,16.880959036093216 L -97.79220768840128,16.881230165120908 L -97.7907996857127,16.88122186061574 L -97.79079795964385,16.881492989494966 L -97.78938995574268,16.88148467517841 L -97.78938822763328,16.88175580390901 L -97.78798022252042,16.88174747978077 L -97.78797849237044,16.882018608362582 L -97.78685208724762,16.88201194198404 L -97.78685035545872,16.882283070445226 L -97.78516074632255,16.882273059102683 L -97.78515901209116,16.8825441873864 L -97.78375100334858,16.882535833821287 L -97.78374926707639,16.882806961955716 L -97.78234125712572,16.882798598577693 L -97.78233951881265,16.88306972656267 L -97.78121310982219,16.883063028783376 L -97.78121136986994,16.883334156647194 L -97.77980335734519,16.883325775576704 L -97.77980161535194,16.883596903290776 L -97.7783936016216,16.883588512406494 L -97.77839185758727,16.883859639970645 L -97.77698384265226,16.88385123927228 L -97.77698209657677,16.884122366686338 L -97.77557408043796,16.88411395617357 L -97.77557233232129,16.884385083437387 L -97.77388271160807,16.884374977883816 L -97.77388096104828,16.88464610496858 L -97.77275454627794,16.884639360080847 L -97.77275279407861,16.884910487043676 L -97.77134477433384,16.884902047085884 L -97.7713430200931,16.88517317389796 L -97.76993499914815,16.885164724124564 L -97.76993324286592,16.885435850785733 L -97.7682436163901,16.885425698117878 L -97.76824185766446,16.885696824599197 L -97.76711543905526,16.88569004830097 L -97.76711367868984,16.88596117465982 L -97.76570565414973,16.885952695437748 L -97.7657038917426,16.886223821645196 L -97.76429586600592,16.886215332606294 L -97.76429410155703,16.886486458662173 L -97.76288607462466,16.886477959806133 L -97.76288430813393,16.88674908571027 L -97.76147628000678,16.886740577036793 L -97.76147451147415,16.887011702789035 L -97.7600664821531,16.88700318429781 L -97.7600647115785,16.887274309897983 L -97.75865668106447,16.887265781588713 L -97.75865490844784,16.88753690703665 L -97.75724687674172,16.887528368909027 L -97.75724510208296,16.88779949420457 L -97.75583706918567,16.88779094625829 L -97.75583529248475,16.888062071401272 L -97.75442725839716,16.888053513636027 L -97.75442547965399,16.88832463862628 L -97.75301744437701,16.888316071041775 L -97.75301566359151,16.888587195879133 L -97.75160762712606,16.88857861847506 L -97.75160584429818,16.888849743159362 L -97.75019780664516,16.88884115593541 L -97.75019602177481,16.889112280466485 L -97.7487879829351,16.88910368342236 L -97.74878619602225,16.88937480780005 L -97.74737815599674,16.889366200935438 L -97.7473763670413,16.88963732515958 L -97.7459683258309,16.88962870847418 L -97.7459665348328,16.8898998325446 L -97.74455849243843,16.889891206038115 L -97.74455669939759,16.890162329954656 L -97.74314865582014,16.890153693626775 L -97.7431468607365,16.890424817389263 L -97.74173881597687,16.890416171239686 L -97.74173701885037,16.890687294847957 L -97.74032897290945,16.890678638876384 L -97.74032717374001,16.890949762330273 L -97.73891912661873,16.89094109653639 L -97.73891732540628,16.891212219835744 L -97.73750927710549,16.891203544219252 L -97.73750747384999,16.891474667363887 L -97.73609942437062,16.891465981924487 L -97.73609761907196,16.891737104914252 L -97.73468956841492,16.89172840965163 L -97.73468776107305,16.891999532486352 L -97.73327970923923,16.89199082740021 L -97.73327789985407,16.892261950079728 L -97.73186984684439,16.89225323516977 L -97.73186803541589,16.89252435769392 L -97.73045998123122,16.892515632959828 L -97.7304581677593,16.892786755328437 L -97.72905011240054,16.892778020769914 L -97.72904829688513,16.893049142982825 L -97.7279218515926,16.89304214825033 L -97.72792003443564,16.893313270337085 L -97.72623036509003,16.893302766448322 L -97.72622854548746,16.89357388834933 L -97.72482048661186,16.8935651243157 L -97.72481866496558,16.893836246060506 L -97.72341060491954,16.893827472201238 L -97.72340878122948,16.894098593789682 L -97.72200072001387,16.89408981010446 L -97.72199889427999,16.894360931536372 L -97.72059083189568,16.8943521380249 L -97.72058900411791,16.894623259300126 L -97.71918094056582,16.894614455962092 L -97.7191791107441,16.894885577080466 L -97.71805265890141,16.894878527322742 L -97.7180508274377,16.895149648314035 L -97.71636114827443,16.895139061884873 L -97.71635931436454,16.89541018268903 L -97.71495124731454,16.895401349869516 L -97.7149494113605,16.895672470516317 L -97.71354134314633,16.895663627869034 L -97.71353950514802,16.895934748358318 L -97.71213143577059,16.895925895882964 L -97.71212959572799,16.896197016214554 L -97.71072152518816,16.89618815391083 L -97.71071968310117,16.89645927408458 L -97.7093116113999,16.896450401952176 L -97.70930976726845,16.89672152196791 L -97.70790169440662,16.896712640006516 L -97.70789984823064,16.89698375986407 L -97.70649177420913,16.896974868073396 L -97.70648992598859,16.897245987772603 L -97.70536346577617,16.89723886725068 L -97.70536161591309,16.897509986821618 L -97.70395353940432,16.897501077307215 L -97.70395168749653,16.89777219671951 L -97.70254360983061,16.897763277374942 L -97.70254175587802,16.898034396628432 L -97.70085206139402,16.898023680456905 L -97.70085020499445,16.89829479952108 L -97.69972374108089,16.8982876475421 L -97.69972188303852,16.89855876647748 L -97.69831380190656,16.89854981764059 L -97.6983119418192,16.89882093641666 L -97.69690385953368,16.898811977748394 L -97.69690199740127,16.899083096364993 L -97.69549391396309,16.899074127865056 L -97.69549204978556,16.89934524632202 L -97.69408396519563,16.89933626799009 L -97.6940820989729,16.899607386287254 L -97.69267401323214,16.899598398123047 L -97.69267214496412,16.899869516260242 L -97.69126405807341,16.899860518263438 L -97.69126218776007,16.90013163624051 L -97.68985409972032,16.900122628410813 L -97.68985222736157,16.90039374622759 L -97.6884441381737,16.900384728564696 L -97.68844226376946,16.90065584622101 L -97.68703417343433,16.900646818724624 L -97.68703229698457,16.90091793622031 L -97.68562420550309,16.90090889889012 L -97.68562232700772,16.901180016225016 L -97.6842142343808,16.90117096906073 L -97.68421235383975,16.901442086234667 L -97.6828042600683,16.901433029235967 L -97.68280237748151,16.901704146248782 L -97.6813942825664,16.901695079415376 L -97.68139239793379,16.90196619626691 L -97.67998430187595,16.90195711959849 L -97.67998241519747,16.90222823628856 L -97.67857431799779,16.902219149784834 L -97.67857242927336,16.90249026631329 L -97.67716433093274,16.90248116997394 L -97.67716244016229,16.90275228634062 L -97.67575434068164,16.902743180165352 L -97.6757524478651,16.903014296370074 L -97.67434434724531,16.90300518035859 L -97.67434245238259,16.903276296401202 L -97.6729343506246,16.9032671705532 L -97.67293245371565,16.903538286433523 L -97.6715243508203,16.903529150748685 L -97.67152245186509,16.903800266466575 L -97.6701143478333,16.903791120944614 L -97.67011244683172,16.90406223649989 L -97.66870434166442,16.9040530811405 L -97.66870243861639,16.904324196533 L -97.66729433231446,16.90431503133587 L -97.66729242721993,16.904586146565432 L -97.66588431978428,16.904576971530272 L -97.66588241264319,16.904848086596726 L -97.6644743040747,16.904838901723217 L -97.66447239488697,16.905110016626406 L -97.66306428518656,16.905100821914264 L -97.66306237395214,16.905371936654014 L -97.66165426312071,16.90536273210293 L -97.6616523498395,16.90563384667908 L -97.66024423787795,16.90562463228875 L -97.66024232254989,16.90589574670113 L -97.65883420945912,16.90588652247126 L -97.65883229208416,16.90615763671971 L -97.65742417786508,16.90614840264998 L -97.65742225844312,16.90641951673433 L -97.65601414309663,16.906410272824456 L -97.65601222162763,16.906681386744545 L -97.6546041051546,16.90667213299422 L -97.6546021816385,16.90694324674988 L -97.65319406403987,16.906933983158797 L -97.65319213847657,16.907205096749863 L -97.65178401975321,16.90719582331772 L -97.65178209214265,16.907466936744036 L -97.6503739722955,16.90745765347053 L -97.65037204263763,16.907728766731918 L -97.64896392166754,16.90771947361675 L -97.6489619899623,16.90799058671305 L -97.64755386787022,16.907981283755927 L -97.64755193411749,16.908252396686965 L -97.64614381090428,16.908243083887573 L -97.64614187510404,16.9085141966532 L -97.64473375077064,16.90850487401124 L -97.6447318129228,16.908775986611275 L -97.64332368747009,16.90876665412645 L -97.64332174757459,16.90903776656074 L -97.64191362100347,16.90902842423274 L -97.64191167906024,16.909299536501113 L -97.64078517683774,16.90929205553873 L -97.64078323324911,16.909563167672772 L -97.63909347857536,16.90955193441669 L -97.63909153253645,16.909823046352734 L -97.63768340261555,16.909813674493414 L -97.6376814545287,16.91008478626304 L -97.63627332349299,16.91007540455934 L -97.63627137335813,16.910346516162402 L -97.63486324120852,16.910337124614017 L -97.6348612890256,16.910608236050336 L -97.63345315576298,16.91059883465698 L -97.63345120153191,16.910869945926386 L -97.63204306715721,16.910860534687743 L -97.63204111087794,16.91113164579007 L -97.63063297539205,16.911122224705853 L -97.63063101706449,16.91139333564094 L -97.62950450771534,16.911385791671737 L -97.6295025477419,16.91165690247144 L -97.62781278238683,16.911645574702224 L -97.6278108199625,16.911916685302344 L -97.62640268114845,16.911907234679553 L -97.62640071667565,16.912178345111947 L -97.6252742046659,16.912170777511193 L -97.62527223854701,16.9124418878078 L -97.62386409733747,16.912432419428438 L -97.62386212916998,16.912703529557014 L -97.62245398685445,16.912694051330288 L -97.62245201663828,16.91296516129066 L -97.6210438732177,16.91295567321627 L -97.62104190095276,16.91322678300828 L -97.61963375642802,16.91321728508592 L -97.61963178211425,16.913488394709407 L -97.61822363648626,16.913478886938773 L -97.61822166012361,16.91374999639357 L -97.61681351339324,16.913740478774365 L -97.61681153498165,16.914011588060298 L -97.61540338714981,16.914002060592228 L -97.61540140668919,16.914273169709134 L -97.61399325775679,16.914263632391883 L -97.61399127524709,16.914534741339608 L -97.61258312521504,16.914525194172874 L -97.61258114065616,16.91479630295125 L -97.61117298952536,16.91478674593474 L -97.61117100291725,16.915057854543587 L -97.6097628506886,16.915048287677003 L -97.60976086203118,16.915319396116175 L -97.60835270870558,16.91530981939921 L -97.6083507179988,16.91558092766852 L -97.60694256357715,16.915571341100875 L -97.60694057082095,16.915842449200184 L -97.60553241530414,16.915832852781552 L -97.60553042049843,16.91610396071067 L -97.60412226388738,16.916094354440762 L -97.6041202670321,16.916365462199536 L -97.60271210932771,16.916355846078044 L -97.60271011042279,16.916626953666302 L -97.60130195162594,16.91661732769293 L -97.60129995067132,16.91688843511052 L -97.59989179078293,16.91687879928495 L -97.59988978777854,16.917149906531698 L -97.59848162679953,16.917140260853646 L -97.59847962174528,16.91741136792938 L -97.59707145967653,16.91740171239854 L -97.59706945257237,16.917672819303107 L -97.59566128941478,16.91766315391918 L -97.59565928026065,16.917934260652398 L -97.59425111601512,16.917924585415086 L -97.59424910481094,16.918195691976806 L -97.59284093947838,16.9181860068858 L -97.59283892622409,16.918457113275856 L -97.59143075980539,16.91844741833086 L -97.59142874450092,16.918718524549078 L -97.590020576997,16.918708819749785 L -97.59001855964226,16.918979925796005 L -97.58861039105403,16.918970211142128 L -97.58860837164897,16.91924131701618 L -97.58720020197731,16.919231592507405 L -97.58719818052187,16.919502698209126 L -97.58579000976769,16.91949296384516 L -97.58578798626178,16.919764069374388 L -97.58437981442599,16.919754325154926 L -97.58437778886956,16.92002543051149 L -97.58296961595305,16.920015676436233 L -97.58296758834601,16.92028678161998 L -97.5815594143497,16.920277017688623 L -97.581557384692,16.92054812269937 L -97.58014920961676,16.920538348911617 L -97.58014717790836,16.920809453749207 L -97.5787390017551,16.920799670104756 L -97.57873696799588,16.92107077476903 L -97.57732879076553,16.921060981267583 L -97.57732675495544,16.921332085758365 L -97.57591857664887,16.92132228239962 L -97.57591653878787,16.921593386716754 L -97.57450835940598,16.921583573500403 L -97.57450631949398,16.921854677643726 L -97.5730981390377,16.921844854569475 L -97.57309609707461,16.922115958538807 L -97.57168791554484,16.922106125606362 L -97.57168587153062,16.922377229401544 L -97.57027768892824,16.9223673866106 L -97.57027564286281,16.922638490231463 L -97.56886745918875,16.922628637581717 L -97.56886541107204,16.922899741028107 L -97.56745722632718,16.92288987851926 L -97.56745517615914,16.923160981791 L -97.56604699034439,16.92315110942275 L -97.56604493812493,16.923422212519682 L -97.56463675124118,16.92341233029174 L -97.56463469697026,16.9236834332137 L -97.56322650901843,16.92367354112574 L -97.56322445269595,16.923944643872563 L -97.56181626367693,16.923934741924306 L -97.56181420530282,16.924205844495816 L -97.56040601521754,16.92419593268696 L -97.56040395479175,16.924467035083 L -97.5589957636411,16.924457113413247 L -97.55899370116356,16.924728215633646 L -97.5575855089484,16.92471828410268 L -97.55758344441905,16.92498938614729 L -97.55617525114035,16.924979444754822 L -97.5561731845591,16.925250546623456 L -97.5547649902177,16.92524059536919 L -97.5547629215845,16.925511697061687 L -97.55363636518577,16.925503728944065 L -97.55363429490333,16.925774830494046 L -97.55222609824862,16.92576486145398 L -97.55222402591409,16.926035962827537 L -97.55081582819923,16.926025983924795 L -97.55081375381255,16.926297085121757 L -97.54940555503843,16.926287096356035 L -97.54940347859953,16.926558197376238 L -97.54799527876708,16.92654819874724 L -97.54799320027588,16.926819299590516 L -97.54658499938598,16.926809291097946 L -97.54658291884243,16.92708039176412 L -97.545174716896,16.92707037340768 L -97.54517263430003,16.927341473896604 L -97.54376443129794,16.92733144567598 L -97.54376234664947,16.92760254598748 L -97.54235414259266,16.927592507902382 L -97.54235205589164,16.927863608036294 L -97.54094385078098,16.92785356008642 L -97.54094176202732,16.928124660042585 L -97.53953355586374,16.928114602227634 L -97.53953146505738,16.928385702005873 L -97.53812325784176,16.928375634325555 L -97.53812116498266,16.928646733925707 L -97.53671295671592,16.92863665637971 L -97.53671086180395,16.928907755801617 L -97.535302652487,16.92889766838965 L -97.53530055552214,16.929168767633133 L -97.53389234515585,16.92915867035489 L -97.53389024613803,16.9294297694198 L -97.53248203472333,16.929419662274988 L -97.53247993365247,16.929690761161154 L -97.53107172119026,16.929680644149464 L -97.53106961806628,16.929951742856712 L -97.52966140455746,16.92994161597785 L -97.52965929938033,16.93021271450603 L -97.52825108482578,16.930202577759694 L -97.5282489775954,16.93047367610863 L -97.52684076199604,16.930463529494524 L -97.52683865271236,16.93073462766405 L -97.5254304360691,16.930724471181875 L -97.52542832473205,16.930995569171824 L -97.52402010704579,16.930985402821275 L -97.52401799365528,16.9312565006315 L -97.52260977492692,16.931246324412278 L -97.52260765948289,16.93151742204259 L -97.52119943971334,16.931507235954403 L -97.52119732221574,16.93177833340465 L -97.51978910140589,16.93176813744719 L -97.51978698185464,16.932039234717205 L -97.5183787600054,16.932029028890177 L -97.51837663840043,16.93230012597979 L -97.51696841551271,16.9322899102829 L -97.51696629185395,16.932561007191946 L -97.51555806792864,16.932550781624883 L -97.51555594221604,16.932821878353206 L -97.51414771725403,16.932811642915674 L -97.51414558948751,16.9330827394631 L -97.51273736348975,16.933072494154807 L -97.51273523366922,16.93334359052117 L -97.51132700663658,16.933333335341814 L -97.51132487476201,16.93360443152694 L -97.50991664669537,16.933594166476222 L -97.50991451276668,16.933865262479966 L -97.50850628366699,16.933854987557577 L -97.5085041476841,16.93412608337977 L -97.50709591755225,16.934115798585427 L -97.5070937795151,16.93438689422589 L -97.50568554835196,16.934376599559283 L -97.5056834082605,16.93464769501786 L -97.50427517606701,16.93463739047869 L -97.50427303392114,16.934908485755216 L -97.50286480069818,16.93489817134319 L -97.50286265649785,16.935169266437494 L -97.50145442224634,16.935158942152313 L -97.50145227599148,16.935430037064233 L -97.50004404071234,16.935419702905588 L -97.50004189240288,16.935690797634958 L -97.49863365609696,16.935680453602558 L -97.49863150573282,16.93595154814922 L -97.49722326840107,16.93594119424277 L -97.4972211159822,16.93621228860654 L -97.49581287762551,16.936201924825735 L -97.49581072315185,16.93647301900646 L -97.49524742728055,16.93646887070816 L -97.49524527196114,16.936739964811164 L -97.49496362368195,16.936737890044917 L -97.49496146791984,16.937008984105308 L -97.49411652211113,16.937002757373268 L -97.49411867908239,16.936731663418374 L -97.49299208683868,16.93672335581811 L -97.4929899282552,16.936994449632255 L -97.49158168682911,16.936984056226596 L -97.4915795261906,16.93725514985719 L -97.49017128374317,16.937244746575985 L -97.49016912104962,16.93751584002288 L -97.48904252619568,16.937507510273196 L -97.48904036185006,16.93777860357152 L -97.48735046834564,16.937766097095636 L -97.48734830154174,16.93803719017462 L -97.48622170505715,16.93802884462288 L -97.48621953660104,16.938299937553033 L -97.48481128987768,16.938289496706627 L -97.48480911936625,16.938560589452432 L -97.4831192221977,16.93854804742033 L -97.48311704922777,16.9388191399462 L -97.48199045030259,16.9388107706896 L -97.48198827568027,16.93908186306624 L -97.48058002590862,16.939071392587895 L -97.48057784923076,16.939342484779704 L -97.47916959844481,16.939332004423452 L -97.47916741971135,16.939603096430258 L -97.477759167912,16.939592606195795 L -97.47775698712286,16.939863698017437 L -97.47634873431103,16.93985319790447 L -97.47634655146615,16.940124289540787 L -97.47493829764274,16.940113779549012 L -97.47493611274203,16.940384870999832 L -97.47352785790794,16.940374351128945 L -97.47352567095136,16.940645442394114 L -97.47211741510749,16.940634912643826 L -97.47211522609497,16.940906003723164 L -97.47070696924222,16.940895464093174 L -97.47070477817367,16.941166554986527 L -97.46929652031297,16.941156005476532 L -97.46929432718834,16.941427096183734 L -97.46788606832055,16.941416536793437 L -97.46788387313978,16.941687627314312 L -97.46647561326583,16.94167705804342 L -97.46647341602883,16.94194814837781 L -97.46506515514963,16.941937569226027 L -97.46506295585634,16.942208659373765 L -97.46365469397279,16.942198070340794 L -97.46365249262314,16.942469160301712 L -97.46224422973613,16.94245856138724 L -97.46224202633007,16.94272965116118 L -97.4608337624405,16.942719042364917 L -97.46083155697795,16.94299013195171 L -97.45942329208674,16.942979513273364 L -97.45942108456765,16.94325060267284 L -97.45801281867568,16.9432399741121 L -97.45801060909996,16.943511063324102 L -97.45660234220816,16.943500424880682 L -97.45660013057574,16.94377151390504 L -97.455191862685,16.943760865578636 L -97.45518964899583,16.94403195441518 L -97.45378138010706,16.944021296205495 L -97.45377916436104,16.944292384854073 L -97.45237089447514,16.944281716760806 L -97.45236867667225,16.94455280522124 L -97.45096040579011,16.94454212724409 L -97.45095818593026,16.944813215516223 L -97.44954991405281,16.944802527654904 L -97.44954769213591,16.945073615738565 L -97.44813941926404,16.94506291799277 L -97.44813719529006,16.945334005887798 L -97.44672892142466,16.94532329825724 L -97.44672669539351,16.945594385963453 L -97.44531842053551,16.945583668447824 L -97.44531619244712,16.945854755965076 L -97.44390791659742,16.945844028564082 L -97.44390568645173,16.946115115892198 L -97.44249740961122,16.946104378605543 L -97.44249517740818,16.946375465744364 L -97.44108689957775,16.946364718571736 L -97.44108466531726,16.946635805521094 L -97.43967638649785,16.946625048462217 L -97.43967415017985,16.946896135221944 L -97.43826587037236,16.946885368276508 L -97.43826363199679,16.947156454846443 L -97.4368553512021,16.94714567801415 L -97.4368531107689,16.947416764394124 L -97.43544482898791,16.947405977674673 L -97.43544258649699,16.94767706386453 L -97.43403430373063,16.947666267257627 L -97.43403205918196,16.947937353257192 L -97.4326237754311,16.94792654676254 L -97.43262152882458,16.948197632571645 L -97.43121324409015,16.948186816188954 L -97.43121099542573,16.948457901807444 L -97.42980270970862,16.948447075536407 L -97.42980045898622,16.948718160964102 L -97.42839217228736,16.948707324804424 L -97.42838991950691,16.948978410041168 L -97.42698163182719,16.948967563992554 L -97.42697937698863,16.94923864903818 L -97.42557108832894,16.949227793100327 L -97.4255688314322,16.94949887795467 L -97.42416054179346,16.949488012127286 L -97.42415828283848,16.94975909679018 L -97.42274999222158,16.94974822107297 L -97.42274773120826,16.950019305544252 L -97.42162109784975,16.950010597834858 L -97.42161883518143,16.95028168215123 L -97.41992888397195,16.950268608718645 L -97.41992661884183,16.9505396928062 L -97.41851832529589,16.95052878741771 L -97.41851605810726,16.950799871313155 L -97.41710776358677,16.950788956033648 L -97.41710549433955,16.951060039736817 L -97.41597885786075,16.95105130037668 L -97.41597658695827,16.95132238392441 L -97.41456829028252,16.951311450803296 L -97.4145660173213,16.951582534158455 L -97.41315771967355,16.951571591145456 L -97.41315544465355,16.951842674307883 L -97.4114654864365,16.951829529656834 L -97.41146320895427,16.952100612589245 L -97.41033656936678,16.952091841574557 L -97.41033429022904,16.952362924351004 L -97.40892598967066,16.952351951660567 L -97.40892370847394,16.95262303424378 L -97.40751540694716,16.95261205166027 L -97.40751312369137,16.95288313405008 L -97.40610482119712,16.952872141573195 L -97.40610253588223,16.95314322376945 L -97.40469423242136,16.9531322213989 L -97.40469194504728,16.95340330340141 L -97.40328364062074,16.953392291136893 L -97.40328135118742,16.953663372945506 L -97.40187304579608,16.95365235078673 L -97.40187075430345,16.95392343240129 L -97.40046244794823,16.95391240034795 L -97.40046015439621,16.954183481768275 L -97.39905184707803,16.954172439820084 L -97.39904955146653,16.954443521046013 L -97.3976412431863,16.95443246920267 L -97.39763894551528,16.954703550234044 L -97.39623063627388,16.95469248849525 L -97.39622833654327,16.954963569331902 L -97.3948200263416,16.954952497697363 L -97.39481772455136,16.95522357833912 L -97.39340941339033,16.95521249680854 L -97.39340710954035,16.955483577255244 L -97.39199879742087,16.95547248582832 L -97.39199649151111,16.9557435660798 L -97.39058817843407,16.955732464756245 L -97.39058587046445,16.956003544812344 L -97.38917755643078,16.95599243359185 L -97.38917524640122,16.956263513452388 L -97.38776693141182,16.95625239233467 L -97.38776461932227,16.9565234719995 L -97.38635630337802,16.95651234098425 L -97.38635398922843,16.956783420453192 L -97.38494567233025,16.956772279540115 L -97.38494335612052,16.95704335881302 L -97.3835350382693,16.957032208001817 L -97.38353271999938,16.95730328707851 L -97.38212440119605,16.957292126368895 L -97.38212208086586,16.9575632052492 L -97.38071376111132,16.957552034640873 L -97.3807114387208,16.95782311332464 L -97.37930311801594,16.957811932817307 L -97.37930079356502,16.95808301130436 L -97.37789247191076,16.958071820897718 L -97.37789014539936,16.958342899187898 L -97.37648182279659,16.958331698881654 L -97.37647949422468,16.95860277697479 L -97.3750711706743,16.958591566768646 L -97.37506884004179,16.958862644664574 L -97.37366051554471,16.958851424558237 L -97.37365818285154,16.959122502256797 L -97.37224985740866,16.959111272249963 L -97.37224752265476,16.959382349750985 L -97.370839196267,16.95937110984336 L -97.3708368594523,16.959642187146688 L -97.36942853212055,16.95963093733798 L -97.36942619324498,16.959902014443436 L -97.36801786497014,16.95989075473335 L -97.36801552403364,16.960161831640765 L -97.36660719481664,16.960150562029 L -97.36660485181912,16.960421638738225 L -97.36519652166085,16.960410359224486 L -97.36519417660227,16.960681435735346 L -97.36378584550364,16.960670146319334 L -97.36378349838392,16.96094122263166 L -97.36237516634581,16.96092992331309 L -97.3623728171649,16.961200999426723 L -97.36096448418824,16.96118969020529 L -97.36096213294604,16.96146076612006 L -97.35955379903173,16.961449446995466 L -97.35955144572819,16.961720522711207 L -97.35814311087714,16.961709193683163 L -97.3581407555122,16.961980269199707 L -97.3567324197253,16.961968930267915 L -97.35673006229888,16.96224000558511 L -97.35532172557704,16.962228656749268 L -97.35531936608909,16.962499731866934 L -97.35391102843322,16.962488373126753 L -97.35390866688365,16.962759448044743 L -97.35250032829464,16.962748079399912 L -97.35249796468341,16.963019154118044 L -97.3513712929795,16.96301005205524 L -97.35136892771017,16.963281126611868 L -97.34967891903665,16.963267461631407 L -97.34967655130185,16.963538535949336 L -97.34826820991888,16.963527137588816 L -97.34826584012222,16.963798211706397 L -97.34713916618507,16.96378908587036 L -97.34713679473015,16.964060159826037 L -97.34572845127101,16.964048743596205 L -97.3457260777541,16.96431981735123 L -97.34431773336708,16.96430839121501 L -97.34431535778808,16.964579464769223 L -97.34262534354234,16.964565740352132 L -97.3426229654975,16.964836813666654 L -97.34149628859286,16.964827656129668 L -97.34149390888952,16.965098729281763 L -97.34008556172425,16.965087273424604 L -97.34008317995863,16.965358346375375 L -97.3386748318691,16.96534688061065 L -97.33867244804114,16.965617953359953 L -97.33726409902825,16.965606477687352 L -97.33726171313789,16.965877550235028 L -97.33585336320253,16.965866064654268 L -97.33585097524968,16.966137137000132 L -97.33444262439278,16.966125641510914 L -97.3344402343774,16.966396713654802 L -97.33303188259981,16.96638520825683 L -97.33302949052182,16.966656280198578 L -97.33162113782451,16.966644764891562 L -97.33161874368385,16.96691583663101 L -97.33021039006769,16.966904311414645 L -97.33020799386429,16.967175382951623 L -97.32879963933019,16.96716384782562 L -97.32879724106397,16.96743491915997 L -97.32738888561283,16.96742337412404 L -97.32738648528374,16.96769444525558 L -97.32597812891649,16.967682890309415 L -97.32597572652443,16.967953961237995 L -97.32456736924196,16.9679423963813 L -97.3245649647869,16.96821346710675 L -97.3231566065901,16.96820189233924 L -97.32315420007198,16.968472962861398 L -97.32174584096177,16.968461378182766 L -97.32174343238049,16.968732448501463 L -97.32033507235778,16.968720853911417 L -97.32033266171328,16.96899192402649 L -97.31892430077896,16.968980319524743 L -97.31892188807119,16.969251389436014 L -97.31751352622616,16.969239775022263 L -97.31751111145505,16.96951084472958 L -97.31610274870023,16.969499220403527 L -97.3161003318657,16.969770289906723 L -97.31469196820198,16.96975865566808 L -97.31468954930399,16.970029724966988 L -97.31328118473229,16.970018080815457 L -97.31327876377074,16.970289149909913 L -97.31187039829196,16.970277495845195 L -97.3118679752668,16.970548564735033 L -97.31045960888186,16.970536900756834 L -97.310457183793,16.97080796944189 L -97.30904881650278,16.970796295549917 L -97.30904638935019,16.97106736403002 L -97.3076380211556,16.971055680223984 L -97.30763559193917,16.971326748498964 L -97.30622722284114,16.97131505477856 L -97.30622479156085,16.971586122848265 L -97.30481642156025,16.971574419213205 L -97.304813988216,16.971845487077463 L -97.30340561731376,16.971833773527447 L -97.3034031819055,16.97210484118609 L -97.3019948101025,16.972093117720835 L -97.30199237263015,16.972364185173692 L -97.30058399992733,16.972352451792887 L -97.30058156039084,16.972623519039814 L -97.29917318678906,16.972611775743168 L -97.29917074518836,16.972882842783978 L -97.29776237068857,16.972871089571203 L -97.29775992702356,16.97314215640574 L -97.29635155162666,16.97313039327653 L -97.2963491058973,16.973401459904633 L -97.29494072960416,16.9733896868587 L -97.29493828181039,16.973660753280203 L -97.29352990462195,16.973648970317253 L -97.29352745476369,16.973920036531972 L -97.29211907668085,16.973908243651714 L -97.29211662475804,16.974179309659505 L -97.29070824578169,16.974167506861637 L -97.29070579179425,16.97443857266232 L -97.28929741192529,16.97442675994655 L -97.28929495587317,16.974697825539966 L -97.28788657511254,16.974686002905997 L -97.28788411699567,16.97495706829198 L -97.28647573534423,16.974945235739526 L -97.28647327516255,16.975216300917918 L -97.28506489262122,16.975204458446672 L -97.28506243037465,16.9754755234173 L -97.28365404694436,16.97546367102697 L -97.28365158263284,16.975734735789665 L -97.28224319831448,16.975722873479967 L -97.28224073193793,16.975993938034563 L -97.2808323467324,16.975982065805194 L -97.28082987829075,16.976253130151534 L -97.27942149219896,16.9762412480022 L -97.27941902169216,16.976512312140116 L -97.27829231201966,16.976502799261986 L -97.27828983985161,16.976773863231536 L -97.27659977428142,16.976759582009702 L -97.27659729964411,16.977030645730267 L -97.27547058855706,16.977021116979042 L -97.27546811225838,16.97729218053097 L -97.27405972240307,16.977280260642786 L -97.27405724403897,16.977551323985654 L -97.27264885330175,16.977539394176066 L -97.27264637287217,16.97781045730972 L -97.27123798125393,16.977798517578425 L -97.2712354987588,16.97806958050269 L -97.26982710626045,16.978057630849396 L -97.2698246216997,16.978328693564116 L -97.26841622832215,16.978316733988528 L -97.26841374169572,16.978587796493525 L -97.26700534743986,16.97857582699535 L -97.26700285874769,16.978846889290466 L -97.26559446361443,16.978834909869413 L -97.26559197285644,16.97910597195448 L -97.2641835768467,16.979093982610244 L -97.26418108402282,16.9793650444851 L -97.2627726871375,16.979353045217398 L -97.26277019224767,16.979624106881875 L -97.26136179448768,16.979612097690406 L -97.26135929753183,16.97988315914434 L -97.25995089889805,16.979871140028816 L -97.25994839987612,16.980142201272034 L -97.25854000036949,16.980130172232155 L -97.2585374992814,16.9804012332645 L -97.25712909890281,16.980389194299978 L -97.2571265957485,16.980660255121283 L -97.25571819449885,16.980648206231823 L -97.25571568927826,16.980919266841916 L -97.25430728715847,16.980907208027222 L -97.25430477987153,16.981178268425946 L -97.25289637688248,16.98116619968572 L -97.25289386752912,16.981437259872912 L -97.25148546367173,16.981425181206863 L -97.25148295225189,16.981696241182345 L -97.25007454752708,16.981684152590187 L -97.25007203404067,16.9819552123538 L -97.24866362844934,16.981943113835225 L -97.24866111289633,16.982214173386808 L -97.24725270643935,16.982202064941532 L -97.24725018881966,16.98247312428091 L -97.24584178149799,16.982461005908643 L -97.24583926181153,16.98273206503565 L -97.24443085362604,16.98271993673609 L -97.24442833187277,16.982990995650578 L -97.24301992282436,16.982978857423426 L -97.24301739900422,16.983249916125217 L -97.24160898909382,16.98323776797019 L -97.24160646320671,16.983508826459115 L -97.24019805243522,16.983496668375917 L -97.2401955244811,16.983767726651813 L -97.23878711284942,16.983755558640148 L -97.2387845828282,16.984026616702856 L -97.23737617033726,16.984014438762426 L -97.23737363824888,16.984285496611772 L -97.23596522489954,16.9842733087423 L -97.23596269074396,16.98454436637812 L -97.23455427653717,16.984532168579296 L -97.23455174031429,16.98480322600143 L -97.23314332525092,16.98479101827296 L -97.23314078696069,16.98506207548124 L -97.23173237104167,16.98504985782284 L -97.23172983068403,16.985320914817095 L -97.23032141391026,16.985308687228475 L -97.23031887148512,16.98557974400854 L -97.22891045385751,16.985567506489392 L -97.22890790936482,16.985838563055115 L -97.22749949088426,16.985826315605152 L -97.22749694432395,16.986097371956355 L -97.22608852499135,16.986085114575285 L -97.22608597636335,16.986356170711804 L -97.22467755617963,16.986343903399337 L -97.22467500548389,16.98661495932101 L -97.22326658444993,16.986602682076846 L -97.22326403168638,16.9868737377835 L -97.22185560980311,16.986861450607346 L -97.22185305497166,16.987132506098828 L -97.22044463223997,16.987120208990397 L -97.22044207534059,16.98739126426653 L -97.21903365176139,16.987378957225527 L -97.21903109279397,16.987650012286146 L -97.2176226683682,16.987637695312273 L -97.21762010733269,16.987908750157214 L -97.21621168206121,16.98789642325018 L -97.21620911895755,16.988167477879287 L -97.2148006928413,16.9881551410388 L -97.21479812766941,16.988426195451893 L -97.21338970070926,16.988413848677656 L -97.2133871334691,16.98868490287458 L -97.21197870566597,16.988672546166306 L -97.21197613635745,16.988943600146893 L -97.21056770771227,16.98893123350429 L -97.21056513633533,16.98920228726837 L -97.20915670684899,16.989189910691138 L -97.20915413340356,16.98946096423855 L -97.20859076113113,16.989456010800787 L -97.20858818682994,16.98972706425694 L -97.20830650036035,16.989724586912658 L -97.20830392560764,16.98999564031938 L -97.20802223878104,16.989993162544195 L -97.20801966357678,16.990264215901483 L -97.20773797639318,16.99026173769539 L -97.20773540073736,16.99053279100323 L -97.20745371319676,16.990530312366218 L -97.20745113708938,16.990801365624602 L -97.20716944919177,16.990798886556657 L -97.2071668726328,16.99106993976559 L -97.2068851843782,16.99106746026669 L -97.2068826073676,16.991338513426157 L -97.206600918756,16.9913360334963 L -97.20660349617087,16.991064980378727 L -97.20632180801087,16.99106250010169 L -97.20632438578272,16.99079144701844 L -97.20604269807434,16.990788966394234 L -97.20604527620318,16.990517913345304 L -97.2057635889464,16.99051543237395 L -97.20576616743219,16.990244379359357 L -97.20548448062704,16.99024189804086 L -97.20548705946976,16.989970845060597 L -97.20520537311621,16.989968363394983 L -97.2052027938692,16.990239416333324 L -97.20379436079041,16.990227001959894 L -97.20379177947467,16.99049805468093 L -97.20238334555907,16.99048563037144 L -97.2023807621745,16.99075668287502 L -97.20097232742297,16.990744248629166 L -97.20096974196954,16.991015300915123 L -97.19956130638302,16.99100285673262 L -97.19955871886062,16.991273908800775 L -97.19815028244,16.991261454681325 L -97.19814769284858,16.99153250653152 L -97.19673925559476,16.991520042474836 L -97.19673666393427,16.9917910941069 L -97.19532822584817,16.991778620112697 L -97.19532563211854,16.992049671526466 L -97.19391719320106,16.99203718759443 L -97.1939145974022,16.99230823878975 L -97.19250615765424,16.992295744919605 L -97.19250355978612,16.9925667958963 L -97.19109511920858,16.992554292087743 L -97.19109251927111,16.992825342845652 L -97.18968407786491,16.99281282909839 L -97.18968147585804,16.993083879637343 L -97.18827303362407,16.99307135595109 L -97.18827042954771,16.993342406270926 L -97.1868619864869,16.993329872645393 L -97.186859380341,16.993600922745937 L -97.18545093645423,16.993588379180824 L -97.18544832823872,16.993859429061917 L -97.18403988352694,16.99384687555694 L -97.18403727324174,16.994117925218422 L -97.18262882770581,16.994105361773276 L -97.18262621535088,16.994376411214976 L -97.18121776899173,16.994363837829372 L -97.18121515456698,16.99463488705112 L -97.17980670738551,16.99462230372477 L -97.17980409089088,16.99489335272641 L -97.178395642888,16.994880759459022 L -97.17839302432343,16.995151808240383 L -97.17698457550003,16.995139205031663 L -97.17698195486545,16.99541025359257 L -97.17557350522246,16.995397640442228 L -97.1755708825178,16.99566868878253 L -97.17416243205612,16.995656065690266 L -97.17415980728133,16.995927113809795 L -97.17275135600185,16.99591448077532 L -97.17274872915684,16.996185528673916 L -97.17134027706048,16.99617288569694 L -97.17133764814521,16.99644393337442 L -97.16992919523287,16.996431280454654 L -97.16992656424725,16.99670232791086 L -97.16851811051984,16.996689665048006 L -97.1685154774638,16.996960712282775 L -97.16710702292224,16.996948039476536 L -97.16710438779573,16.997219086489714 L -97.16569593244091,16.99720640373981 L -97.16569329524387,16.997477450531214 L -97.16484822139832,16.99746983608246 L -97.16484558293955,16.99774088273768 L -97.16456389135008,16.997738343766844 L -97.16456125243846,16.998009390371593 L -97.1639978685959,16.998004311176558 L -97.16400050831643,16.997733264657576 L -97.16287374283043,16.99772310176869 L -97.1628711014921,16.997994148116053 L -97.16146264370295,16.997981435533383 L -97.16146000029389,16.998252481658483 L -97.1600515416951,16.99823975913097 L -97.16004889621522,16.99851080503364 L -97.15864043680772,16.998498072561002 L -97.15863778925696,16.99876911824108 L -97.15722932904164,16.998756375823014 L -97.15722667941996,16.999027421280328 L -97.15581821839773,16.999014668916548 L -97.15581556670504,16.999285714150933 L -97.1544071048768,16.999272951841146 L -97.15440445111304,16.999543996852438 L -97.1529959884797,16.999531224596357 L -97.1529933326448,16.999802269384386 L -97.15158486920728,16.99978948718171 L -97.15158221130116,17.000060531746318 L -97.15017374706038,17.000047739596763 L -97.15017108708298,17.00031878393778 L -97.14876262203981,17.00030598184105 L -97.14875995999108,17.000577025958314 L -97.14735149414645,17.000564213914114 L -97.14734883002632,17.000835257807452 L -97.14622205661233,17.000825000992396 L -97.14621939082527,17.001096044704965 L -97.14452922974463,17.001080647544743 L -97.14452656148151,17.001351690989747 L -97.14311809323789,17.001338849101398 L -97.14311542290314,17.001609892321984 L -97.14170695386169,17.001597040485 L -97.14170428145528,17.00186808348101 L -97.14029581161688,17.001855221695106 L -97.14029313713874,17.00212626446636 L -97.13916636053303,17.002115967856824 L -97.13916368438763,17.002387010446633 L -97.13775521271249,17.002374130708443 L -97.13775253449522,17.00264517307321 L -97.13634406202567,17.002632283385246 L -97.13634138173649,17.002903325524795 L -97.13493290847343,17.00289042588677 L -97.13493022611225,17.00316146780094 L -97.13352175205662,17.00314855821255 L -97.13351906762337,17.00341959990118 L -97.13211059277606,17.003406680362144 L -97.13210790627069,17.003677721825063 L -97.13069943063259,17.00366479233509 L -97.13069674205502,17.003935833572136 L -97.12928826562707,17.00392289413093 L -97.12928557497725,17.00419393514193 L -97.1278770977603,17.004180985749198 L -97.12787440503816,17.004452026534 L -97.12646592703318,17.004439067189452 L -97.12646323223863,17.00471010774788 L -97.1250547534465,17.00469713845123 L -97.1250520565795,17.004968178783123 L -97.12364357700113,17.004955199534074 L -97.12364087806161,17.005226239639263 L -97.1222323976979,17.005213250437524 L -97.12222969668578,17.005484290315845 L -97.12082121553765,17.00547129116113 L -97.12081851245287,17.00574233081241 L -97.11941003052122,17.005729321704425 L -97.11940732536372,17.006000361128507 L -97.11799884264946,17.005987342066962 L -97.11799613541916,17.006258381263677 L -97.1165876519232,17.00624535224828 L -97.11658494262004,17.00651639121747 L -97.11517645834327,17.006503352247925 L -97.1151737469672,17.00677439098942 L -97.11376526191054,17.00676134206544 L -97.11376254846148,17.007032380579073 L -97.11235406262583,17.007019321700366 L -97.11235134710371,17.00729035998597 L -97.11094286049,17.007277291152246 L -97.11094014289476,17.007548329209655 L -97.10953165550387,17.007535250420627 L -97.10952893583544,17.007806288249675 L -97.10812044766827,17.007793199505045 L -97.10811772592659,17.00806423710557 L -97.10670923698407,17.008051138405058 L -97.10670651316909,17.00832217577689 L -97.10529802345212,17.008309067120187 L -97.10529529756374,17.008580104263167 L -97.10388680707324,17.008566985649995 L -97.1038840791114,17.00883802256395 L -97.10247558784825,17.00882489399402 L -97.1024728578129,17.009095930678793 L -97.10106436577803,17.009082792151794 L -97.10106163366909,17.00935382860722 L -97.09965314086338,17.00934068012289 L -97.09965040668081,17.009611716348793 L -97.0982419131052,17.009598557906827 L -97.09823917684889,17.00986959390304 L -97.09683068250428,17.00985642550315 L -97.0968279441742,17.010127461269516 L -97.09541944906148,17.010114282911406 L -97.09541670865755,17.010385318447756 L -97.09400821277764,17.010372130131145 L -97.09400547029979,17.010643165437315 L -97.0925969736536,17.0106299671619 L -97.09259422910178,17.010901002237727 L -97.0911857316902,17.010887794003224 L -97.09118298506432,17.01115882884854 L -97.08977448688827,17.01114561065466 L -97.08977173818829,17.011416645269293 L -97.08836323924868,17.011403417115744 L -97.08836048847452,17.011674451499534 L -97.08695198877226,17.011661213386027 L -97.08694923592385,17.01193224753881 L -97.08554073545984,17.011918999465045 L -97.08553798053711,17.01219003338666 L -97.08412947931227,17.012176775352355 L -97.08412672231516,17.01244780904263 L -97.08271822033038,17.01243454104749 L -97.08271546125884,17.012705574506263 L -97.08130695851503,17.012692296550007 L -97.08130419736898,17.0129633297771 L -97.07989569386703,17.012950041859433 L -97.07989293064641,17.013221074854687 L -97.07848442638726,17.01320777697532 L -97.078481661092,17.01347880973858 L -97.07707315607654,17.013465501897212 L -97.07707038870656,17.013736534428293 L -97.07566188293573,17.013723216624644 L -97.07565911349097,17.0139942489234 L -97.07425060696565,17.013980921157184 L -97.07424783544604,17.014251953223443 L -97.07283932816713,17.014238615494357 L -97.07283655457263,17.014509647327948 L -97.07142804654104,17.01449629963571 L -97.07142527087157,17.014767331236467 L -97.07001676208822,17.014753973580785 L -97.07001398434372,17.015025004948548 L -97.06888717661442,17.015014311632086 L -97.06888439719965,17.015285342811804 L -97.06747588666056,17.015271967176062 L -97.06747310517062,17.015542998122484 L -97.0660645938823,17.015529612522453 L -97.06606181031714,17.01580064323542 L -97.06465329828049,17.015787247670808 L -97.06465051264003,17.016058278150144 L -97.06324199985598,17.01604487262066 L -97.06323921214013,17.01631590286621 L -97.06183069860957,17.01630248737157 L -97.06182790881832,17.01657351738316 L -97.06041939454214,17.016560091923072 L -97.06041660267539,17.016831121700537 L -97.05900808765452,17.01681768627471 L -97.05900529371222,17.01708871581789 L -97.05759677794757,17.01707527042603 L -97.05759398192963,17.01734629973476 L -97.05618546542209,17.017332844376583 L -97.05618266732847,17.01760387345069 L -97.05477415007897,17.0175904081259 L -97.05477134990959,17.017861436965227 L -97.05336283191902,17.017847961673535 L -97.05336002967381,17.018118990277916 L -97.05195151094308,17.018105505019033 L -97.05194870662199,17.01837653338829 L -97.05054018715202,17.018363038161937 L -97.05053738075497,17.018634066295906 L -97.04912886054666,17.018620561101788 L -97.04912605207358,17.018891589000315 L -97.04771753112783,17.018878073838135 L -97.04771472057867,17.01914910150105 L -97.0463061988964,17.01913557637052 L -97.04630338627109,17.019406603797655 L -97.0448948638532,17.019393068698484 L -97.04488923439854,17.01993512307321 L -97.04517093958881,17.019937830963627 L -97.04516812518904,17.02020885818516 L -97.04544983083585,17.020211565731607 L -97.04544420269143,17.020753620243024 L -97.04572590919975,17.020756327491142 L -97.04572309545513,17.021027354781015 L -97.04600480242,17.02103006168513 L -97.04600198902877,17.021301089012987 L -97.04628369645019,17.021303795573086 L -97.04628088341238,17.021574822938927 L -97.04656259129032,17.021577529155 L -97.04655977860595,17.021848556558815 L -97.04684148694047,17.021851262430843 L -97.04683586222704,17.022393317306758 L -97.0471175714231,17.022396022880358 L -97.04711475939408,17.022667050352442 L -97.0473964690467,17.02266975558196 L -97.04739365737116,17.022940783092004 L -97.04767536748035,17.02294348797744 L -97.0476725561583,17.023214515525428 L -97.04795426672403,17.02321722006676 L -97.04795145575551,17.023488247652697 L -97.0482331667778,17.02349095184991 L -97.04823035616279,17.023761979473782 L -97.04851206764165,17.023764683326867 L -97.04849239472972,17.025661876798576 L -97.04821068041532,17.025659172626337 L -97.04819381347978,17.02728533788681 L -97.04791209678616,17.027282633051186 L -97.04790366140742,17.028095715441157 L -97.04762194354987,17.02809301007891 L -97.04760506897,17.02971917437826 L -97.04788678925871,17.02972188001416 L -97.04788397705357,17.029992907416172 L -97.04816569779902,17.0299956127078 L -97.04816288594758,17.030266640147744 L -97.04844460714979,17.0302693450951 L -97.04843336084976,17.03135345496061 L -97.04815163802658,17.031350749830874 L -97.04814601375695,17.031892804626448 L -97.04786429017477,17.03189009901559 L -97.04785866488848,17.032432153689296 L -97.04757694054727,17.0324294475973 L -97.04757131424425,17.032971502149117 L -97.047289589144,17.032968795575947 L -97.04728114808698,17.03378187720933 L -97.04699942182235,17.03377917010934 L -97.0469937933826,17.03432122440201 L -97.04671206635885,17.03431851682079 L -97.04670362209649,17.035131598065394 L -97.04642189390826,17.03512888995728 L -97.04641626333148,17.035670943990745 L -97.0461345343841,17.03566823540134 L -97.04613171861294,17.035939262360916 L -97.04584998931176,17.035936553335848 L -97.04584435680395,17.036478607140708 L -97.04556262674359,17.036475897634297 L -97.04554290850325,17.038373085390134 L -97.04582464140157,17.038375795216147 L -97.04581900796512,17.038917848882967 L -97.04610074172597,17.038920558410204 L -97.0460951088941,17.039462612137648 L -97.04637684351745,17.039465321366087 L -97.04637402742962,17.03973634826395 L -97.04665576251004,17.039739057147923 L -97.04665294677612,17.040010084083754 L -97.0469346823136,17.04001279262324 L -97.04692342048423,17.041096900472414 L -97.0472051576953,17.04109960880429 L -97.04719952728229,17.04164166277411 L -97.047481265356,17.041644370807084 L -97.0474784504777,17.041915397826113 L -97.04776018900849,17.04191810551453 L -97.04775737448419,17.042189132571504 L -97.04803911347207,17.04219183991537 L -97.04803629930178,17.042462867010272 L -97.04831803874677,17.042465574009565 L -97.0483152249305,17.042736601142405 L -97.04859696483258,17.042739307797106 L -97.04859415137037,17.043010334967867 L -97.04887589172955,17.04301304127797 L -97.0488730786214,17.043284068486653 L -97.04915481943767,17.04328677445214 L -97.04915200668358,17.043557801698743 L -97.0488702654617,17.043555095687672 L -97.04886463898781,17.04409715006669 L -97.04858289700626,17.044094443574235 L -97.04857164181772,17.045178552057873 L -97.04885338542176,17.04518125873269 L -97.04885057190145,17.045452285880014 L -97.04913231596267,17.045454992210157 L -97.04912950279649,17.04572601939539 L -97.04941124731485,17.045728725380865 L -97.04940843450281,17.045999752604 L -97.04969017947833,17.046002458244782 L -97.04968736702047,17.04627348550582 L -97.05025085793734,17.046278895707694 L -97.0502480462393,17.046549923052186 L -97.05052979218064,17.04655262761326 L -97.0505269808368,17.046823654995627 L -97.05080872723529,17.04682635921197 L -97.05080591624568,17.04709738663221 L -97.05108766310133,17.04710009050379 L -97.05108485246593,17.04737111796191 L -97.05136659977875,17.047373821488723 L -97.0513637894976,17.047644848984696 L -97.05164553726756,17.047647552166733 L -97.05164272734066,17.04791857970056 L -97.05192447556779,17.047921282537807 L -97.05192166599517,17.048192310109478 L -97.05220341467945,17.048195012601926 L -97.05220060546112,17.04846604021144 L -97.05248235460256,17.048468742359063 L -97.05247954573852,17.048739770006417 L -97.05276129533713,17.04874247180921 L -97.05275848682741,17.04901349949439 L -97.05304023688318,17.049016200952334 L -97.05303181226276,17.049829284098333 L -97.05331356358722,17.049831985302394 L -97.05330794772809,17.050374040785684 L -97.0535896999155,17.05037674169034 L -97.05357285353917,17.052002908228985 L -97.05329109891692,17.05200020705145 L -97.05328829060178,17.05227123473556 L -97.05357004562988,17.05227393595858 L -97.05356723766918,17.052544963680504 L -97.05384899315452,17.05254766455857 L -97.05384618554827,17.052818692318294 L -97.05412794149085,17.0528213928514 L -97.05412513423906,17.053092420648923 L -97.05440689063889,17.053095120837053 L -97.05440408374156,17.05336614867237 L -97.05468584059862,17.05336884851551 L -97.05467742081603,17.05418193211178 L -97.05439566274133,17.054179232132277 L -97.05438724127868,17.054992315523137 L -97.05410548203766,17.05498961501677 L -97.05409705889477,17.055802698202196 L -97.05381529848738,17.05579999716893 L -97.0537984483783,17.05742616305979 L -97.05408021122143,17.057428864365882 L -97.05407459491916,17.057970919692387 L -97.05435635862565,17.05797362069885 L -97.05435355080344,17.058244648396062 L -97.05463531496731,17.05824734905742 L -97.05463250749972,17.058518376792417 L -97.05491427212098,17.05852107710865 L -97.05491146500799,17.058792104881423 L -97.05519323008664,17.05879480485253 L -97.05519042332833,17.059065832663073 L -97.05547218886436,17.05906853228904 L -97.0554693824607,17.05933956013734 L -97.05575114845412,17.059342259418145 L -97.05574834240514,17.05961328730421 L -97.05603010885594,17.059615986239837 L -97.056024497416,17.06015804207981 L -97.05630626473025,17.060160740715666 L -97.05630065389707,17.06070279661578 L -97.05658242207477,17.060705494951844 L -97.05657681184837,17.061247550912086 L -97.05685858088958,17.06125024894834 L -97.05685297127006,17.0617923049687 L -97.05713474117476,17.061795002705107 L -97.05712632757887,17.06260808681429 L -97.05740809875323,17.06261078429622 L -97.05740249024497,17.06315284042143 L -97.0576842622829,17.063155537603457 L -97.05767585035412,17.063968621869883 L -97.0579576236618,17.063971318797353 L -97.05794921248979,17.064784403130858 L -97.0582309870673,17.06478709980375 L -97.05822538017519,17.065329156078466 L -97.05794360478528,17.06532645931482 L -97.05793799687558,17.065868515468086 L -97.05821977307788,17.065871212322474 L -97.05820855826778,17.06695532471841 L -97.05792678044058,17.066952627682518 L -97.05788190649201,17.07128907531212 L -97.05816369082008,17.07129177307405 L -97.058130031616,17.07454410805109 L -97.05841182087224,17.074546805966605 L -97.0584034061363,17.075359889674232 L -97.05868519666323,17.075362587334872 L -97.05866556332941,17.077259782701493 L -97.05894735675315,17.077262480288674 L -97.05894174758065,17.07780453612932 L -97.05922354186872,17.077807233416173 L -97.05921793330418,17.07834928931682 L -97.05949972845663,17.078351986303318 L -97.059496924504,17.07862301428747 L -97.05921512894498,17.078620317255616 L -97.05919549699479,17.080517512612204 L -97.05947729539994,17.080520209961502 L -97.05947449103712,17.08079123788421 L -97.05975628990016,17.08079393488774 L -97.05973385640493,17.082962158355713 L -97.05945205428866,17.082959460989436 L -97.05941278208202,17.086753850240658 L -97.0596945898926,17.086756548241766 L -97.05969178475715,17.087027576033154 L -97.0599735930258,17.087030273688335 L -97.05996798341471,17.087572329338748 L -97.06024979254823,17.08757502669332 L -97.06024137896756,17.088388110247326 L -97.0605231893728,17.088390807346588 L -97.06051758087638,17.08893286310149 L -97.06079939214658,17.08893555990009 L -97.06079098023811,17.089748643610793 L -97.06107279278014,17.089751340154017 L -97.06106718539867,17.090293396013365 L -97.06134899880567,17.09029609225587 L -97.06134339203304,17.0908381481751 L -97.06162520630507,17.090840844116848 L -97.06161679698259,17.091653928073978 L -97.06189861252658,17.091656623760247 L -97.06188740100716,17.0927407357767 L -97.06160558383539,17.09273803990925 L -97.06159997695443,17.093280095780784 L -97.06131815901996,17.093277399431315 L -97.06130133470553,17.094903566589668 L -97.06158315508193,17.094906263210955 L -97.06157193947561,17.09599037467738 L -97.06185376153134,17.095993071088394 L -97.06183693902722,17.09761923832926 L -97.06211876357658,17.097621934620527 L -97.06209633395916,17.099790157540284 L -97.0623781618167,17.09979285380231 L -97.06235853606238,17.101690048770568 L -97.06264036682136,17.101692744957973 L -97.06263195623715,17.10250582853633 L -97.06291378826896,17.102508524467922 L -97.06290537844554,17.103321608112925 L -97.06318721175026,17.10332430378867 L -97.06317880268774,17.104137387500288 L -97.06289696816124,17.104134691688735 L -97.06289136104903,17.104676747367503 L -97.06317319639007,17.104679443269593 L -97.06314235809188,17.107660749451068 L -97.06286051827027,17.107658053051008 L -97.0628521055279,17.10847113625777 L -97.06257026453537,17.108468439330103 L -97.06256185010989,17.10928152233183 L -97.06228000794638,17.10927882487652 L -97.06226598084233,17.11063396283249 L -97.06254782504297,17.110636660514224 L -97.06254501987591,17.110907688127636 L -97.06282686453523,17.110910385462798 L -97.06282125486238,17.1114524407571 L -97.06310310038782,17.11145513779095 L -97.06309749132505,17.111997193145037 L -97.06337933771665,17.11199988987755 L -97.06337372926404,17.1125419452914 L -97.06365557652184,17.11254464172255 L -97.0636471646814,17.113357724921418 L -97.06392901321293,17.113360421096434 L -97.06392620957124,17.11363144885926 L -97.06420805856148,17.1136341446876 L -97.06419404162297,17.114989283612616 L -97.06447589270212,17.11499197927524 L -97.06446467986032,17.116076090457756 L -97.064746532621,17.116078785909366 L -97.0647437296902,17.116349813730995 L -97.06502558290964,17.11635250883585 L -97.0650227803353,17.116623536695023 L -97.06530463401351,17.116626231453104 L -97.06528221483785,17.118794454411344 L -97.06556407182838,17.118797149139155 L -97.06554445521769,17.120694344140283 L -97.06582631511326,17.120697038792514 L -97.06580669885027,17.122594233733135 L -97.06608856165123,17.122596928309704 L -97.0660829573599,17.123138984028195 L -97.06636482102759,17.123141678303018 L -97.06635641543042,17.12395476195865 L -97.06607455053931,17.123952067548224 L -97.0660633407292,17.125036178800535 L -97.06634520725162,17.125038873391752 L -97.06632278843938,17.127207095888632 L -97.06660465827593,17.127209790449193 L -97.06658223945419,17.12937801281511 L -97.06686411260537,17.12938070734492 L -97.0668332858698,17.132362012790864 L -97.06711516356017,17.13236470742537 L -97.06707032015713,17.136701150770676 L -97.06735220442833,17.13670384573564 L -97.06734379605761,17.137516928779014 L -97.06762568160447,17.137519623487012 L -97.06761166867184,17.138874761964516 L -97.06789355631086,17.138877456505835 L -97.0678823466776,17.139961567329912 L -97.0681642360007,17.13996426165934 L -97.06814181754707,17.142132483299182 L -97.06785992495769,17.142129788608468 L -97.06784871287098,17.143213899062925 L -97.06756681869939,17.14321120379892 L -97.06756401514158,17.14348223134812 L -97.06784590972151,17.143484926657283 L -97.06784030326925,17.144026981822915 L -97.06755840787258,17.144024286423406 L -97.0675023239347,17.14944483548174 L -97.0677842275002,17.149447531784645 L -97.06778142317498,17.14971855920185 L -97.06806332720012,17.149721255157136 L -97.06805771921336,17.150263310058765 L -97.06833962410668,17.150266005711554 L -97.06833682044517,17.150537033195974 L -97.06861872579816,17.1505397285011 L -97.06861592249409,17.150810756022967 L -97.06889782830672,17.150813450980415 L -97.0688922223624,17.151355506091324 L -97.06917412904325,17.151358200746223 L -97.06915170649079,17.15352642124283 L -97.06943361649157,17.15352911586595 L -97.0694280111598,17.154071171003316 L -97.06970992202892,17.154073865323802 L -97.06970711969507,17.15434489292605 L -97.06998903102392,17.154347586898748 L -97.06998622904764,17.15461861453842 L -97.07026814083623,17.15462130816331 L -97.07026533921756,17.154892335840398 L -97.07054725146587,17.15489502911747 L -97.07054164889266,17.15543708453874 L -97.07082356200938,17.155439777513084 L -97.07081796004933,17.15598183299374 L -97.07109987403449,17.155984525665332 L -97.07109427268765,17.156526581205352 L -97.07137618754126,17.156529273574165 L -97.0713705868077,17.15707132917355 L -97.0716525025298,17.15707402123956 L -97.07164690240955,17.15761607689828 L -97.07192881900016,17.157618768661465 L -97.07192321949331,17.158160824379518 L -97.0716413020852,17.15815813252619 L -97.07163290121592,17.15897121591026 L -97.07135098263254,17.158968523528664 L -97.0713201710186,17.161949828180955 L -97.07160209409905,17.161952521058474 L -97.07159929314585,17.162223548752976 L -97.07188121668621,17.162226241282468 L -97.07187561544445,17.16276829673852 L -97.0721575398536,17.162770988965047 L -97.07215473956508,17.16304201672659 L -97.07243666443412,17.16304470860506 L -97.07243106452182,17.163586764195145 L -97.0727129902597,17.163589455770612 L -97.07269899163079,17.16494459483624 L -97.07298091946431,17.164947286243823 L -97.07297532047359,17.16548934190623 L -97.07325724917604,17.165492033010725 L -97.07324885153436,17.166305116581675 L -97.07353078151472,17.166307807428105 L -97.07352518364993,17.166849863193615 L -97.07380711449927,17.16685255373691 L -97.0737959197939,17.167936665355555 L -97.07407785233028,17.167939355685736 L -97.07407225548975,17.168481411538878 L -97.0743541888952,17.168484101565852 L -97.07434579447927,17.169297185422803 L -97.07462772916286,17.169299875191566 L -97.07462213344887,17.16984193114769 L -97.07490406900156,17.169844620613183 L -97.07488448526102,17.17174181653187 L -97.07460254684456,17.1717391267513 L -97.07458575633889,17.17336529411087 L -97.07486769721031,17.1733679841615 L -97.07486210078572,17.17391003997637 L -97.07514404252647,17.173912729723632 L -97.07514124464694,17.174183757664505 L -97.07485930249698,17.17418106787224 L -97.074850907325,17.17499415151358 L -97.07456896399836,17.17499146119288 L -97.07455776808526,17.176075572426665 L -97.07483971304886,17.17607826292742 L -97.07483411560501,17.17662031858807 L -97.07511606143812,17.17662300878538 L -97.07511326304903,17.176894036649152 L -97.07539520934236,17.176896726498004 L -97.07537562205697,17.17879392164344 L -97.07565757126639,17.17879661141378 L -97.0756407826336,17.180422778650506 L -97.07592273435007,17.18042546829726 L -97.07587516355714,17.185032941391594 L -97.07615712228505,17.185035631409498 L -97.07614592865572,17.18611974258177 L -97.07642788907263,17.186122432385915 L -97.07641949454438,17.18693551581905 L -97.07670145624087,17.18693820536442 L -97.07668746638967,17.188293344490216 L -97.07696943018497,17.188296033866695 L -97.07695544110864,17.189651173024437 L -97.07723740700291,17.18965386223196 L -97.0772318118352,17.190195917930975 L -97.07751377859968,17.190198606834628 L -97.07751098134909,17.19046963471751 L -97.07779294857413,17.19047232327232 L -97.0777901516823,17.190743351192435 L -97.07807211936789,17.19074603939838 L -97.0780693228348,17.19101706735572 L -97.07835129098098,17.191019755212793 L -97.07833171669238,17.19291695101268 L -97.07861368775727,17.192919638790435 L -97.0785773342184,17.19644300199973 L -97.07885931066122,17.196445689967614 L -97.07885371786547,17.196987745820053 L -97.0791356951788,17.196990433483826 L -97.07913289911446,17.19726146144339 L -97.0794148768885,17.197264148758105 L -97.07941208118314,17.19753517675486 L -97.0796940594179,17.19753786372052 L -97.07969126407151,17.197808891754466 L -97.079973242767,17.19781157837105 L -97.0799704477796,17.19808260644217 L -97.0802524269358,17.198085292709663 L -97.08024963230743,17.19835632081795 L -97.08053161192434,17.198359006736343 L -97.08052881765501,17.198630034881802 L -97.08081079773262,17.198632720451076 L -97.08080800382234,17.1989037486337 L -97.08108998436069,17.198906433853843 L -97.08108439720743,17.199448490285683 L -97.08136637861638,17.199451175201546 L -97.08136358537342,17.19972220345075 L -97.08192754916358,17.19972757219012 z\" /></g></svg>"
      ],
      "text/plain": [
       "<POLYGON ((-97.082 17.2, -97.082 17.199, -97.083 17.199, -97.083 17.199, -97...>"
      ]
     },
     "execution_count": 20,
     "metadata": {},
     "output_type": "execute_result"
    }
   ],
   "source": [
    "def transform_geo_to_4326(geo: Polygon, src_utm):\n",
    "    wgs84 = CRS.from_epsg(4326)\n",
    "    #geo, src_utm = input_data\n",
    "\n",
    "    project = pyproj.Transformer.from_crs(src_utm, wgs84, always_xy=True).transform\n",
    "    geo_4326 = transform(project, geo)\n",
    "    return geo_4326\n",
    "\n",
    "transform_geo_to_4326(*data[0])"
   ]
  },
  {
   "cell_type": "code",
   "execution_count": 21,
   "id": "66dbf936-ec1d-4bd3-9512-e4665588cba2",
   "metadata": {},
   "outputs": [
    {
     "data": {
      "application/vnd.jupyter.widget-view+json": {
       "model_id": "3bf46c4ebed74b0c89738c5805842fc7",
       "version_major": 2,
       "version_minor": 0
      },
      "text/plain": [
       "  0%|                                        | 0/3429 [00:00<?, ?it/s]"
      ]
     },
     "metadata": {},
     "output_type": "display_data"
    }
   ],
   "source": [
    "with WorkerPool(n_jobs=15, use_dill=True) as pool:\n",
    "    geometry_4326_updated = pool.map(\n",
    "        transform_geo_to_4326, (d for d in data), progress_bar=True, progress_bar_style='notebook', iterable_len=len(data)\n",
    "    )"
   ]
  },
  {
   "cell_type": "code",
   "execution_count": 22,
   "id": "cf44afa0-4121-4835-ad09-c43e8b117c4c",
   "metadata": {
    "scrolled": true
   },
   "outputs": [
    {
     "data": {
      "text/html": [
       "<div>\n",
       "<style scoped>\n",
       "    .dataframe tbody tr th:only-of-type {\n",
       "        vertical-align: middle;\n",
       "    }\n",
       "\n",
       "    .dataframe tbody tr th {\n",
       "        vertical-align: top;\n",
       "    }\n",
       "\n",
       "    .dataframe thead th {\n",
       "        text-align: right;\n",
       "    }\n",
       "</style>\n",
       "<table border=\"1\" class=\"dataframe\">\n",
       "  <thead>\n",
       "    <tr style=\"text-align: right;\">\n",
       "      <th></th>\n",
       "      <th>jpl_burst_id</th>\n",
       "      <th>geometry</th>\n",
       "      <th>n_acquisitions</th>\n",
       "    </tr>\n",
       "  </thead>\n",
       "  <tbody>\n",
       "    <tr>\n",
       "      <th>0</th>\n",
       "      <td>T005-008688-IW2</td>\n",
       "      <td>POLYGON ((-97.08193 17.19973, -97.08193 17.199...</td>\n",
       "      <td>66</td>\n",
       "    </tr>\n",
       "    <tr>\n",
       "      <th>1</th>\n",
       "      <td>T005-008688-IW3</td>\n",
       "      <td>POLYGON ((-96.38342 17.38614, -96.38343 17.385...</td>\n",
       "      <td>66</td>\n",
       "    </tr>\n",
       "    <tr>\n",
       "      <th>2</th>\n",
       "      <td>T005-008689-IW1</td>\n",
       "      <td>POLYGON ((-97.92186 17.15744, -97.92186 17.157...</td>\n",
       "      <td>66</td>\n",
       "    </tr>\n",
       "    <tr>\n",
       "      <th>3</th>\n",
       "      <td>T005-008689-IW2</td>\n",
       "      <td>POLYGON ((-97.11662 17.36594, -97.11662 17.365...</td>\n",
       "      <td>66</td>\n",
       "    </tr>\n",
       "    <tr>\n",
       "      <th>4</th>\n",
       "      <td>T005-008689-IW3</td>\n",
       "      <td>POLYGON ((-96.41012 17.55366, -96.41012 17.553...</td>\n",
       "      <td>66</td>\n",
       "    </tr>\n",
       "  </tbody>\n",
       "</table>\n",
       "</div>"
      ],
      "text/plain": [
       "      jpl_burst_id                                           geometry  \\\n",
       "0  T005-008688-IW2  POLYGON ((-97.08193 17.19973, -97.08193 17.199...   \n",
       "1  T005-008688-IW3  POLYGON ((-96.38342 17.38614, -96.38343 17.385...   \n",
       "2  T005-008689-IW1  POLYGON ((-97.92186 17.15744, -97.92186 17.157...   \n",
       "3  T005-008689-IW2  POLYGON ((-97.11662 17.36594, -97.11662 17.365...   \n",
       "4  T005-008689-IW3  POLYGON ((-96.41012 17.55366, -96.41012 17.553...   \n",
       "\n",
       "   n_acquisitions  \n",
       "0              66  \n",
       "1              66  \n",
       "2              66  \n",
       "3              66  \n",
       "4              66  "
      ]
     },
     "execution_count": 22,
     "metadata": {},
     "output_type": "execute_result"
    }
   ],
   "source": [
    "df_burst_cov = gpd.GeoDataFrame(df_rtc_first[['jpl_burst_id']] , geometry=geometry_4326_updated, crs=CRS.from_epsg(4326))\n",
    "df_burst_cov = pd.merge(df_burst_cov, df_rtc_per_burst, on='jpl_burst_id', how='inner')\n",
    "df_burst_cov = df_burst_cov.rename(columns={'count': 'n_acquisitions'})\n",
    "df_burst_cov.head()"
   ]
  },
  {
   "cell_type": "code",
   "execution_count": 23,
   "id": "a2572f27-9e7f-45c3-9c72-7f7a269da1cd",
   "metadata": {
    "scrolled": true
   },
   "outputs": [],
   "source": [
    "# fig, ax= plt.subplots(figsize=(15, 5))\n",
    "# df_burst_cov.plot(ax=ax)\n",
    "# df_val_burst.plot(ax=ax, color='yellow')\n",
    "# ax.set_ylim(40, 60)\n",
    "# ax.set_xlim(0, 50)"
   ]
  },
  {
   "cell_type": "markdown",
   "id": "643bb020-dd15-419f-b725-2340c26f4f95",
   "metadata": {},
   "source": [
    "# Spatial Join of Sites and bursts"
   ]
  },
  {
   "cell_type": "code",
   "execution_count": 24,
   "id": "a904264a-bed6-48b6-b978-226d4f4e8f63",
   "metadata": {},
   "outputs": [
    {
     "data": {
      "text/html": [
       "<div>\n",
       "<style scoped>\n",
       "    .dataframe tbody tr th:only-of-type {\n",
       "        vertical-align: middle;\n",
       "    }\n",
       "\n",
       "    .dataframe tbody tr th {\n",
       "        vertical-align: top;\n",
       "    }\n",
       "\n",
       "    .dataframe thead th {\n",
       "        text-align: right;\n",
       "    }\n",
       "</style>\n",
       "<table border=\"1\" class=\"dataframe\">\n",
       "  <thead>\n",
       "    <tr style=\"text-align: right;\">\n",
       "      <th></th>\n",
       "      <th>jpl_burst_id</th>\n",
       "      <th>geometry</th>\n",
       "      <th>n_acquisitions</th>\n",
       "      <th>site_id</th>\n",
       "    </tr>\n",
       "  </thead>\n",
       "  <tbody>\n",
       "    <tr>\n",
       "      <th>0</th>\n",
       "      <td>T005-008692-IW2</td>\n",
       "      <td>POLYGON ((-97.21446 17.86505, -97.21446 17.864...</td>\n",
       "      <td>104</td>\n",
       "      <td>72</td>\n",
       "    </tr>\n",
       "    <tr>\n",
       "      <th>1</th>\n",
       "      <td>T008-015865-IW2</td>\n",
       "      <td>POLYGON ((-1.50129 41.44183, -1.5013 41.44156,...</td>\n",
       "      <td>101</td>\n",
       "      <td>150</td>\n",
       "    </tr>\n",
       "    <tr>\n",
       "      <th>2</th>\n",
       "      <td>T012-024584-IW1</td>\n",
       "      <td>POLYGON ((-103.78409 20.20832, -103.78409 20.2...</td>\n",
       "      <td>101</td>\n",
       "      <td>34</td>\n",
       "    </tr>\n",
       "    <tr>\n",
       "      <th>3</th>\n",
       "      <td>T014-028130-IW2</td>\n",
       "      <td>POLYGON ((37.01648 35.59545, 37.01649 35.59518...</td>\n",
       "      <td>100</td>\n",
       "      <td>22</td>\n",
       "    </tr>\n",
       "    <tr>\n",
       "      <th>4</th>\n",
       "      <td>T014-028131-IW2</td>\n",
       "      <td>POLYGON ((36.98085 35.76145, 36.98085 35.76118...</td>\n",
       "      <td>38</td>\n",
       "      <td>22</td>\n",
       "    </tr>\n",
       "  </tbody>\n",
       "</table>\n",
       "</div>"
      ],
      "text/plain": [
       "      jpl_burst_id                                           geometry  \\\n",
       "0  T005-008692-IW2  POLYGON ((-97.21446 17.86505, -97.21446 17.864...   \n",
       "1  T008-015865-IW2  POLYGON ((-1.50129 41.44183, -1.5013 41.44156,...   \n",
       "2  T012-024584-IW1  POLYGON ((-103.78409 20.20832, -103.78409 20.2...   \n",
       "3  T014-028130-IW2  POLYGON ((37.01648 35.59545, 37.01649 35.59518...   \n",
       "4  T014-028131-IW2  POLYGON ((36.98085 35.76145, 36.98085 35.76118...   \n",
       "\n",
       "   n_acquisitions  site_id  \n",
       "0             104       72  \n",
       "1             101      150  \n",
       "2             101       34  \n",
       "3             100       22  \n",
       "4              38       22  "
      ]
     },
     "execution_count": 24,
     "metadata": {},
     "output_type": "execute_result"
    }
   ],
   "source": [
    "df_bursts_covering_sites = gpd.sjoin(df_burst_cov, df_site[['site_id', 'geometry']], predicate='intersects', how='inner').reset_index(drop=True)\n",
    "df_bursts_covering_sites.drop(columns='index_right', inplace=True)\n",
    "df_bursts_covering_sites.head()"
   ]
  },
  {
   "cell_type": "code",
   "execution_count": 25,
   "id": "d8407057-fbd6-4bf7-8460-08e3d2ca4464",
   "metadata": {},
   "outputs": [
    {
     "data": {
      "text/plain": [
       "array([104, 101, 100,  38, 103,  95,  65,  37,   1,  35,  36, 105,  99,\n",
       "        96,  98,  97, 102,  64, 106,  70,  93,  48,  71,  81,  67,  57,\n",
       "        34,  69,  66])"
      ]
     },
     "execution_count": 25,
     "metadata": {},
     "output_type": "execute_result"
    }
   ],
   "source": [
    "df_bursts_covering_sites.n_acquisitions.unique()"
   ]
  },
  {
   "cell_type": "code",
   "execution_count": 26,
   "id": "75fbf577-7c22-496f-ab5d-25944ddd98df",
   "metadata": {},
   "outputs": [],
   "source": [
    "df_bursts_covering_sites = df_bursts_covering_sites[df_bursts_covering_sites.n_acquisitions > 30].reset_index(drop=True)"
   ]
  },
  {
   "cell_type": "code",
   "execution_count": 27,
   "id": "ccbcb181-b7d9-4909-bf18-ae103ebaca68",
   "metadata": {},
   "outputs": [
    {
     "data": {
      "text/plain": [
       "90"
      ]
     },
     "execution_count": 27,
     "metadata": {},
     "output_type": "execute_result"
    }
   ],
   "source": [
    "bursts_in_val_and_cov = [b_id for b_id in df_val_burst.jpl_burst_id.tolist() if b_id in df_bursts_covering_sites.jpl_burst_id.tolist()]\n",
    "len(bursts_in_val_and_cov)"
   ]
  },
  {
   "cell_type": "code",
   "execution_count": 28,
   "id": "02506353-e0fd-4ad7-8d15-dc37f15d5a53",
   "metadata": {},
   "outputs": [],
   "source": [
    "df_bursts_covering_sites.to_parquet('validation_bursts_v1_coverage_updated.parquet')"
   ]
  }
 ],
 "metadata": {
  "kernelspec": {
   "display_name": "dist-s1",
   "language": "python",
   "name": "dist-s1"
  },
  "language_info": {
   "codemirror_mode": {
    "name": "ipython",
    "version": 3
   },
   "file_extension": ".py",
   "mimetype": "text/x-python",
   "name": "python",
   "nbconvert_exporter": "python",
   "pygments_lexer": "ipython3",
   "version": "3.12.4"
  }
 },
 "nbformat": 4,
 "nbformat_minor": 5
}
